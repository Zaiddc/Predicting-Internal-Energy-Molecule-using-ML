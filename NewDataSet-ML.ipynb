{
  "cells": [
    {
      "cell_type": "code",
      "execution_count": 130,
      "metadata": {
        "id": "Kk9tj1UUCLa7"
      },
      "outputs": [],
      "source": [
        "#Youtube: https://www.youtube.com/watch?v=vSzou5zRwNQ&ab_channel=ComputerScience"
      ]
    },
    {
      "cell_type": "code",
      "execution_count": 131,
      "metadata": {
        "id": "O_oE-LUjCLa8"
      },
      "outputs": [],
      "source": [
        "import pandas as pd\n",
        "import numpy as np\n",
        "import seaborn as sns\n",
        "import matplotlib.pyplot as plt\n"
      ]
    },
    {
      "cell_type": "code",
      "execution_count": 132,
      "metadata": {
        "id": "L-4kesSxCLa9"
      },
      "outputs": [],
      "source": [
        "Data = pd.read_csv('fulldata.csv')"
      ]
    },
    {
      "cell_type": "code",
      "execution_count": 133,
      "metadata": {
        "colab": {
          "base_uri": "https://localhost:8080/"
        },
        "id": "bT4JqsPMCLa9",
        "outputId": "a1f313a2-e214-437f-864f-8ed3a1459632"
      },
      "outputs": [
        {
          "data": {
            "text/plain": [
              "<bound method NDFrame.head of                     name     energy   diag      pca1      pca2      pca3\n",
              "0     acetaldehyde_0_015  38.145186  0.378  0.842622 -0.531091  0.067095\n",
              "1     acetaldehyde_0_015   0.573634  0.005  0.463136  0.636858 -0.534280\n",
              "2     acetaldehyde_0_015   0.580474  0.005  0.264667  0.540074  0.553770\n",
              "3     acetaldehyde_0_015  37.980501  0.378  0.029347  0.105040  0.245169\n",
              "4     acetaldehyde_0_015  75.370940  0.754  0.044385  0.049707  0.439767\n",
              "...                  ...        ...    ...       ...       ...       ...\n",
              "1878             toluene   0.581503  0.005 -0.032922  0.033523  0.093225\n",
              "1879             toluene  38.148987  0.378 -0.031214  0.041654  0.110894\n",
              "1880             toluene   0.580038  0.005 -0.025586 -0.013104  0.019307\n",
              "1881             toluene   0.583238  0.005 -0.025052 -0.011829  0.024907\n",
              "1882             toluene   0.583238  0.005 -0.022429 -0.016721  0.013654\n",
              "\n",
              "[1883 rows x 6 columns]>"
            ]
          },
          "execution_count": 133,
          "metadata": {},
          "output_type": "execute_result"
        }
      ],
      "source": [
        "Data.head"
      ]
    },
    {
      "cell_type": "code",
      "execution_count": 134,
      "metadata": {
        "colab": {
          "base_uri": "https://localhost:8080/",
          "height": 441
        },
        "id": "6XGxzn7ACLa9",
        "outputId": "ae5af16a-ed1b-46d5-abe3-7200cbf115b7"
      },
      "outputs": [
        {
          "name": "stdout",
          "output_type": "stream",
          "text": [
            "<class 'pandas.core.frame.DataFrame'>\n",
            "RangeIndex: 1883 entries, 0 to 1882\n",
            "Data columns (total 6 columns):\n",
            " #   Column  Non-Null Count  Dtype  \n",
            "---  ------  --------------  -----  \n",
            " 0   name    1883 non-null   object \n",
            " 1   energy  1883 non-null   float64\n",
            " 2   diag    1883 non-null   float64\n",
            " 3   pca1    1883 non-null   float64\n",
            " 4   pca2    1883 non-null   float64\n",
            " 5   pca3    1883 non-null   float64\n",
            "dtypes: float64(5), object(1)\n",
            "memory usage: 88.4+ KB\n"
          ]
        },
        {
          "data": {
            "text/html": [
              "<div>\n",
              "<style scoped>\n",
              "    .dataframe tbody tr th:only-of-type {\n",
              "        vertical-align: middle;\n",
              "    }\n",
              "\n",
              "    .dataframe tbody tr th {\n",
              "        vertical-align: top;\n",
              "    }\n",
              "\n",
              "    .dataframe thead th {\n",
              "        text-align: right;\n",
              "    }\n",
              "</style>\n",
              "<table border=\"1\" class=\"dataframe\">\n",
              "  <thead>\n",
              "    <tr style=\"text-align: right;\">\n",
              "      <th></th>\n",
              "      <th>count</th>\n",
              "      <th>mean</th>\n",
              "      <th>std</th>\n",
              "      <th>min</th>\n",
              "      <th>25%</th>\n",
              "      <th>50%</th>\n",
              "      <th>75%</th>\n",
              "      <th>max</th>\n",
              "    </tr>\n",
              "  </thead>\n",
              "  <tbody>\n",
              "    <tr>\n",
              "      <th>energy</th>\n",
              "      <td>1883.0</td>\n",
              "      <td>24.416358</td>\n",
              "      <td>27.288977</td>\n",
              "      <td>0.354965</td>\n",
              "      <td>0.409214</td>\n",
              "      <td>0.582452</td>\n",
              "      <td>38.118049</td>\n",
              "      <td>75.461656</td>\n",
              "    </tr>\n",
              "    <tr>\n",
              "      <th>diag</th>\n",
              "      <td>1883.0</td>\n",
              "      <td>0.248627</td>\n",
              "      <td>0.277354</td>\n",
              "      <td>0.005000</td>\n",
              "      <td>0.005000</td>\n",
              "      <td>0.005000</td>\n",
              "      <td>0.378000</td>\n",
              "      <td>0.754000</td>\n",
              "    </tr>\n",
              "    <tr>\n",
              "      <th>pca1</th>\n",
              "      <td>1883.0</td>\n",
              "      <td>0.184568</td>\n",
              "      <td>0.229187</td>\n",
              "      <td>-0.687571</td>\n",
              "      <td>0.034178</td>\n",
              "      <td>0.068929</td>\n",
              "      <td>0.268753</td>\n",
              "      <td>0.870534</td>\n",
              "    </tr>\n",
              "    <tr>\n",
              "      <th>pca2</th>\n",
              "      <td>1883.0</td>\n",
              "      <td>0.109284</td>\n",
              "      <td>0.273241</td>\n",
              "      <td>-0.651034</td>\n",
              "      <td>0.025515</td>\n",
              "      <td>0.071592</td>\n",
              "      <td>0.194131</td>\n",
              "      <td>0.814977</td>\n",
              "    </tr>\n",
              "    <tr>\n",
              "      <th>pca3</th>\n",
              "      <td>1883.0</td>\n",
              "      <td>0.088417</td>\n",
              "      <td>0.280693</td>\n",
              "      <td>-0.828189</td>\n",
              "      <td>0.025299</td>\n",
              "      <td>0.097596</td>\n",
              "      <td>0.239532</td>\n",
              "      <td>0.849920</td>\n",
              "    </tr>\n",
              "  </tbody>\n",
              "</table>\n",
              "</div>"
            ],
            "text/plain": [
              "         count       mean        std       min       25%       50%        75%  \\\n",
              "energy  1883.0  24.416358  27.288977  0.354965  0.409214  0.582452  38.118049   \n",
              "diag    1883.0   0.248627   0.277354  0.005000  0.005000  0.005000   0.378000   \n",
              "pca1    1883.0   0.184568   0.229187 -0.687571  0.034178  0.068929   0.268753   \n",
              "pca2    1883.0   0.109284   0.273241 -0.651034  0.025515  0.071592   0.194131   \n",
              "pca3    1883.0   0.088417   0.280693 -0.828189  0.025299  0.097596   0.239532   \n",
              "\n",
              "              max  \n",
              "energy  75.461656  \n",
              "diag     0.754000  \n",
              "pca1     0.870534  \n",
              "pca2     0.814977  \n",
              "pca3     0.849920  "
            ]
          },
          "execution_count": 134,
          "metadata": {},
          "output_type": "execute_result"
        }
      ],
      "source": [
        "Data.info()\n",
        "Data.describe().transpose()"
      ]
    },
    {
      "cell_type": "code",
      "execution_count": 135,
      "metadata": {
        "colab": {
          "base_uri": "https://localhost:8080/"
        },
        "id": "JyOcbwMoCLa9",
        "outputId": "807216a1-facf-49fd-9cce-a0e8fb0a9b7a"
      },
      "outputs": [
        {
          "data": {
            "text/plain": [
              "name      0\n",
              "energy    0\n",
              "diag      0\n",
              "pca1      0\n",
              "pca2      0\n",
              "pca3      0\n",
              "dtype: int64"
            ]
          },
          "execution_count": 135,
          "metadata": {},
          "output_type": "execute_result"
        }
      ],
      "source": [
        "null_counts = Data.isna().sum()\n",
        "null_counts"
      ]
    },
    {
      "cell_type": "code",
      "execution_count": 136,
      "metadata": {
        "colab": {
          "base_uri": "https://localhost:8080/",
          "height": 284
        },
        "id": "URX1FRPsCLa-",
        "outputId": "6730a52b-5d8e-4d03-9cf5-f05199906924"
      },
      "outputs": [
        {
          "data": {
            "text/plain": [
              "<AxesSubplot: >"
            ]
          },
          "execution_count": 136,
          "metadata": {},
          "output_type": "execute_result"
        },
        {
          "data": {
            "image/png": "[encoded data removed]",
            "text/plain": [
              "<Figure size 640x480 with 1 Axes>"
            ]
          },
          "metadata": {},
          "output_type": "display_data"
        }
      ],
      "source": [
        "features = ['energy','diag','pca1', 'pca2', 'pca3']\n",
        "Data.boxplot(features)\n"
      ]
    },
    {
      "cell_type": "code",
      "execution_count": 137,
      "metadata": {},
      "outputs": [
        {
          "data": {
            "text/plain": [
              "<AxesSubplot: >"
            ]
          },
          "execution_count": 137,
          "metadata": {},
          "output_type": "execute_result"
        },
        {
          "data": {
            "image/png": "[encoded data removed]",
            "text/plain": [
              "<Figure size 640x480 with 1 Axes>"
            ]
          },
          "metadata": {},
          "output_type": "display_data"
        }
      ],
      "source": [
        "features = ['diag','pca1', 'pca2', 'pca3']\n",
        "Data.boxplot(features)"
      ]
    },
    {
      "cell_type": "code",
      "execution_count": 138,
      "metadata": {
        "id": "7LWenBCgCLa-"
      },
      "outputs": [],
      "source": [
        "selected_features = ['diag','pca1','pca2','pca3']\n",
        "X = Data[selected_features]"
      ]
    },
    {
      "cell_type": "code",
      "execution_count": 139,
      "metadata": {
        "id": "j0_yhEPcCLa-"
      },
      "outputs": [],
      "source": [
        "target =  ['energy']\n",
        "y = Data[target]"
      ]
    },
    {
      "cell_type": "code",
      "execution_count": null,
      "metadata": {},
      "outputs": [],
      "source": []
    },
    {
      "cell_type": "code",
      "execution_count": 140,
      "metadata": {
        "colab": {
          "base_uri": "https://localhost:8080/"
        },
        "id": "_N_f-MxyCLa-",
        "outputId": "656a2773-e7e0-471c-c436-cd1176a02994"
      },
      "outputs": [
        {
          "data": {
            "text/plain": [
              "array([[0.49799733, 0.98208593, 0.08181589, 0.53350766],\n",
              "       [0.        , 0.73852982, 0.87850091, 0.17514297],\n",
              "       [0.        , 0.61115137, 0.81248231, 0.82352159],\n",
              "       ...,\n",
              "       [0.        , 0.42486546, 0.4351468 , 0.50503036],\n",
              "       [0.        , 0.42520819, 0.43601651, 0.50836745],\n",
              "       [0.        , 0.42689164, 0.43267956, 0.50166169]])"
            ]
          },
          "execution_count": 140,
          "metadata": {},
          "output_type": "execute_result"
        }
      ],
      "source": [
        "# from sklearn.preprocessing import MaxAbsScaler\n",
        "\n",
        "# max_abs_scaler = MaxAbsScaler()\n",
        "# X_scale = max_abs_scaler.fit_transform(X)\n",
        "# X_scale"
      ]
    },
    {
      "cell_type": "code",
      "execution_count": null,
      "metadata": {},
      "outputs": [],
      "source": [
        "min_max_scaler = preprocessing.MinMaxScaler()\n",
        "X_scale = min_max_scaler.fit_transform(X)\n",
        "X_scale"
      ]
    },
    {
      "cell_type": "code",
      "execution_count": 141,
      "metadata": {
        "id": "kkmh5Z-4CLa-"
      },
      "outputs": [],
      "source": [
        "from keras.models import Sequential\n",
        "from keras.layers import Dense, Dropout\n",
        "from keras.layers.reshaping.flatten import Flatten\n",
        "from sklearn.model_selection import train_test_split"
      ]
    },
    {
      "cell_type": "code",
      "execution_count": 142,
      "metadata": {},
      "outputs": [
        {
          "name": "stdout",
          "output_type": "stream",
          "text": [
            "(1318, 4) (378, 4) (187, 4) (1318, 1) (378, 1) (187, 1)\n"
          ]
        }
      ],
      "source": [
        "# import necessary libraries\n",
        "from sklearn.model_selection import train_test_split\n",
        "\n",
        "\n",
        "X_train, X_temp, Y_train, Y_temp = train_test_split(X_scale, y, test_size=0.3, random_state=42)\n",
        "X_val, X_test, Y_val, Y_test = train_test_split(X_temp, Y_temp, test_size=0.33, random_state=42)\n",
        "\n",
        "print(X_train.shape, X_val.shape, X_test.shape, Y_train.shape, Y_val.shape, Y_test.shape)\n"
      ]
    },
    {
      "cell_type": "code",
      "execution_count": 143,
      "metadata": {},
      "outputs": [
        {
          "name": "stdout",
          "output_type": "stream",
          "text": [
            "(1318, 4) (378, 4) (187, 4) (1318, 1) (378, 1) (187, 1)\n"
          ]
        }
      ],
      "source": [
        "#ChatGPT\n",
        "from sklearn.model_selection import train_test_split\n",
        "\n",
        "# Split data into training and combined validation/testing sets\n",
        "X_train, X_val_and_test, Y_train, Y_val_and_test = train_test_split(X_scale, y, test_size=0.3, random_state=42)\n",
        "\n",
        "# Split combined validation/testing set into separate validation and testing sets\n",
        "X_val, X_test, Y_val, Y_test = train_test_split(X_val_and_test, Y_val_and_test, test_size=0.33, random_state=42)\n",
        "\n",
        "# Print shapes of all sets\n",
        "print(X_train.shape, X_val.shape, X_test.shape, Y_train.shape, Y_val.shape, Y_test.shape)\n"
      ]
    },
    {
      "cell_type": "code",
      "execution_count": 144,
      "metadata": {
        "colab": {
          "base_uri": "https://localhost:8080/"
        },
        "id": "VSODuv4fCLa-",
        "outputId": "5235acd5-c55c-4048-bb44-9a8ca2414c22"
      },
      "outputs": [],
      "source": [
        "# X_train, X_val_and_test, Y_train, Y_val_and_test = train_test_split(X_scale, y, test_size=0.2)\n",
        "# X_val, X_test, Y_val, Y_test = train_test_split(X_val_and_test, Y_val_and_test, test_size=0.5)\n",
        "# print(X_train.shape, X_val.shape, X_test.shape, Y_train.shape, Y_val.shape, Y_test.shape)"
      ]
    },
    {
      "cell_type": "code",
      "execution_count": 145,
      "metadata": {
        "id": "yWCPJ_0oCLa_"
      },
      "outputs": [],
      "source": [
        "# model = Sequential()\n",
        "# model.add(Dense(units = 48, input_dim = 4, activation = 'relu'))\n",
        "# model.add(Dense(units = 48, activation='relu'))\n",
        "# model.add(Dense(units = 32, activation='relu'))\n",
        "# model.add(Dense(units = 32, activation='relu'))\n",
        "# model.add(Flatten())\n",
        "# model.add(Dense(units = 1))"
      ]
    },
    {
      "cell_type": "code",
      "execution_count": 146,
      "metadata": {},
      "outputs": [],
      "source": [
        "model = Sequential()\n",
        "model.add(Dense(units = 48, input_dim = 4))\n",
        "model.add(Dense(units = 48, activation='relu'))\n",
        "model.add(Dense(units = 32, activation='relu'))\n",
        "model.add(Dense(units = 32, activation='relu'))\n",
        "model.add(Dense(units = 16, activation='relu'))\n",
        "model.add(Flatten())\n",
        "model.add(Dense(units = 1))"
      ]
    },
    {
      "cell_type": "code",
      "execution_count": 147,
      "metadata": {
        "id": "_us0dno3CLa_"
      },
      "outputs": [],
      "source": [
        "model.compile(optimizer='adam', loss='mse', metrics=['mae'])\n"
      ]
    },
    {
      "cell_type": "code",
      "execution_count": 148,
      "metadata": {
        "colab": {
          "base_uri": "https://localhost:8080/"
        },
        "id": "7cFYs4YfCLa_",
        "outputId": "5fe6fb34-8498-4afa-8b2d-3243aabcf707"
      },
      "outputs": [
        {
          "name": "stdout",
          "output_type": "stream",
          "text": [
            "Epoch 1/400\n",
            "42/42 [==============================] - 2s 12ms/step - loss: 1256.6545 - mae: 23.8924 - val_loss: 947.4303 - val_mae: 22.6758\n",
            "Epoch 2/400\n",
            "42/42 [==============================] - 0s 4ms/step - loss: 558.3256 - mae: 19.5424 - val_loss: 295.5517 - val_mae: 15.1320\n",
            "Epoch 3/400\n",
            "42/42 [==============================] - 0s 4ms/step - loss: 110.3656 - mae: 7.8041 - val_loss: 3.4477 - val_mae: 1.5065\n",
            "Epoch 4/400\n",
            "42/42 [==============================] - 0s 5ms/step - loss: 2.2027 - mae: 0.9642 - val_loss: 1.4116 - val_mae: 0.7588\n",
            "Epoch 5/400\n",
            "42/42 [==============================] - 0s 4ms/step - loss: 1.2375 - mae: 0.7108 - val_loss: 1.1638 - val_mae: 0.6633\n",
            "Epoch 6/400\n",
            "42/42 [==============================] - 0s 5ms/step - loss: 1.0855 - mae: 0.6698 - val_loss: 1.1792 - val_mae: 0.7534\n",
            "Epoch 7/400\n",
            "42/42 [==============================] - 0s 5ms/step - loss: 1.1155 - mae: 0.6875 - val_loss: 1.0992 - val_mae: 0.6725\n",
            "Epoch 8/400\n",
            "42/42 [==============================] - 0s 4ms/step - loss: 1.0876 - mae: 0.6782 - val_loss: 1.2324 - val_mae: 0.6448\n",
            "Epoch 9/400\n",
            "42/42 [==============================] - 0s 5ms/step - loss: 1.1050 - mae: 0.6821 - val_loss: 1.1685 - val_mae: 0.6602\n",
            "Epoch 10/400\n",
            "42/42 [==============================] - 0s 5ms/step - loss: 1.1516 - mae: 0.6828 - val_loss: 1.5131 - val_mae: 0.6861\n",
            "Epoch 11/400\n",
            "42/42 [==============================] - 0s 3ms/step - loss: 1.1916 - mae: 0.7061 - val_loss: 1.1028 - val_mae: 0.6733\n",
            "Epoch 12/400\n",
            "42/42 [==============================] - 0s 4ms/step - loss: 1.0943 - mae: 0.6760 - val_loss: 1.1364 - val_mae: 0.6506\n",
            "Epoch 13/400\n",
            "42/42 [==============================] - 0s 3ms/step - loss: 1.1308 - mae: 0.6891 - val_loss: 1.1935 - val_mae: 0.6502\n",
            "Epoch 14/400\n",
            "42/42 [==============================] - 0s 3ms/step - loss: 1.0753 - mae: 0.6784 - val_loss: 1.6732 - val_mae: 0.6679\n",
            "Epoch 15/400\n",
            "42/42 [==============================] - 0s 4ms/step - loss: 1.2778 - mae: 0.7085 - val_loss: 1.1035 - val_mae: 0.6600\n",
            "Epoch 16/400\n",
            "42/42 [==============================] - 0s 4ms/step - loss: 1.1050 - mae: 0.6894 - val_loss: 1.0893 - val_mae: 0.6855\n",
            "Epoch 17/400\n",
            "42/42 [==============================] - 0s 5ms/step - loss: 1.0790 - mae: 0.6626 - val_loss: 1.0859 - val_mae: 0.6976\n",
            "Epoch 18/400\n",
            "42/42 [==============================] - 0s 3ms/step - loss: 1.1612 - mae: 0.7041 - val_loss: 1.1039 - val_mae: 0.6917\n",
            "Epoch 19/400\n",
            "42/42 [==============================] - 0s 3ms/step - loss: 1.0991 - mae: 0.6797 - val_loss: 1.0785 - val_mae: 0.6917\n",
            "Epoch 20/400\n",
            "42/42 [==============================] - 0s 7ms/step - loss: 1.1229 - mae: 0.6888 - val_loss: 1.0767 - val_mae: 0.6888\n",
            "Epoch 21/400\n",
            "42/42 [==============================] - 0s 4ms/step - loss: 1.2295 - mae: 0.6986 - val_loss: 1.1579 - val_mae: 0.7451\n",
            "Epoch 22/400\n",
            "42/42 [==============================] - 0s 5ms/step - loss: 1.2291 - mae: 0.7001 - val_loss: 1.1088 - val_mae: 0.6649\n",
            "Epoch 23/400\n",
            "42/42 [==============================] - 0s 4ms/step - loss: 1.1764 - mae: 0.6896 - val_loss: 1.1384 - val_mae: 0.7303\n",
            "Epoch 24/400\n",
            "42/42 [==============================] - 0s 3ms/step - loss: 1.1822 - mae: 0.7046 - val_loss: 1.0945 - val_mae: 0.6960\n",
            "Epoch 25/400\n",
            "42/42 [==============================] - 0s 4ms/step - loss: 1.1366 - mae: 0.6898 - val_loss: 1.1377 - val_mae: 0.6494\n",
            "Epoch 26/400\n",
            "42/42 [==============================] - 0s 3ms/step - loss: 1.1119 - mae: 0.6850 - val_loss: 1.3953 - val_mae: 0.6365\n",
            "Epoch 27/400\n",
            "42/42 [==============================] - 0s 3ms/step - loss: 1.1539 - mae: 0.6855 - val_loss: 1.0810 - val_mae: 0.6782\n",
            "Epoch 28/400\n",
            "42/42 [==============================] - 0s 3ms/step - loss: 1.1961 - mae: 0.6833 - val_loss: 1.2839 - val_mae: 0.6893\n",
            "Epoch 29/400\n",
            "42/42 [==============================] - 0s 3ms/step - loss: 1.2094 - mae: 0.6902 - val_loss: 1.1878 - val_mae: 0.6401\n",
            "Epoch 30/400\n",
            "42/42 [==============================] - 0s 3ms/step - loss: 1.1104 - mae: 0.6913 - val_loss: 1.0923 - val_mae: 0.6639\n",
            "Epoch 31/400\n",
            "42/42 [==============================] - 0s 3ms/step - loss: 1.1152 - mae: 0.6701 - val_loss: 1.2657 - val_mae: 0.6485\n",
            "Epoch 32/400\n",
            "42/42 [==============================] - 0s 3ms/step - loss: 1.2516 - mae: 0.7004 - val_loss: 1.3096 - val_mae: 0.8329\n",
            "Epoch 33/400\n",
            "42/42 [==============================] - 0s 3ms/step - loss: 1.1770 - mae: 0.6787 - val_loss: 1.0748 - val_mae: 0.6789\n",
            "Epoch 34/400\n",
            "42/42 [==============================] - 0s 3ms/step - loss: 1.1433 - mae: 0.6890 - val_loss: 1.2473 - val_mae: 0.6523\n",
            "Epoch 35/400\n",
            "42/42 [==============================] - 0s 3ms/step - loss: 1.1082 - mae: 0.6641 - val_loss: 1.1625 - val_mae: 0.7322\n",
            "Epoch 36/400\n",
            "42/42 [==============================] - 0s 3ms/step - loss: 1.2761 - mae: 0.7141 - val_loss: 1.1379 - val_mae: 0.7195\n",
            "Epoch 37/400\n",
            "42/42 [==============================] - 0s 3ms/step - loss: 1.2174 - mae: 0.6987 - val_loss: 1.0806 - val_mae: 0.7021\n",
            "Epoch 38/400\n",
            "42/42 [==============================] - 0s 3ms/step - loss: 1.1489 - mae: 0.6829 - val_loss: 1.1772 - val_mae: 0.7351\n",
            "Epoch 39/400\n",
            "42/42 [==============================] - 0s 3ms/step - loss: 1.3257 - mae: 0.7268 - val_loss: 1.1277 - val_mae: 0.7152\n",
            "Epoch 40/400\n",
            "42/42 [==============================] - 0s 3ms/step - loss: 1.1694 - mae: 0.6750 - val_loss: 1.4072 - val_mae: 0.6352\n",
            "Epoch 41/400\n",
            "42/42 [==============================] - 0s 3ms/step - loss: 1.1740 - mae: 0.7068 - val_loss: 1.0804 - val_mae: 0.7036\n",
            "Epoch 42/400\n",
            "42/42 [==============================] - 0s 3ms/step - loss: 1.1996 - mae: 0.6804 - val_loss: 1.1267 - val_mae: 0.6419\n",
            "Epoch 43/400\n",
            "42/42 [==============================] - 0s 3ms/step - loss: 1.0988 - mae: 0.6766 - val_loss: 1.0848 - val_mae: 0.6990\n",
            "Epoch 44/400\n",
            "42/42 [==============================] - 0s 4ms/step - loss: 1.0765 - mae: 0.6637 - val_loss: 1.0881 - val_mae: 0.6747\n",
            "Epoch 45/400\n",
            "42/42 [==============================] - 0s 3ms/step - loss: 1.1258 - mae: 0.6758 - val_loss: 2.0991 - val_mae: 0.9692\n",
            "Epoch 46/400\n",
            "42/42 [==============================] - 0s 3ms/step - loss: 1.3150 - mae: 0.7326 - val_loss: 1.5586 - val_mae: 0.8025\n",
            "Epoch 47/400\n",
            "42/42 [==============================] - 0s 3ms/step - loss: 1.2577 - mae: 0.7024 - val_loss: 1.0774 - val_mae: 0.6735\n",
            "Epoch 48/400\n",
            "42/42 [==============================] - 0s 3ms/step - loss: 1.1365 - mae: 0.6695 - val_loss: 1.1329 - val_mae: 0.6987\n",
            "Epoch 49/400\n",
            "42/42 [==============================] - 0s 3ms/step - loss: 1.0931 - mae: 0.6700 - val_loss: 1.2873 - val_mae: 0.7918\n",
            "Epoch 50/400\n",
            "42/42 [==============================] - 0s 3ms/step - loss: 1.1652 - mae: 0.6820 - val_loss: 1.3162 - val_mae: 0.8055\n",
            "Epoch 51/400\n",
            "42/42 [==============================] - 0s 3ms/step - loss: 1.1904 - mae: 0.6934 - val_loss: 1.2347 - val_mae: 0.6574\n",
            "Epoch 52/400\n",
            "42/42 [==============================] - 0s 3ms/step - loss: 1.2891 - mae: 0.7016 - val_loss: 1.3894 - val_mae: 0.7780\n",
            "Epoch 53/400\n",
            "42/42 [==============================] - 0s 3ms/step - loss: 1.4746 - mae: 0.7482 - val_loss: 1.4738 - val_mae: 0.6256\n",
            "Epoch 54/400\n",
            "42/42 [==============================] - 0s 3ms/step - loss: 1.4456 - mae: 0.7352 - val_loss: 1.0740 - val_mae: 0.6948\n",
            "Epoch 55/400\n",
            "42/42 [==============================] - 0s 3ms/step - loss: 1.1508 - mae: 0.6758 - val_loss: 2.1183 - val_mae: 0.8059\n",
            "Epoch 56/400\n",
            "42/42 [==============================] - 0s 4ms/step - loss: 1.1769 - mae: 0.6784 - val_loss: 1.6722 - val_mae: 0.6561\n",
            "Epoch 57/400\n",
            "42/42 [==============================] - 0s 3ms/step - loss: 1.1625 - mae: 0.6798 - val_loss: 2.0179 - val_mae: 0.7643\n",
            "Epoch 58/400\n",
            "42/42 [==============================] - 0s 3ms/step - loss: 1.2476 - mae: 0.6822 - val_loss: 1.5451 - val_mae: 0.6398\n",
            "Epoch 59/400\n",
            "42/42 [==============================] - 0s 3ms/step - loss: 1.2097 - mae: 0.6762 - val_loss: 1.4232 - val_mae: 0.7992\n",
            "Epoch 60/400\n",
            "42/42 [==============================] - 0s 3ms/step - loss: 1.2041 - mae: 0.6878 - val_loss: 1.2791 - val_mae: 0.7668\n",
            "Epoch 61/400\n",
            "42/42 [==============================] - 0s 3ms/step - loss: 1.1686 - mae: 0.6863 - val_loss: 1.1799 - val_mae: 0.6656\n",
            "Epoch 62/400\n",
            "42/42 [==============================] - 0s 3ms/step - loss: 1.0697 - mae: 0.6674 - val_loss: 1.1253 - val_mae: 0.6360\n",
            "Epoch 63/400\n",
            "42/42 [==============================] - 0s 4ms/step - loss: 1.1231 - mae: 0.6705 - val_loss: 2.2232 - val_mae: 0.8042\n",
            "Epoch 64/400\n",
            "42/42 [==============================] - 0s 3ms/step - loss: 1.2775 - mae: 0.6933 - val_loss: 1.4175 - val_mae: 0.6200\n",
            "Epoch 65/400\n",
            "42/42 [==============================] - 0s 3ms/step - loss: 1.1376 - mae: 0.6599 - val_loss: 1.2589 - val_mae: 0.7545\n",
            "Epoch 66/400\n",
            "42/42 [==============================] - 0s 3ms/step - loss: 1.1487 - mae: 0.6856 - val_loss: 1.1039 - val_mae: 0.6418\n",
            "Epoch 67/400\n",
            "42/42 [==============================] - 0s 3ms/step - loss: 1.1355 - mae: 0.6806 - val_loss: 1.7848 - val_mae: 0.6668\n",
            "Epoch 68/400\n",
            "42/42 [==============================] - 0s 3ms/step - loss: 1.2410 - mae: 0.6876 - val_loss: 1.0665 - val_mae: 0.6849\n",
            "Epoch 69/400\n",
            "42/42 [==============================] - 0s 4ms/step - loss: 1.1159 - mae: 0.6567 - val_loss: 1.1446 - val_mae: 0.6402\n",
            "Epoch 70/400\n",
            "42/42 [==============================] - 0s 3ms/step - loss: 1.1298 - mae: 0.6571 - val_loss: 2.3955 - val_mae: 1.0600\n",
            "Epoch 71/400\n",
            "42/42 [==============================] - 0s 3ms/step - loss: 1.2998 - mae: 0.7103 - val_loss: 1.6110 - val_mae: 0.6413\n",
            "Epoch 72/400\n",
            "42/42 [==============================] - 0s 3ms/step - loss: 1.4526 - mae: 0.7287 - val_loss: 1.0642 - val_mae: 0.6530\n",
            "Epoch 73/400\n",
            "42/42 [==============================] - 0s 3ms/step - loss: 1.0704 - mae: 0.6595 - val_loss: 1.3794 - val_mae: 0.6273\n",
            "Epoch 74/400\n",
            "42/42 [==============================] - 0s 3ms/step - loss: 1.3099 - mae: 0.6880 - val_loss: 1.3597 - val_mae: 0.6304\n",
            "Epoch 75/400\n",
            "42/42 [==============================] - 0s 3ms/step - loss: 1.2512 - mae: 0.7020 - val_loss: 1.0788 - val_mae: 0.6542\n",
            "Epoch 76/400\n",
            "42/42 [==============================] - 0s 4ms/step - loss: 1.3759 - mae: 0.7128 - val_loss: 2.2141 - val_mae: 0.7980\n",
            "Epoch 77/400\n",
            "42/42 [==============================] - 0s 3ms/step - loss: 1.5744 - mae: 0.7497 - val_loss: 1.1081 - val_mae: 0.6211\n",
            "Epoch 78/400\n",
            "42/42 [==============================] - 0s 3ms/step - loss: 1.0912 - mae: 0.6551 - val_loss: 1.2188 - val_mae: 0.6159\n",
            "Epoch 79/400\n",
            "42/42 [==============================] - 0s 3ms/step - loss: 1.0999 - mae: 0.6555 - val_loss: 1.0956 - val_mae: 0.6362\n",
            "Epoch 80/400\n",
            "42/42 [==============================] - 0s 3ms/step - loss: 1.0743 - mae: 0.6436 - val_loss: 1.1481 - val_mae: 0.6212\n",
            "Epoch 81/400\n",
            "42/42 [==============================] - 0s 3ms/step - loss: 1.1716 - mae: 0.6580 - val_loss: 1.5256 - val_mae: 0.6397\n",
            "Epoch 82/400\n",
            "42/42 [==============================] - 0s 3ms/step - loss: 1.1216 - mae: 0.6552 - val_loss: 1.0809 - val_mae: 0.6254\n",
            "Epoch 83/400\n",
            "42/42 [==============================] - 0s 3ms/step - loss: 1.2730 - mae: 0.6789 - val_loss: 1.1772 - val_mae: 0.7122\n",
            "Epoch 84/400\n",
            "42/42 [==============================] - 0s 3ms/step - loss: 1.0782 - mae: 0.6546 - val_loss: 1.1016 - val_mae: 0.6393\n",
            "Epoch 85/400\n",
            "42/42 [==============================] - 0s 3ms/step - loss: 1.2099 - mae: 0.6706 - val_loss: 1.3469 - val_mae: 0.7529\n",
            "Epoch 86/400\n",
            "42/42 [==============================] - 0s 3ms/step - loss: 1.2928 - mae: 0.6739 - val_loss: 2.0585 - val_mae: 0.8830\n",
            "Epoch 87/400\n",
            "42/42 [==============================] - 0s 3ms/step - loss: 1.6436 - mae: 0.7675 - val_loss: 1.0726 - val_mae: 0.6378\n",
            "Epoch 88/400\n",
            "42/42 [==============================] - 0s 3ms/step - loss: 1.1285 - mae: 0.6548 - val_loss: 1.7316 - val_mae: 0.6672\n",
            "Epoch 89/400\n",
            "42/42 [==============================] - 0s 3ms/step - loss: 1.1458 - mae: 0.6378 - val_loss: 1.6101 - val_mae: 0.8051\n",
            "Epoch 90/400\n",
            "42/42 [==============================] - 0s 3ms/step - loss: 1.2360 - mae: 0.6559 - val_loss: 1.0589 - val_mae: 0.6882\n",
            "Epoch 91/400\n",
            "42/42 [==============================] - 0s 3ms/step - loss: 1.1117 - mae: 0.6458 - val_loss: 1.0201 - val_mae: 0.6283\n",
            "Epoch 92/400\n",
            "42/42 [==============================] - 0s 3ms/step - loss: 1.1129 - mae: 0.6493 - val_loss: 1.2228 - val_mae: 0.6192\n",
            "Epoch 93/400\n",
            "42/42 [==============================] - 0s 3ms/step - loss: 1.1400 - mae: 0.6421 - val_loss: 1.0187 - val_mae: 0.6536\n",
            "Epoch 94/400\n",
            "42/42 [==============================] - 0s 3ms/step - loss: 1.0444 - mae: 0.6253 - val_loss: 1.2604 - val_mae: 0.7430\n",
            "Epoch 95/400\n",
            "42/42 [==============================] - 0s 3ms/step - loss: 1.0834 - mae: 0.6411 - val_loss: 1.0204 - val_mae: 0.6422\n",
            "Epoch 96/400\n",
            "42/42 [==============================] - 0s 3ms/step - loss: 1.1963 - mae: 0.6649 - val_loss: 1.3223 - val_mae: 0.6179\n",
            "Epoch 97/400\n",
            "42/42 [==============================] - 0s 3ms/step - loss: 1.0222 - mae: 0.6275 - val_loss: 1.0430 - val_mae: 0.6228\n",
            "Epoch 98/400\n",
            "42/42 [==============================] - 0s 3ms/step - loss: 1.1089 - mae: 0.6395 - val_loss: 1.0399 - val_mae: 0.6221\n",
            "Epoch 99/400\n",
            "42/42 [==============================] - 0s 3ms/step - loss: 1.1163 - mae: 0.6395 - val_loss: 0.9965 - val_mae: 0.6384\n",
            "Epoch 100/400\n",
            "42/42 [==============================] - 0s 3ms/step - loss: 1.2276 - mae: 0.6682 - val_loss: 1.0657 - val_mae: 0.6139\n",
            "Epoch 101/400\n",
            "42/42 [==============================] - 0s 3ms/step - loss: 1.4801 - mae: 0.7106 - val_loss: 1.1102 - val_mae: 0.6006\n",
            "Epoch 102/400\n",
            "42/42 [==============================] - 0s 3ms/step - loss: 1.0468 - mae: 0.6220 - val_loss: 1.1283 - val_mae: 0.5896\n",
            "Epoch 103/400\n",
            "42/42 [==============================] - 0s 3ms/step - loss: 0.9963 - mae: 0.6077 - val_loss: 1.1769 - val_mae: 0.6911\n",
            "Epoch 104/400\n",
            "42/42 [==============================] - 0s 3ms/step - loss: 1.0905 - mae: 0.6344 - val_loss: 1.1381 - val_mae: 0.6135\n",
            "Epoch 105/400\n",
            "42/42 [==============================] - 0s 3ms/step - loss: 0.9853 - mae: 0.6146 - val_loss: 1.0046 - val_mae: 0.6173\n",
            "Epoch 106/400\n",
            "42/42 [==============================] - 0s 7ms/step - loss: 1.0578 - mae: 0.6307 - val_loss: 1.0866 - val_mae: 0.5971\n",
            "Epoch 107/400\n",
            "42/42 [==============================] - 0s 3ms/step - loss: 1.3125 - mae: 0.6791 - val_loss: 1.0023 - val_mae: 0.6215\n",
            "Epoch 108/400\n",
            "42/42 [==============================] - 0s 4ms/step - loss: 1.0585 - mae: 0.6257 - val_loss: 1.1072 - val_mae: 0.5815\n",
            "Epoch 109/400\n",
            "42/42 [==============================] - 0s 3ms/step - loss: 0.9888 - mae: 0.5974 - val_loss: 1.1000 - val_mae: 0.6062\n",
            "Epoch 110/400\n",
            "42/42 [==============================] - 0s 3ms/step - loss: 1.1175 - mae: 0.6290 - val_loss: 0.9818 - val_mae: 0.6123\n",
            "Epoch 111/400\n",
            "42/42 [==============================] - 0s 3ms/step - loss: 1.2916 - mae: 0.6638 - val_loss: 1.2688 - val_mae: 0.7315\n",
            "Epoch 112/400\n",
            "42/42 [==============================] - 0s 3ms/step - loss: 1.1896 - mae: 0.6462 - val_loss: 1.1362 - val_mae: 0.5986\n",
            "Epoch 113/400\n",
            "42/42 [==============================] - 0s 3ms/step - loss: 1.0272 - mae: 0.6081 - val_loss: 0.9723 - val_mae: 0.6241\n",
            "Epoch 114/400\n",
            "42/42 [==============================] - 0s 6ms/step - loss: 1.0310 - mae: 0.6068 - val_loss: 1.2822 - val_mae: 0.7320\n",
            "Epoch 115/400\n",
            "42/42 [==============================] - 0s 4ms/step - loss: 1.1641 - mae: 0.6471 - val_loss: 0.9972 - val_mae: 0.6086\n",
            "Epoch 116/400\n",
            "42/42 [==============================] - 0s 4ms/step - loss: 1.0615 - mae: 0.6118 - val_loss: 1.0431 - val_mae: 0.6711\n",
            "Epoch 117/400\n",
            "42/42 [==============================] - 0s 3ms/step - loss: 1.0780 - mae: 0.6203 - val_loss: 2.5579 - val_mae: 0.9012\n",
            "Epoch 118/400\n",
            "42/42 [==============================] - 0s 4ms/step - loss: 1.0846 - mae: 0.6245 - val_loss: 0.9787 - val_mae: 0.6032\n",
            "Epoch 119/400\n",
            "42/42 [==============================] - 0s 4ms/step - loss: 1.0570 - mae: 0.6102 - val_loss: 1.0175 - val_mae: 0.5850\n",
            "Epoch 120/400\n",
            "42/42 [==============================] - 0s 4ms/step - loss: 1.2069 - mae: 0.6518 - val_loss: 2.1324 - val_mae: 0.7988\n",
            "Epoch 121/400\n",
            "42/42 [==============================] - 0s 4ms/step - loss: 1.1121 - mae: 0.6295 - val_loss: 1.3630 - val_mae: 0.5812\n",
            "Epoch 122/400\n",
            "42/42 [==============================] - 0s 3ms/step - loss: 1.0376 - mae: 0.6101 - val_loss: 1.3553 - val_mae: 0.5985\n",
            "Epoch 123/400\n",
            "42/42 [==============================] - 0s 5ms/step - loss: 1.0019 - mae: 0.5909 - val_loss: 1.4076 - val_mae: 0.6112\n",
            "Epoch 124/400\n",
            "42/42 [==============================] - 0s 4ms/step - loss: 1.0165 - mae: 0.5985 - val_loss: 1.0812 - val_mae: 0.5779\n",
            "Epoch 125/400\n",
            "42/42 [==============================] - 0s 5ms/step - loss: 1.0627 - mae: 0.6043 - val_loss: 0.9651 - val_mae: 0.6257\n",
            "Epoch 126/400\n",
            "42/42 [==============================] - 0s 4ms/step - loss: 1.3645 - mae: 0.6670 - val_loss: 1.0957 - val_mae: 0.6753\n",
            "Epoch 127/400\n",
            "42/42 [==============================] - 0s 5ms/step - loss: 0.9954 - mae: 0.6037 - val_loss: 1.2367 - val_mae: 0.5646\n",
            "Epoch 128/400\n",
            "42/42 [==============================] - 0s 4ms/step - loss: 0.9979 - mae: 0.5787 - val_loss: 1.0201 - val_mae: 0.6324\n",
            "Epoch 129/400\n",
            "42/42 [==============================] - 0s 4ms/step - loss: 0.9401 - mae: 0.5678 - val_loss: 2.3642 - val_mae: 0.9397\n",
            "Epoch 130/400\n",
            "42/42 [==============================] - 0s 4ms/step - loss: 1.3249 - mae: 0.6674 - val_loss: 1.1831 - val_mae: 0.6833\n",
            "Epoch 131/400\n",
            "42/42 [==============================] - 0s 3ms/step - loss: 1.1329 - mae: 0.6311 - val_loss: 1.0511 - val_mae: 0.6336\n",
            "Epoch 132/400\n",
            "42/42 [==============================] - 0s 3ms/step - loss: 1.0171 - mae: 0.5911 - val_loss: 1.1640 - val_mae: 0.5576\n",
            "Epoch 133/400\n",
            "42/42 [==============================] - 0s 4ms/step - loss: 1.0996 - mae: 0.6137 - val_loss: 1.0029 - val_mae: 0.5650\n",
            "Epoch 134/400\n",
            "42/42 [==============================] - 0s 3ms/step - loss: 1.1606 - mae: 0.6193 - val_loss: 1.0104 - val_mae: 0.5978\n",
            "Epoch 135/400\n",
            "42/42 [==============================] - 0s 3ms/step - loss: 1.1066 - mae: 0.6112 - val_loss: 1.5040 - val_mae: 0.6526\n",
            "Epoch 136/400\n",
            "42/42 [==============================] - 0s 3ms/step - loss: 0.9793 - mae: 0.5814 - val_loss: 1.0303 - val_mae: 0.6263\n",
            "Epoch 137/400\n",
            "42/42 [==============================] - 0s 4ms/step - loss: 1.0159 - mae: 0.5831 - val_loss: 1.1961 - val_mae: 0.7084\n",
            "Epoch 138/400\n",
            "42/42 [==============================] - 0s 4ms/step - loss: 1.0322 - mae: 0.5907 - val_loss: 0.9614 - val_mae: 0.6155\n",
            "Epoch 139/400\n",
            "42/42 [==============================] - 0s 4ms/step - loss: 1.1463 - mae: 0.6283 - val_loss: 0.9665 - val_mae: 0.6150\n",
            "Epoch 140/400\n",
            "42/42 [==============================] - 0s 5ms/step - loss: 0.9800 - mae: 0.5892 - val_loss: 0.9865 - val_mae: 0.6004\n",
            "Epoch 141/400\n",
            "42/42 [==============================] - 0s 4ms/step - loss: 1.0702 - mae: 0.5946 - val_loss: 1.0165 - val_mae: 0.6254\n",
            "Epoch 142/400\n",
            "42/42 [==============================] - 0s 4ms/step - loss: 0.9842 - mae: 0.5827 - val_loss: 0.9421 - val_mae: 0.6017\n",
            "Epoch 143/400\n",
            "42/42 [==============================] - 0s 5ms/step - loss: 1.0072 - mae: 0.5879 - val_loss: 1.0530 - val_mae: 0.5529\n",
            "Epoch 144/400\n",
            "42/42 [==============================] - 0s 4ms/step - loss: 1.0699 - mae: 0.6027 - val_loss: 0.9859 - val_mae: 0.5842\n",
            "Epoch 145/400\n",
            "42/42 [==============================] - 0s 5ms/step - loss: 0.9705 - mae: 0.5843 - val_loss: 1.3177 - val_mae: 0.7378\n",
            "Epoch 146/400\n",
            "42/42 [==============================] - 0s 6ms/step - loss: 0.9996 - mae: 0.5831 - val_loss: 1.0320 - val_mae: 0.5527\n",
            "Epoch 147/400\n",
            "42/42 [==============================] - 0s 6ms/step - loss: 0.9959 - mae: 0.5671 - val_loss: 0.9558 - val_mae: 0.6048\n",
            "Epoch 148/400\n",
            "42/42 [==============================] - 0s 5ms/step - loss: 1.0031 - mae: 0.5930 - val_loss: 0.9613 - val_mae: 0.5805\n",
            "Epoch 149/400\n",
            "42/42 [==============================] - 0s 4ms/step - loss: 1.0237 - mae: 0.5889 - val_loss: 1.0125 - val_mae: 0.6217\n",
            "Epoch 150/400\n",
            "42/42 [==============================] - 0s 4ms/step - loss: 1.0600 - mae: 0.5883 - val_loss: 1.1558 - val_mae: 0.6756\n",
            "Epoch 151/400\n",
            "42/42 [==============================] - 0s 8ms/step - loss: 1.2839 - mae: 0.6512 - val_loss: 1.3703 - val_mae: 0.7347\n",
            "Epoch 152/400\n",
            "42/42 [==============================] - 0s 4ms/step - loss: 1.0434 - mae: 0.6006 - val_loss: 1.2639 - val_mae: 0.5784\n",
            "Epoch 153/400\n",
            "42/42 [==============================] - 0s 3ms/step - loss: 0.9577 - mae: 0.5677 - val_loss: 0.9658 - val_mae: 0.5838\n",
            "Epoch 154/400\n",
            "42/42 [==============================] - 0s 4ms/step - loss: 0.9635 - mae: 0.5712 - val_loss: 1.0751 - val_mae: 0.5434\n",
            "Epoch 155/400\n",
            "42/42 [==============================] - 0s 3ms/step - loss: 0.9602 - mae: 0.5674 - val_loss: 1.8279 - val_mae: 0.7499\n",
            "Epoch 156/400\n",
            "42/42 [==============================] - 0s 3ms/step - loss: 1.0643 - mae: 0.5984 - val_loss: 0.9731 - val_mae: 0.6050\n",
            "Epoch 157/400\n",
            "42/42 [==============================] - 0s 4ms/step - loss: 1.0204 - mae: 0.5898 - val_loss: 0.9711 - val_mae: 0.5883\n",
            "Epoch 158/400\n",
            "42/42 [==============================] - 0s 3ms/step - loss: 0.9990 - mae: 0.5749 - val_loss: 0.9738 - val_mae: 0.5550\n",
            "Epoch 159/400\n",
            "42/42 [==============================] - 0s 3ms/step - loss: 0.9381 - mae: 0.5608 - val_loss: 1.5325 - val_mae: 0.7920\n",
            "Epoch 160/400\n",
            "42/42 [==============================] - 0s 4ms/step - loss: 1.1594 - mae: 0.6068 - val_loss: 1.0054 - val_mae: 0.6187\n",
            "Epoch 161/400\n",
            "42/42 [==============================] - 0s 3ms/step - loss: 1.2274 - mae: 0.6319 - val_loss: 1.3684 - val_mae: 0.5808\n",
            "Epoch 162/400\n",
            "42/42 [==============================] - 0s 3ms/step - loss: 0.9988 - mae: 0.5777 - val_loss: 1.3014 - val_mae: 0.5830\n",
            "Epoch 163/400\n",
            "42/42 [==============================] - 0s 3ms/step - loss: 0.9472 - mae: 0.5639 - val_loss: 0.9510 - val_mae: 0.5541\n",
            "Epoch 164/400\n",
            "42/42 [==============================] - 0s 4ms/step - loss: 1.0337 - mae: 0.5987 - val_loss: 1.2604 - val_mae: 0.5459\n",
            "Epoch 165/400\n",
            "42/42 [==============================] - 0s 3ms/step - loss: 0.9960 - mae: 0.5715 - val_loss: 1.1137 - val_mae: 0.5207\n",
            "Epoch 166/400\n",
            "42/42 [==============================] - 0s 3ms/step - loss: 0.9738 - mae: 0.5578 - val_loss: 1.2066 - val_mae: 0.5568\n",
            "Epoch 167/400\n",
            "42/42 [==============================] - 0s 3ms/step - loss: 0.9048 - mae: 0.5438 - val_loss: 0.9974 - val_mae: 0.5377\n",
            "Epoch 168/400\n",
            "42/42 [==============================] - 0s 3ms/step - loss: 0.9982 - mae: 0.5787 - val_loss: 1.1983 - val_mae: 0.6053\n",
            "Epoch 169/400\n",
            "42/42 [==============================] - 0s 3ms/step - loss: 0.9429 - mae: 0.5627 - val_loss: 0.9410 - val_mae: 0.5669\n",
            "Epoch 170/400\n",
            "42/42 [==============================] - 0s 3ms/step - loss: 0.9326 - mae: 0.5600 - val_loss: 1.0714 - val_mae: 0.5896\n",
            "Epoch 171/400\n",
            "42/42 [==============================] - 0s 3ms/step - loss: 1.1220 - mae: 0.6008 - val_loss: 0.9143 - val_mae: 0.5783\n",
            "Epoch 172/400\n",
            "42/42 [==============================] - 0s 3ms/step - loss: 1.1132 - mae: 0.6004 - val_loss: 0.9302 - val_mae: 0.5554\n",
            "Epoch 173/400\n",
            "42/42 [==============================] - 0s 3ms/step - loss: 1.0038 - mae: 0.5841 - val_loss: 1.7650 - val_mae: 0.7232\n",
            "Epoch 174/400\n",
            "42/42 [==============================] - 0s 3ms/step - loss: 0.9964 - mae: 0.5766 - val_loss: 1.0315 - val_mae: 0.5411\n",
            "Epoch 175/400\n",
            "42/42 [==============================] - 0s 4ms/step - loss: 1.0186 - mae: 0.5773 - val_loss: 1.4455 - val_mae: 0.6405\n",
            "Epoch 176/400\n",
            "42/42 [==============================] - 0s 3ms/step - loss: 1.0098 - mae: 0.5839 - val_loss: 1.0179 - val_mae: 0.5631\n",
            "Epoch 177/400\n",
            "42/42 [==============================] - 0s 3ms/step - loss: 1.2058 - mae: 0.6327 - val_loss: 1.1813 - val_mae: 0.6894\n",
            "Epoch 178/400\n",
            "42/42 [==============================] - 0s 3ms/step - loss: 1.0681 - mae: 0.5964 - val_loss: 0.9517 - val_mae: 0.5770\n",
            "Epoch 179/400\n",
            "42/42 [==============================] - 0s 3ms/step - loss: 0.9077 - mae: 0.5371 - val_loss: 0.9892 - val_mae: 0.6120\n",
            "Epoch 180/400\n",
            "42/42 [==============================] - 0s 3ms/step - loss: 1.1601 - mae: 0.6224 - val_loss: 0.9447 - val_mae: 0.5743\n",
            "Epoch 181/400\n",
            "42/42 [==============================] - 0s 4ms/step - loss: 1.0812 - mae: 0.5841 - val_loss: 1.0974 - val_mae: 0.6444\n",
            "Epoch 182/400\n",
            "42/42 [==============================] - 0s 5ms/step - loss: 0.9694 - mae: 0.5690 - val_loss: 0.9728 - val_mae: 0.6059\n",
            "Epoch 183/400\n",
            "42/42 [==============================] - 0s 3ms/step - loss: 0.9711 - mae: 0.5696 - val_loss: 0.9183 - val_mae: 0.5760\n",
            "Epoch 184/400\n",
            "42/42 [==============================] - 0s 3ms/step - loss: 0.8896 - mae: 0.5447 - val_loss: 1.1365 - val_mae: 0.5889\n",
            "Epoch 185/400\n",
            "42/42 [==============================] - 0s 4ms/step - loss: 1.1188 - mae: 0.6043 - val_loss: 2.2307 - val_mae: 0.8161\n",
            "Epoch 186/400\n",
            "42/42 [==============================] - 0s 4ms/step - loss: 1.2400 - mae: 0.6432 - val_loss: 1.0984 - val_mae: 0.6001\n",
            "Epoch 187/400\n",
            "42/42 [==============================] - 0s 3ms/step - loss: 1.1480 - mae: 0.6076 - val_loss: 2.3496 - val_mae: 0.8695\n",
            "Epoch 188/400\n",
            "42/42 [==============================] - 0s 3ms/step - loss: 1.3891 - mae: 0.6644 - val_loss: 1.0049 - val_mae: 0.5441\n",
            "Epoch 189/400\n",
            "42/42 [==============================] - 0s 3ms/step - loss: 0.9322 - mae: 0.5449 - val_loss: 0.9399 - val_mae: 0.5413\n",
            "Epoch 190/400\n",
            "42/42 [==============================] - 0s 3ms/step - loss: 1.0073 - mae: 0.5781 - val_loss: 0.9330 - val_mae: 0.5619\n",
            "Epoch 191/400\n",
            "42/42 [==============================] - 0s 3ms/step - loss: 1.0145 - mae: 0.5810 - val_loss: 0.9822 - val_mae: 0.5429\n",
            "Epoch 192/400\n",
            "42/42 [==============================] - 0s 4ms/step - loss: 1.0852 - mae: 0.5833 - val_loss: 0.9775 - val_mae: 0.5690\n",
            "Epoch 193/400\n",
            "42/42 [==============================] - 0s 5ms/step - loss: 0.9436 - mae: 0.5551 - val_loss: 0.9734 - val_mae: 0.5718\n",
            "Epoch 194/400\n",
            "42/42 [==============================] - 0s 3ms/step - loss: 0.8990 - mae: 0.5451 - val_loss: 0.9618 - val_mae: 0.6021\n",
            "Epoch 195/400\n",
            "42/42 [==============================] - 0s 3ms/step - loss: 0.9179 - mae: 0.5453 - val_loss: 0.9386 - val_mae: 0.5495\n",
            "Epoch 196/400\n",
            "42/42 [==============================] - 0s 3ms/step - loss: 0.8595 - mae: 0.5214 - val_loss: 1.1819 - val_mae: 0.6615\n",
            "Epoch 197/400\n",
            "42/42 [==============================] - 0s 4ms/step - loss: 1.3412 - mae: 0.6680 - val_loss: 1.8905 - val_mae: 0.8403\n",
            "Epoch 198/400\n",
            "42/42 [==============================] - 0s 4ms/step - loss: 1.0037 - mae: 0.5801 - val_loss: 0.9703 - val_mae: 0.5697\n",
            "Epoch 199/400\n",
            "42/42 [==============================] - 0s 4ms/step - loss: 0.8709 - mae: 0.5320 - val_loss: 1.1801 - val_mae: 0.6229\n",
            "Epoch 200/400\n",
            "42/42 [==============================] - 0s 3ms/step - loss: 0.9427 - mae: 0.5607 - val_loss: 0.9661 - val_mae: 0.5315\n",
            "Epoch 201/400\n",
            "42/42 [==============================] - 0s 5ms/step - loss: 1.0187 - mae: 0.5630 - val_loss: 1.3512 - val_mae: 0.6247\n",
            "Epoch 202/400\n",
            "42/42 [==============================] - 0s 4ms/step - loss: 0.9800 - mae: 0.5570 - val_loss: 0.9457 - val_mae: 0.5493\n",
            "Epoch 203/400\n",
            "42/42 [==============================] - 0s 4ms/step - loss: 1.0709 - mae: 0.5862 - val_loss: 1.3185 - val_mae: 0.5892\n",
            "Epoch 204/400\n",
            "42/42 [==============================] - 0s 4ms/step - loss: 0.9633 - mae: 0.5569 - val_loss: 1.1693 - val_mae: 0.6035\n",
            "Epoch 205/400\n",
            "42/42 [==============================] - 0s 4ms/step - loss: 0.9391 - mae: 0.5524 - val_loss: 0.9329 - val_mae: 0.5811\n",
            "Epoch 206/400\n",
            "42/42 [==============================] - 0s 4ms/step - loss: 1.0457 - mae: 0.5848 - val_loss: 0.9078 - val_mae: 0.5510\n",
            "Epoch 207/400\n",
            "42/42 [==============================] - 0s 6ms/step - loss: 0.9119 - mae: 0.5477 - val_loss: 1.1254 - val_mae: 0.6489\n",
            "Epoch 208/400\n",
            "42/42 [==============================] - 0s 5ms/step - loss: 1.0215 - mae: 0.5766 - val_loss: 1.1501 - val_mae: 0.5747\n",
            "Epoch 209/400\n",
            "42/42 [==============================] - 0s 4ms/step - loss: 0.9403 - mae: 0.5549 - val_loss: 0.8972 - val_mae: 0.5606\n",
            "Epoch 210/400\n",
            "42/42 [==============================] - 0s 4ms/step - loss: 0.9302 - mae: 0.5463 - val_loss: 0.9242 - val_mae: 0.5321\n",
            "Epoch 211/400\n",
            "42/42 [==============================] - 0s 4ms/step - loss: 0.9068 - mae: 0.5471 - val_loss: 1.3419 - val_mae: 0.5778\n",
            "Epoch 212/400\n",
            "42/42 [==============================] - 0s 5ms/step - loss: 1.0565 - mae: 0.5744 - val_loss: 1.0609 - val_mae: 0.6477\n",
            "Epoch 213/400\n",
            "42/42 [==============================] - 0s 4ms/step - loss: 0.9836 - mae: 0.5608 - val_loss: 0.9470 - val_mae: 0.5845\n",
            "Epoch 214/400\n",
            "42/42 [==============================] - 0s 4ms/step - loss: 0.9059 - mae: 0.5445 - val_loss: 1.6365 - val_mae: 0.6596\n",
            "Epoch 215/400\n",
            "42/42 [==============================] - 0s 7ms/step - loss: 0.9775 - mae: 0.5558 - val_loss: 1.4507 - val_mae: 0.6639\n",
            "Epoch 216/400\n",
            "42/42 [==============================] - 0s 5ms/step - loss: 0.9825 - mae: 0.5661 - val_loss: 0.9823 - val_mae: 0.5217\n",
            "Epoch 217/400\n",
            "42/42 [==============================] - 0s 4ms/step - loss: 0.9421 - mae: 0.5441 - val_loss: 0.9664 - val_mae: 0.5216\n",
            "Epoch 218/400\n",
            "42/42 [==============================] - 0s 4ms/step - loss: 0.9469 - mae: 0.5453 - val_loss: 0.9700 - val_mae: 0.5206\n",
            "Epoch 219/400\n",
            "42/42 [==============================] - 0s 4ms/step - loss: 0.9554 - mae: 0.5601 - val_loss: 1.1001 - val_mae: 0.5452\n",
            "Epoch 220/400\n",
            "42/42 [==============================] - 0s 4ms/step - loss: 0.9088 - mae: 0.5453 - val_loss: 1.1316 - val_mae: 0.5113\n",
            "Epoch 221/400\n",
            "42/42 [==============================] - 0s 6ms/step - loss: 0.9193 - mae: 0.5378 - val_loss: 0.8973 - val_mae: 0.5529\n",
            "Epoch 222/400\n",
            "42/42 [==============================] - 0s 4ms/step - loss: 0.9917 - mae: 0.5587 - val_loss: 1.0870 - val_mae: 0.6501\n",
            "Epoch 223/400\n",
            "42/42 [==============================] - 0s 4ms/step - loss: 1.0619 - mae: 0.5967 - val_loss: 0.9114 - val_mae: 0.5801\n",
            "Epoch 224/400\n",
            "42/42 [==============================] - 0s 4ms/step - loss: 1.0587 - mae: 0.5601 - val_loss: 0.9980 - val_mae: 0.6052\n",
            "Epoch 225/400\n",
            "42/42 [==============================] - 0s 4ms/step - loss: 0.9458 - mae: 0.5402 - val_loss: 0.8841 - val_mae: 0.5372\n",
            "Epoch 226/400\n",
            "42/42 [==============================] - 0s 4ms/step - loss: 0.9683 - mae: 0.5544 - val_loss: 1.2724 - val_mae: 0.5966\n",
            "Epoch 227/400\n",
            "42/42 [==============================] - 0s 3ms/step - loss: 1.1869 - mae: 0.6100 - val_loss: 0.9326 - val_mae: 0.5803\n",
            "Epoch 228/400\n",
            "42/42 [==============================] - 0s 4ms/step - loss: 0.9147 - mae: 0.5390 - val_loss: 1.1151 - val_mae: 0.6476\n",
            "Epoch 229/400\n",
            "42/42 [==============================] - 0s 4ms/step - loss: 0.9298 - mae: 0.5459 - val_loss: 1.0216 - val_mae: 0.5685\n",
            "Epoch 230/400\n",
            "42/42 [==============================] - 0s 4ms/step - loss: 0.9669 - mae: 0.5643 - val_loss: 1.0583 - val_mae: 0.6324\n",
            "Epoch 231/400\n",
            "42/42 [==============================] - 0s 4ms/step - loss: 1.0383 - mae: 0.5849 - val_loss: 1.0068 - val_mae: 0.5420\n",
            "Epoch 232/400\n",
            "42/42 [==============================] - 0s 4ms/step - loss: 0.8754 - mae: 0.5313 - val_loss: 0.9452 - val_mae: 0.5191\n",
            "Epoch 233/400\n",
            "42/42 [==============================] - 0s 4ms/step - loss: 1.0267 - mae: 0.5668 - val_loss: 1.1386 - val_mae: 0.6487\n",
            "Epoch 234/400\n",
            "42/42 [==============================] - 0s 4ms/step - loss: 0.9037 - mae: 0.5278 - val_loss: 0.9677 - val_mae: 0.6012\n",
            "Epoch 235/400\n",
            "42/42 [==============================] - 0s 4ms/step - loss: 0.9452 - mae: 0.5441 - val_loss: 1.6711 - val_mae: 0.8100\n",
            "Epoch 236/400\n",
            "42/42 [==============================] - 0s 5ms/step - loss: 1.2890 - mae: 0.6444 - val_loss: 0.8967 - val_mae: 0.5570\n",
            "Epoch 237/400\n",
            "42/42 [==============================] - 0s 4ms/step - loss: 0.9388 - mae: 0.5484 - val_loss: 0.9932 - val_mae: 0.5273\n",
            "Epoch 238/400\n",
            "42/42 [==============================] - 0s 4ms/step - loss: 0.9419 - mae: 0.5384 - val_loss: 1.0202 - val_mae: 0.6279\n",
            "Epoch 239/400\n",
            "42/42 [==============================] - 0s 4ms/step - loss: 1.0551 - mae: 0.5833 - val_loss: 0.9284 - val_mae: 0.5662\n",
            "Epoch 240/400\n",
            "42/42 [==============================] - 0s 4ms/step - loss: 0.9269 - mae: 0.5458 - val_loss: 0.8971 - val_mae: 0.5334\n",
            "Epoch 241/400\n",
            "42/42 [==============================] - 0s 4ms/step - loss: 0.9000 - mae: 0.5366 - val_loss: 1.8892 - val_mae: 0.7418\n",
            "Epoch 242/400\n",
            "42/42 [==============================] - 0s 4ms/step - loss: 0.9739 - mae: 0.5482 - val_loss: 0.9982 - val_mae: 0.5390\n",
            "Epoch 243/400\n",
            "42/42 [==============================] - 0s 4ms/step - loss: 0.8681 - mae: 0.5097 - val_loss: 0.9037 - val_mae: 0.5516\n",
            "Epoch 244/400\n",
            "42/42 [==============================] - 0s 4ms/step - loss: 0.9137 - mae: 0.5374 - val_loss: 0.8856 - val_mae: 0.5103\n",
            "Epoch 245/400\n",
            "42/42 [==============================] - 0s 4ms/step - loss: 0.8947 - mae: 0.5245 - val_loss: 1.2346 - val_mae: 0.6386\n",
            "Epoch 246/400\n",
            "42/42 [==============================] - 0s 4ms/step - loss: 1.0119 - mae: 0.5662 - val_loss: 1.2104 - val_mae: 0.6144\n",
            "Epoch 247/400\n",
            "42/42 [==============================] - 0s 4ms/step - loss: 0.9745 - mae: 0.5620 - val_loss: 1.0144 - val_mae: 0.6218\n",
            "Epoch 248/400\n",
            "42/42 [==============================] - 0s 4ms/step - loss: 0.8544 - mae: 0.5141 - val_loss: 0.8580 - val_mae: 0.5452\n",
            "Epoch 249/400\n",
            "42/42 [==============================] - 0s 4ms/step - loss: 0.9952 - mae: 0.5721 - val_loss: 0.8856 - val_mae: 0.5405\n",
            "Epoch 250/400\n",
            "42/42 [==============================] - 0s 4ms/step - loss: 0.9487 - mae: 0.5430 - val_loss: 0.9660 - val_mae: 0.5273\n",
            "Epoch 251/400\n",
            "42/42 [==============================] - 0s 5ms/step - loss: 0.9239 - mae: 0.5360 - val_loss: 1.2964 - val_mae: 0.7097\n",
            "Epoch 252/400\n",
            "42/42 [==============================] - 0s 4ms/step - loss: 1.0638 - mae: 0.5896 - val_loss: 0.9126 - val_mae: 0.5586\n",
            "Epoch 253/400\n",
            "42/42 [==============================] - 0s 4ms/step - loss: 0.9955 - mae: 0.5609 - val_loss: 0.8897 - val_mae: 0.5261\n",
            "Epoch 254/400\n",
            "42/42 [==============================] - 0s 3ms/step - loss: 0.9009 - mae: 0.5275 - val_loss: 0.8805 - val_mae: 0.5212\n",
            "Epoch 255/400\n",
            "42/42 [==============================] - 0s 3ms/step - loss: 0.9194 - mae: 0.5340 - val_loss: 0.9135 - val_mae: 0.5017\n",
            "Epoch 256/400\n",
            "42/42 [==============================] - 0s 3ms/step - loss: 0.9062 - mae: 0.5231 - val_loss: 0.8778 - val_mae: 0.5337\n",
            "Epoch 257/400\n",
            "42/42 [==============================] - 0s 3ms/step - loss: 0.8438 - mae: 0.5080 - val_loss: 0.8585 - val_mae: 0.5457\n",
            "Epoch 258/400\n",
            "42/42 [==============================] - 0s 3ms/step - loss: 0.8505 - mae: 0.5163 - val_loss: 1.3730 - val_mae: 0.6371\n",
            "Epoch 259/400\n",
            "42/42 [==============================] - 0s 3ms/step - loss: 0.9728 - mae: 0.5601 - val_loss: 1.5989 - val_mae: 0.6691\n",
            "Epoch 260/400\n",
            "42/42 [==============================] - 0s 3ms/step - loss: 0.8723 - mae: 0.5201 - val_loss: 0.8756 - val_mae: 0.5126\n",
            "Epoch 261/400\n",
            "42/42 [==============================] - 0s 3ms/step - loss: 0.9053 - mae: 0.5311 - val_loss: 0.8578 - val_mae: 0.5364\n",
            "Epoch 262/400\n",
            "42/42 [==============================] - 0s 3ms/step - loss: 0.9981 - mae: 0.5671 - val_loss: 2.7178 - val_mae: 0.9458\n",
            "Epoch 263/400\n",
            "42/42 [==============================] - 0s 3ms/step - loss: 1.0934 - mae: 0.5851 - val_loss: 0.9561 - val_mae: 0.4909\n",
            "Epoch 264/400\n",
            "42/42 [==============================] - 0s 3ms/step - loss: 1.0457 - mae: 0.5704 - val_loss: 0.8764 - val_mae: 0.5333\n",
            "Epoch 265/400\n",
            "42/42 [==============================] - 0s 3ms/step - loss: 0.8459 - mae: 0.5176 - val_loss: 1.1404 - val_mae: 0.6517\n",
            "Epoch 266/400\n",
            "42/42 [==============================] - 0s 3ms/step - loss: 0.9224 - mae: 0.5370 - val_loss: 0.8997 - val_mae: 0.5405\n",
            "Epoch 267/400\n",
            "42/42 [==============================] - 0s 3ms/step - loss: 0.8553 - mae: 0.5099 - val_loss: 1.0407 - val_mae: 0.5450\n",
            "Epoch 268/400\n",
            "42/42 [==============================] - 0s 3ms/step - loss: 0.9662 - mae: 0.5499 - val_loss: 0.9161 - val_mae: 0.5339\n",
            "Epoch 269/400\n",
            "42/42 [==============================] - 0s 5ms/step - loss: 0.9875 - mae: 0.5515 - val_loss: 0.9261 - val_mae: 0.4921\n",
            "Epoch 270/400\n",
            "42/42 [==============================] - 0s 4ms/step - loss: 0.9072 - mae: 0.5439 - val_loss: 1.0557 - val_mae: 0.5700\n",
            "Epoch 271/400\n",
            "42/42 [==============================] - 0s 4ms/step - loss: 0.8186 - mae: 0.4955 - val_loss: 0.9379 - val_mae: 0.5695\n",
            "Epoch 272/400\n",
            "42/42 [==============================] - 0s 4ms/step - loss: 0.8354 - mae: 0.5027 - val_loss: 0.8933 - val_mae: 0.5191\n",
            "Epoch 273/400\n",
            "42/42 [==============================] - 0s 3ms/step - loss: 1.0620 - mae: 0.5748 - val_loss: 2.7778 - val_mae: 1.1028\n",
            "Epoch 274/400\n",
            "42/42 [==============================] - 0s 3ms/step - loss: 1.1219 - mae: 0.5930 - val_loss: 0.9432 - val_mae: 0.5697\n",
            "Epoch 275/400\n",
            "42/42 [==============================] - 0s 3ms/step - loss: 1.1233 - mae: 0.5903 - val_loss: 0.9250 - val_mae: 0.5753\n",
            "Epoch 276/400\n",
            "42/42 [==============================] - 0s 3ms/step - loss: 0.8474 - mae: 0.5000 - val_loss: 0.8590 - val_mae: 0.4994\n",
            "Epoch 277/400\n",
            "42/42 [==============================] - 0s 3ms/step - loss: 0.8725 - mae: 0.5158 - val_loss: 0.8974 - val_mae: 0.5362\n",
            "Epoch 278/400\n",
            "42/42 [==============================] - 0s 3ms/step - loss: 0.9162 - mae: 0.5354 - val_loss: 0.9427 - val_mae: 0.5588\n",
            "Epoch 279/400\n",
            "42/42 [==============================] - 0s 3ms/step - loss: 0.9372 - mae: 0.5403 - val_loss: 0.9203 - val_mae: 0.5038\n",
            "Epoch 280/400\n",
            "42/42 [==============================] - 0s 3ms/step - loss: 0.8884 - mae: 0.5246 - val_loss: 0.9728 - val_mae: 0.5976\n",
            "Epoch 281/400\n",
            "42/42 [==============================] - 0s 3ms/step - loss: 0.9408 - mae: 0.5418 - val_loss: 1.0025 - val_mae: 0.5256\n",
            "Epoch 282/400\n",
            "42/42 [==============================] - 0s 3ms/step - loss: 0.9890 - mae: 0.5519 - val_loss: 0.8894 - val_mae: 0.5060\n",
            "Epoch 283/400\n",
            "42/42 [==============================] - 0s 3ms/step - loss: 0.9379 - mae: 0.5401 - val_loss: 1.0929 - val_mae: 0.6426\n",
            "Epoch 284/400\n",
            "42/42 [==============================] - 0s 3ms/step - loss: 1.1131 - mae: 0.5910 - val_loss: 0.8431 - val_mae: 0.5170\n",
            "Epoch 285/400\n",
            "42/42 [==============================] - 0s 3ms/step - loss: 0.8032 - mae: 0.4940 - val_loss: 0.8371 - val_mae: 0.5139\n",
            "Epoch 286/400\n",
            "42/42 [==============================] - 0s 3ms/step - loss: 0.8671 - mae: 0.5076 - val_loss: 0.8450 - val_mae: 0.5134\n",
            "Epoch 287/400\n",
            "42/42 [==============================] - 0s 3ms/step - loss: 0.8263 - mae: 0.4910 - val_loss: 1.6793 - val_mae: 0.8070\n",
            "Epoch 288/400\n",
            "42/42 [==============================] - 0s 3ms/step - loss: 1.0425 - mae: 0.5796 - val_loss: 1.0715 - val_mae: 0.6127\n",
            "Epoch 289/400\n",
            "42/42 [==============================] - 0s 3ms/step - loss: 0.9312 - mae: 0.5329 - val_loss: 0.9696 - val_mae: 0.5752\n",
            "Epoch 290/400\n",
            "42/42 [==============================] - 0s 3ms/step - loss: 1.0511 - mae: 0.5794 - val_loss: 0.8610 - val_mae: 0.5426\n",
            "Epoch 291/400\n",
            "42/42 [==============================] - 0s 4ms/step - loss: 0.8486 - mae: 0.5093 - val_loss: 1.0325 - val_mae: 0.5513\n",
            "Epoch 292/400\n",
            "42/42 [==============================] - 0s 4ms/step - loss: 0.8896 - mae: 0.5166 - val_loss: 0.9182 - val_mae: 0.4782\n",
            "Epoch 293/400\n",
            "42/42 [==============================] - 0s 3ms/step - loss: 0.9484 - mae: 0.5374 - val_loss: 0.8360 - val_mae: 0.5183\n",
            "Epoch 294/400\n",
            "42/42 [==============================] - 0s 3ms/step - loss: 0.9197 - mae: 0.5340 - val_loss: 0.9023 - val_mae: 0.5108\n",
            "Epoch 295/400\n",
            "42/42 [==============================] - 0s 3ms/step - loss: 0.8777 - mae: 0.5125 - val_loss: 1.1844 - val_mae: 0.5507\n",
            "Epoch 296/400\n",
            "42/42 [==============================] - 0s 3ms/step - loss: 0.8515 - mae: 0.5175 - val_loss: 1.8178 - val_mae: 0.6973\n",
            "Epoch 297/400\n",
            "42/42 [==============================] - 0s 3ms/step - loss: 0.9870 - mae: 0.5531 - val_loss: 0.9586 - val_mae: 0.4930\n",
            "Epoch 298/400\n",
            "42/42 [==============================] - 0s 3ms/step - loss: 0.8593 - mae: 0.5128 - val_loss: 0.8452 - val_mae: 0.5141\n",
            "Epoch 299/400\n",
            "42/42 [==============================] - 0s 3ms/step - loss: 0.8519 - mae: 0.5097 - val_loss: 0.8719 - val_mae: 0.5368\n",
            "Epoch 300/400\n",
            "42/42 [==============================] - 0s 3ms/step - loss: 1.0781 - mae: 0.5761 - val_loss: 1.9886 - val_mae: 0.7670\n",
            "Epoch 301/400\n",
            "42/42 [==============================] - 0s 3ms/step - loss: 0.9879 - mae: 0.5571 - val_loss: 0.9269 - val_mae: 0.5776\n",
            "Epoch 302/400\n",
            "42/42 [==============================] - 0s 4ms/step - loss: 1.0191 - mae: 0.5575 - val_loss: 0.8796 - val_mae: 0.5302\n",
            "Epoch 303/400\n",
            "42/42 [==============================] - 0s 3ms/step - loss: 0.8309 - mae: 0.5019 - val_loss: 0.8720 - val_mae: 0.5000\n",
            "Epoch 304/400\n",
            "42/42 [==============================] - 0s 5ms/step - loss: 0.8522 - mae: 0.5056 - val_loss: 1.1175 - val_mae: 0.5668\n",
            "Epoch 305/400\n",
            "42/42 [==============================] - 0s 3ms/step - loss: 0.9862 - mae: 0.5418 - val_loss: 1.1717 - val_mae: 0.5654\n",
            "Epoch 306/400\n",
            "42/42 [==============================] - 0s 3ms/step - loss: 0.8535 - mae: 0.5137 - val_loss: 0.9721 - val_mae: 0.5480\n",
            "Epoch 307/400\n",
            "42/42 [==============================] - 0s 3ms/step - loss: 1.0884 - mae: 0.5747 - val_loss: 2.2212 - val_mae: 0.8357\n",
            "Epoch 308/400\n",
            "42/42 [==============================] - 0s 3ms/step - loss: 1.0142 - mae: 0.5683 - val_loss: 0.8223 - val_mae: 0.5042\n",
            "Epoch 309/400\n",
            "42/42 [==============================] - 0s 3ms/step - loss: 0.8329 - mae: 0.5004 - val_loss: 0.8394 - val_mae: 0.5128\n",
            "Epoch 310/400\n",
            "42/42 [==============================] - 0s 3ms/step - loss: 0.8326 - mae: 0.5002 - val_loss: 0.8651 - val_mae: 0.5161\n",
            "Epoch 311/400\n",
            "42/42 [==============================] - 0s 4ms/step - loss: 0.9031 - mae: 0.5247 - val_loss: 0.9585 - val_mae: 0.4969\n",
            "Epoch 312/400\n",
            "42/42 [==============================] - 0s 3ms/step - loss: 0.8659 - mae: 0.5053 - val_loss: 0.8854 - val_mae: 0.5536\n",
            "Epoch 313/400\n",
            "42/42 [==============================] - 0s 3ms/step - loss: 0.8159 - mae: 0.4962 - val_loss: 1.7975 - val_mae: 0.7155\n",
            "Epoch 314/400\n",
            "42/42 [==============================] - 0s 3ms/step - loss: 1.1397 - mae: 0.5782 - val_loss: 0.8829 - val_mae: 0.5380\n",
            "Epoch 315/400\n",
            "42/42 [==============================] - 0s 3ms/step - loss: 0.8323 - mae: 0.4956 - val_loss: 0.8687 - val_mae: 0.5434\n",
            "Epoch 316/400\n",
            "42/42 [==============================] - 0s 5ms/step - loss: 1.0270 - mae: 0.5702 - val_loss: 0.8902 - val_mae: 0.5290\n",
            "Epoch 317/400\n",
            "42/42 [==============================] - 0s 3ms/step - loss: 0.8534 - mae: 0.5103 - val_loss: 1.1999 - val_mae: 0.6100\n",
            "Epoch 318/400\n",
            "42/42 [==============================] - 0s 3ms/step - loss: 0.8667 - mae: 0.5163 - val_loss: 0.8623 - val_mae: 0.5019\n",
            "Epoch 319/400\n",
            "42/42 [==============================] - 0s 3ms/step - loss: 0.7980 - mae: 0.4934 - val_loss: 0.8707 - val_mae: 0.5373\n",
            "Epoch 320/400\n",
            "42/42 [==============================] - 0s 3ms/step - loss: 0.8908 - mae: 0.5265 - val_loss: 1.0062 - val_mae: 0.5577\n",
            "Epoch 321/400\n",
            "42/42 [==============================] - 0s 3ms/step - loss: 0.7999 - mae: 0.4920 - val_loss: 0.8652 - val_mae: 0.4898\n",
            "Epoch 322/400\n",
            "42/42 [==============================] - 0s 5ms/step - loss: 0.8410 - mae: 0.5093 - val_loss: 1.3698 - val_mae: 0.6005\n",
            "Epoch 323/400\n",
            "42/42 [==============================] - 0s 6ms/step - loss: 1.0879 - mae: 0.5756 - val_loss: 0.8829 - val_mae: 0.5448\n",
            "Epoch 324/400\n",
            "42/42 [==============================] - 0s 3ms/step - loss: 1.1076 - mae: 0.5826 - val_loss: 1.2569 - val_mae: 0.7006\n",
            "Epoch 325/400\n",
            "42/42 [==============================] - 0s 3ms/step - loss: 0.8328 - mae: 0.5095 - val_loss: 0.8688 - val_mae: 0.5010\n",
            "Epoch 326/400\n",
            "42/42 [==============================] - 0s 3ms/step - loss: 0.8049 - mae: 0.4853 - val_loss: 0.8234 - val_mae: 0.5202\n",
            "Epoch 327/400\n",
            "42/42 [==============================] - 0s 4ms/step - loss: 0.8345 - mae: 0.5027 - val_loss: 1.0883 - val_mae: 0.6018\n",
            "Epoch 328/400\n",
            "42/42 [==============================] - 0s 3ms/step - loss: 0.9563 - mae: 0.5357 - val_loss: 1.4288 - val_mae: 0.7456\n",
            "Epoch 329/400\n",
            "42/42 [==============================] - 0s 3ms/step - loss: 1.2337 - mae: 0.6246 - val_loss: 0.8782 - val_mae: 0.4988\n",
            "Epoch 330/400\n",
            "42/42 [==============================] - 0s 3ms/step - loss: 0.8661 - mae: 0.5170 - val_loss: 0.8506 - val_mae: 0.4889\n",
            "Epoch 331/400\n",
            "42/42 [==============================] - 0s 3ms/step - loss: 0.9312 - mae: 0.5297 - val_loss: 1.1283 - val_mae: 0.6597\n",
            "Epoch 332/400\n",
            "42/42 [==============================] - 0s 3ms/step - loss: 1.0410 - mae: 0.5740 - val_loss: 1.1830 - val_mae: 0.6318\n",
            "Epoch 333/400\n",
            "42/42 [==============================] - 0s 3ms/step - loss: 0.8942 - mae: 0.5276 - val_loss: 0.9305 - val_mae: 0.5164\n",
            "Epoch 334/400\n",
            "42/42 [==============================] - 0s 3ms/step - loss: 0.8765 - mae: 0.5147 - val_loss: 0.8148 - val_mae: 0.4946\n",
            "Epoch 335/400\n",
            "42/42 [==============================] - 0s 3ms/step - loss: 0.7895 - mae: 0.4910 - val_loss: 0.8580 - val_mae: 0.5220\n",
            "Epoch 336/400\n",
            "42/42 [==============================] - 0s 4ms/step - loss: 0.9171 - mae: 0.5320 - val_loss: 0.8541 - val_mae: 0.4953\n",
            "Epoch 337/400\n",
            "42/42 [==============================] - 0s 3ms/step - loss: 0.9148 - mae: 0.5204 - val_loss: 0.8610 - val_mae: 0.5246\n",
            "Epoch 338/400\n",
            "42/42 [==============================] - 0s 3ms/step - loss: 1.0320 - mae: 0.5652 - val_loss: 0.9285 - val_mae: 0.5671\n",
            "Epoch 339/400\n",
            "42/42 [==============================] - 0s 5ms/step - loss: 0.8285 - mae: 0.5002 - val_loss: 0.8331 - val_mae: 0.5082\n",
            "Epoch 340/400\n",
            "42/42 [==============================] - 0s 3ms/step - loss: 0.9442 - mae: 0.5529 - val_loss: 1.3139 - val_mae: 0.5821\n",
            "Epoch 341/400\n",
            "42/42 [==============================] - 0s 3ms/step - loss: 1.0163 - mae: 0.5593 - val_loss: 0.8766 - val_mae: 0.5412\n",
            "Epoch 342/400\n",
            "42/42 [==============================] - 0s 3ms/step - loss: 0.9274 - mae: 0.5368 - val_loss: 0.8836 - val_mae: 0.5354\n",
            "Epoch 343/400\n",
            "42/42 [==============================] - 0s 3ms/step - loss: 0.8519 - mae: 0.5052 - val_loss: 0.8811 - val_mae: 0.4926\n",
            "Epoch 344/400\n",
            "42/42 [==============================] - 0s 3ms/step - loss: 0.8993 - mae: 0.5301 - val_loss: 0.8510 - val_mae: 0.5282\n",
            "Epoch 345/400\n",
            "42/42 [==============================] - 0s 3ms/step - loss: 0.8066 - mae: 0.4917 - val_loss: 0.8454 - val_mae: 0.5247\n",
            "Epoch 346/400\n",
            "42/42 [==============================] - 0s 3ms/step - loss: 0.7945 - mae: 0.4997 - val_loss: 0.8590 - val_mae: 0.4872\n",
            "Epoch 347/400\n",
            "42/42 [==============================] - 0s 3ms/step - loss: 0.8226 - mae: 0.5010 - val_loss: 1.3692 - val_mae: 0.6475\n",
            "Epoch 348/400\n",
            "42/42 [==============================] - 0s 3ms/step - loss: 0.9742 - mae: 0.5427 - val_loss: 0.8292 - val_mae: 0.5085\n",
            "Epoch 349/400\n",
            "42/42 [==============================] - 0s 3ms/step - loss: 0.7684 - mae: 0.4767 - val_loss: 0.8168 - val_mae: 0.4974\n",
            "Epoch 350/400\n",
            "42/42 [==============================] - 0s 5ms/step - loss: 0.8395 - mae: 0.5017 - val_loss: 1.0664 - val_mae: 0.5735\n",
            "Epoch 351/400\n",
            "42/42 [==============================] - 0s 3ms/step - loss: 0.8247 - mae: 0.5032 - val_loss: 0.8121 - val_mae: 0.4950\n",
            "Epoch 352/400\n",
            "42/42 [==============================] - 0s 3ms/step - loss: 0.7868 - mae: 0.4900 - val_loss: 1.3419 - val_mae: 0.6005\n",
            "Epoch 353/400\n",
            "42/42 [==============================] - 0s 3ms/step - loss: 1.0572 - mae: 0.5700 - val_loss: 0.8557 - val_mae: 0.5212\n",
            "Epoch 354/400\n",
            "42/42 [==============================] - 0s 7ms/step - loss: 0.8464 - mae: 0.5078 - val_loss: 0.8926 - val_mae: 0.5015\n",
            "Epoch 355/400\n",
            "42/42 [==============================] - 0s 4ms/step - loss: 0.9401 - mae: 0.5269 - val_loss: 0.9590 - val_mae: 0.5593\n",
            "Epoch 356/400\n",
            "42/42 [==============================] - 0s 4ms/step - loss: 0.8942 - mae: 0.5256 - val_loss: 0.9307 - val_mae: 0.5034\n",
            "Epoch 357/400\n",
            "42/42 [==============================] - 0s 3ms/step - loss: 0.8665 - mae: 0.5074 - val_loss: 0.7932 - val_mae: 0.4913\n",
            "Epoch 358/400\n",
            "42/42 [==============================] - 0s 3ms/step - loss: 0.8038 - mae: 0.4984 - val_loss: 1.0071 - val_mae: 0.4771\n",
            "Epoch 359/400\n",
            "42/42 [==============================] - 0s 3ms/step - loss: 0.8087 - mae: 0.4953 - val_loss: 0.9010 - val_mae: 0.4915\n",
            "Epoch 360/400\n",
            "42/42 [==============================] - 0s 3ms/step - loss: 0.8085 - mae: 0.4933 - val_loss: 0.9511 - val_mae: 0.4824\n",
            "Epoch 361/400\n",
            "42/42 [==============================] - 0s 3ms/step - loss: 0.8425 - mae: 0.5036 - val_loss: 0.8510 - val_mae: 0.5307\n",
            "Epoch 362/400\n",
            "42/42 [==============================] - 0s 5ms/step - loss: 0.8546 - mae: 0.5095 - val_loss: 0.7997 - val_mae: 0.5256\n",
            "Epoch 363/400\n",
            "42/42 [==============================] - 0s 3ms/step - loss: 0.7753 - mae: 0.4917 - val_loss: 0.8653 - val_mae: 0.5233\n",
            "Epoch 364/400\n",
            "42/42 [==============================] - 0s 3ms/step - loss: 0.9013 - mae: 0.5244 - val_loss: 0.7878 - val_mae: 0.4913\n",
            "Epoch 365/400\n",
            "42/42 [==============================] - 0s 3ms/step - loss: 0.8298 - mae: 0.5054 - val_loss: 1.1584 - val_mae: 0.5852\n",
            "Epoch 366/400\n",
            "42/42 [==============================] - 0s 3ms/step - loss: 0.7917 - mae: 0.4788 - val_loss: 0.9691 - val_mae: 0.5390\n",
            "Epoch 367/400\n",
            "42/42 [==============================] - 0s 3ms/step - loss: 0.8795 - mae: 0.5204 - val_loss: 1.0235 - val_mae: 0.5907\n",
            "Epoch 368/400\n",
            "42/42 [==============================] - 0s 3ms/step - loss: 0.8202 - mae: 0.5070 - val_loss: 1.1916 - val_mae: 0.5894\n",
            "Epoch 369/400\n",
            "42/42 [==============================] - 0s 3ms/step - loss: 1.0989 - mae: 0.5811 - val_loss: 0.8286 - val_mae: 0.5020\n",
            "Epoch 370/400\n",
            "42/42 [==============================] - 0s 3ms/step - loss: 0.7847 - mae: 0.4838 - val_loss: 0.8661 - val_mae: 0.4891\n",
            "Epoch 371/400\n",
            "42/42 [==============================] - 0s 3ms/step - loss: 0.8918 - mae: 0.5183 - val_loss: 0.8140 - val_mae: 0.4836\n",
            "Epoch 372/400\n",
            "42/42 [==============================] - 0s 3ms/step - loss: 0.8025 - mae: 0.4900 - val_loss: 0.8900 - val_mae: 0.5535\n",
            "Epoch 373/400\n",
            "42/42 [==============================] - 0s 3ms/step - loss: 0.8376 - mae: 0.5057 - val_loss: 0.8415 - val_mae: 0.5417\n",
            "Epoch 374/400\n",
            "42/42 [==============================] - 0s 5ms/step - loss: 0.8163 - mae: 0.5057 - val_loss: 0.8226 - val_mae: 0.4827\n",
            "Epoch 375/400\n",
            "42/42 [==============================] - 0s 3ms/step - loss: 0.7559 - mae: 0.4583 - val_loss: 1.1684 - val_mae: 0.6646\n",
            "Epoch 376/400\n",
            "42/42 [==============================] - 0s 3ms/step - loss: 1.1844 - mae: 0.6152 - val_loss: 1.0331 - val_mae: 0.6277\n",
            "Epoch 377/400\n",
            "42/42 [==============================] - 0s 4ms/step - loss: 0.9025 - mae: 0.5301 - val_loss: 0.7865 - val_mae: 0.4876\n",
            "Epoch 378/400\n",
            "42/42 [==============================] - 0s 3ms/step - loss: 0.9156 - mae: 0.5311 - val_loss: 1.5706 - val_mae: 0.6521\n",
            "Epoch 379/400\n",
            "42/42 [==============================] - 0s 3ms/step - loss: 0.8919 - mae: 0.5251 - val_loss: 0.7809 - val_mae: 0.4851\n",
            "Epoch 380/400\n",
            "42/42 [==============================] - 0s 3ms/step - loss: 0.8296 - mae: 0.5002 - val_loss: 0.7898 - val_mae: 0.4829\n",
            "Epoch 381/400\n",
            "42/42 [==============================] - 0s 3ms/step - loss: 0.9189 - mae: 0.5319 - val_loss: 1.0526 - val_mae: 0.5441\n",
            "Epoch 382/400\n",
            "42/42 [==============================] - 0s 3ms/step - loss: 1.0432 - mae: 0.5726 - val_loss: 0.8125 - val_mae: 0.5076\n",
            "Epoch 383/400\n",
            "42/42 [==============================] - 0s 3ms/step - loss: 0.9044 - mae: 0.5223 - val_loss: 0.9607 - val_mae: 0.5703\n",
            "Epoch 384/400\n",
            "42/42 [==============================] - 0s 3ms/step - loss: 0.8260 - mae: 0.4997 - val_loss: 0.7892 - val_mae: 0.4882\n",
            "Epoch 385/400\n",
            "42/42 [==============================] - 0s 3ms/step - loss: 0.9234 - mae: 0.5401 - val_loss: 0.8719 - val_mae: 0.5130\n",
            "Epoch 386/400\n",
            "42/42 [==============================] - 0s 5ms/step - loss: 0.8649 - mae: 0.5090 - val_loss: 0.8230 - val_mae: 0.5175\n",
            "Epoch 387/400\n",
            "42/42 [==============================] - 0s 3ms/step - loss: 0.9632 - mae: 0.5299 - val_loss: 0.7663 - val_mae: 0.4950\n",
            "Epoch 388/400\n",
            "42/42 [==============================] - 0s 3ms/step - loss: 0.8023 - mae: 0.4942 - val_loss: 0.7747 - val_mae: 0.5012\n",
            "Epoch 389/400\n",
            "42/42 [==============================] - 0s 3ms/step - loss: 0.7379 - mae: 0.4675 - val_loss: 0.8284 - val_mae: 0.4694\n",
            "Epoch 390/400\n",
            "42/42 [==============================] - 0s 6ms/step - loss: 0.7751 - mae: 0.4792 - val_loss: 0.7725 - val_mae: 0.4993\n",
            "Epoch 391/400\n",
            "42/42 [==============================] - 0s 4ms/step - loss: 0.7960 - mae: 0.4829 - val_loss: 0.7905 - val_mae: 0.5403\n",
            "Epoch 392/400\n",
            "42/42 [==============================] - 0s 3ms/step - loss: 0.8281 - mae: 0.5096 - val_loss: 0.7816 - val_mae: 0.4825\n",
            "Epoch 393/400\n",
            "42/42 [==============================] - 0s 3ms/step - loss: 0.8676 - mae: 0.5205 - val_loss: 1.0840 - val_mae: 0.4836\n",
            "Epoch 394/400\n",
            "42/42 [==============================] - 0s 3ms/step - loss: 0.8210 - mae: 0.4943 - val_loss: 0.7840 - val_mae: 0.4887\n",
            "Epoch 395/400\n",
            "42/42 [==============================] - 0s 4ms/step - loss: 0.9519 - mae: 0.5367 - val_loss: 0.8706 - val_mae: 0.5248\n",
            "Epoch 396/400\n",
            "42/42 [==============================] - 0s 5ms/step - loss: 0.8247 - mae: 0.4977 - val_loss: 1.1020 - val_mae: 0.6415\n",
            "Epoch 397/400\n",
            "42/42 [==============================] - 0s 4ms/step - loss: 1.0224 - mae: 0.5564 - val_loss: 1.0703 - val_mae: 0.5910\n",
            "Epoch 398/400\n",
            "42/42 [==============================] - 0s 4ms/step - loss: 0.7681 - mae: 0.4825 - val_loss: 0.8395 - val_mae: 0.5125\n",
            "Epoch 399/400\n",
            "42/42 [==============================] - 0s 4ms/step - loss: 0.8239 - mae: 0.4983 - val_loss: 0.9072 - val_mae: 0.4728\n",
            "Epoch 400/400\n",
            "42/42 [==============================] - 0s 3ms/step - loss: 0.7578 - mae: 0.4676 - val_loss: 0.8479 - val_mae: 0.5443\n"
          ]
        }
      ],
      "source": [
        "hist = model.fit(\n",
        "    X_train, Y_train,\n",
        "    batch_size=32,\n",
        "    epochs = 400,\n",
        "    validation_data=(X_val, Y_val)\n",
        ")"
      ]
    },
    {
      "cell_type": "code",
      "execution_count": 149,
      "metadata": {
        "colab": {
          "base_uri": "https://localhost:8080/"
        },
        "id": "ckbXAviyCLa_",
        "outputId": "82dc096e-2aeb-4471-8ba1-f7e95f3254e2"
      },
      "outputs": [
        {
          "name": "stdout",
          "output_type": "stream",
          "text": [
            "6/6 [==============================] - 0s 3ms/step - loss: 0.7824 - mae: 0.5067\n"
          ]
        },
        {
          "data": {
            "text/plain": [
              "[0.7824479341506958, 0.5067492723464966]"
            ]
          },
          "execution_count": 149,
          "metadata": {},
          "output_type": "execute_result"
        }
      ],
      "source": [
        "model.evaluate(X_test, Y_test)"
      ]
    },
    {
      "cell_type": "code",
      "execution_count": 150,
      "metadata": {
        "colab": {
          "base_uri": "https://localhost:8080/"
        },
        "id": "OzalqdGSCLa_",
        "outputId": "41fc5435-21b4-43ac-951f-91928d5d20a2"
      },
      "outputs": [
        {
          "name": "stdout",
          "output_type": "stream",
          "text": [
            "6/6 [==============================] - 0s 3ms/step - loss: 0.7824 - mae: 0.5067\n",
            "Test loss: 0.782, Test MAE: 0.507\n"
          ]
        }
      ],
      "source": [
        "# Evaluate the model on the test set\n",
        "test_loss, test_mae = model.evaluate(X_test, Y_test)\n",
        "print(f\"Test loss: {test_loss:.3f}, Test MAE: {test_mae:.3f}\")"
      ]
    },
    {
      "cell_type": "code",
      "execution_count": 151,
      "metadata": {
        "colab": {
          "base_uri": "https://localhost:8080/",
          "height": 265
        },
        "id": "0Vwz9W0OCLa_",
        "outputId": "b0d65d85-c9ba-4835-9b11-4f6abdb4dafc"
      },
      "outputs": [
        {
          "data": {
            "image/png": "[encoded data removed]",
            "text/plain": [
              "<Figure size 640x480 with 1 Axes>"
            ]
          },
          "metadata": {},
          "output_type": "display_data"
        }
      ],
      "source": [
        "plt.plot(hist.history['loss'], label='Training Loss')\n",
        "plt.plot(hist.history['val_loss'], label='Validation Loss')\n",
        "plt.legend()\n",
        "plt.show()"
      ]
    },
    {
      "cell_type": "code",
      "execution_count": 152,
      "metadata": {},
      "outputs": [
        {
          "name": "stdout",
          "output_type": "stream",
          "text": [
            "Training accuracy: 0.5324456989765167\n"
          ]
        }
      ],
      "source": [
        "train_accuracy = 1 - hist.history['mae'][-1]\n",
        "print(f\"Training accuracy: {train_accuracy}\")"
      ]
    },
    {
      "cell_type": "code",
      "execution_count": 153,
      "metadata": {},
      "outputs": [
        {
          "name": "stdout",
          "output_type": "stream",
          "text": [
            "Generate a prediction\n",
            "6/6 [==============================] - 0s 2ms/step\n",
            "Prediction:  [[37.880272  ]\n",
            " [ 0.4541909 ]\n",
            " [73.602936  ]\n",
            " [ 0.46498567]\n",
            " [36.11752   ]\n",
            " [ 0.47330797]\n",
            " [35.75852   ]\n",
            " [ 0.57411873]\n",
            " [37.66949   ]\n",
            " [ 0.44981754]]\n"
          ]
        }
      ],
      "source": [
        "print(\"Generate a prediction\")\n",
        "prediction = model.predict(X_test)\n",
        "print(\"Prediction: \", prediction[:10])"
      ]
    },
    {
      "cell_type": "code",
      "execution_count": 154,
      "metadata": {},
      "outputs": [
        {
          "data": {
            "text/plain": [
              "array([[37.8783219],\n",
              "       [ 0.4070453],\n",
              "       [75.4566867],\n",
              "       [ 0.4084044],\n",
              "       [35.5847451],\n",
              "       [ 0.4059722],\n",
              "       [35.5261352],\n",
              "       [ 0.5716702],\n",
              "       [38.1130453],\n",
              "       [ 0.5739932]])"
            ]
          },
          "execution_count": 154,
          "metadata": {},
          "output_type": "execute_result"
        }
      ],
      "source": [
        "np.array(Y_test[:10])"
      ]
    }
  ],
  "metadata": {
    "colab": {
      "provenance": []
    },
    "kernelspec": {
      "display_name": "Python 3",
      "language": "python",
      "name": "python3"
    },
    "language_info": {
      "codemirror_mode": {
        "name": "ipython",
        "version": 3
      },
      "file_extension": ".py",
      "mimetype": "text/x-python",
      "name": "python",
      "nbconvert_exporter": "python",
      "pygments_lexer": "ipython3",
      "version": "3.10.11"
    },
    "orig_nbformat": 4,
    "vscode": {
      "interpreter": {
        "hash": "e3366052fba0b408e38a60964d7840cd801166c0994366f8aa1eea234ba6f411"
      }
    }
  },
  "nbformat": 4,
  "nbformat_minor": 0
}
