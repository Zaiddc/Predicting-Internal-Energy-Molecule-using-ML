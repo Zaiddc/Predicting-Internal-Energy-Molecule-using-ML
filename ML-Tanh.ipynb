{
  "cells": [
    {
      "cell_type": "code",
      "execution_count": 44,
      "metadata": {
        "id": "Kk9tj1UUCLa7"
      },
      "outputs": [],
      "source": [
        "#Youtube: https://www.youtube.com/watch?v=vSzou5zRwNQ&ab_channel=ComputerScience"
      ]
    },
    {
      "cell_type": "code",
      "execution_count": 45,
      "metadata": {
        "id": "O_oE-LUjCLa8"
      },
      "outputs": [],
      "source": [
        "import pandas as pd\n",
        "import numpy as np\n",
        "import seaborn as sns\n",
        "import matplotlib.pyplot as plt\n"
      ]
    },
    {
      "cell_type": "code",
      "execution_count": 46,
      "metadata": {
        "id": "L-4kesSxCLa9"
      },
      "outputs": [],
      "source": [
        "Data = pd.read_csv('fulldata.csv')"
      ]
    },
    {
      "cell_type": "code",
      "execution_count": 47,
      "metadata": {
        "colab": {
          "base_uri": "https://localhost:8080/"
        },
        "id": "bT4JqsPMCLa9",
        "outputId": "a1f313a2-e214-437f-864f-8ed3a1459632"
      },
      "outputs": [
        {
          "data": {
            "text/plain": [
              "<bound method NDFrame.head of                           name     energy   diag      pca1      pca2      pca3\n",
              "0           acetaldehyde_0_015  38.145186  0.378  0.842622 -0.531091  0.067095\n",
              "1           acetaldehyde_0_015   0.573634  0.005  0.463136  0.636858 -0.534280\n",
              "2           acetaldehyde_0_015   0.580474  0.005  0.264667  0.540074  0.553770\n",
              "3           acetaldehyde_0_015  37.980501  0.378  0.029347  0.105040  0.245169\n",
              "4           acetaldehyde_0_015  75.370940  0.754  0.044385  0.049707  0.439767\n",
              "...                        ...        ...    ...       ...       ...       ...\n",
              "189483  vinylacetate_occscan_9  38.019840  0.378  0.036313  0.040589 -0.055911\n",
              "189484  vinylacetate_occscan_9  38.121546  0.378  0.033934  0.041472 -0.123830\n",
              "189485  vinylacetate_occscan_9   0.574945  0.005  0.028167 -0.001278 -0.029696\n",
              "189486  vinylacetate_occscan_9   0.577973  0.005  0.024077  0.006063 -0.010935\n",
              "189487  vinylacetate_occscan_9   0.577448  0.005  0.021231 -0.002702 -0.014683\n",
              "\n",
              "[189488 rows x 6 columns]>"
            ]
          },
          "execution_count": 47,
          "metadata": {},
          "output_type": "execute_result"
        }
      ],
      "source": [
        "Data.head"
      ]
    },
    {
      "cell_type": "code",
      "execution_count": 48,
      "metadata": {
        "colab": {
          "base_uri": "https://localhost:8080/",
          "height": 441
        },
        "id": "6XGxzn7ACLa9",
        "outputId": "ae5af16a-ed1b-46d5-abe3-7200cbf115b7"
      },
      "outputs": [
        {
          "name": "stdout",
          "output_type": "stream",
          "text": [
            "<class 'pandas.core.frame.DataFrame'>\n",
            "RangeIndex: 189488 entries, 0 to 189487\n",
            "Data columns (total 6 columns):\n",
            " #   Column  Non-Null Count   Dtype  \n",
            "---  ------  --------------   -----  \n",
            " 0   name    189488 non-null  object \n",
            " 1   energy  189488 non-null  float64\n",
            " 2   diag    189488 non-null  float64\n",
            " 3   pca1    189488 non-null  float64\n",
            " 4   pca2    189488 non-null  float64\n",
            " 5   pca3    189488 non-null  float64\n",
            "dtypes: float64(5), object(1)\n",
            "memory usage: 8.7+ MB\n"
          ]
        },
        {
          "data": {
            "text/html": [
              "<div>\n",
              "<style scoped>\n",
              "    .dataframe tbody tr th:only-of-type {\n",
              "        vertical-align: middle;\n",
              "    }\n",
              "\n",
              "    .dataframe tbody tr th {\n",
              "        vertical-align: top;\n",
              "    }\n",
              "\n",
              "    .dataframe thead th {\n",
              "        text-align: right;\n",
              "    }\n",
              "</style>\n",
              "<table border=\"1\" class=\"dataframe\">\n",
              "  <thead>\n",
              "    <tr style=\"text-align: right;\">\n",
              "      <th></th>\n",
              "      <th>count</th>\n",
              "      <th>mean</th>\n",
              "      <th>std</th>\n",
              "      <th>min</th>\n",
              "      <th>25%</th>\n",
              "      <th>50%</th>\n",
              "      <th>75%</th>\n",
              "      <th>max</th>\n",
              "    </tr>\n",
              "  </thead>\n",
              "  <tbody>\n",
              "    <tr>\n",
              "      <th>energy</th>\n",
              "      <td>189488.0</td>\n",
              "      <td>23.224939</td>\n",
              "      <td>24.828596</td>\n",
              "      <td>0.280758</td>\n",
              "      <td>0.578519</td>\n",
              "      <td>35.489707</td>\n",
              "      <td>38.119598</td>\n",
              "      <td>99.991317</td>\n",
              "    </tr>\n",
              "    <tr>\n",
              "      <th>diag</th>\n",
              "      <td>189488.0</td>\n",
              "      <td>0.233942</td>\n",
              "      <td>0.251381</td>\n",
              "      <td>0.005000</td>\n",
              "      <td>0.005000</td>\n",
              "      <td>0.378000</td>\n",
              "      <td>0.378000</td>\n",
              "      <td>1.000000</td>\n",
              "    </tr>\n",
              "    <tr>\n",
              "      <th>pca1</th>\n",
              "      <td>189488.0</td>\n",
              "      <td>0.126102</td>\n",
              "      <td>0.193949</td>\n",
              "      <td>-0.878344</td>\n",
              "      <td>0.023608</td>\n",
              "      <td>0.057811</td>\n",
              "      <td>0.193317</td>\n",
              "      <td>0.996973</td>\n",
              "    </tr>\n",
              "    <tr>\n",
              "      <th>pca2</th>\n",
              "      <td>189488.0</td>\n",
              "      <td>0.053110</td>\n",
              "      <td>0.225161</td>\n",
              "      <td>-0.983825</td>\n",
              "      <td>-0.010437</td>\n",
              "      <td>0.022784</td>\n",
              "      <td>0.175336</td>\n",
              "      <td>0.979041</td>\n",
              "    </tr>\n",
              "    <tr>\n",
              "      <th>pca3</th>\n",
              "      <td>189488.0</td>\n",
              "      <td>-0.000552</td>\n",
              "      <td>0.231339</td>\n",
              "      <td>-0.960883</td>\n",
              "      <td>-0.062514</td>\n",
              "      <td>0.008743</td>\n",
              "      <td>0.097253</td>\n",
              "      <td>0.981669</td>\n",
              "    </tr>\n",
              "  </tbody>\n",
              "</table>\n",
              "</div>"
            ],
            "text/plain": [
              "           count       mean        std       min       25%        50%  \\\n",
              "energy  189488.0  23.224939  24.828596  0.280758  0.578519  35.489707   \n",
              "diag    189488.0   0.233942   0.251381  0.005000  0.005000   0.378000   \n",
              "pca1    189488.0   0.126102   0.193949 -0.878344  0.023608   0.057811   \n",
              "pca2    189488.0   0.053110   0.225161 -0.983825 -0.010437   0.022784   \n",
              "pca3    189488.0  -0.000552   0.231339 -0.960883 -0.062514   0.008743   \n",
              "\n",
              "              75%        max  \n",
              "energy  38.119598  99.991317  \n",
              "diag     0.378000   1.000000  \n",
              "pca1     0.193317   0.996973  \n",
              "pca2     0.175336   0.979041  \n",
              "pca3     0.097253   0.981669  "
            ]
          },
          "execution_count": 48,
          "metadata": {},
          "output_type": "execute_result"
        }
      ],
      "source": [
        "Data.info()\n",
        "Data.describe().transpose()"
      ]
    },
    {
      "cell_type": "code",
      "execution_count": 49,
      "metadata": {
        "colab": {
          "base_uri": "https://localhost:8080/"
        },
        "id": "JyOcbwMoCLa9",
        "outputId": "807216a1-facf-49fd-9cce-a0e8fb0a9b7a"
      },
      "outputs": [
        {
          "data": {
            "text/plain": [
              "name      0\n",
              "energy    0\n",
              "diag      0\n",
              "pca1      0\n",
              "pca2      0\n",
              "pca3      0\n",
              "dtype: int64"
            ]
          },
          "execution_count": 49,
          "metadata": {},
          "output_type": "execute_result"
        }
      ],
      "source": [
        "null_counts = Data.isna().sum()\n",
        "null_counts"
      ]
    },
    {
      "cell_type": "code",
      "execution_count": 50,
      "metadata": {
        "colab": {
          "base_uri": "https://localhost:8080/",
          "height": 284
        },
        "id": "URX1FRPsCLa-",
        "outputId": "6730a52b-5d8e-4d03-9cf5-f05199906924"
      },
      "outputs": [
        {
          "data": {
            "text/plain": [
              "<AxesSubplot: >"
            ]
          },
          "execution_count": 50,
          "metadata": {},
          "output_type": "execute_result"
        },
        {
          "data": {
            "image/png": "[encoded data removed]",
            "text/plain": [
              "<Figure size 640x480 with 1 Axes>"
            ]
          },
          "metadata": {},
          "output_type": "display_data"
        }
      ],
      "source": [
        "features = ['energy','diag','pca1', 'pca2', 'pca3']\n",
        "Data.boxplot(features)\n"
      ]
    },
    {
      "cell_type": "code",
      "execution_count": 51,
      "metadata": {},
      "outputs": [
        {
          "data": {
            "text/plain": [
              "<AxesSubplot: >"
            ]
          },
          "execution_count": 51,
          "metadata": {},
          "output_type": "execute_result"
        },
        {
          "data": {
            "image/png": "[encoded data removed]",
            "text/plain": [
              "<Figure size 640x480 with 1 Axes>"
            ]
          },
          "metadata": {},
          "output_type": "display_data"
        }
      ],
      "source": [
        "features = ['diag','pca1', 'pca2', 'pca3']\n",
        "Data.boxplot(features)\n"
      ]
    },
    {
      "cell_type": "code",
      "execution_count": 52,
      "metadata": {},
      "outputs": [
        {
          "data": {
            "text/plain": [
              "<AxesSubplot: >"
            ]
          },
          "execution_count": 52,
          "metadata": {},
          "output_type": "execute_result"
        },
        {
          "data": {
            "image/png": "[encoded data removed]",
            "text/plain": [
              "<Figure size 640x480 with 1 Axes>"
            ]
          },
          "metadata": {},
          "output_type": "display_data"
        }
      ],
      "source": [
        "features = ['pca1', 'pca2', 'pca3']\n",
        "Data.boxplot(features)\n"
      ]
    },
    {
      "cell_type": "code",
      "execution_count": 53,
      "metadata": {
        "id": "7LWenBCgCLa-"
      },
      "outputs": [],
      "source": [
        "selected_features = ['diag','pca1','pca2','pca3']\n",
        "X = Data[selected_features]"
      ]
    },
    {
      "cell_type": "code",
      "execution_count": 54,
      "metadata": {},
      "outputs": [],
      "source": [
        "selected_features = ['diag', 'pca1', 'pca2', 'pca3']\n",
        "Data['count'] = Data.groupby('name')['name'].transform('count')\n",
        "bins = [0, 13, 20, float(\"inf\")]\n",
        "labels = ['0-13', '14-20', '20+']\n",
        "Data['Bin'] = pd.cut(Data['count'], bins=bins, labels=labels)\n",
        "\n",
        "X = Data[selected_features + ['Bin']]  # Include 'Bin' column\n",
        "X = pd.get_dummies(X, columns=['Bin'])"
      ]
    },
    {
      "cell_type": "code",
      "execution_count": 55,
      "metadata": {
        "id": "j0_yhEPcCLa-"
      },
      "outputs": [],
      "source": [
        "target =  ['energy']\n",
        "y = Data[target]"
      ]
    },
    {
      "cell_type": "code",
      "execution_count": 56,
      "metadata": {
        "colab": {
          "base_uri": "https://localhost:8080/"
        },
        "id": "_N_f-MxyCLa-",
        "outputId": "656a2773-e7e0-471c-c436-cd1176a02994"
      },
      "outputs": [
        {
          "data": {
            "text/plain": [
              "array([[ 0.378     ,  0.84518036, -0.53982263, ...,  1.        ,\n",
              "         0.        ,  0.        ],\n",
              "       [ 0.005     ,  0.46454217,  0.64732854, ...,  1.        ,\n",
              "         0.        ,  0.        ],\n",
              "       [ 0.005     ,  0.26547058,  0.54895332, ...,  1.        ,\n",
              "         0.        ,  0.        ],\n",
              "       ...,\n",
              "       [ 0.005     ,  0.02825252, -0.00129901, ...,  1.        ,\n",
              "         0.        ,  0.        ],\n",
              "       [ 0.005     ,  0.0241501 ,  0.00616268, ...,  1.        ,\n",
              "         0.        ,  0.        ],\n",
              "       [ 0.005     ,  0.02129546, -0.00274642, ...,  1.        ,\n",
              "         0.        ,  0.        ]])"
            ]
          },
          "execution_count": 56,
          "metadata": {},
          "output_type": "execute_result"
        }
      ],
      "source": [
        "from sklearn.preprocessing import MaxAbsScaler\n",
        "\n",
        "max_abs_scaler = MaxAbsScaler()\n",
        "X_scale = max_abs_scaler.fit_transform(X)\n",
        "X_scale"
      ]
    },
    {
      "cell_type": "code",
      "execution_count": 57,
      "metadata": {
        "id": "kkmh5Z-4CLa-"
      },
      "outputs": [],
      "source": [
        "from keras.models import Sequential\n",
        "from keras.layers import Dense, Dropout\n",
        "from keras.layers.reshaping.flatten import Flatten\n",
        "from sklearn.model_selection import train_test_split"
      ]
    },
    {
      "cell_type": "code",
      "execution_count": 58,
      "metadata": {},
      "outputs": [
        {
          "name": "stdout",
          "output_type": "stream",
          "text": [
            "(132641, 7) (38087, 7) (18760, 7) (132641, 1) (38087, 1) (18760, 1)\n"
          ]
        }
      ],
      "source": [
        "# import necessary libraries\n",
        "from sklearn.model_selection import train_test_split\n",
        "\n",
        "\n",
        "X_train, X_temp, Y_train, Y_temp = train_test_split(X_scale, y, test_size=0.3, random_state=42)\n",
        "X_val, X_test, Y_val, Y_test = train_test_split(X_temp, Y_temp, test_size=0.33, random_state=42)\n",
        "\n",
        "print(X_train.shape, X_val.shape, X_test.shape, Y_train.shape, Y_val.shape, Y_test.shape)\n"
      ]
    },
    {
      "cell_type": "code",
      "execution_count": 59,
      "metadata": {},
      "outputs": [
        {
          "name": "stdout",
          "output_type": "stream",
          "text": [
            "(132641, 7) (38087, 7) (18760, 7) (132641, 1) (38087, 1) (18760, 1)\n"
          ]
        }
      ],
      "source": [
        "#ChatGPT\n",
        "from sklearn.model_selection import train_test_split\n",
        "\n",
        "# Split data into training and combined validation/testing sets\n",
        "X_train, X_val_and_test, Y_train, Y_val_and_test = train_test_split(X_scale, y, test_size=0.3, random_state=42)\n",
        "\n",
        "# Split combined validation/testing set into separate validation and testing sets\n",
        "X_val, X_test, Y_val, Y_test = train_test_split(X_val_and_test, Y_val_and_test, test_size=0.33, random_state=42)\n",
        "\n",
        "# Print shapes of all sets\n",
        "print(X_train.shape, X_val.shape, X_test.shape, Y_train.shape, Y_val.shape, Y_test.shape)\n"
      ]
    },
    {
      "cell_type": "code",
      "execution_count": 60,
      "metadata": {
        "colab": {
          "base_uri": "https://localhost:8080/"
        },
        "id": "VSODuv4fCLa-",
        "outputId": "5235acd5-c55c-4048-bb44-9a8ca2414c22"
      },
      "outputs": [],
      "source": [
        "# X_train, X_val_and_test, Y_train, Y_val_and_test = train_test_split(X_scale, y, test_size=0.2)\n",
        "# X_val, X_test, Y_val, Y_test = train_test_split(X_val_and_test, Y_val_and_test, test_size=0.5)\n",
        "# print(X_train.shape, X_val.shape, X_test.shape, Y_train.shape, Y_val.shape, Y_test.shape)"
      ]
    },
    {
      "cell_type": "code",
      "execution_count": 61,
      "metadata": {
        "id": "yWCPJ_0oCLa_"
      },
      "outputs": [],
      "source": [
        "# model = Sequential()\n",
        "# model.add(Dense(units = 48, input_dim = 4, activation = 'relu'))\n",
        "# model.add(Dense(units = 48, activation='relu'))\n",
        "# model.add(Dense(units = 32, activation='relu'))\n",
        "# model.add(Dense(units = 32, activation='relu'))\n",
        "# model.add(Flatten())\n",
        "# model.add(Dense(units = 1))"
      ]
    },
    {
      "cell_type": "code",
      "execution_count": 62,
      "metadata": {},
      "outputs": [],
      "source": [
        "model = Sequential()\n",
        "model.add(Dense(units = 172, input_dim = 7))\n",
        "model.add(Dense(units = 183, activation='tanh'))\n",
        "model.add(Dense(units = 92, activation='tanh'))\n",
        "model.add(Dense(units = 89, activation='tanh'))\n",
        "model.add(Dense(units = 16, activation='tanh')) \n",
        "model.add(Flatten())\n",
        "model.add(Dense(units = 1))"
      ]
    },
    {
      "cell_type": "code",
      "execution_count": 63,
      "metadata": {
        "id": "_us0dno3CLa_"
      },
      "outputs": [],
      "source": [
        "model.compile(optimizer='adam', loss='mse', metrics=['mae'])\n"
      ]
    },
    {
      "cell_type": "code",
      "execution_count": 64,
      "metadata": {
        "colab": {
          "base_uri": "https://localhost:8080/"
        },
        "id": "7cFYs4YfCLa_",
        "outputId": "5fe6fb34-8498-4afa-8b2d-3243aabcf707"
      },
      "outputs": [
        {
          "name": "stdout",
          "output_type": "stream",
          "text": [
            "Epoch 1/200\n",
            "4146/4146 [==============================] - 12s 3ms/step - loss: 305.3364 - mae: 8.9817 - val_loss: 111.6835 - val_mae: 3.6240\n",
            "Epoch 2/200\n",
            "4146/4146 [==============================] - 11s 3ms/step - loss: 38.6076 - mae: 1.9220 - val_loss: 7.3851 - val_mae: 0.7624\n",
            "Epoch 3/200\n",
            "4146/4146 [==============================] - 12s 3ms/step - loss: 2.7417 - mae: 0.5893 - val_loss: 0.6052 - val_mae: 0.4789\n",
            "Epoch 4/200\n",
            "4146/4146 [==============================] - 11s 3ms/step - loss: 1.1169 - mae: 0.4766 - val_loss: 0.6433 - val_mae: 0.5453\n",
            "Epoch 5/200\n",
            "4146/4146 [==============================] - 11s 3ms/step - loss: 1.2051 - mae: 0.4862 - val_loss: 0.6054 - val_mae: 0.5291\n",
            "Epoch 6/200\n",
            "4146/4146 [==============================] - 11s 3ms/step - loss: 0.6447 - mae: 0.4243 - val_loss: 0.4853 - val_mae: 0.3776\n",
            "Epoch 7/200\n",
            "4146/4146 [==============================] - 11s 3ms/step - loss: 0.7264 - mae: 0.4312 - val_loss: 0.4936 - val_mae: 0.4101\n",
            "Epoch 8/200\n",
            "4146/4146 [==============================] - 12s 3ms/step - loss: 0.8817 - mae: 0.4412 - val_loss: 0.4895 - val_mae: 0.3536\n",
            "Epoch 9/200\n",
            "4146/4146 [==============================] - 11s 3ms/step - loss: 0.4700 - mae: 0.3915 - val_loss: 0.4904 - val_mae: 0.4856\n",
            "Epoch 10/200\n",
            "4146/4146 [==============================] - 11s 3ms/step - loss: 1.7635 - mae: 0.5274 - val_loss: 0.5269 - val_mae: 0.3932\n",
            "Epoch 11/200\n",
            "4146/4146 [==============================] - 11s 3ms/step - loss: 0.7039 - mae: 0.4167 - val_loss: 0.4730 - val_mae: 0.3567\n",
            "Epoch 12/200\n",
            "4146/4146 [==============================] - 11s 3ms/step - loss: 0.4908 - mae: 0.3946 - val_loss: 0.5426 - val_mae: 0.3575\n",
            "Epoch 13/200\n",
            "4146/4146 [==============================] - 11s 3ms/step - loss: 0.6803 - mae: 0.4090 - val_loss: 0.5919 - val_mae: 0.4337\n",
            "Epoch 14/200\n",
            "4146/4146 [==============================] - 12s 3ms/step - loss: 0.4928 - mae: 0.3803 - val_loss: 0.4761 - val_mae: 0.3562\n",
            "Epoch 15/200\n",
            "4146/4146 [==============================] - 11s 3ms/step - loss: 0.4465 - mae: 0.3740 - val_loss: 0.3979 - val_mae: 0.3336\n",
            "Epoch 16/200\n",
            "4146/4146 [==============================] - 11s 3ms/step - loss: 1.4182 - mae: 0.4652 - val_loss: 4.2281 - val_mae: 0.6567\n",
            "Epoch 17/200\n",
            "4146/4146 [==============================] - 11s 3ms/step - loss: 0.9657 - mae: 0.4297 - val_loss: 0.5026 - val_mae: 0.3501\n",
            "Epoch 18/200\n",
            "4146/4146 [==============================] - 11s 3ms/step - loss: 0.5291 - mae: 0.3601 - val_loss: 0.3483 - val_mae: 0.3452\n",
            "Epoch 19/200\n",
            "4146/4146 [==============================] - 12s 3ms/step - loss: 0.3704 - mae: 0.3092 - val_loss: 0.5333 - val_mae: 0.4456\n",
            "Epoch 20/200\n",
            "4146/4146 [==============================] - 12s 3ms/step - loss: 0.4652 - mae: 0.3657 - val_loss: 0.3992 - val_mae: 0.3533\n",
            "Epoch 21/200\n",
            "4146/4146 [==============================] - 12s 3ms/step - loss: 0.8389 - mae: 0.3757 - val_loss: 0.3893 - val_mae: 0.3257\n",
            "Epoch 22/200\n",
            "4146/4146 [==============================] - 11s 3ms/step - loss: 0.4035 - mae: 0.3221 - val_loss: 0.3855 - val_mae: 0.3058\n",
            "Epoch 23/200\n",
            "4146/4146 [==============================] - 13s 3ms/step - loss: 0.3801 - mae: 0.3119 - val_loss: 0.3398 - val_mae: 0.2975\n",
            "Epoch 24/200\n",
            "4146/4146 [==============================] - 13s 3ms/step - loss: 0.3212 - mae: 0.2803 - val_loss: 0.2860 - val_mae: 0.2611\n",
            "Epoch 25/200\n",
            "4146/4146 [==============================] - 12s 3ms/step - loss: 0.7316 - mae: 0.3463 - val_loss: 0.2733 - val_mae: 0.2588\n",
            "Epoch 26/200\n",
            "4146/4146 [==============================] - 12s 3ms/step - loss: 0.2965 - mae: 0.2839 - val_loss: 0.3012 - val_mae: 0.2938\n",
            "Epoch 27/200\n",
            "4146/4146 [==============================] - 12s 3ms/step - loss: 0.3416 - mae: 0.2848 - val_loss: 0.2947 - val_mae: 0.2599\n",
            "Epoch 28/200\n",
            "4146/4146 [==============================] - 12s 3ms/step - loss: 0.4341 - mae: 0.2787 - val_loss: 0.2381 - val_mae: 0.2453\n",
            "Epoch 29/200\n",
            "4146/4146 [==============================] - 13s 3ms/step - loss: 0.2425 - mae: 0.2432 - val_loss: 0.2794 - val_mae: 0.3273\n",
            "Epoch 30/200\n",
            "4146/4146 [==============================] - 12s 3ms/step - loss: 0.2470 - mae: 0.2443 - val_loss: 0.2496 - val_mae: 0.2485\n",
            "Epoch 31/200\n",
            "4146/4146 [==============================] - 13s 3ms/step - loss: 0.2435 - mae: 0.2380 - val_loss: 0.2553 - val_mae: 0.2087\n",
            "Epoch 32/200\n",
            "4146/4146 [==============================] - 12s 3ms/step - loss: 0.3338 - mae: 0.2447 - val_loss: 0.2427 - val_mae: 0.2264\n",
            "Epoch 33/200\n",
            "4146/4146 [==============================] - 12s 3ms/step - loss: 0.2235 - mae: 0.2177 - val_loss: 0.2325 - val_mae: 0.2449\n",
            "Epoch 34/200\n",
            "4146/4146 [==============================] - 13s 3ms/step - loss: 0.3097 - mae: 0.2265 - val_loss: 0.2545 - val_mae: 0.2112\n",
            "Epoch 35/200\n",
            "4146/4146 [==============================] - 11s 3ms/step - loss: 0.2497 - mae: 0.2053 - val_loss: 0.2187 - val_mae: 0.2254\n",
            "Epoch 36/200\n",
            "4146/4146 [==============================] - 11s 3ms/step - loss: 0.2125 - mae: 0.2027 - val_loss: 0.2362 - val_mae: 0.2707\n",
            "Epoch 37/200\n",
            "4146/4146 [==============================] - 11s 3ms/step - loss: 0.3249 - mae: 0.2167 - val_loss: 0.3767 - val_mae: 0.2588\n",
            "Epoch 38/200\n",
            "4146/4146 [==============================] - 11s 3ms/step - loss: 0.2676 - mae: 0.2015 - val_loss: 0.2552 - val_mae: 0.3150\n",
            "Epoch 39/200\n",
            "4146/4146 [==============================] - 12s 3ms/step - loss: 0.2223 - mae: 0.1968 - val_loss: 0.2009 - val_mae: 0.2075\n",
            "Epoch 40/200\n",
            "4146/4146 [==============================] - 11s 3ms/step - loss: 0.4818 - mae: 0.2320 - val_loss: 0.2017 - val_mae: 0.2371\n",
            "Epoch 41/200\n",
            "4146/4146 [==============================] - 11s 3ms/step - loss: 0.2643 - mae: 0.2086 - val_loss: 0.2022 - val_mae: 0.1683\n",
            "Epoch 42/200\n",
            "4146/4146 [==============================] - 11s 3ms/step - loss: 0.2023 - mae: 0.1901 - val_loss: 0.2165 - val_mae: 0.1836\n",
            "Epoch 43/200\n",
            "4146/4146 [==============================] - 11s 3ms/step - loss: 0.1977 - mae: 0.1906 - val_loss: 0.2150 - val_mae: 0.1841\n",
            "Epoch 44/200\n",
            "4146/4146 [==============================] - 12s 3ms/step - loss: 0.2244 - mae: 0.1879 - val_loss: 0.1921 - val_mae: 0.1691\n",
            "Epoch 45/200\n",
            "4146/4146 [==============================] - 11s 3ms/step - loss: 0.1838 - mae: 0.1829 - val_loss: 0.2110 - val_mae: 0.1827\n",
            "Epoch 46/200\n",
            "4146/4146 [==============================] - 11s 3ms/step - loss: 0.1838 - mae: 0.1820 - val_loss: 0.2446 - val_mae: 0.2470\n",
            "Epoch 47/200\n",
            "4146/4146 [==============================] - 11s 3ms/step - loss: 0.1823 - mae: 0.1821 - val_loss: 0.2156 - val_mae: 0.2073\n",
            "Epoch 48/200\n",
            "4146/4146 [==============================] - 12s 3ms/step - loss: 0.2108 - mae: 0.1825 - val_loss: 0.1682 - val_mae: 0.1849\n",
            "Epoch 49/200\n",
            "4146/4146 [==============================] - 11s 3ms/step - loss: 0.2015 - mae: 0.1740 - val_loss: 0.1842 - val_mae: 0.1960\n",
            "Epoch 50/200\n",
            "4146/4146 [==============================] - 11s 3ms/step - loss: 0.1667 - mae: 0.1713 - val_loss: 0.1659 - val_mae: 0.1736\n",
            "Epoch 51/200\n",
            "4146/4146 [==============================] - 12s 3ms/step - loss: 0.1694 - mae: 0.1733 - val_loss: 0.1781 - val_mae: 0.1861\n",
            "Epoch 52/200\n",
            "4146/4146 [==============================] - 12s 3ms/step - loss: 0.1640 - mae: 0.1697 - val_loss: 0.1938 - val_mae: 0.1679\n",
            "Epoch 53/200\n",
            "4146/4146 [==============================] - 12s 3ms/step - loss: 1.2222 - mae: 0.2946 - val_loss: 0.1962 - val_mae: 0.2005\n",
            "Epoch 54/200\n",
            "4146/4146 [==============================] - 13s 3ms/step - loss: 0.2057 - mae: 0.1923 - val_loss: 0.1800 - val_mae: 0.2292\n",
            "Epoch 55/200\n",
            "4146/4146 [==============================] - 12s 3ms/step - loss: 0.1798 - mae: 0.1849 - val_loss: 0.2069 - val_mae: 0.3229\n",
            "Epoch 56/200\n",
            "4146/4146 [==============================] - 16s 4ms/step - loss: 0.1602 - mae: 0.1779 - val_loss: 0.1620 - val_mae: 0.1852\n",
            "Epoch 57/200\n",
            "4146/4146 [==============================] - 14s 3ms/step - loss: 0.1719 - mae: 0.1756 - val_loss: 0.1616 - val_mae: 0.2432\n",
            "Epoch 58/200\n",
            "4146/4146 [==============================] - 12s 3ms/step - loss: 0.1536 - mae: 0.1670 - val_loss: 0.1812 - val_mae: 0.2631\n",
            "Epoch 59/200\n",
            "4146/4146 [==============================] - 13s 3ms/step - loss: 0.1531 - mae: 0.1652 - val_loss: 0.1480 - val_mae: 0.1631\n",
            "Epoch 60/200\n",
            "4146/4146 [==============================] - 12s 3ms/step - loss: 0.1549 - mae: 0.1625 - val_loss: 0.1286 - val_mae: 0.1512\n",
            "Epoch 61/200\n",
            "4146/4146 [==============================] - 12s 3ms/step - loss: 0.1423 - mae: 0.1570 - val_loss: 0.1956 - val_mae: 0.2734\n",
            "Epoch 62/200\n",
            "4146/4146 [==============================] - 12s 3ms/step - loss: 0.1497 - mae: 0.1588 - val_loss: 0.1553 - val_mae: 0.1758\n",
            "Epoch 63/200\n",
            "4146/4146 [==============================] - 12s 3ms/step - loss: 0.1512 - mae: 0.1571 - val_loss: 0.1667 - val_mae: 0.1775\n",
            "Epoch 64/200\n",
            "4146/4146 [==============================] - 13s 3ms/step - loss: 0.1656 - mae: 0.1618 - val_loss: 0.1730 - val_mae: 0.2184\n",
            "Epoch 65/200\n",
            "4146/4146 [==============================] - 12s 3ms/step - loss: 0.1454 - mae: 0.1555 - val_loss: 0.1523 - val_mae: 0.1637\n",
            "Epoch 66/200\n",
            "4146/4146 [==============================] - 13s 3ms/step - loss: 0.1492 - mae: 0.1573 - val_loss: 0.1661 - val_mae: 0.2621\n",
            "Epoch 67/200\n",
            "4146/4146 [==============================] - 12s 3ms/step - loss: 0.1481 - mae: 0.1572 - val_loss: 0.1248 - val_mae: 0.1585\n",
            "Epoch 68/200\n",
            "4146/4146 [==============================] - 12s 3ms/step - loss: 0.1601 - mae: 0.1642 - val_loss: 0.1382 - val_mae: 0.1361\n",
            "Epoch 69/200\n",
            "4146/4146 [==============================] - 13s 3ms/step - loss: 0.1495 - mae: 0.1539 - val_loss: 0.1401 - val_mae: 0.2303\n",
            "Epoch 70/200\n",
            "4146/4146 [==============================] - 12s 3ms/step - loss: 0.1485 - mae: 0.1549 - val_loss: 0.1343 - val_mae: 0.1322\n",
            "Epoch 71/200\n",
            "4146/4146 [==============================] - 13s 3ms/step - loss: 0.1647 - mae: 0.1539 - val_loss: 0.1393 - val_mae: 0.1939\n",
            "Epoch 72/200\n",
            "4146/4146 [==============================] - 13s 3ms/step - loss: 0.1441 - mae: 0.1538 - val_loss: 0.1593 - val_mae: 0.1767\n",
            "Epoch 73/200\n",
            "4146/4146 [==============================] - 13s 3ms/step - loss: 0.1636 - mae: 0.1507 - val_loss: 0.1293 - val_mae: 0.1784\n",
            "Epoch 74/200\n",
            "4146/4146 [==============================] - 14s 3ms/step - loss: 0.1309 - mae: 0.1397 - val_loss: 0.1261 - val_mae: 0.1203\n",
            "Epoch 75/200\n",
            "4146/4146 [==============================] - 11s 3ms/step - loss: 0.1582 - mae: 0.1584 - val_loss: 0.1303 - val_mae: 0.1548\n",
            "Epoch 76/200\n",
            "4146/4146 [==============================] - 12s 3ms/step - loss: 0.1380 - mae: 0.1488 - val_loss: 0.1337 - val_mae: 0.1285\n",
            "Epoch 77/200\n",
            "4146/4146 [==============================] - 11s 3ms/step - loss: 0.1328 - mae: 0.1466 - val_loss: 0.1375 - val_mae: 0.2232\n",
            "Epoch 78/200\n",
            "4146/4146 [==============================] - 13s 3ms/step - loss: 0.1417 - mae: 0.1507 - val_loss: 0.1486 - val_mae: 0.1430\n",
            "Epoch 79/200\n",
            "4146/4146 [==============================] - 12s 3ms/step - loss: 0.1404 - mae: 0.1447 - val_loss: 0.1384 - val_mae: 0.1628\n",
            "Epoch 80/200\n",
            "4146/4146 [==============================] - 11s 3ms/step - loss: 0.1616 - mae: 0.1462 - val_loss: 0.1912 - val_mae: 0.1441\n",
            "Epoch 81/200\n",
            "4146/4146 [==============================] - 11s 3ms/step - loss: 0.1222 - mae: 0.1348 - val_loss: 0.1212 - val_mae: 0.1165\n",
            "Epoch 82/200\n",
            "4146/4146 [==============================] - 11s 3ms/step - loss: 0.1304 - mae: 0.1418 - val_loss: 0.2262 - val_mae: 0.1602\n",
            "Epoch 83/200\n",
            "4146/4146 [==============================] - 13s 3ms/step - loss: 0.1396 - mae: 0.1488 - val_loss: 0.1579 - val_mae: 0.1671\n",
            "Epoch 84/200\n",
            "4146/4146 [==============================] - 13s 3ms/step - loss: 0.1304 - mae: 0.1432 - val_loss: 0.1116 - val_mae: 0.1178\n",
            "Epoch 85/200\n",
            "4146/4146 [==============================] - 11s 3ms/step - loss: 0.1326 - mae: 0.1435 - val_loss: 0.1247 - val_mae: 0.1393\n",
            "Epoch 86/200\n",
            "4146/4146 [==============================] - 11s 3ms/step - loss: 0.1353 - mae: 0.1463 - val_loss: 0.1312 - val_mae: 0.1850\n",
            "Epoch 87/200\n",
            "4146/4146 [==============================] - 11s 3ms/step - loss: 0.1324 - mae: 0.1440 - val_loss: 0.1408 - val_mae: 0.1397\n",
            "Epoch 88/200\n",
            "4146/4146 [==============================] - 10s 2ms/step - loss: 0.2682 - mae: 0.1527 - val_loss: 0.2630 - val_mae: 0.1578\n",
            "Epoch 89/200\n",
            "4146/4146 [==============================] - 12s 3ms/step - loss: 0.1880 - mae: 0.1448 - val_loss: 0.1122 - val_mae: 0.1386\n",
            "Epoch 90/200\n",
            "4146/4146 [==============================] - 11s 3ms/step - loss: 0.1328 - mae: 0.1391 - val_loss: 0.1244 - val_mae: 0.1315\n",
            "Epoch 91/200\n",
            "4146/4146 [==============================] - 11s 3ms/step - loss: 0.1260 - mae: 0.1381 - val_loss: 0.1154 - val_mae: 0.1439\n",
            "Epoch 92/200\n",
            "4146/4146 [==============================] - 11s 3ms/step - loss: 0.1279 - mae: 0.1395 - val_loss: 0.1593 - val_mae: 0.2206\n",
            "Epoch 93/200\n",
            "4146/4146 [==============================] - 11s 3ms/step - loss: 0.1563 - mae: 0.1366 - val_loss: 0.1097 - val_mae: 0.1326\n",
            "Epoch 94/200\n",
            "4146/4146 [==============================] - 12s 3ms/step - loss: 0.1209 - mae: 0.1346 - val_loss: 0.0979 - val_mae: 0.1236\n",
            "Epoch 95/200\n",
            "4146/4146 [==============================] - 11s 3ms/step - loss: 0.1272 - mae: 0.1399 - val_loss: 0.1151 - val_mae: 0.1595\n",
            "Epoch 96/200\n",
            "4146/4146 [==============================] - 11s 3ms/step - loss: 0.1281 - mae: 0.1417 - val_loss: 0.1516 - val_mae: 0.1599\n",
            "Epoch 97/200\n",
            "4146/4146 [==============================] - 13s 3ms/step - loss: 0.1220 - mae: 0.1354 - val_loss: 0.1135 - val_mae: 0.1498\n",
            "Epoch 98/200\n",
            "4146/4146 [==============================] - 10s 3ms/step - loss: 0.1287 - mae: 0.1368 - val_loss: 0.1173 - val_mae: 0.1312\n",
            "Epoch 99/200\n",
            "4146/4146 [==============================] - 12s 3ms/step - loss: 0.1251 - mae: 0.1371 - val_loss: 0.1198 - val_mae: 0.1267\n",
            "Epoch 100/200\n",
            "4146/4146 [==============================] - 12s 3ms/step - loss: 0.1266 - mae: 0.1388 - val_loss: 0.1397 - val_mae: 0.1580\n",
            "Epoch 101/200\n",
            "4146/4146 [==============================] - 11s 3ms/step - loss: 0.1246 - mae: 0.1382 - val_loss: 0.1216 - val_mae: 0.1385\n",
            "Epoch 102/200\n",
            "4146/4146 [==============================] - 11s 3ms/step - loss: 0.1415 - mae: 0.1348 - val_loss: 0.1254 - val_mae: 0.1653\n",
            "Epoch 103/200\n",
            "4146/4146 [==============================] - 12s 3ms/step - loss: 0.1214 - mae: 0.1334 - val_loss: 0.1344 - val_mae: 0.2069\n",
            "Epoch 104/200\n",
            "4146/4146 [==============================] - 14s 3ms/step - loss: 0.1314 - mae: 0.1404 - val_loss: 0.1398 - val_mae: 0.1444\n",
            "Epoch 105/200\n",
            "4146/4146 [==============================] - 12s 3ms/step - loss: 0.1264 - mae: 0.1370 - val_loss: 0.1272 - val_mae: 0.1499\n",
            "Epoch 106/200\n",
            "4146/4146 [==============================] - 10s 2ms/step - loss: 0.1211 - mae: 0.1349 - val_loss: 0.1397 - val_mae: 0.1464\n",
            "Epoch 107/200\n",
            "4146/4146 [==============================] - 11s 3ms/step - loss: 0.1216 - mae: 0.1366 - val_loss: 0.1523 - val_mae: 0.1567\n",
            "Epoch 108/200\n",
            "4146/4146 [==============================] - 14s 3ms/step - loss: 0.1289 - mae: 0.1388 - val_loss: 0.1107 - val_mae: 0.1133\n",
            "Epoch 109/200\n",
            "4146/4146 [==============================] - 12s 3ms/step - loss: 0.2283 - mae: 0.1650 - val_loss: 0.2017 - val_mae: 0.2019\n",
            "Epoch 110/200\n",
            "4146/4146 [==============================] - 12s 3ms/step - loss: 0.1634 - mae: 0.1654 - val_loss: 0.7310 - val_mae: 0.4548\n",
            "Epoch 111/200\n",
            "4146/4146 [==============================] - 10s 2ms/step - loss: 0.2363 - mae: 0.2013 - val_loss: 0.1417 - val_mae: 0.1566\n",
            "Epoch 112/200\n",
            "4146/4146 [==============================] - 16s 4ms/step - loss: 0.1544 - mae: 0.1561 - val_loss: 0.1206 - val_mae: 0.1415\n",
            "Epoch 113/200\n",
            "4146/4146 [==============================] - 14s 3ms/step - loss: 0.1263 - mae: 0.1391 - val_loss: 0.1140 - val_mae: 0.1300\n",
            "Epoch 114/200\n",
            "4146/4146 [==============================] - 16s 4ms/step - loss: 0.1979 - mae: 0.1480 - val_loss: 0.2903 - val_mae: 0.1326\n",
            "Epoch 115/200\n",
            "4146/4146 [==============================] - 18s 4ms/step - loss: 0.3317 - mae: 0.1541 - val_loss: 0.2323 - val_mae: 0.1432\n",
            "Epoch 116/200\n",
            "4146/4146 [==============================] - 15s 4ms/step - loss: 0.3052 - mae: 0.1509 - val_loss: 0.2371 - val_mae: 0.1470\n",
            "Epoch 117/200\n",
            "4146/4146 [==============================] - 19s 4ms/step - loss: 0.2084 - mae: 0.1465 - val_loss: 0.1223 - val_mae: 0.1217\n",
            "Epoch 118/200\n",
            "4146/4146 [==============================] - 16s 4ms/step - loss: 0.1193 - mae: 0.1309 - val_loss: 0.1187 - val_mae: 0.1233\n",
            "Epoch 119/200\n",
            "4146/4146 [==============================] - 14s 3ms/step - loss: 0.1279 - mae: 0.1360 - val_loss: 0.1267 - val_mae: 0.1171\n",
            "Epoch 120/200\n",
            "4146/4146 [==============================] - 15s 4ms/step - loss: 0.1329 - mae: 0.1358 - val_loss: 0.1744 - val_mae: 0.1538\n",
            "Epoch 121/200\n",
            "4146/4146 [==============================] - 15s 4ms/step - loss: 0.1672 - mae: 0.1456 - val_loss: 0.1216 - val_mae: 0.1499\n",
            "Epoch 122/200\n",
            "4146/4146 [==============================] - 15s 4ms/step - loss: 0.1204 - mae: 0.1299 - val_loss: 0.1334 - val_mae: 0.1269\n",
            "Epoch 123/200\n",
            "4146/4146 [==============================] - 16s 4ms/step - loss: 0.1305 - mae: 0.1363 - val_loss: 0.1223 - val_mae: 0.1394\n",
            "Epoch 124/200\n",
            "4146/4146 [==============================] - 15s 4ms/step - loss: 0.1249 - mae: 0.1309 - val_loss: 0.1224 - val_mae: 0.1257\n",
            "Epoch 125/200\n",
            "4146/4146 [==============================] - 17s 4ms/step - loss: 0.1313 - mae: 0.1330 - val_loss: 0.1338 - val_mae: 0.1289\n",
            "Epoch 126/200\n",
            "4146/4146 [==============================] - 14s 3ms/step - loss: 0.1197 - mae: 0.1274 - val_loss: 0.1403 - val_mae: 0.1317\n",
            "Epoch 127/200\n",
            "4146/4146 [==============================] - 14s 3ms/step - loss: 0.1270 - mae: 0.1294 - val_loss: 0.1290 - val_mae: 0.1392\n",
            "Epoch 128/200\n",
            "4146/4146 [==============================] - 14s 3ms/step - loss: 0.1222 - mae: 0.1272 - val_loss: 0.1544 - val_mae: 0.1337\n",
            "Epoch 129/200\n",
            "4146/4146 [==============================] - 13s 3ms/step - loss: 0.1249 - mae: 0.1289 - val_loss: 0.1581 - val_mae: 0.1339\n",
            "Epoch 130/200\n",
            "4146/4146 [==============================] - 18s 4ms/step - loss: 0.1296 - mae: 0.1267 - val_loss: 0.1006 - val_mae: 0.1000\n",
            "Epoch 131/200\n",
            "4146/4146 [==============================] - 14s 3ms/step - loss: 0.1353 - mae: 0.1287 - val_loss: 0.1936 - val_mae: 0.1427\n",
            "Epoch 132/200\n",
            "4146/4146 [==============================] - 13s 3ms/step - loss: 0.1167 - mae: 0.1237 - val_loss: 0.1207 - val_mae: 0.1258\n",
            "Epoch 133/200\n",
            "4146/4146 [==============================] - 12s 3ms/step - loss: 0.1189 - mae: 0.1268 - val_loss: 0.1043 - val_mae: 0.1107\n",
            "Epoch 134/200\n",
            "4146/4146 [==============================] - 18s 4ms/step - loss: 0.1196 - mae: 0.1268 - val_loss: 0.1610 - val_mae: 0.1356\n",
            "Epoch 135/200\n",
            "4146/4146 [==============================] - 13s 3ms/step - loss: 0.1326 - mae: 0.1338 - val_loss: 0.1420 - val_mae: 0.1529\n",
            "Epoch 136/200\n",
            "4146/4146 [==============================] - 18s 4ms/step - loss: 0.1253 - mae: 0.1320 - val_loss: 0.1084 - val_mae: 0.1300\n",
            "Epoch 137/200\n",
            "4146/4146 [==============================] - 13s 3ms/step - loss: 0.1320 - mae: 0.1305 - val_loss: 0.1081 - val_mae: 0.1235\n",
            "Epoch 138/200\n",
            "4146/4146 [==============================] - 13s 3ms/step - loss: 0.1477 - mae: 0.1324 - val_loss: 0.2259 - val_mae: 0.1309\n",
            "Epoch 139/200\n",
            "4146/4146 [==============================] - 15s 4ms/step - loss: 0.1561 - mae: 0.1266 - val_loss: 0.1387 - val_mae: 0.1163\n",
            "Epoch 140/200\n",
            "4146/4146 [==============================] - 14s 3ms/step - loss: 0.1085 - mae: 0.1208 - val_loss: 0.1194 - val_mae: 0.1155\n",
            "Epoch 141/200\n",
            "4146/4146 [==============================] - 15s 4ms/step - loss: 0.1516 - mae: 0.1355 - val_loss: 0.1241 - val_mae: 0.1446\n",
            "Epoch 142/200\n",
            "4146/4146 [==============================] - 14s 3ms/step - loss: 0.1285 - mae: 0.1279 - val_loss: 0.1194 - val_mae: 0.1191\n",
            "Epoch 143/200\n",
            "4146/4146 [==============================] - 13s 3ms/step - loss: 0.1271 - mae: 0.1293 - val_loss: 0.1066 - val_mae: 0.1300\n",
            "Epoch 144/200\n",
            "4146/4146 [==============================] - 14s 3ms/step - loss: 0.1139 - mae: 0.1235 - val_loss: 0.1353 - val_mae: 0.1353\n",
            "Epoch 145/200\n",
            "4146/4146 [==============================] - 14s 3ms/step - loss: 0.1205 - mae: 0.1279 - val_loss: 0.0981 - val_mae: 0.1058\n",
            "Epoch 146/200\n",
            "4146/4146 [==============================] - 16s 4ms/step - loss: 0.1269 - mae: 0.1296 - val_loss: 0.1222 - val_mae: 0.1338\n",
            "Epoch 147/200\n",
            "4146/4146 [==============================] - 18s 4ms/step - loss: 0.1396 - mae: 0.1286 - val_loss: 0.1095 - val_mae: 0.1097\n",
            "Epoch 148/200\n",
            "4146/4146 [==============================] - 16s 4ms/step - loss: 0.1110 - mae: 0.1202 - val_loss: 0.1461 - val_mae: 0.1413\n",
            "Epoch 149/200\n",
            "4146/4146 [==============================] - 17s 4ms/step - loss: 0.2386 - mae: 0.1284 - val_loss: 0.2171 - val_mae: 0.1170\n",
            "Epoch 150/200\n",
            "4146/4146 [==============================] - 14s 3ms/step - loss: 0.2797 - mae: 0.1330 - val_loss: 0.2857 - val_mae: 0.1890\n",
            "Epoch 151/200\n",
            "4146/4146 [==============================] - 14s 3ms/step - loss: 0.1276 - mae: 0.1222 - val_loss: 0.1545 - val_mae: 0.1424\n",
            "Epoch 152/200\n",
            "4146/4146 [==============================] - 15s 4ms/step - loss: 0.1808 - mae: 0.1330 - val_loss: 0.1338 - val_mae: 0.1215\n",
            "Epoch 153/200\n",
            "4146/4146 [==============================] - 12s 3ms/step - loss: 0.1276 - mae: 0.1236 - val_loss: 0.1626 - val_mae: 0.1460\n",
            "Epoch 154/200\n",
            "4146/4146 [==============================] - 13s 3ms/step - loss: 0.1288 - mae: 0.1255 - val_loss: 0.1140 - val_mae: 0.1109\n",
            "Epoch 155/200\n",
            "4146/4146 [==============================] - 12s 3ms/step - loss: 0.1236 - mae: 0.1255 - val_loss: 0.1402 - val_mae: 0.1305\n",
            "Epoch 156/200\n",
            "4146/4146 [==============================] - 11s 3ms/step - loss: 0.1832 - mae: 0.1288 - val_loss: 0.2964 - val_mae: 0.1493\n",
            "Epoch 157/200\n",
            "4146/4146 [==============================] - 11s 3ms/step - loss: 0.1390 - mae: 0.1173 - val_loss: 0.1026 - val_mae: 0.1130\n",
            "Epoch 158/200\n",
            "4146/4146 [==============================] - 11s 3ms/step - loss: 0.1158 - mae: 0.1234 - val_loss: 0.0925 - val_mae: 0.1176\n",
            "Epoch 159/200\n",
            "4146/4146 [==============================] - 11s 3ms/step - loss: 0.1166 - mae: 0.1196 - val_loss: 0.1206 - val_mae: 0.1196\n",
            "Epoch 160/200\n",
            "4146/4146 [==============================] - 11s 3ms/step - loss: 0.1688 - mae: 0.1301 - val_loss: 0.2544 - val_mae: 0.1450\n",
            "Epoch 161/200\n",
            "4146/4146 [==============================] - 11s 3ms/step - loss: 0.1259 - mae: 0.1196 - val_loss: 0.1185 - val_mae: 0.1108\n",
            "Epoch 162/200\n",
            "4146/4146 [==============================] - 10s 3ms/step - loss: 0.1218 - mae: 0.1254 - val_loss: 0.1237 - val_mae: 0.1313\n",
            "Epoch 163/200\n",
            "4146/4146 [==============================] - 11s 3ms/step - loss: 0.1740 - mae: 0.1375 - val_loss: 0.2573 - val_mae: 0.1932\n",
            "Epoch 164/200\n",
            "4146/4146 [==============================] - 11s 3ms/step - loss: 0.1202 - mae: 0.1256 - val_loss: 0.1037 - val_mae: 0.1231\n",
            "Epoch 165/200\n",
            "4146/4146 [==============================] - 11s 3ms/step - loss: 0.1182 - mae: 0.1223 - val_loss: 0.1418 - val_mae: 0.1317\n",
            "Epoch 166/200\n",
            "4146/4146 [==============================] - 11s 3ms/step - loss: 0.1239 - mae: 0.1224 - val_loss: 0.3217 - val_mae: 0.1443\n",
            "Epoch 167/200\n",
            "4146/4146 [==============================] - 10s 2ms/step - loss: 0.1613 - mae: 0.1282 - val_loss: 0.1057 - val_mae: 0.1187\n",
            "Epoch 168/200\n",
            "4146/4146 [==============================] - 11s 3ms/step - loss: 0.1151 - mae: 0.1168 - val_loss: 0.1125 - val_mae: 0.1276\n",
            "Epoch 169/200\n",
            "4146/4146 [==============================] - 10s 2ms/step - loss: 0.1104 - mae: 0.1185 - val_loss: 0.1464 - val_mae: 0.1419\n",
            "Epoch 170/200\n",
            "4146/4146 [==============================] - 10s 2ms/step - loss: 0.1403 - mae: 0.1245 - val_loss: 0.1105 - val_mae: 0.1170\n",
            "Epoch 171/200\n",
            "4146/4146 [==============================] - 12s 3ms/step - loss: 0.1205 - mae: 0.1216 - val_loss: 0.1102 - val_mae: 0.1075\n",
            "Epoch 172/200\n",
            "4146/4146 [==============================] - 11s 3ms/step - loss: 0.1205 - mae: 0.1239 - val_loss: 0.1318 - val_mae: 0.1609\n",
            "Epoch 173/200\n",
            "4146/4146 [==============================] - 10s 2ms/step - loss: 0.1226 - mae: 0.1237 - val_loss: 0.1504 - val_mae: 0.1198\n",
            "Epoch 174/200\n",
            "4146/4146 [==============================] - 11s 3ms/step - loss: 0.1220 - mae: 0.1258 - val_loss: 0.1229 - val_mae: 0.1393\n",
            "Epoch 175/200\n",
            "4146/4146 [==============================] - 10s 3ms/step - loss: 0.1292 - mae: 0.1261 - val_loss: 0.1257 - val_mae: 0.1187\n",
            "Epoch 176/200\n",
            "4146/4146 [==============================] - 11s 3ms/step - loss: 0.1166 - mae: 0.1215 - val_loss: 0.1322 - val_mae: 0.1170\n",
            "Epoch 177/200\n",
            "4146/4146 [==============================] - 10s 2ms/step - loss: 0.1389 - mae: 0.1256 - val_loss: 0.1152 - val_mae: 0.1401\n",
            "Epoch 178/200\n",
            "4146/4146 [==============================] - 11s 3ms/step - loss: 0.1054 - mae: 0.1155 - val_loss: 0.1085 - val_mae: 0.1226\n",
            "Epoch 179/200\n",
            "4146/4146 [==============================] - 17s 4ms/step - loss: 0.1116 - mae: 0.1172 - val_loss: 0.1262 - val_mae: 0.1261\n",
            "Epoch 180/200\n",
            "4146/4146 [==============================] - 16s 4ms/step - loss: 0.1107 - mae: 0.1196 - val_loss: 0.1025 - val_mae: 0.1168\n",
            "Epoch 181/200\n",
            "4146/4146 [==============================] - 15s 4ms/step - loss: 0.1111 - mae: 0.1181 - val_loss: 0.1179 - val_mae: 0.1148\n",
            "Epoch 182/200\n",
            "4146/4146 [==============================] - 13s 3ms/step - loss: 0.1037 - mae: 0.1135 - val_loss: 0.0948 - val_mae: 0.1083\n",
            "Epoch 183/200\n",
            "4146/4146 [==============================] - 14s 3ms/step - loss: 0.1138 - mae: 0.1136 - val_loss: 0.1252 - val_mae: 0.1437\n",
            "Epoch 184/200\n",
            "4146/4146 [==============================] - 13s 3ms/step - loss: 0.1098 - mae: 0.1099 - val_loss: 0.1024 - val_mae: 0.0955\n",
            "Epoch 185/200\n",
            "4146/4146 [==============================] - 14s 3ms/step - loss: 0.1024 - mae: 0.1114 - val_loss: 0.0952 - val_mae: 0.0991\n",
            "Epoch 186/200\n",
            "4146/4146 [==============================] - 13s 3ms/step - loss: 0.1115 - mae: 0.1159 - val_loss: 0.1114 - val_mae: 0.1327\n",
            "Epoch 187/200\n",
            "4146/4146 [==============================] - 14s 3ms/step - loss: 0.1124 - mae: 0.1120 - val_loss: 0.1113 - val_mae: 0.1013\n",
            "Epoch 188/200\n",
            "4146/4146 [==============================] - 15s 4ms/step - loss: 0.1317 - mae: 0.1139 - val_loss: 0.1117 - val_mae: 0.1249\n",
            "Epoch 189/200\n",
            "4146/4146 [==============================] - 13s 3ms/step - loss: 0.1079 - mae: 0.1115 - val_loss: 0.2100 - val_mae: 0.1270\n",
            "Epoch 190/200\n",
            "4146/4146 [==============================] - 13s 3ms/step - loss: 0.1048 - mae: 0.1085 - val_loss: 0.1005 - val_mae: 0.1256\n",
            "Epoch 191/200\n",
            "4146/4146 [==============================] - 14s 3ms/step - loss: 0.1048 - mae: 0.1072 - val_loss: 0.1009 - val_mae: 0.1230\n",
            "Epoch 192/200\n",
            "4146/4146 [==============================] - 14s 3ms/step - loss: 0.1031 - mae: 0.1101 - val_loss: 0.1606 - val_mae: 0.1500\n",
            "Epoch 193/200\n",
            "4146/4146 [==============================] - 13s 3ms/step - loss: 0.1024 - mae: 0.1107 - val_loss: 0.1178 - val_mae: 0.1295\n",
            "Epoch 194/200\n",
            "4146/4146 [==============================] - 14s 3ms/step - loss: 0.1242 - mae: 0.1173 - val_loss: 0.1099 - val_mae: 0.1045\n",
            "Epoch 195/200\n",
            "4146/4146 [==============================] - 13s 3ms/step - loss: 0.1033 - mae: 0.1084 - val_loss: 0.1449 - val_mae: 0.1072\n",
            "Epoch 196/200\n",
            "4146/4146 [==============================] - 14s 3ms/step - loss: 0.1310 - mae: 0.1179 - val_loss: 0.1022 - val_mae: 0.1073\n",
            "Epoch 197/200\n",
            "4146/4146 [==============================] - 17s 4ms/step - loss: 0.1102 - mae: 0.1171 - val_loss: 0.1509 - val_mae: 0.1236\n",
            "Epoch 198/200\n",
            "4146/4146 [==============================] - 15s 4ms/step - loss: 0.1190 - mae: 0.1192 - val_loss: 0.2236 - val_mae: 0.1857\n",
            "Epoch 199/200\n",
            "4146/4146 [==============================] - 12s 3ms/step - loss: 0.1100 - mae: 0.1146 - val_loss: 0.0941 - val_mae: 0.1228\n",
            "Epoch 200/200\n",
            "4146/4146 [==============================] - 13s 3ms/step - loss: 0.1104 - mae: 0.1142 - val_loss: 0.1183 - val_mae: 0.1199\n"
          ]
        }
      ],
      "source": [
        "hist = model.fit(\n",
        "    X_train, Y_train,\n",
        "    batch_size=32,\n",
        "    epochs = 200,\n",
        "    validation_data=(X_val, Y_val)\n",
        ")"
      ]
    },
    {
      "cell_type": "code",
      "execution_count": 65,
      "metadata": {
        "colab": {
          "base_uri": "https://localhost:8080/"
        },
        "id": "ckbXAviyCLa_",
        "outputId": "82dc096e-2aeb-4471-8ba1-f7e95f3254e2"
      },
      "outputs": [
        {
          "name": "stdout",
          "output_type": "stream",
          "text": [
            "587/587 [==============================] - 1s 2ms/step - loss: 0.1118 - mae: 0.1193\n"
          ]
        },
        {
          "data": {
            "text/plain": [
              "[0.11175999045372009, 0.11931876093149185]"
            ]
          },
          "execution_count": 65,
          "metadata": {},
          "output_type": "execute_result"
        }
      ],
      "source": [
        "model.evaluate(X_test, Y_test)"
      ]
    },
    {
      "cell_type": "code",
      "execution_count": 66,
      "metadata": {
        "colab": {
          "base_uri": "https://localhost:8080/"
        },
        "id": "OzalqdGSCLa_",
        "outputId": "41fc5435-21b4-43ac-951f-91928d5d20a2"
      },
      "outputs": [
        {
          "name": "stdout",
          "output_type": "stream",
          "text": [
            "587/587 [==============================] - 1s 2ms/step - loss: 0.1118 - mae: 0.1193\n",
            "Test loss: 0.112, Test MAE: 0.119\n"
          ]
        }
      ],
      "source": [
        "# Evaluate the model on the test set\n",
        "test_loss, test_mae = model.evaluate(X_test, Y_test)\n",
        "print(f\"Test loss: {test_loss:.3f}, Test MAE: {test_mae:.3f}\")"
      ]
    },
    {
      "cell_type": "code",
      "execution_count": 68,
      "metadata": {
        "colab": {
          "base_uri": "https://localhost:8080/",
          "height": 265
        },
        "id": "0Vwz9W0OCLa_",
        "outputId": "b0d65d85-c9ba-4835-9b11-4f6abdb4dafc"
      },
      "outputs": [
        {
          "data": {
            "image/png": "[encoded data removed]",
            "text/plain": [
              "<Figure size 640x480 with 1 Axes>"
            ]
          },
          "metadata": {},
          "output_type": "display_data"
        },
        {
          "name": "stdout",
          "output_type": "stream",
          "text": [
            "4146/4146 [==============================] - 8s 2ms/step - loss: 0.1111 - mae: 0.1161\n",
            "Train loss: 0.111, Train MAE: 0.116\n",
            "587/587 [==============================] - 1s 2ms/step - loss: 0.1118 - mae: 0.1193\n",
            "Test loss: 0.112, Test MAE: 0.119\n",
            "\n",
            "4146/4146 [==============================] - 7s 2ms/step\n",
            "   Predicted Energy  Actual Energy\n",
            "0         35.612576      35.533061\n",
            "1         36.669342      38.118238\n",
            "2          0.525671       0.581109\n",
            "3          0.526839       0.410339\n",
            "4          0.556609       0.586390\n",
            "5         38.065548      38.052270\n",
            "6          0.544953       0.577919\n",
            "7          0.557117       0.582940\n",
            "8          0.520064       0.583850\n",
            "9         38.055984      38.072458\n"
          ]
        }
      ],
      "source": [
        "plt.plot(hist.history['loss'], label='Training Loss')\n",
        "plt.plot(hist.history['val_loss'], label='Validation Loss')\n",
        "plt.legend()\n",
        "plt.show()\n",
        "# Calculate MAE for training and test set\n",
        "\n",
        "# Evaluate the model on the test set\n",
        "train_loss, train_mae = model.evaluate(X_train, Y_train)\n",
        "print(f\"Train loss: {train_loss:.3f}, Train MAE: {train_mae:.3f}\")\n",
        "\n",
        "test_loss, test_mae = model.evaluate(X_test, Y_test)\n",
        "print(f\"Test loss: {test_loss:.3f}, Test MAE: {test_mae:.3f}\\n\")\n",
        "\n",
        "predicted_output_train = model.predict(X_train)\n",
        "actual_output_train = Y_train.values.flatten()\n",
        "predicted_output_train_flat = predicted_output_train.flatten()\n",
        "actual_output_train_flat = actual_output_train.flatten()\n",
        "df_train = pd.DataFrame({'Predicted Energy': predicted_output_train_flat, 'Actual Energy': actual_output_train_flat})\n",
        "print(df_train.head(10))\n"
      ]
    },
    {
      "cell_type": "code",
      "execution_count": null,
      "metadata": {},
      "outputs": [
        {
          "ename": "NameError",
          "evalue": "name 'model' is not defined",
          "output_type": "error",
          "traceback": [
            "\u001b[1;31m---------------------------------------------------------------------------\u001b[0m",
            "\u001b[1;31mNameError\u001b[0m                                 Traceback (most recent call last)",
            "\u001b[1;32mc:\\Users\\gts\\Desktop\\PTEThesis\\VS\\ML-ReLU.ipynb Cell 25\u001b[0m in \u001b[0;36m<cell line: 1>\u001b[1;34m()\u001b[0m\n\u001b[1;32m----> <a href='vscode-notebook-cell:/c%3A/Users/gts/Desktop/PTEThesis/VS/ML-ReLU.ipynb#X33sZmlsZQ%3D%3D?line=0'>1</a>\u001b[0m y_pred \u001b[39m=\u001b[39m model\u001b[39m.\u001b[39mpredict(X_test)\n",
            "\u001b[1;31mNameError\u001b[0m: name 'model' is not defined"
          ]
        }
      ],
      "source": [
        "y_pred = model.predict(X_test)"
      ]
    },
    {
      "cell_type": "code",
      "execution_count": null,
      "metadata": {},
      "outputs": [
        {
          "name": "stdout",
          "output_type": "stream",
          "text": [
            "4146/4146 [==============================] - 5s 1ms/step\n",
            "Training MAE: 0.314, Test MAE: 0.321\n"
          ]
        }
      ],
      "source": []
    },
    {
      "cell_type": "code",
      "execution_count": null,
      "metadata": {},
      "outputs": [
        {
          "data": {
            "text/html": [
              "<div>\n",
              "<style scoped>\n",
              "    .dataframe tbody tr th:only-of-type {\n",
              "        vertical-align: middle;\n",
              "    }\n",
              "\n",
              "    .dataframe tbody tr th {\n",
              "        vertical-align: top;\n",
              "    }\n",
              "\n",
              "    .dataframe thead th {\n",
              "        text-align: right;\n",
              "    }\n",
              "</style>\n",
              "<table border=\"1\" class=\"dataframe\">\n",
              "  <thead>\n",
              "    <tr style=\"text-align: right;\">\n",
              "      <th></th>\n",
              "      <th>Actual Energy</th>\n",
              "      <th>Predicted Energy</th>\n",
              "    </tr>\n",
              "  </thead>\n",
              "  <tbody>\n",
              "    <tr>\n",
              "      <th>4175</th>\n",
              "      <td>38.116379</td>\n",
              "      <td>37.961124</td>\n",
              "    </tr>\n",
              "    <tr>\n",
              "      <th>110490</th>\n",
              "      <td>0.585118</td>\n",
              "      <td>0.494804</td>\n",
              "    </tr>\n",
              "    <tr>\n",
              "      <th>114631</th>\n",
              "      <td>38.120936</td>\n",
              "      <td>38.115524</td>\n",
              "    </tr>\n",
              "    <tr>\n",
              "      <th>132835</th>\n",
              "      <td>0.411879</td>\n",
              "      <td>0.530922</td>\n",
              "    </tr>\n",
              "    <tr>\n",
              "      <th>168685</th>\n",
              "      <td>38.043973</td>\n",
              "      <td>38.252480</td>\n",
              "    </tr>\n",
              "    <tr>\n",
              "      <th>...</th>\n",
              "      <td>...</td>\n",
              "      <td>...</td>\n",
              "    </tr>\n",
              "    <tr>\n",
              "      <th>159176</th>\n",
              "      <td>0.575290</td>\n",
              "      <td>0.569451</td>\n",
              "    </tr>\n",
              "    <tr>\n",
              "      <th>182561</th>\n",
              "      <td>0.585829</td>\n",
              "      <td>0.560337</td>\n",
              "    </tr>\n",
              "    <tr>\n",
              "      <th>79394</th>\n",
              "      <td>0.583886</td>\n",
              "      <td>0.570175</td>\n",
              "    </tr>\n",
              "    <tr>\n",
              "      <th>151963</th>\n",
              "      <td>38.123294</td>\n",
              "      <td>38.063110</td>\n",
              "    </tr>\n",
              "    <tr>\n",
              "      <th>159805</th>\n",
              "      <td>0.574301</td>\n",
              "      <td>0.566844</td>\n",
              "    </tr>\n",
              "  </tbody>\n",
              "</table>\n",
              "<p>18760 rows × 2 columns</p>\n",
              "</div>"
            ],
            "text/plain": [
              "        Actual Energy  Predicted Energy\n",
              "4175        38.116379         37.961124\n",
              "110490       0.585118          0.494804\n",
              "114631      38.120936         38.115524\n",
              "132835       0.411879          0.530922\n",
              "168685      38.043973         38.252480\n",
              "...               ...               ...\n",
              "159176       0.575290          0.569451\n",
              "182561       0.585829          0.560337\n",
              "79394        0.583886          0.570175\n",
              "151963      38.123294         38.063110\n",
              "159805       0.574301          0.566844\n",
              "\n",
              "[18760 rows x 2 columns]"
            ]
          },
          "execution_count": 75,
          "metadata": {},
          "output_type": "execute_result"
        }
      ],
      "source": [
        "df = pd.DataFrame({'Actual Energy': Y_test.squeeze(), 'Predicted Energy': y_pred.squeeze()})\n",
        "df"
      ]
    },
    {
      "cell_type": "code",
      "execution_count": null,
      "metadata": {},
      "outputs": [],
      "source": [
        "import matplotlib.pyplot as plt \n"
      ]
    },
    {
      "cell_type": "code",
      "execution_count": null,
      "metadata": {},
      "outputs": [
        {
          "ename": "ValueError",
          "evalue": "not enough values to unpack (expected 2, got 0)",
          "output_type": "error",
          "traceback": [
            "\u001b[1;31m---------------------------------------------------------------------------\u001b[0m",
            "\u001b[1;31mValueError\u001b[0m                                Traceback (most recent call last)",
            "\u001b[1;32mc:\\Users\\gts\\Desktop\\PTEThesis\\VS\\ML-ReLU.ipynb Cell 29\u001b[0m in \u001b[0;36m<cell line: 1>\u001b[1;34m()\u001b[0m\n\u001b[1;32m----> <a href='vscode-notebook-cell:/c%3A/Users/gts/Desktop/PTEThesis/VS/ML-ReLU.ipynb#X36sZmlsZQ%3D%3D?line=0'>1</a>\u001b[0m fig, ax \u001b[39m=\u001b[39m plt\u001b[39m.\u001b[39mplot(figsize\u001b[39m=\u001b[39m(\u001b[39m8\u001b[39m, \u001b[39m3\u001b[39m))\n\u001b[0;32m      <a href='vscode-notebook-cell:/c%3A/Users/gts/Desktop/PTEThesis/VS/ML-ReLU.ipynb#X36sZmlsZQ%3D%3D?line=1'>2</a>\u001b[0m ax\u001b[39m.\u001b[39maxis(\u001b[39m'\u001b[39m\u001b[39moff\u001b[39m\u001b[39m'\u001b[39m)\n\u001b[0;32m      <a href='vscode-notebook-cell:/c%3A/Users/gts/Desktop/PTEThesis/VS/ML-ReLU.ipynb#X36sZmlsZQ%3D%3D?line=2'>3</a>\u001b[0m ax\u001b[39m.\u001b[39maxis(\u001b[39m'\u001b[39m\u001b[39mtight\u001b[39m\u001b[39m'\u001b[39m)\n",
            "\u001b[1;31mValueError\u001b[0m: not enough values to unpack (expected 2, got 0)"
          ]
        },
        {
          "data": {
            "image/png": "[encoded data removed]",
            "text/plain": [
              "<Figure size 432x288 with 1 Axes>"
            ]
          },
          "metadata": {
            "needs_background": "light"
          },
          "output_type": "display_data"
        }
      ],
      "source": [
        "fig, ax = plt.plot(figsize=(8, 3))\n",
        "ax.axis('off')\n",
        "ax.axis('tight')\n",
        "ax.table(cellText=df.values, colLabels=df.columns, loc='center')\n",
        "\n",
        "# save the table image as a PDF file\n",
        "plt.savefig('table.pdf', bbox_inches='tight')"
      ]
    }
  ],
  "metadata": {
    "colab": {
      "provenance": []
    },
    "kernelspec": {
      "display_name": "Python 3",
      "language": "python",
      "name": "python3"
    },
    "language_info": {
      "codemirror_mode": {
        "name": "ipython",
        "version": 3
      },
      "file_extension": ".py",
      "mimetype": "text/x-python",
      "name": "python",
      "nbconvert_exporter": "python",
      "pygments_lexer": "ipython3",
      "version": "3.10.11"
    },
    "orig_nbformat": 4,
    "vscode": {
      "interpreter": {
        "hash": "e3366052fba0b408e38a60964d7840cd801166c0994366f8aa1eea234ba6f411"
      }
    }
  },
  "nbformat": 4,
  "nbformat_minor": 0
}
