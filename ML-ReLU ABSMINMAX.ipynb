{
  "cells": [
    {
      "cell_type": "code",
      "execution_count": 22,
      "metadata": {
        "id": "Kk9tj1UUCLa7"
      },
      "outputs": [],
      "source": [
        "#Youtube: https://www.youtube.com/watch?v=vSzou5zRwNQ&ab_channel=ComputerScience"
      ]
    },
    {
      "cell_type": "code",
      "execution_count": 23,
      "metadata": {
        "id": "O_oE-LUjCLa8"
      },
      "outputs": [],
      "source": [
        "import pandas as pd\n",
        "import numpy as np\n",
        "import seaborn as sns\n",
        "import matplotlib.pyplot as plt\n"
      ]
    },
    {
      "cell_type": "code",
      "execution_count": 24,
      "metadata": {
        "id": "L-4kesSxCLa9"
      },
      "outputs": [],
      "source": [
        "Data = pd.read_csv('fulldata.csv')"
      ]
    },
    {
      "cell_type": "code",
      "execution_count": 25,
      "metadata": {
        "colab": {
          "base_uri": "https://localhost:8080/"
        },
        "id": "bT4JqsPMCLa9",
        "outputId": "a1f313a2-e214-437f-864f-8ed3a1459632"
      },
      "outputs": [
        {
          "data": {
            "text/plain": [
              "<bound method NDFrame.head of                           name     energy   diag      pca1      pca2      pca3\n",
              "0           acetaldehyde_0_015  38.145186  0.378  0.842622 -0.531091  0.067095\n",
              "1           acetaldehyde_0_015   0.573634  0.005  0.463136  0.636858 -0.534280\n",
              "2           acetaldehyde_0_015   0.580474  0.005  0.264667  0.540074  0.553770\n",
              "3           acetaldehyde_0_015  37.980501  0.378  0.029347  0.105040  0.245169\n",
              "4           acetaldehyde_0_015  75.370940  0.754  0.044385  0.049707  0.439767\n",
              "...                        ...        ...    ...       ...       ...       ...\n",
              "189483  vinylacetate_occscan_9  38.019840  0.378  0.036313  0.040589 -0.055911\n",
              "189484  vinylacetate_occscan_9  38.121546  0.378  0.033934  0.041472 -0.123830\n",
              "189485  vinylacetate_occscan_9   0.574945  0.005  0.028167 -0.001278 -0.029696\n",
              "189486  vinylacetate_occscan_9   0.577973  0.005  0.024077  0.006063 -0.010935\n",
              "189487  vinylacetate_occscan_9   0.577448  0.005  0.021231 -0.002702 -0.014683\n",
              "\n",
              "[189488 rows x 6 columns]>"
            ]
          },
          "execution_count": 25,
          "metadata": {},
          "output_type": "execute_result"
        }
      ],
      "source": [
        "Data.head"
      ]
    },
    {
      "cell_type": "code",
      "execution_count": 26,
      "metadata": {
        "colab": {
          "base_uri": "https://localhost:8080/",
          "height": 441
        },
        "id": "6XGxzn7ACLa9",
        "outputId": "ae5af16a-ed1b-46d5-abe3-7200cbf115b7"
      },
      "outputs": [
        {
          "name": "stdout",
          "output_type": "stream",
          "text": [
            "<class 'pandas.core.frame.DataFrame'>\n",
            "RangeIndex: 189488 entries, 0 to 189487\n",
            "Data columns (total 6 columns):\n",
            " #   Column  Non-Null Count   Dtype  \n",
            "---  ------  --------------   -----  \n",
            " 0   name    189488 non-null  object \n",
            " 1   energy  189488 non-null  float64\n",
            " 2   diag    189488 non-null  float64\n",
            " 3   pca1    189488 non-null  float64\n",
            " 4   pca2    189488 non-null  float64\n",
            " 5   pca3    189488 non-null  float64\n",
            "dtypes: float64(5), object(1)\n",
            "memory usage: 8.7+ MB\n"
          ]
        },
        {
          "data": {
            "text/html": [
              "<div>\n",
              "<style scoped>\n",
              "    .dataframe tbody tr th:only-of-type {\n",
              "        vertical-align: middle;\n",
              "    }\n",
              "\n",
              "    .dataframe tbody tr th {\n",
              "        vertical-align: top;\n",
              "    }\n",
              "\n",
              "    .dataframe thead th {\n",
              "        text-align: right;\n",
              "    }\n",
              "</style>\n",
              "<table border=\"1\" class=\"dataframe\">\n",
              "  <thead>\n",
              "    <tr style=\"text-align: right;\">\n",
              "      <th></th>\n",
              "      <th>count</th>\n",
              "      <th>mean</th>\n",
              "      <th>std</th>\n",
              "      <th>min</th>\n",
              "      <th>25%</th>\n",
              "      <th>50%</th>\n",
              "      <th>75%</th>\n",
              "      <th>max</th>\n",
              "    </tr>\n",
              "  </thead>\n",
              "  <tbody>\n",
              "    <tr>\n",
              "      <th>energy</th>\n",
              "      <td>189488.0</td>\n",
              "      <td>23.224939</td>\n",
              "      <td>24.828596</td>\n",
              "      <td>0.280758</td>\n",
              "      <td>0.578519</td>\n",
              "      <td>35.489707</td>\n",
              "      <td>38.119598</td>\n",
              "      <td>99.991317</td>\n",
              "    </tr>\n",
              "    <tr>\n",
              "      <th>diag</th>\n",
              "      <td>189488.0</td>\n",
              "      <td>0.233942</td>\n",
              "      <td>0.251381</td>\n",
              "      <td>0.005000</td>\n",
              "      <td>0.005000</td>\n",
              "      <td>0.378000</td>\n",
              "      <td>0.378000</td>\n",
              "      <td>1.000000</td>\n",
              "    </tr>\n",
              "    <tr>\n",
              "      <th>pca1</th>\n",
              "      <td>189488.0</td>\n",
              "      <td>0.126102</td>\n",
              "      <td>0.193949</td>\n",
              "      <td>-0.878344</td>\n",
              "      <td>0.023608</td>\n",
              "      <td>0.057811</td>\n",
              "      <td>0.193317</td>\n",
              "      <td>0.996973</td>\n",
              "    </tr>\n",
              "    <tr>\n",
              "      <th>pca2</th>\n",
              "      <td>189488.0</td>\n",
              "      <td>0.053110</td>\n",
              "      <td>0.225161</td>\n",
              "      <td>-0.983825</td>\n",
              "      <td>-0.010437</td>\n",
              "      <td>0.022784</td>\n",
              "      <td>0.175336</td>\n",
              "      <td>0.979041</td>\n",
              "    </tr>\n",
              "    <tr>\n",
              "      <th>pca3</th>\n",
              "      <td>189488.0</td>\n",
              "      <td>-0.000552</td>\n",
              "      <td>0.231339</td>\n",
              "      <td>-0.960883</td>\n",
              "      <td>-0.062514</td>\n",
              "      <td>0.008743</td>\n",
              "      <td>0.097253</td>\n",
              "      <td>0.981669</td>\n",
              "    </tr>\n",
              "  </tbody>\n",
              "</table>\n",
              "</div>"
            ],
            "text/plain": [
              "           count       mean        std       min       25%        50%  \\\n",
              "energy  189488.0  23.224939  24.828596  0.280758  0.578519  35.489707   \n",
              "diag    189488.0   0.233942   0.251381  0.005000  0.005000   0.378000   \n",
              "pca1    189488.0   0.126102   0.193949 -0.878344  0.023608   0.057811   \n",
              "pca2    189488.0   0.053110   0.225161 -0.983825 -0.010437   0.022784   \n",
              "pca3    189488.0  -0.000552   0.231339 -0.960883 -0.062514   0.008743   \n",
              "\n",
              "              75%        max  \n",
              "energy  38.119598  99.991317  \n",
              "diag     0.378000   1.000000  \n",
              "pca1     0.193317   0.996973  \n",
              "pca2     0.175336   0.979041  \n",
              "pca3     0.097253   0.981669  "
            ]
          },
          "execution_count": 26,
          "metadata": {},
          "output_type": "execute_result"
        }
      ],
      "source": [
        "Data.info()\n",
        "Data.describe().transpose()"
      ]
    },
    {
      "cell_type": "code",
      "execution_count": 27,
      "metadata": {
        "colab": {
          "base_uri": "https://localhost:8080/"
        },
        "id": "JyOcbwMoCLa9",
        "outputId": "807216a1-facf-49fd-9cce-a0e8fb0a9b7a"
      },
      "outputs": [
        {
          "data": {
            "text/plain": [
              "name      0\n",
              "energy    0\n",
              "diag      0\n",
              "pca1      0\n",
              "pca2      0\n",
              "pca3      0\n",
              "dtype: int64"
            ]
          },
          "execution_count": 27,
          "metadata": {},
          "output_type": "execute_result"
        }
      ],
      "source": [
        "null_counts = Data.isna().sum()\n",
        "null_counts"
      ]
    },
    {
      "cell_type": "code",
      "execution_count": 28,
      "metadata": {
        "colab": {
          "base_uri": "https://localhost:8080/",
          "height": 284
        },
        "id": "URX1FRPsCLa-",
        "outputId": "6730a52b-5d8e-4d03-9cf5-f05199906924"
      },
      "outputs": [
        {
          "data": {
            "text/plain": [
              "<AxesSubplot: >"
            ]
          },
          "execution_count": 28,
          "metadata": {},
          "output_type": "execute_result"
        },
        {
          "data": {
            "image/png": "[encoded data removed]",
            "text/plain": [
              "<Figure size 640x480 with 1 Axes>"
            ]
          },
          "metadata": {},
          "output_type": "display_data"
        }
      ],
      "source": [
        "features = ['energy','diag','pca1', 'pca2', 'pca3']\n",
        "Data.boxplot(features)\n"
      ]
    },
    {
      "cell_type": "code",
      "execution_count": 29,
      "metadata": {},
      "outputs": [
        {
          "data": {
            "text/plain": [
              "<AxesSubplot: >"
            ]
          },
          "execution_count": 29,
          "metadata": {},
          "output_type": "execute_result"
        },
        {
          "data": {
            "image/png": "[encoded data removed]",
            "text/plain": [
              "<Figure size 640x480 with 1 Axes>"
            ]
          },
          "metadata": {},
          "output_type": "display_data"
        }
      ],
      "source": [
        "features = ['diag','pca1', 'pca2', 'pca3']\n",
        "Data.boxplot(features)\n"
      ]
    },
    {
      "cell_type": "code",
      "execution_count": 30,
      "metadata": {},
      "outputs": [
        {
          "data": {
            "text/plain": [
              "<AxesSubplot: >"
            ]
          },
          "execution_count": 30,
          "metadata": {},
          "output_type": "execute_result"
        },
        {
          "data": {
            "image/png": "[encoded data removed]",
            "text/plain": [
              "<Figure size 640x480 with 1 Axes>"
            ]
          },
          "metadata": {},
          "output_type": "display_data"
        }
      ],
      "source": [
        "features = ['pca1', 'pca2', 'pca3']\n",
        "Data.boxplot(features)\n"
      ]
    },
    {
      "cell_type": "code",
      "execution_count": 31,
      "metadata": {
        "id": "7LWenBCgCLa-"
      },
      "outputs": [],
      "source": [
        "selected_features = ['diag','pca1','pca2','pca3']\n",
        "X = Data[selected_features]"
      ]
    },
    {
      "cell_type": "code",
      "execution_count": 32,
      "metadata": {},
      "outputs": [],
      "source": [
        "selected_features = ['diag', 'pca1', 'pca2', 'pca3']\n",
        "Data['count'] = Data.groupby('name')['name'].transform('count')\n",
        "bins = [0, 13, 20, float(\"inf\")]\n",
        "labels = ['0-13', '14-20', '20+']\n",
        "Data['Bin'] = pd.cut(Data['count'], bins=bins, labels=labels)\n",
        "\n",
        "X = Data[selected_features + ['Bin']]  # Include 'Bin' column\n",
        "X = pd.get_dummies(X, columns=['Bin'])"
      ]
    },
    {
      "cell_type": "code",
      "execution_count": 33,
      "metadata": {
        "id": "j0_yhEPcCLa-"
      },
      "outputs": [],
      "source": [
        "target =  ['energy']\n",
        "y = Data[target]"
      ]
    },
    {
      "cell_type": "code",
      "execution_count": 34,
      "metadata": {
        "colab": {
          "base_uri": "https://localhost:8080/"
        },
        "id": "_N_f-MxyCLa-",
        "outputId": "656a2773-e7e0-471c-c436-cd1176a02994"
      },
      "outputs": [
        {
          "data": {
            "text/plain": [
              "array([[ 0.378     ,  0.84518036, -0.53982263, ...,  1.        ,\n",
              "         0.        ,  0.        ],\n",
              "       [ 0.005     ,  0.46454217,  0.64732854, ...,  1.        ,\n",
              "         0.        ,  0.        ],\n",
              "       [ 0.005     ,  0.26547058,  0.54895332, ...,  1.        ,\n",
              "         0.        ,  0.        ],\n",
              "       ...,\n",
              "       [ 0.005     ,  0.02825252, -0.00129901, ...,  1.        ,\n",
              "         0.        ,  0.        ],\n",
              "       [ 0.005     ,  0.0241501 ,  0.00616268, ...,  1.        ,\n",
              "         0.        ,  0.        ],\n",
              "       [ 0.005     ,  0.02129546, -0.00274642, ...,  1.        ,\n",
              "         0.        ,  0.        ]])"
            ]
          },
          "execution_count": 34,
          "metadata": {},
          "output_type": "execute_result"
        }
      ],
      "source": [
        "from sklearn.preprocessing import MaxAbsScaler\n",
        "\n",
        "max_abs_scaler = MaxAbsScaler()\n",
        "X_scale = max_abs_scaler.fit_transform(X)\n",
        "X_scale"
      ]
    },
    {
      "cell_type": "code",
      "execution_count": 35,
      "metadata": {
        "id": "kkmh5Z-4CLa-"
      },
      "outputs": [],
      "source": [
        "from keras.models import Sequential\n",
        "from keras.layers import Dense, Dropout\n",
        "from keras.layers.reshaping.flatten import Flatten\n",
        "from sklearn.model_selection import train_test_split"
      ]
    },
    {
      "cell_type": "code",
      "execution_count": 36,
      "metadata": {},
      "outputs": [
        {
          "name": "stdout",
          "output_type": "stream",
          "text": [
            "(132641, 7) (38087, 7) (18760, 7) (132641, 1) (38087, 1) (18760, 1)\n"
          ]
        }
      ],
      "source": [
        "# import necessary libraries\n",
        "from sklearn.model_selection import train_test_split\n",
        "\n",
        "\n",
        "X_train, X_temp, Y_train, Y_temp = train_test_split(X_scale, y, test_size=0.3, random_state=42)\n",
        "X_val, X_test, Y_val, Y_test = train_test_split(X_temp, Y_temp, test_size=0.33, random_state=42)\n",
        "\n",
        "print(X_train.shape, X_val.shape, X_test.shape, Y_train.shape, Y_val.shape, Y_test.shape)\n"
      ]
    },
    {
      "cell_type": "code",
      "execution_count": 37,
      "metadata": {},
      "outputs": [
        {
          "name": "stdout",
          "output_type": "stream",
          "text": [
            "(132641, 7) (38087, 7) (18760, 7) (132641, 1) (38087, 1) (18760, 1)\n"
          ]
        }
      ],
      "source": [
        "#ChatGPT\n",
        "from sklearn.model_selection import train_test_split\n",
        "\n",
        "# Split data into training and combined validation/testing sets\n",
        "X_train, X_val_and_test, Y_train, Y_val_and_test = train_test_split(X_scale, y, test_size=0.3, random_state=42)\n",
        "\n",
        "# Split combined validation/testing set into separate validation and testing sets\n",
        "X_val, X_test, Y_val, Y_test = train_test_split(X_val_and_test, Y_val_and_test, test_size=0.33, random_state=42)\n",
        "\n",
        "# Print shapes of all sets\n",
        "print(X_train.shape, X_val.shape, X_test.shape, Y_train.shape, Y_val.shape, Y_test.shape)\n"
      ]
    },
    {
      "cell_type": "code",
      "execution_count": 38,
      "metadata": {
        "colab": {
          "base_uri": "https://localhost:8080/"
        },
        "id": "VSODuv4fCLa-",
        "outputId": "5235acd5-c55c-4048-bb44-9a8ca2414c22"
      },
      "outputs": [],
      "source": [
        "# X_train, X_val_and_test, Y_train, Y_val_and_test = train_test_split(X_scale, y, test_size=0.2)\n",
        "# X_val, X_test, Y_val, Y_test = train_test_split(X_val_and_test, Y_val_and_test, test_size=0.5)\n",
        "# print(X_train.shape, X_val.shape, X_test.shape, Y_train.shape, Y_val.shape, Y_test.shape)"
      ]
    },
    {
      "cell_type": "code",
      "execution_count": 39,
      "metadata": {
        "id": "yWCPJ_0oCLa_"
      },
      "outputs": [],
      "source": [
        "# model = Sequential()\n",
        "# model.add(Dense(units = 48, input_dim = 4, activation = 'relu'))\n",
        "# model.add(Dense(units = 48, activation='relu'))\n",
        "# model.add(Dense(units = 32, activation='relu'))\n",
        "# model.add(Dense(units = 32, activation='relu'))\n",
        "# model.add(Flatten())\n",
        "# model.add(Dense(units = 1))"
      ]
    },
    {
      "cell_type": "code",
      "execution_count": 40,
      "metadata": {},
      "outputs": [],
      "source": [
        "model = Sequential()\n",
        "model.add(Dense(units = 48, input_dim = 7))\n",
        "model.add(Dense(units = 48, activation='relu'))\n",
        "model.add(Dense(units = 32, activation='relu'))\n",
        "model.add(Dense(units = 32, activation='relu'))\n",
        "model.add(Dense(units = 16, activation='relu'))\n",
        "model.add(Flatten())\n",
        "model.add(Dense(units = 1))"
      ]
    },
    {
      "cell_type": "code",
      "execution_count": 41,
      "metadata": {
        "id": "_us0dno3CLa_"
      },
      "outputs": [],
      "source": [
        "model.compile(optimizer='adam', loss='mse', metrics=['mae'])\n"
      ]
    },
    {
      "cell_type": "code",
      "execution_count": 42,
      "metadata": {
        "colab": {
          "base_uri": "https://localhost:8080/"
        },
        "id": "7cFYs4YfCLa_",
        "outputId": "5fe6fb34-8498-4afa-8b2d-3243aabcf707"
      },
      "outputs": [
        {
          "name": "stdout",
          "output_type": "stream",
          "text": [
            "Epoch 1/200\n",
            "4146/4146 [==============================] - 22s 5ms/step - loss: 19.9955 - mae: 1.0655 - val_loss: 1.5985 - val_mae: 0.8190\n",
            "Epoch 2/200\n",
            "4146/4146 [==============================] - 17s 4ms/step - loss: 0.6526 - mae: 0.4778 - val_loss: 0.5991 - val_mae: 0.4153\n",
            "Epoch 3/200\n",
            "4146/4146 [==============================] - 16s 4ms/step - loss: 0.5877 - mae: 0.4513 - val_loss: 1.5466 - val_mae: 0.7593\n",
            "Epoch 4/200\n",
            "4146/4146 [==============================] - 18s 4ms/step - loss: 0.5732 - mae: 0.4443 - val_loss: 1.0402 - val_mae: 0.7161\n",
            "Epoch 5/200\n",
            "4146/4146 [==============================] - 17s 4ms/step - loss: 0.5257 - mae: 0.4253 - val_loss: 0.5508 - val_mae: 0.4484\n",
            "Epoch 6/200\n",
            "4146/4146 [==============================] - 17s 4ms/step - loss: 0.4969 - mae: 0.4120 - val_loss: 0.4710 - val_mae: 0.4381\n",
            "Epoch 7/200\n",
            "4146/4146 [==============================] - 16s 4ms/step - loss: 0.4799 - mae: 0.4018 - val_loss: 0.4775 - val_mae: 0.3942\n",
            "Epoch 8/200\n",
            "4146/4146 [==============================] - 17s 4ms/step - loss: 0.4767 - mae: 0.4017 - val_loss: 0.3934 - val_mae: 0.3280\n",
            "Epoch 9/200\n",
            "4146/4146 [==============================] - 18s 4ms/step - loss: 0.4501 - mae: 0.3878 - val_loss: 0.3886 - val_mae: 0.3593\n",
            "Epoch 10/200\n",
            "4146/4146 [==============================] - 18s 4ms/step - loss: 0.4423 - mae: 0.3833 - val_loss: 0.7111 - val_mae: 0.5869\n",
            "Epoch 11/200\n",
            "4146/4146 [==============================] - 18s 4ms/step - loss: 0.4317 - mae: 0.3790 - val_loss: 0.3735 - val_mae: 0.3290\n",
            "Epoch 12/200\n",
            "4146/4146 [==============================] - 18s 4ms/step - loss: 0.4315 - mae: 0.3796 - val_loss: 0.7283 - val_mae: 0.5563\n",
            "Epoch 13/200\n",
            "4146/4146 [==============================] - 17s 4ms/step - loss: 0.4232 - mae: 0.3751 - val_loss: 0.4162 - val_mae: 0.3376\n",
            "Epoch 14/200\n",
            "4146/4146 [==============================] - 18s 4ms/step - loss: 0.4149 - mae: 0.3719 - val_loss: 0.4970 - val_mae: 0.3991\n",
            "Epoch 15/200\n",
            "4146/4146 [==============================] - 18s 4ms/step - loss: 0.4145 - mae: 0.3711 - val_loss: 1.3517 - val_mae: 0.7990\n",
            "Epoch 16/200\n",
            "4146/4146 [==============================] - 18s 4ms/step - loss: 0.4078 - mae: 0.3675 - val_loss: 0.3479 - val_mae: 0.3149\n",
            "Epoch 17/200\n",
            "4146/4146 [==============================] - 18s 4ms/step - loss: 0.4017 - mae: 0.3641 - val_loss: 0.3831 - val_mae: 0.3766\n",
            "Epoch 18/200\n",
            "4146/4146 [==============================] - 17s 4ms/step - loss: 0.3957 - mae: 0.3615 - val_loss: 0.3293 - val_mae: 0.3232\n",
            "Epoch 19/200\n",
            "4146/4146 [==============================] - 17s 4ms/step - loss: 0.3940 - mae: 0.3594 - val_loss: 0.4113 - val_mae: 0.3560\n",
            "Epoch 20/200\n",
            "4146/4146 [==============================] - 17s 4ms/step - loss: 0.3901 - mae: 0.3584 - val_loss: 0.4305 - val_mae: 0.3365\n",
            "Epoch 21/200\n",
            "4146/4146 [==============================] - 17s 4ms/step - loss: 0.3865 - mae: 0.3558 - val_loss: 0.3577 - val_mae: 0.2864\n",
            "Epoch 22/200\n",
            "4146/4146 [==============================] - 17s 4ms/step - loss: 0.3779 - mae: 0.3490 - val_loss: 0.3908 - val_mae: 0.3319\n",
            "Epoch 23/200\n",
            "4146/4146 [==============================] - 17s 4ms/step - loss: 0.3760 - mae: 0.3485 - val_loss: 0.3834 - val_mae: 0.3540\n",
            "Epoch 24/200\n",
            "4146/4146 [==============================] - 17s 4ms/step - loss: 0.3815 - mae: 0.3517 - val_loss: 0.3342 - val_mae: 0.3047\n",
            "Epoch 25/200\n",
            "4146/4146 [==============================] - 18s 4ms/step - loss: 0.3730 - mae: 0.3466 - val_loss: 0.4328 - val_mae: 0.4260\n",
            "Epoch 26/200\n",
            "4146/4146 [==============================] - 17s 4ms/step - loss: 0.3732 - mae: 0.3468 - val_loss: 0.4294 - val_mae: 0.4242\n",
            "Epoch 27/200\n",
            "4146/4146 [==============================] - 17s 4ms/step - loss: 0.3692 - mae: 0.3433 - val_loss: 0.4073 - val_mae: 0.3667\n",
            "Epoch 28/200\n",
            "4146/4146 [==============================] - 17s 4ms/step - loss: 0.3688 - mae: 0.3428 - val_loss: 0.3161 - val_mae: 0.3095\n",
            "Epoch 29/200\n",
            "4146/4146 [==============================] - 18s 4ms/step - loss: 0.3616 - mae: 0.3396 - val_loss: 0.3168 - val_mae: 0.3153\n",
            "Epoch 30/200\n",
            "4146/4146 [==============================] - 17s 4ms/step - loss: 0.3650 - mae: 0.3408 - val_loss: 0.3481 - val_mae: 0.3511\n",
            "Epoch 31/200\n",
            "4146/4146 [==============================] - 17s 4ms/step - loss: 0.3542 - mae: 0.3346 - val_loss: 0.3730 - val_mae: 0.3510\n",
            "Epoch 32/200\n",
            "4146/4146 [==============================] - 18s 4ms/step - loss: 0.3593 - mae: 0.3372 - val_loss: 1.5956 - val_mae: 0.8543\n",
            "Epoch 33/200\n",
            "4146/4146 [==============================] - 18s 4ms/step - loss: 0.3570 - mae: 0.3340 - val_loss: 0.6287 - val_mae: 0.5185\n",
            "Epoch 34/200\n",
            "4146/4146 [==============================] - 17s 4ms/step - loss: 0.3564 - mae: 0.3345 - val_loss: 0.4493 - val_mae: 0.3744\n",
            "Epoch 35/200\n",
            "4146/4146 [==============================] - 19s 5ms/step - loss: 0.3491 - mae: 0.3311 - val_loss: 0.9692 - val_mae: 0.6022\n",
            "Epoch 36/200\n",
            "4146/4146 [==============================] - 18s 4ms/step - loss: 0.3503 - mae: 0.3315 - val_loss: 0.5033 - val_mae: 0.3983\n",
            "Epoch 37/200\n",
            "4146/4146 [==============================] - 19s 5ms/step - loss: 0.3410 - mae: 0.3255 - val_loss: 0.3243 - val_mae: 0.3180\n",
            "Epoch 38/200\n",
            "4146/4146 [==============================] - 17s 4ms/step - loss: 0.3375 - mae: 0.3227 - val_loss: 0.3553 - val_mae: 0.3678\n",
            "Epoch 39/200\n",
            "4146/4146 [==============================] - 18s 4ms/step - loss: 0.3333 - mae: 0.3191 - val_loss: 0.8351 - val_mae: 0.6259\n",
            "Epoch 40/200\n",
            "4146/4146 [==============================] - 17s 4ms/step - loss: 0.3350 - mae: 0.3192 - val_loss: 0.3553 - val_mae: 0.3129\n",
            "Epoch 41/200\n",
            "4146/4146 [==============================] - 17s 4ms/step - loss: 0.3291 - mae: 0.3180 - val_loss: 0.4295 - val_mae: 0.4363\n",
            "Epoch 42/200\n",
            "4146/4146 [==============================] - 17s 4ms/step - loss: 0.3221 - mae: 0.3122 - val_loss: 0.4693 - val_mae: 0.3930\n",
            "Epoch 43/200\n",
            "4146/4146 [==============================] - 17s 4ms/step - loss: 0.3250 - mae: 0.3142 - val_loss: 0.2865 - val_mae: 0.2829\n",
            "Epoch 44/200\n",
            "4146/4146 [==============================] - 18s 4ms/step - loss: 0.3207 - mae: 0.3115 - val_loss: 0.4022 - val_mae: 0.4133\n",
            "Epoch 45/200\n",
            "4146/4146 [==============================] - 17s 4ms/step - loss: 0.3197 - mae: 0.3116 - val_loss: 0.2880 - val_mae: 0.2880\n",
            "Epoch 46/200\n",
            "4146/4146 [==============================] - 18s 4ms/step - loss: 0.3127 - mae: 0.3059 - val_loss: 0.3302 - val_mae: 0.3214\n",
            "Epoch 47/200\n",
            "4146/4146 [==============================] - 16s 4ms/step - loss: 0.3096 - mae: 0.3050 - val_loss: 0.3350 - val_mae: 0.3397\n",
            "Epoch 48/200\n",
            "4146/4146 [==============================] - 17s 4ms/step - loss: 0.3113 - mae: 0.3046 - val_loss: 0.2860 - val_mae: 0.3007\n",
            "Epoch 49/200\n",
            "4146/4146 [==============================] - 17s 4ms/step - loss: 0.3095 - mae: 0.3044 - val_loss: 0.2944 - val_mae: 0.2759\n",
            "Epoch 50/200\n",
            "4146/4146 [==============================] - 17s 4ms/step - loss: 0.3075 - mae: 0.3025 - val_loss: 0.2974 - val_mae: 0.2926\n",
            "Epoch 51/200\n",
            "4146/4146 [==============================] - 17s 4ms/step - loss: 0.3035 - mae: 0.3007 - val_loss: 0.3069 - val_mae: 0.3301\n",
            "Epoch 52/200\n",
            "4146/4146 [==============================] - 18s 4ms/step - loss: 0.3008 - mae: 0.2989 - val_loss: 0.3362 - val_mae: 0.2953\n",
            "Epoch 53/200\n",
            "4146/4146 [==============================] - 18s 4ms/step - loss: 0.3041 - mae: 0.3012 - val_loss: 0.2572 - val_mae: 0.2571\n",
            "Epoch 54/200\n",
            "4146/4146 [==============================] - 17s 4ms/step - loss: 0.3021 - mae: 0.3000 - val_loss: 0.2755 - val_mae: 0.2691\n",
            "Epoch 55/200\n",
            "4146/4146 [==============================] - 17s 4ms/step - loss: 0.2989 - mae: 0.2970 - val_loss: 0.3369 - val_mae: 0.3061\n",
            "Epoch 56/200\n",
            "4146/4146 [==============================] - 17s 4ms/step - loss: 0.2965 - mae: 0.2962 - val_loss: 0.2749 - val_mae: 0.2846\n",
            "Epoch 57/200\n",
            "4146/4146 [==============================] - 17s 4ms/step - loss: 0.2954 - mae: 0.2955 - val_loss: 0.3439 - val_mae: 0.3194\n",
            "Epoch 58/200\n",
            "4146/4146 [==============================] - 17s 4ms/step - loss: 0.2906 - mae: 0.2936 - val_loss: 0.2834 - val_mae: 0.2713\n",
            "Epoch 59/200\n",
            "4146/4146 [==============================] - 17s 4ms/step - loss: 0.2874 - mae: 0.2904 - val_loss: 0.2772 - val_mae: 0.2733\n",
            "Epoch 60/200\n",
            "4146/4146 [==============================] - 20s 5ms/step - loss: 0.2952 - mae: 0.2954 - val_loss: 0.3015 - val_mae: 0.3260\n",
            "Epoch 61/200\n",
            "4146/4146 [==============================] - 18s 4ms/step - loss: 0.2883 - mae: 0.2901 - val_loss: 0.3952 - val_mae: 0.3586\n",
            "Epoch 62/200\n",
            "4146/4146 [==============================] - 17s 4ms/step - loss: 0.2874 - mae: 0.2904 - val_loss: 0.2681 - val_mae: 0.2750\n",
            "Epoch 63/200\n",
            "4146/4146 [==============================] - 15s 4ms/step - loss: 0.2840 - mae: 0.2868 - val_loss: 0.2728 - val_mae: 0.2728\n",
            "Epoch 64/200\n",
            "4146/4146 [==============================] - 15s 4ms/step - loss: 0.2855 - mae: 0.2887 - val_loss: 0.2686 - val_mae: 0.2539\n",
            "Epoch 65/200\n",
            "4146/4146 [==============================] - 16s 4ms/step - loss: 0.2860 - mae: 0.2897 - val_loss: 0.2748 - val_mae: 0.2885\n",
            "Epoch 66/200\n",
            "4146/4146 [==============================] - 14s 3ms/step - loss: 0.2815 - mae: 0.2855 - val_loss: 0.2749 - val_mae: 0.2726\n",
            "Epoch 67/200\n",
            "4146/4146 [==============================] - 15s 4ms/step - loss: 0.2824 - mae: 0.2859 - val_loss: 0.2802 - val_mae: 0.2646\n",
            "Epoch 68/200\n",
            "4146/4146 [==============================] - 18s 4ms/step - loss: 0.2810 - mae: 0.2848 - val_loss: 0.2974 - val_mae: 0.2870\n",
            "Epoch 69/200\n",
            "4146/4146 [==============================] - 16s 4ms/step - loss: 0.2782 - mae: 0.2831 - val_loss: 0.2607 - val_mae: 0.2529\n",
            "Epoch 70/200\n",
            "4146/4146 [==============================] - 18s 4ms/step - loss: 0.2751 - mae: 0.2805 - val_loss: 0.2743 - val_mae: 0.2546\n",
            "Epoch 71/200\n",
            "4146/4146 [==============================] - 16s 4ms/step - loss: 0.2781 - mae: 0.2831 - val_loss: 0.2453 - val_mae: 0.2381\n",
            "Epoch 72/200\n",
            "4146/4146 [==============================] - 17s 4ms/step - loss: 0.2756 - mae: 0.2810 - val_loss: 0.5967 - val_mae: 0.5042\n",
            "Epoch 73/200\n",
            "4146/4146 [==============================] - 17s 4ms/step - loss: 0.2757 - mae: 0.2812 - val_loss: 0.2723 - val_mae: 0.2689\n",
            "Epoch 74/200\n",
            "4146/4146 [==============================] - 20s 5ms/step - loss: 0.2724 - mae: 0.2783 - val_loss: 0.2607 - val_mae: 0.2581\n",
            "Epoch 75/200\n",
            "4146/4146 [==============================] - 19s 5ms/step - loss: 0.2720 - mae: 0.2776 - val_loss: 0.2582 - val_mae: 0.2581\n",
            "Epoch 76/200\n",
            "4146/4146 [==============================] - 18s 4ms/step - loss: 0.2725 - mae: 0.2799 - val_loss: 0.4069 - val_mae: 0.3590\n",
            "Epoch 77/200\n",
            "4146/4146 [==============================] - 18s 4ms/step - loss: 0.2723 - mae: 0.2773 - val_loss: 0.2500 - val_mae: 0.2511\n",
            "Epoch 78/200\n",
            "4146/4146 [==============================] - 16s 4ms/step - loss: 0.2707 - mae: 0.2782 - val_loss: 0.3929 - val_mae: 0.3863\n",
            "Epoch 79/200\n",
            "4146/4146 [==============================] - 18s 4ms/step - loss: 0.2714 - mae: 0.2773 - val_loss: 0.2340 - val_mae: 0.2314\n",
            "Epoch 80/200\n",
            "4146/4146 [==============================] - 18s 4ms/step - loss: 0.2705 - mae: 0.2771 - val_loss: 0.2392 - val_mae: 0.2419\n",
            "Epoch 81/200\n",
            "4146/4146 [==============================] - 18s 4ms/step - loss: 0.2698 - mae: 0.2767 - val_loss: 0.3706 - val_mae: 0.3422\n",
            "Epoch 82/200\n",
            "4146/4146 [==============================] - 15s 4ms/step - loss: 0.2682 - mae: 0.2751 - val_loss: 0.2326 - val_mae: 0.2362\n",
            "Epoch 83/200\n",
            "4146/4146 [==============================] - 16s 4ms/step - loss: 0.2701 - mae: 0.2777 - val_loss: 0.2600 - val_mae: 0.2671\n",
            "Epoch 84/200\n",
            "4146/4146 [==============================] - 15s 4ms/step - loss: 0.2684 - mae: 0.2762 - val_loss: 0.4727 - val_mae: 0.4121\n",
            "Epoch 85/200\n",
            "4146/4146 [==============================] - 16s 4ms/step - loss: 0.2701 - mae: 0.2773 - val_loss: 0.3105 - val_mae: 0.2908\n",
            "Epoch 86/200\n",
            "4146/4146 [==============================] - 16s 4ms/step - loss: 0.2643 - mae: 0.2729 - val_loss: 0.2632 - val_mae: 0.2676\n",
            "Epoch 87/200\n",
            "4146/4146 [==============================] - 19s 5ms/step - loss: 0.2629 - mae: 0.2708 - val_loss: 0.2402 - val_mae: 0.2574\n",
            "Epoch 88/200\n",
            "4146/4146 [==============================] - 20s 5ms/step - loss: 0.2635 - mae: 0.2716 - val_loss: 0.2400 - val_mae: 0.2607\n",
            "Epoch 89/200\n",
            "4146/4146 [==============================] - 18s 4ms/step - loss: 0.2633 - mae: 0.2724 - val_loss: 0.3011 - val_mae: 0.3025\n",
            "Epoch 90/200\n",
            "4146/4146 [==============================] - 15s 4ms/step - loss: 0.2596 - mae: 0.2695 - val_loss: 0.3713 - val_mae: 0.3366\n",
            "Epoch 91/200\n",
            "4146/4146 [==============================] - 16s 4ms/step - loss: 0.2612 - mae: 0.2700 - val_loss: 0.4620 - val_mae: 0.4011\n",
            "Epoch 92/200\n",
            "4146/4146 [==============================] - 17s 4ms/step - loss: 0.2602 - mae: 0.2696 - val_loss: 0.2544 - val_mae: 0.2740\n",
            "Epoch 93/200\n",
            "4146/4146 [==============================] - 16s 4ms/step - loss: 0.2603 - mae: 0.2696 - val_loss: 0.2371 - val_mae: 0.2473\n",
            "Epoch 94/200\n",
            "4146/4146 [==============================] - 16s 4ms/step - loss: 0.2553 - mae: 0.2665 - val_loss: 0.2606 - val_mae: 0.2690\n",
            "Epoch 95/200\n",
            "4146/4146 [==============================] - 16s 4ms/step - loss: 0.2573 - mae: 0.2680 - val_loss: 0.4136 - val_mae: 0.3784\n",
            "Epoch 96/200\n",
            "4146/4146 [==============================] - 16s 4ms/step - loss: 0.2592 - mae: 0.2693 - val_loss: 0.7303 - val_mae: 0.5642\n",
            "Epoch 97/200\n",
            "4146/4146 [==============================] - 17s 4ms/step - loss: 0.2531 - mae: 0.2650 - val_loss: 0.2444 - val_mae: 0.2431\n",
            "Epoch 98/200\n",
            "4146/4146 [==============================] - 17s 4ms/step - loss: 0.2530 - mae: 0.2650 - val_loss: 0.2353 - val_mae: 0.2430\n",
            "Epoch 99/200\n",
            "4146/4146 [==============================] - 18s 4ms/step - loss: 0.2516 - mae: 0.2644 - val_loss: 0.2273 - val_mae: 0.2401\n",
            "Epoch 100/200\n",
            "4146/4146 [==============================] - 18s 4ms/step - loss: 0.2505 - mae: 0.2635 - val_loss: 0.2340 - val_mae: 0.2399\n",
            "Epoch 101/200\n",
            "4146/4146 [==============================] - 16s 4ms/step - loss: 0.2544 - mae: 0.2670 - val_loss: 0.2599 - val_mae: 0.2622\n",
            "Epoch 102/200\n",
            "4146/4146 [==============================] - 17s 4ms/step - loss: 0.2499 - mae: 0.2633 - val_loss: 0.2798 - val_mae: 0.2806\n",
            "Epoch 103/200\n",
            "4146/4146 [==============================] - 17s 4ms/step - loss: 0.2496 - mae: 0.2628 - val_loss: 0.3413 - val_mae: 0.3543\n",
            "Epoch 104/200\n",
            "4146/4146 [==============================] - 16s 4ms/step - loss: 0.2497 - mae: 0.2623 - val_loss: 0.3529 - val_mae: 0.3376\n",
            "Epoch 105/200\n",
            "4146/4146 [==============================] - 15s 4ms/step - loss: 0.2505 - mae: 0.2635 - val_loss: 0.3030 - val_mae: 0.3419\n",
            "Epoch 106/200\n",
            "4146/4146 [==============================] - 16s 4ms/step - loss: 0.2493 - mae: 0.2629 - val_loss: 0.5501 - val_mae: 0.4208\n",
            "Epoch 107/200\n",
            "4146/4146 [==============================] - 17s 4ms/step - loss: 0.2445 - mae: 0.2586 - val_loss: 0.2260 - val_mae: 0.2415\n",
            "Epoch 108/200\n",
            "4146/4146 [==============================] - 16s 4ms/step - loss: 0.2454 - mae: 0.2590 - val_loss: 0.3903 - val_mae: 0.4076\n",
            "Epoch 109/200\n",
            "4146/4146 [==============================] - 16s 4ms/step - loss: 0.2468 - mae: 0.2600 - val_loss: 0.2228 - val_mae: 0.2394\n",
            "Epoch 110/200\n",
            "4146/4146 [==============================] - 16s 4ms/step - loss: 0.2465 - mae: 0.2614 - val_loss: 0.2689 - val_mae: 0.2700\n",
            "Epoch 111/200\n",
            "4146/4146 [==============================] - 16s 4ms/step - loss: 0.2439 - mae: 0.2585 - val_loss: 0.2761 - val_mae: 0.3237\n",
            "Epoch 112/200\n",
            "4146/4146 [==============================] - 16s 4ms/step - loss: 0.2470 - mae: 0.2600 - val_loss: 0.2967 - val_mae: 0.3179\n",
            "Epoch 113/200\n",
            "4146/4146 [==============================] - 15s 4ms/step - loss: 0.2457 - mae: 0.2607 - val_loss: 0.2415 - val_mae: 0.2356\n",
            "Epoch 114/200\n",
            "4146/4146 [==============================] - 16s 4ms/step - loss: 0.2484 - mae: 0.2616 - val_loss: 0.3165 - val_mae: 0.3397\n",
            "Epoch 115/200\n",
            "4146/4146 [==============================] - 16s 4ms/step - loss: 0.2416 - mae: 0.2570 - val_loss: 0.2327 - val_mae: 0.2339\n",
            "Epoch 116/200\n",
            "4146/4146 [==============================] - 15s 4ms/step - loss: 0.2414 - mae: 0.2565 - val_loss: 0.2338 - val_mae: 0.2452\n",
            "Epoch 117/200\n",
            "4146/4146 [==============================] - 16s 4ms/step - loss: 0.2437 - mae: 0.2588 - val_loss: 0.2197 - val_mae: 0.2265\n",
            "Epoch 118/200\n",
            "4146/4146 [==============================] - 15s 4ms/step - loss: 0.2410 - mae: 0.2566 - val_loss: 0.2195 - val_mae: 0.2230\n",
            "Epoch 119/200\n",
            "4146/4146 [==============================] - 16s 4ms/step - loss: 0.2411 - mae: 0.2577 - val_loss: 0.2118 - val_mae: 0.2236\n",
            "Epoch 120/200\n",
            "4146/4146 [==============================] - 15s 4ms/step - loss: 0.2400 - mae: 0.2564 - val_loss: 0.3635 - val_mae: 0.3461\n",
            "Epoch 121/200\n",
            "4146/4146 [==============================] - 15s 4ms/step - loss: 0.2402 - mae: 0.2565 - val_loss: 0.2509 - val_mae: 0.2624\n",
            "Epoch 122/200\n",
            "4146/4146 [==============================] - 16s 4ms/step - loss: 0.2373 - mae: 0.2533 - val_loss: 0.6334 - val_mae: 0.5315\n",
            "Epoch 123/200\n",
            "4146/4146 [==============================] - 16s 4ms/step - loss: 0.2441 - mae: 0.2602 - val_loss: 0.3823 - val_mae: 0.4097\n",
            "Epoch 124/200\n",
            "4146/4146 [==============================] - 16s 4ms/step - loss: 0.2373 - mae: 0.2539 - val_loss: 0.2336 - val_mae: 0.2495\n",
            "Epoch 125/200\n",
            "4146/4146 [==============================] - 16s 4ms/step - loss: 0.2359 - mae: 0.2528 - val_loss: 0.2285 - val_mae: 0.2537\n",
            "Epoch 126/200\n",
            "4146/4146 [==============================] - 15s 4ms/step - loss: 0.2360 - mae: 0.2542 - val_loss: 0.3458 - val_mae: 0.3425\n",
            "Epoch 127/200\n",
            "4146/4146 [==============================] - 15s 4ms/step - loss: 0.2363 - mae: 0.2544 - val_loss: 0.2219 - val_mae: 0.2415\n",
            "Epoch 128/200\n",
            "4146/4146 [==============================] - 16s 4ms/step - loss: 0.2357 - mae: 0.2524 - val_loss: 0.2229 - val_mae: 0.2466\n",
            "Epoch 129/200\n",
            "4146/4146 [==============================] - 16s 4ms/step - loss: 0.2355 - mae: 0.2528 - val_loss: 0.2320 - val_mae: 0.2598\n",
            "Epoch 130/200\n",
            "4146/4146 [==============================] - 16s 4ms/step - loss: 0.2331 - mae: 0.2510 - val_loss: 0.2374 - val_mae: 0.2547\n",
            "Epoch 131/200\n",
            "4146/4146 [==============================] - 16s 4ms/step - loss: 0.2319 - mae: 0.2513 - val_loss: 0.2415 - val_mae: 0.2361\n",
            "Epoch 132/200\n",
            "4146/4146 [==============================] - 17s 4ms/step - loss: 0.2342 - mae: 0.2520 - val_loss: 0.2109 - val_mae: 0.2174\n",
            "Epoch 133/200\n",
            "4146/4146 [==============================] - 15s 4ms/step - loss: 0.2318 - mae: 0.2501 - val_loss: 0.2186 - val_mae: 0.2262\n",
            "Epoch 134/200\n",
            "4146/4146 [==============================] - 15s 4ms/step - loss: 0.2311 - mae: 0.2500 - val_loss: 0.2297 - val_mae: 0.2450\n",
            "Epoch 135/200\n",
            "4146/4146 [==============================] - 15s 4ms/step - loss: 0.2318 - mae: 0.2503 - val_loss: 0.2349 - val_mae: 0.2447\n",
            "Epoch 136/200\n",
            "4146/4146 [==============================] - 16s 4ms/step - loss: 0.2302 - mae: 0.2491 - val_loss: 0.2111 - val_mae: 0.2204\n",
            "Epoch 137/200\n",
            "4146/4146 [==============================] - 15s 4ms/step - loss: 0.2288 - mae: 0.2473 - val_loss: 0.2199 - val_mae: 0.2491\n",
            "Epoch 138/200\n",
            "4146/4146 [==============================] - 16s 4ms/step - loss: 0.2288 - mae: 0.2470 - val_loss: 0.2453 - val_mae: 0.2756\n",
            "Epoch 139/200\n",
            "4146/4146 [==============================] - 16s 4ms/step - loss: 0.2290 - mae: 0.2486 - val_loss: 0.2038 - val_mae: 0.2133\n",
            "Epoch 140/200\n",
            "4146/4146 [==============================] - 16s 4ms/step - loss: 0.2301 - mae: 0.2484 - val_loss: 0.2163 - val_mae: 0.2331\n",
            "Epoch 141/200\n",
            "4146/4146 [==============================] - 15s 4ms/step - loss: 0.2321 - mae: 0.2507 - val_loss: 0.5309 - val_mae: 0.4887\n",
            "Epoch 142/200\n",
            "4146/4146 [==============================] - 15s 4ms/step - loss: 0.2287 - mae: 0.2477 - val_loss: 0.2446 - val_mae: 0.2837\n",
            "Epoch 143/200\n",
            "4146/4146 [==============================] - 15s 4ms/step - loss: 0.2274 - mae: 0.2466 - val_loss: 0.2242 - val_mae: 0.2470\n",
            "Epoch 144/200\n",
            "4146/4146 [==============================] - 16s 4ms/step - loss: 0.2250 - mae: 0.2451 - val_loss: 0.2272 - val_mae: 0.2407\n",
            "Epoch 145/200\n",
            "4146/4146 [==============================] - 16s 4ms/step - loss: 0.2278 - mae: 0.2471 - val_loss: 0.2290 - val_mae: 0.2513\n",
            "Epoch 146/200\n",
            "4146/4146 [==============================] - 16s 4ms/step - loss: 0.2260 - mae: 0.2458 - val_loss: 0.2101 - val_mae: 0.2219\n",
            "Epoch 147/200\n",
            "4146/4146 [==============================] - 16s 4ms/step - loss: 0.2265 - mae: 0.2456 - val_loss: 0.5353 - val_mae: 0.4581\n",
            "Epoch 148/200\n",
            "4146/4146 [==============================] - 16s 4ms/step - loss: 0.2262 - mae: 0.2445 - val_loss: 0.3652 - val_mae: 0.3382\n",
            "Epoch 149/200\n",
            "4146/4146 [==============================] - 16s 4ms/step - loss: 0.2298 - mae: 0.2483 - val_loss: 0.1962 - val_mae: 0.2156\n",
            "Epoch 150/200\n",
            "4146/4146 [==============================] - 15s 4ms/step - loss: 0.2243 - mae: 0.2438 - val_loss: 0.2048 - val_mae: 0.2233\n",
            "Epoch 151/200\n",
            "4146/4146 [==============================] - 15s 4ms/step - loss: 0.2231 - mae: 0.2433 - val_loss: 0.2181 - val_mae: 0.2294\n",
            "Epoch 152/200\n",
            "4146/4146 [==============================] - 15s 4ms/step - loss: 0.2256 - mae: 0.2447 - val_loss: 0.2728 - val_mae: 0.3163\n",
            "Epoch 153/200\n",
            "4146/4146 [==============================] - 17s 4ms/step - loss: 0.2224 - mae: 0.2425 - val_loss: 0.3593 - val_mae: 0.3744\n",
            "Epoch 154/200\n",
            "4146/4146 [==============================] - 16s 4ms/step - loss: 0.2359 - mae: 0.2510 - val_loss: 0.2340 - val_mae: 0.2398\n",
            "Epoch 155/200\n",
            "4146/4146 [==============================] - 15s 4ms/step - loss: 0.2233 - mae: 0.2434 - val_loss: 0.2131 - val_mae: 0.2348\n",
            "Epoch 156/200\n",
            "4146/4146 [==============================] - 15s 4ms/step - loss: 0.2229 - mae: 0.2431 - val_loss: 0.2262 - val_mae: 0.2689\n",
            "Epoch 157/200\n",
            "4146/4146 [==============================] - 16s 4ms/step - loss: 0.2242 - mae: 0.2446 - val_loss: 0.1990 - val_mae: 0.2098\n",
            "Epoch 158/200\n",
            "4146/4146 [==============================] - 15s 4ms/step - loss: 0.2207 - mae: 0.2407 - val_loss: 0.2039 - val_mae: 0.2198\n",
            "Epoch 159/200\n",
            "4146/4146 [==============================] - 15s 4ms/step - loss: 0.2217 - mae: 0.2428 - val_loss: 0.2251 - val_mae: 0.2663\n",
            "Epoch 160/200\n",
            "4146/4146 [==============================] - 15s 4ms/step - loss: 0.2221 - mae: 0.2432 - val_loss: 0.2035 - val_mae: 0.2262\n",
            "Epoch 161/200\n",
            "4146/4146 [==============================] - 16s 4ms/step - loss: 0.2177 - mae: 0.2395 - val_loss: 0.2017 - val_mae: 0.2137\n",
            "Epoch 162/200\n",
            "4146/4146 [==============================] - 15s 4ms/step - loss: 0.2201 - mae: 0.2412 - val_loss: 0.2120 - val_mae: 0.2332\n",
            "Epoch 163/200\n",
            "4146/4146 [==============================] - 15s 4ms/step - loss: 0.2198 - mae: 0.2410 - val_loss: 0.2215 - val_mae: 0.2408\n",
            "Epoch 164/200\n",
            "4146/4146 [==============================] - 15s 4ms/step - loss: 0.2174 - mae: 0.2390 - val_loss: 0.2321 - val_mae: 0.2652\n",
            "Epoch 165/200\n",
            "4146/4146 [==============================] - 15s 4ms/step - loss: 0.2186 - mae: 0.2394 - val_loss: 0.3444 - val_mae: 0.3314\n",
            "Epoch 166/200\n",
            "4146/4146 [==============================] - 16s 4ms/step - loss: 0.2196 - mae: 0.2404 - val_loss: 0.2010 - val_mae: 0.2098\n",
            "Epoch 167/200\n",
            "4146/4146 [==============================] - 15s 4ms/step - loss: 0.2189 - mae: 0.2407 - val_loss: 0.2065 - val_mae: 0.2194\n",
            "Epoch 168/200\n",
            "4146/4146 [==============================] - 15s 4ms/step - loss: 0.2162 - mae: 0.2365 - val_loss: 0.2436 - val_mae: 0.2527\n",
            "Epoch 169/200\n",
            "4146/4146 [==============================] - 16s 4ms/step - loss: 0.2165 - mae: 0.2385 - val_loss: 0.2111 - val_mae: 0.2416\n",
            "Epoch 170/200\n",
            "4146/4146 [==============================] - 16s 4ms/step - loss: 0.2153 - mae: 0.2377 - val_loss: 0.2114 - val_mae: 0.2295\n",
            "Epoch 171/200\n",
            "4146/4146 [==============================] - 15s 4ms/step - loss: 0.2220 - mae: 0.2445 - val_loss: 0.2172 - val_mae: 0.2323\n",
            "Epoch 172/200\n",
            "4146/4146 [==============================] - 15s 4ms/step - loss: 0.2158 - mae: 0.2375 - val_loss: 0.2322 - val_mae: 0.2249\n",
            "Epoch 173/200\n",
            "4146/4146 [==============================] - 15s 4ms/step - loss: 0.2182 - mae: 0.2400 - val_loss: 0.2105 - val_mae: 0.2395\n",
            "Epoch 174/200\n",
            "4146/4146 [==============================] - 16s 4ms/step - loss: 0.2185 - mae: 0.2406 - val_loss: 0.2148 - val_mae: 0.2328\n",
            "Epoch 175/200\n",
            "4146/4146 [==============================] - 15s 4ms/step - loss: 0.2165 - mae: 0.2386 - val_loss: 0.3060 - val_mae: 0.3425\n",
            "Epoch 176/200\n",
            "4146/4146 [==============================] - 15s 4ms/step - loss: 0.2170 - mae: 0.2384 - val_loss: 0.2028 - val_mae: 0.2187\n",
            "Epoch 177/200\n",
            "4146/4146 [==============================] - 15s 4ms/step - loss: 0.2137 - mae: 0.2367 - val_loss: 0.2037 - val_mae: 0.2110\n",
            "Epoch 178/200\n",
            "4146/4146 [==============================] - 15s 4ms/step - loss: 0.2160 - mae: 0.2382 - val_loss: 0.2194 - val_mae: 0.2521\n",
            "Epoch 179/200\n",
            "4146/4146 [==============================] - 16s 4ms/step - loss: 0.2136 - mae: 0.2364 - val_loss: 0.2024 - val_mae: 0.2322\n",
            "Epoch 180/200\n",
            "4146/4146 [==============================] - 15s 4ms/step - loss: 0.2148 - mae: 0.2375 - val_loss: 0.2267 - val_mae: 0.2785\n",
            "Epoch 181/200\n",
            "4146/4146 [==============================] - 15s 4ms/step - loss: 0.2112 - mae: 0.2342 - val_loss: 0.1932 - val_mae: 0.2176\n",
            "Epoch 182/200\n",
            "4146/4146 [==============================] - 15s 4ms/step - loss: 0.2097 - mae: 0.2322 - val_loss: 0.2066 - val_mae: 0.2226\n",
            "Epoch 183/200\n",
            "4146/4146 [==============================] - 16s 4ms/step - loss: 0.2163 - mae: 0.2379 - val_loss: 0.2123 - val_mae: 0.2245\n",
            "Epoch 184/200\n",
            "4146/4146 [==============================] - 15s 4ms/step - loss: 0.2104 - mae: 0.2334 - val_loss: 0.2562 - val_mae: 0.2999\n",
            "Epoch 185/200\n",
            "4146/4146 [==============================] - 15s 4ms/step - loss: 0.2136 - mae: 0.2362 - val_loss: 0.2254 - val_mae: 0.2432\n",
            "Epoch 186/200\n",
            "4146/4146 [==============================] - 15s 4ms/step - loss: 0.2114 - mae: 0.2340 - val_loss: 0.3162 - val_mae: 0.3558\n",
            "Epoch 187/200\n",
            "4146/4146 [==============================] - 16s 4ms/step - loss: 0.2104 - mae: 0.2350 - val_loss: 0.2137 - val_mae: 0.2278\n",
            "Epoch 188/200\n",
            "4146/4146 [==============================] - 15s 4ms/step - loss: 0.2088 - mae: 0.2333 - val_loss: 0.1995 - val_mae: 0.2134\n",
            "Epoch 189/200\n",
            "4146/4146 [==============================] - 15s 4ms/step - loss: 0.2125 - mae: 0.2363 - val_loss: 0.3113 - val_mae: 0.3150\n",
            "Epoch 190/200\n",
            "4146/4146 [==============================] - 15s 4ms/step - loss: 0.2085 - mae: 0.2326 - val_loss: 0.2080 - val_mae: 0.2172\n",
            "Epoch 191/200\n",
            "4146/4146 [==============================] - 16s 4ms/step - loss: 0.2102 - mae: 0.2333 - val_loss: 0.4086 - val_mae: 0.3843\n",
            "Epoch 192/200\n",
            "4146/4146 [==============================] - 15s 4ms/step - loss: 0.2139 - mae: 0.2348 - val_loss: 0.1907 - val_mae: 0.2113\n",
            "Epoch 193/200\n",
            "4146/4146 [==============================] - 15s 4ms/step - loss: 0.2133 - mae: 0.2363 - val_loss: 0.2451 - val_mae: 0.2819\n",
            "Epoch 194/200\n",
            "4146/4146 [==============================] - 15s 4ms/step - loss: 0.2080 - mae: 0.2326 - val_loss: 0.2109 - val_mae: 0.2256\n",
            "Epoch 195/200\n",
            "4146/4146 [==============================] - 15s 4ms/step - loss: 0.2085 - mae: 0.2327 - val_loss: 0.2097 - val_mae: 0.2418\n",
            "Epoch 196/200\n",
            "4146/4146 [==============================] - 15s 4ms/step - loss: 0.2055 - mae: 0.2293 - val_loss: 0.2689 - val_mae: 0.2817\n",
            "Epoch 197/200\n",
            "4146/4146 [==============================] - 15s 4ms/step - loss: 0.2081 - mae: 0.2322 - val_loss: 0.3214 - val_mae: 0.3651\n",
            "Epoch 198/200\n",
            "4146/4146 [==============================] - 15s 4ms/step - loss: 0.2089 - mae: 0.2339 - val_loss: 0.1930 - val_mae: 0.2074\n",
            "Epoch 199/200\n",
            "4146/4146 [==============================] - 15s 4ms/step - loss: 0.2044 - mae: 0.2300 - val_loss: 0.2356 - val_mae: 0.2784\n",
            "Epoch 200/200\n",
            "4146/4146 [==============================] - 16s 4ms/step - loss: 0.2071 - mae: 0.2326 - val_loss: 0.2401 - val_mae: 0.2583\n"
          ]
        }
      ],
      "source": [
        "hist = model.fit(\n",
        "    X_train, Y_train,\n",
        "    batch_size=32,\n",
        "    epochs = 200,\n",
        "    validation_data=(X_val, Y_val)\n",
        ")"
      ]
    },
    {
      "cell_type": "code",
      "execution_count": 43,
      "metadata": {
        "colab": {
          "base_uri": "https://localhost:8080/"
        },
        "id": "ckbXAviyCLa_",
        "outputId": "82dc096e-2aeb-4471-8ba1-f7e95f3254e2"
      },
      "outputs": [
        {
          "name": "stdout",
          "output_type": "stream",
          "text": [
            "587/587 [==============================] - 1s 2ms/step - loss: 0.2390 - mae: 0.2582\n"
          ]
        },
        {
          "data": {
            "text/plain": [
              "[0.2390051633119583, 0.25817111134529114]"
            ]
          },
          "execution_count": 43,
          "metadata": {},
          "output_type": "execute_result"
        }
      ],
      "source": [
        "model.evaluate(X_test, Y_test)"
      ]
    },
    {
      "cell_type": "code",
      "execution_count": 44,
      "metadata": {
        "colab": {
          "base_uri": "https://localhost:8080/"
        },
        "id": "OzalqdGSCLa_",
        "outputId": "41fc5435-21b4-43ac-951f-91928d5d20a2"
      },
      "outputs": [
        {
          "name": "stdout",
          "output_type": "stream",
          "text": [
            "587/587 [==============================] - 1s 2ms/step - loss: 0.2390 - mae: 0.2582\n",
            "Test loss: 0.239, Test MAE: 0.258\n"
          ]
        }
      ],
      "source": [
        "# Evaluate the model on the test set\n",
        "test_loss, test_mae = model.evaluate(X_test, Y_test)\n",
        "print(f\"Test loss: {test_loss:.3f}, Test MAE: {test_mae:.3f}\")"
      ]
    },
    {
      "cell_type": "code",
      "execution_count": 45,
      "metadata": {
        "colab": {
          "base_uri": "https://localhost:8080/",
          "height": 265
        },
        "id": "0Vwz9W0OCLa_",
        "outputId": "b0d65d85-c9ba-4835-9b11-4f6abdb4dafc"
      },
      "outputs": [
        {
          "data": {
            "image/png": "[encoded data removed]",
            "text/plain": [
              "<Figure size 640x480 with 1 Axes>"
            ]
          },
          "metadata": {},
          "output_type": "display_data"
        },
        {
          "name": "stdout",
          "output_type": "stream",
          "text": [
            "4146/4146 [==============================] - 10s 2ms/step - loss: 0.2337 - mae: 0.2560\n",
            "Train loss: 0.234, Train MAE: 0.256\n",
            "587/587 [==============================] - 1s 2ms/step - loss: 0.2390 - mae: 0.2582\n",
            "Test loss: 0.239, Test MAE: 0.258\n",
            "\n",
            "4146/4146 [==============================] - 11s 2ms/step\n",
            "   Predicted Energy  Actual Energy\n",
            "0         37.130547      35.533061\n",
            "1         36.865570      38.118238\n",
            "2          0.491221       0.581109\n",
            "3          0.501700       0.410339\n",
            "4          0.558682       0.586390\n",
            "5         37.984715      38.052270\n",
            "6          0.575933       0.577919\n",
            "7          0.575933       0.582940\n",
            "8          0.532807       0.583850\n",
            "9         38.594276      38.072458\n"
          ]
        }
      ],
      "source": [
        "plt.plot(hist.history['loss'], label='Training Loss')\n",
        "plt.plot(hist.history['val_loss'], label='Validation Loss')\n",
        "plt.legend()\n",
        "plt.show()\n",
        "# Calculate MAE for training and test set\n",
        "\n",
        "# Evaluate the model on the test set\n",
        "train_loss, train_mae = model.evaluate(X_train, Y_train)\n",
        "print(f\"Train loss: {train_loss:.3f}, Train MAE: {train_mae:.3f}\")\n",
        "\n",
        "test_loss, test_mae = model.evaluate(X_test, Y_test)\n",
        "print(f\"Test loss: {test_loss:.3f}, Test MAE: {test_mae:.3f}\\n\")\n",
        "\n",
        "predicted_output_train = model.predict(X_train)\n",
        "actual_output_train = Y_train.values.flatten()\n",
        "predicted_output_train_flat = predicted_output_train.flatten()\n",
        "actual_output_train_flat = actual_output_train.flatten()\n",
        "df_train = pd.DataFrame({'Predicted Energy': predicted_output_train_flat, 'Actual Energy': actual_output_train_flat})\n",
        "print(df_train.head(10))\n"
      ]
    },
    {
      "cell_type": "code",
      "execution_count": 46,
      "metadata": {},
      "outputs": [
        {
          "name": "stdout",
          "output_type": "stream",
          "text": [
            "587/587 [==============================] - 2s 2ms/step - loss: 0.2390 - mae: 0.2582\n",
            "Test loss: 0.239, Test MAE: 0.258\n"
          ]
        }
      ],
      "source": [
        "# Evaluate the model on the test set\n",
        "test_loss, test_mae = model.evaluate(X_test, Y_test)\n",
        "print(f\"Test loss: {test_loss:.3f}, Test MAE: {test_mae:.3f}\")"
      ]
    },
    {
      "cell_type": "code",
      "execution_count": 47,
      "metadata": {},
      "outputs": [
        {
          "name": "stdout",
          "output_type": "stream",
          "text": [
            "4146/4146 [==============================] - 10s 2ms/step - loss: 0.2337 - mae: 0.2560\n",
            "Train loss: 0.234, Train MAE: 0.256\n"
          ]
        }
      ],
      "source": [
        "# Evaluate the model on the test set\n",
        "train_loss, train_mae = model.evaluate(X_train, Y_train)\n",
        "print(f\"Train loss: {train_loss:.3f}, Train MAE: {train_mae:.3f}\")"
      ]
    },
    {
      "cell_type": "code",
      "execution_count": 48,
      "metadata": {},
      "outputs": [
        {
          "name": "stdout",
          "output_type": "stream",
          "text": [
            "4146/4146 [==============================] - 10s 2ms/step\n",
            "   Predicted Energy  Actual Energy\n",
            "0         37.130547      35.533061\n",
            "1         36.865570      38.118238\n",
            "2          0.491221       0.581109\n",
            "3          0.501700       0.410339\n",
            "4          0.558682       0.586390\n",
            "5         37.984715      38.052270\n",
            "6          0.575933       0.577919\n",
            "7          0.575933       0.582940\n",
            "8          0.532807       0.583850\n",
            "9         38.594276      38.072458\n"
          ]
        }
      ],
      "source": [
        "predicted_output_train = model.predict(X_train)\n",
        "actual_output_train = Y_train.values.flatten()\n",
        "predicted_output_train_flat = predicted_output_train.flatten()\n",
        "actual_output_train_flat = actual_output_train.flatten()\n",
        "df_train = pd.DataFrame({'Predicted Energy': predicted_output_train_flat, 'Actual Energy': actual_output_train_flat})\n",
        "print(df_train.head(10))\n"
      ]
    }
  ],
  "metadata": {
    "colab": {
      "provenance": []
    },
    "kernelspec": {
      "display_name": "Python 3",
      "language": "python",
      "name": "python3"
    },
    "language_info": {
      "codemirror_mode": {
        "name": "ipython",
        "version": 3
      },
      "file_extension": ".py",
      "mimetype": "text/x-python",
      "name": "python",
      "nbconvert_exporter": "python",
      "pygments_lexer": "ipython3",
      "version": "3.10.11"
    },
    "orig_nbformat": 4,
    "vscode": {
      "interpreter": {
        "hash": "e3366052fba0b408e38a60964d7840cd801166c0994366f8aa1eea234ba6f411"
      }
    }
  },
  "nbformat": 4,
  "nbformat_minor": 0
}
