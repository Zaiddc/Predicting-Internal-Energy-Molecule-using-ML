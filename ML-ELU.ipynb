{
  "cells": [
    {
      "cell_type": "code",
      "execution_count": 1,
      "metadata": {
        "id": "Kk9tj1UUCLa7"
      },
      "outputs": [],
      "source": [
        "#Youtube: https://www.youtube.com/watch?v=vSzou5zRwNQ&ab_channel=ComputerScience"
      ]
    },
    {
      "cell_type": "code",
      "execution_count": 2,
      "metadata": {
        "id": "O_oE-LUjCLa8"
      },
      "outputs": [],
      "source": [
        "import pandas as pd\n",
        "import numpy as np\n",
        "import seaborn as sns\n",
        "import matplotlib.pyplot as plt\n"
      ]
    },
    {
      "cell_type": "code",
      "execution_count": 3,
      "metadata": {
        "id": "L-4kesSxCLa9"
      },
      "outputs": [],
      "source": [
        "Data = pd.read_csv('test.csv')"
      ]
    },
    {
      "cell_type": "code",
      "execution_count": 4,
      "metadata": {
        "colab": {
          "base_uri": "https://localhost:8080/"
        },
        "id": "bT4JqsPMCLa9",
        "outputId": "a1f313a2-e214-437f-864f-8ed3a1459632"
      },
      "outputs": [
        {
          "data": {
            "text/plain": [
              "<bound method NDFrame.head of         name_to_be_deleted     energy  atomic_charge      pca1      pca2  \\\n",
              "0       acetaldehyde_0_015  38.145186         36.858  0.842478 -0.531219   \n",
              "1       acetaldehyde_0_015   0.573634          0.500  0.463587  0.636512   \n",
              "2       acetaldehyde_0_015   0.580474          0.500  0.264339  0.540745   \n",
              "3       acetaldehyde_0_015  37.980501         36.858  0.029224  0.103269   \n",
              "4       acetaldehyde_0_015  75.370940         73.517  0.044843  0.049145   \n",
              "..                     ...        ...            ...       ...       ...   \n",
              "984  propionaldehyde_m062x   0.584652          0.500  0.049468  0.111188   \n",
              "985  propionaldehyde_m062x   0.582242          0.500  0.042805  0.055675   \n",
              "986  propionaldehyde_m062x  37.980621         36.858  0.033723  0.036809   \n",
              "987  propionaldehyde_m062x  75.371725         73.517  0.034102  0.037400   \n",
              "988  propionaldehyde_m062x   0.579226          0.500  0.027376  0.042574   \n",
              "\n",
              "         pca3  \n",
              "0    0.067413  \n",
              "1   -0.533631  \n",
              "2    0.552040  \n",
              "3    0.247301  \n",
              "4    0.439481  \n",
              "..        ...  \n",
              "984  0.273381  \n",
              "985  0.113010  \n",
              "986  0.082409  \n",
              "987  0.082873  \n",
              "988  0.082547  \n",
              "\n",
              "[989 rows x 6 columns]>"
            ]
          },
          "execution_count": 4,
          "metadata": {},
          "output_type": "execute_result"
        }
      ],
      "source": [
        "Data.head"
      ]
    },
    {
      "cell_type": "code",
      "execution_count": 5,
      "metadata": {
        "colab": {
          "base_uri": "https://localhost:8080/",
          "height": 441
        },
        "id": "6XGxzn7ACLa9",
        "outputId": "ae5af16a-ed1b-46d5-abe3-7200cbf115b7"
      },
      "outputs": [
        {
          "name": "stdout",
          "output_type": "stream",
          "text": [
            "<class 'pandas.core.frame.DataFrame'>\n",
            "RangeIndex: 989 entries, 0 to 988\n",
            "Data columns (total 6 columns):\n",
            " #   Column              Non-Null Count  Dtype  \n",
            "---  ------              --------------  -----  \n",
            " 0   name_to_be_deleted  989 non-null    object \n",
            " 1   energy              989 non-null    float64\n",
            " 2   atomic_charge       989 non-null    float64\n",
            " 3   pca1                989 non-null    float64\n",
            " 4   pca2                989 non-null    float64\n",
            " 5   pca3                989 non-null    float64\n",
            "dtypes: float64(5), object(1)\n",
            "memory usage: 46.5+ KB\n"
          ]
        },
        {
          "data": {
            "text/html": [
              "<div>\n",
              "<style scoped>\n",
              "    .dataframe tbody tr th:only-of-type {\n",
              "        vertical-align: middle;\n",
              "    }\n",
              "\n",
              "    .dataframe tbody tr th {\n",
              "        vertical-align: top;\n",
              "    }\n",
              "\n",
              "    .dataframe thead th {\n",
              "        text-align: right;\n",
              "    }\n",
              "</style>\n",
              "<table border=\"1\" class=\"dataframe\">\n",
              "  <thead>\n",
              "    <tr style=\"text-align: right;\">\n",
              "      <th></th>\n",
              "      <th>count</th>\n",
              "      <th>mean</th>\n",
              "      <th>std</th>\n",
              "      <th>min</th>\n",
              "      <th>25%</th>\n",
              "      <th>50%</th>\n",
              "      <th>75%</th>\n",
              "      <th>max</th>\n",
              "    </tr>\n",
              "  </thead>\n",
              "  <tbody>\n",
              "    <tr>\n",
              "      <th>energy</th>\n",
              "      <td>989.0</td>\n",
              "      <td>17.711468</td>\n",
              "      <td>24.379631</td>\n",
              "      <td>0.354965</td>\n",
              "      <td>0.406026</td>\n",
              "      <td>0.410041</td>\n",
              "      <td>35.532147</td>\n",
              "      <td>75.374145</td>\n",
              "    </tr>\n",
              "    <tr>\n",
              "      <th>atomic_charge</th>\n",
              "      <td>989.0</td>\n",
              "      <td>18.215577</td>\n",
              "      <td>24.963846</td>\n",
              "      <td>0.500000</td>\n",
              "      <td>0.500000</td>\n",
              "      <td>0.500000</td>\n",
              "      <td>36.858000</td>\n",
              "      <td>73.517000</td>\n",
              "    </tr>\n",
              "    <tr>\n",
              "      <th>pca1</th>\n",
              "      <td>989.0</td>\n",
              "      <td>0.206001</td>\n",
              "      <td>0.258520</td>\n",
              "      <td>0.025522</td>\n",
              "      <td>0.039223</td>\n",
              "      <td>0.052836</td>\n",
              "      <td>0.279435</td>\n",
              "      <td>0.870424</td>\n",
              "    </tr>\n",
              "    <tr>\n",
              "      <th>pca2</th>\n",
              "      <td>989.0</td>\n",
              "      <td>0.122910</td>\n",
              "      <td>0.306903</td>\n",
              "      <td>-0.566914</td>\n",
              "      <td>0.040274</td>\n",
              "      <td>0.064695</td>\n",
              "      <td>0.286355</td>\n",
              "      <td>0.660723</td>\n",
              "    </tr>\n",
              "    <tr>\n",
              "      <th>pca3</th>\n",
              "      <td>989.0</td>\n",
              "      <td>0.110676</td>\n",
              "      <td>0.311529</td>\n",
              "      <td>-0.724663</td>\n",
              "      <td>0.081144</td>\n",
              "      <td>0.107298</td>\n",
              "      <td>0.274634</td>\n",
              "      <td>0.633616</td>\n",
              "    </tr>\n",
              "  </tbody>\n",
              "</table>\n",
              "</div>"
            ],
            "text/plain": [
              "               count       mean        std       min       25%       50%  \\\n",
              "energy         989.0  17.711468  24.379631  0.354965  0.406026  0.410041   \n",
              "atomic_charge  989.0  18.215577  24.963846  0.500000  0.500000  0.500000   \n",
              "pca1           989.0   0.206001   0.258520  0.025522  0.039223  0.052836   \n",
              "pca2           989.0   0.122910   0.306903 -0.566914  0.040274  0.064695   \n",
              "pca3           989.0   0.110676   0.311529 -0.724663  0.081144  0.107298   \n",
              "\n",
              "                     75%        max  \n",
              "energy         35.532147  75.374145  \n",
              "atomic_charge  36.858000  73.517000  \n",
              "pca1            0.279435   0.870424  \n",
              "pca2            0.286355   0.660723  \n",
              "pca3            0.274634   0.633616  "
            ]
          },
          "execution_count": 5,
          "metadata": {},
          "output_type": "execute_result"
        }
      ],
      "source": [
        "Data.info()\n",
        "Data.describe().transpose()"
      ]
    },
    {
      "cell_type": "code",
      "execution_count": 6,
      "metadata": {
        "colab": {
          "base_uri": "https://localhost:8080/"
        },
        "id": "JyOcbwMoCLa9",
        "outputId": "807216a1-facf-49fd-9cce-a0e8fb0a9b7a"
      },
      "outputs": [
        {
          "data": {
            "text/plain": [
              "name_to_be_deleted    0\n",
              "energy                0\n",
              "atomic_charge         0\n",
              "pca1                  0\n",
              "pca2                  0\n",
              "pca3                  0\n",
              "dtype: int64"
            ]
          },
          "execution_count": 6,
          "metadata": {},
          "output_type": "execute_result"
        }
      ],
      "source": [
        "null_counts = Data.isna().sum()\n",
        "null_counts"
      ]
    },
    {
      "cell_type": "code",
      "execution_count": 7,
      "metadata": {
        "colab": {
          "base_uri": "https://localhost:8080/",
          "height": 284
        },
        "id": "URX1FRPsCLa-",
        "outputId": "6730a52b-5d8e-4d03-9cf5-f05199906924"
      },
      "outputs": [
        {
          "data": {
            "text/plain": [
              "<AxesSubplot: >"
            ]
          },
          "execution_count": 7,
          "metadata": {},
          "output_type": "execute_result"
        },
        {
          "data": {
            "image/png": "[encoded data removed]",
            "text/plain": [
              "<Figure size 432x288 with 1 Axes>"
            ]
          },
          "metadata": {
            "needs_background": "light"
          },
          "output_type": "display_data"
        }
      ],
      "source": [
        "features = ['energy','atomic_charge','pca1', 'pca2', 'pca3']\n",
        "Data.boxplot(features)\n"
      ]
    },
    {
      "cell_type": "code",
      "execution_count": 8,
      "metadata": {
        "id": "7LWenBCgCLa-"
      },
      "outputs": [],
      "source": [
        "selected_features = ['atomic_charge','pca1','pca2','pca3']\n",
        "X = Data[selected_features]"
      ]
    },
    {
      "cell_type": "code",
      "execution_count": 9,
      "metadata": {
        "id": "j0_yhEPcCLa-"
      },
      "outputs": [],
      "source": [
        "target =  ['energy']\n",
        "y = Data[target]"
      ]
    },
    {
      "cell_type": "code",
      "execution_count": 10,
      "metadata": {
        "id": "zxAwJHxDCLa-"
      },
      "outputs": [],
      "source": [
        "from sklearn import preprocessing\n"
      ]
    },
    {
      "cell_type": "code",
      "execution_count": 11,
      "metadata": {
        "colab": {
          "base_uri": "https://localhost:8080/"
        },
        "id": "_N_f-MxyCLa-",
        "outputId": "656a2773-e7e0-471c-c436-cd1176a02994"
      },
      "outputs": [
        {
          "data": {
            "text/plain": [
              "array([[0.49793884, 0.96692397, 0.02907618, 0.58314676],\n",
              "       [0.        , 0.51848025, 0.98027837, 0.14064268],\n",
              "       [0.        , 0.28265645, 0.90226916, 0.93994165],\n",
              "       ...,\n",
              "       [0.49793884, 0.00970645, 0.49177648, 0.5941872 ],\n",
              "       [1.        , 0.01015502, 0.49225789, 0.59452881],\n",
              "       [0.        , 0.00219434, 0.49647249, 0.5942888 ]])"
            ]
          },
          "execution_count": 11,
          "metadata": {},
          "output_type": "execute_result"
        }
      ],
      "source": [
        "min_max_scaler = preprocessing.MinMaxScaler()\n",
        "X_scale = min_max_scaler.fit_transform(X)\n",
        "X_scale"
      ]
    },
    {
      "cell_type": "code",
      "execution_count": 12,
      "metadata": {
        "id": "kkmh5Z-4CLa-"
      },
      "outputs": [],
      "source": [
        "from keras.models import Sequential\n",
        "from keras.layers import Dense, Dropout\n",
        "from keras.layers.reshaping.flatten import Flatten\n",
        "from sklearn.model_selection import train_test_split\n",
        "\n"
      ]
    },
    {
      "cell_type": "code",
      "execution_count": 13,
      "metadata": {
        "colab": {
          "base_uri": "https://localhost:8080/"
        },
        "id": "VSODuv4fCLa-",
        "outputId": "5235acd5-c55c-4048-bb44-9a8ca2414c22"
      },
      "outputs": [
        {
          "name": "stdout",
          "output_type": "stream",
          "text": [
            "(791, 4) (99, 4) (99, 4) (791, 1) (99, 1) (99, 1)\n"
          ]
        }
      ],
      "source": [
        "X_train, X_val_and_test, Y_train, Y_val_and_test = train_test_split(X_scale, y, test_size=0.2)\n",
        "X_val, X_test, Y_val, Y_test = train_test_split(X_val_and_test, Y_val_and_test, test_size=0.5)\n",
        "print(X_train.shape, X_val.shape, X_test.shape, Y_train.shape, Y_val.shape, Y_test.shape)"
      ]
    },
    {
      "cell_type": "code",
      "execution_count": 14,
      "metadata": {
        "id": "yWCPJ_0oCLa_"
      },
      "outputs": [],
      "source": [
        "model = Sequential()\n",
        "model.add(Dense(units = 48, input_dim = 4))\n",
        "model.add(Dense(units = 48, activation='elu'))\n",
        "model.add(Dense(units = 32, activation='elu'))\n",
        "model.add(Dense(units = 32, activation='elu'))\n",
        "model.add(Dense(units = 16, activation='elu'))\n",
        "model.add(Flatten())\n",
        "model.add(Dense(units = 1))"
      ]
    },
    {
      "cell_type": "code",
      "execution_count": 15,
      "metadata": {
        "id": "_us0dno3CLa_"
      },
      "outputs": [],
      "source": [
        "model.compile(optimizer='adam', loss='mse', metrics=['mae'])\n"
      ]
    },
    {
      "cell_type": "code",
      "execution_count": 16,
      "metadata": {
        "colab": {
          "base_uri": "https://localhost:8080/"
        },
        "id": "7cFYs4YfCLa_",
        "outputId": "5fe6fb34-8498-4afa-8b2d-3243aabcf707"
      },
      "outputs": [
        {
          "name": "stdout",
          "output_type": "stream",
          "text": [
            "Epoch 1/200\n",
            "25/25 [==============================] - 2s 17ms/step - loss: 836.9183 - mae: 17.0822 - val_loss: 909.4211 - val_mae: 20.9053\n",
            "Epoch 2/200\n",
            "25/25 [==============================] - 0s 4ms/step - loss: 687.0189 - mae: 17.9749 - val_loss: 662.4386 - val_mae: 20.6703\n",
            "Epoch 3/200\n",
            "25/25 [==============================] - 0s 4ms/step - loss: 492.9124 - mae: 18.9146 - val_loss: 396.6497 - val_mae: 17.6315\n",
            "Epoch 4/200\n",
            "25/25 [==============================] - 0s 4ms/step - loss: 216.2764 - mae: 11.2721 - val_loss: 28.0222 - val_mae: 3.4432\n",
            "Epoch 5/200\n",
            "25/25 [==============================] - 0s 4ms/step - loss: 19.8848 - mae: 3.7117 - val_loss: 6.6041 - val_mae: 2.3578\n",
            "Epoch 6/200\n",
            "25/25 [==============================] - 0s 4ms/step - loss: 4.8220 - mae: 1.6554 - val_loss: 3.4762 - val_mae: 1.3039\n",
            "Epoch 7/200\n",
            "25/25 [==============================] - 0s 4ms/step - loss: 2.6596 - mae: 1.1533 - val_loss: 2.0696 - val_mae: 1.1130\n",
            "Epoch 8/200\n",
            "25/25 [==============================] - 0s 5ms/step - loss: 1.9213 - mae: 0.9369 - val_loss: 1.3700 - val_mae: 0.8304\n",
            "Epoch 9/200\n",
            "25/25 [==============================] - 0s 4ms/step - loss: 1.3054 - mae: 0.7299 - val_loss: 1.2607 - val_mae: 0.7490\n",
            "Epoch 10/200\n",
            "25/25 [==============================] - 0s 4ms/step - loss: 1.0541 - mae: 0.5977 - val_loss: 0.6499 - val_mae: 0.5265\n",
            "Epoch 11/200\n",
            "25/25 [==============================] - 0s 4ms/step - loss: 0.9088 - mae: 0.5409 - val_loss: 0.8282 - val_mae: 0.6288\n",
            "Epoch 12/200\n",
            "25/25 [==============================] - 0s 5ms/step - loss: 0.8413 - mae: 0.4923 - val_loss: 0.6363 - val_mae: 0.5492\n",
            "Epoch 13/200\n",
            "25/25 [==============================] - 0s 4ms/step - loss: 0.7848 - mae: 0.4598 - val_loss: 0.5312 - val_mae: 0.5015\n",
            "Epoch 14/200\n",
            "25/25 [==============================] - 0s 6ms/step - loss: 0.7402 - mae: 0.4773 - val_loss: 0.4195 - val_mae: 0.4188\n",
            "Epoch 15/200\n",
            "25/25 [==============================] - 0s 5ms/step - loss: 0.7212 - mae: 0.4502 - val_loss: 0.4102 - val_mae: 0.4070\n",
            "Epoch 16/200\n",
            "25/25 [==============================] - 0s 5ms/step - loss: 0.6882 - mae: 0.4224 - val_loss: 0.4962 - val_mae: 0.4801\n",
            "Epoch 17/200\n",
            "25/25 [==============================] - 0s 4ms/step - loss: 0.6370 - mae: 0.4327 - val_loss: 0.4502 - val_mae: 0.4637\n",
            "Epoch 18/200\n",
            "25/25 [==============================] - 0s 4ms/step - loss: 0.7190 - mae: 0.4419 - val_loss: 0.3518 - val_mae: 0.3251\n",
            "Epoch 19/200\n",
            "25/25 [==============================] - 0s 4ms/step - loss: 0.7713 - mae: 0.4764 - val_loss: 0.6731 - val_mae: 0.5834\n",
            "Epoch 20/200\n",
            "25/25 [==============================] - 0s 6ms/step - loss: 0.6151 - mae: 0.3961 - val_loss: 0.2877 - val_mae: 0.2874\n",
            "Epoch 21/200\n",
            "25/25 [==============================] - 0s 6ms/step - loss: 0.5667 - mae: 0.3982 - val_loss: 0.5318 - val_mae: 0.5129\n",
            "Epoch 22/200\n",
            "25/25 [==============================] - 0s 4ms/step - loss: 0.5875 - mae: 0.3910 - val_loss: 0.3020 - val_mae: 0.3412\n",
            "Epoch 23/200\n",
            "25/25 [==============================] - 0s 4ms/step - loss: 0.5518 - mae: 0.3740 - val_loss: 0.3343 - val_mae: 0.3866\n",
            "Epoch 24/200\n",
            "25/25 [==============================] - 0s 8ms/step - loss: 0.5527 - mae: 0.3935 - val_loss: 0.3305 - val_mae: 0.3801\n",
            "Epoch 25/200\n",
            "25/25 [==============================] - 0s 5ms/step - loss: 0.5294 - mae: 0.3546 - val_loss: 0.5697 - val_mae: 0.5486\n",
            "Epoch 26/200\n",
            "25/25 [==============================] - 0s 5ms/step - loss: 0.5845 - mae: 0.3981 - val_loss: 0.3043 - val_mae: 0.2355\n",
            "Epoch 27/200\n",
            "25/25 [==============================] - 0s 4ms/step - loss: 0.5197 - mae: 0.3502 - val_loss: 0.3191 - val_mae: 0.3726\n",
            "Epoch 28/200\n",
            "25/25 [==============================] - 0s 5ms/step - loss: 0.4862 - mae: 0.3667 - val_loss: 0.4085 - val_mae: 0.4581\n",
            "Epoch 29/200\n",
            "25/25 [==============================] - 0s 5ms/step - loss: 0.4955 - mae: 0.3523 - val_loss: 0.2663 - val_mae: 0.2898\n",
            "Epoch 30/200\n",
            "25/25 [==============================] - 0s 4ms/step - loss: 0.5099 - mae: 0.3526 - val_loss: 0.4618 - val_mae: 0.4926\n",
            "Epoch 31/200\n",
            "25/25 [==============================] - 0s 3ms/step - loss: 0.4791 - mae: 0.3569 - val_loss: 0.4529 - val_mae: 0.3682\n",
            "Epoch 32/200\n",
            "25/25 [==============================] - 0s 3ms/step - loss: 0.6087 - mae: 0.3957 - val_loss: 0.3313 - val_mae: 0.2440\n",
            "Epoch 33/200\n",
            "25/25 [==============================] - 0s 3ms/step - loss: 0.4785 - mae: 0.3476 - val_loss: 0.2749 - val_mae: 0.3119\n",
            "Epoch 34/200\n",
            "25/25 [==============================] - 0s 3ms/step - loss: 0.4674 - mae: 0.3351 - val_loss: 0.4222 - val_mae: 0.4658\n",
            "Epoch 35/200\n",
            "25/25 [==============================] - 0s 3ms/step - loss: 0.4756 - mae: 0.3565 - val_loss: 0.2484 - val_mae: 0.2200\n",
            "Epoch 36/200\n",
            "25/25 [==============================] - 0s 4ms/step - loss: 0.5277 - mae: 0.3490 - val_loss: 0.4045 - val_mae: 0.4496\n",
            "Epoch 37/200\n",
            "25/25 [==============================] - 0s 4ms/step - loss: 0.4985 - mae: 0.3721 - val_loss: 0.2526 - val_mae: 0.2084\n",
            "Epoch 38/200\n",
            "25/25 [==============================] - 0s 4ms/step - loss: 0.4989 - mae: 0.3436 - val_loss: 0.2464 - val_mae: 0.2540\n",
            "Epoch 39/200\n",
            "25/25 [==============================] - 0s 3ms/step - loss: 0.4827 - mae: 0.3459 - val_loss: 0.2579 - val_mae: 0.2149\n",
            "Epoch 40/200\n",
            "25/25 [==============================] - 0s 3ms/step - loss: 0.4642 - mae: 0.3350 - val_loss: 0.3633 - val_mae: 0.4167\n",
            "Epoch 41/200\n",
            "25/25 [==============================] - 0s 3ms/step - loss: 0.5371 - mae: 0.3682 - val_loss: 0.2985 - val_mae: 0.3162\n",
            "Epoch 42/200\n",
            "25/25 [==============================] - 0s 3ms/step - loss: 0.4732 - mae: 0.3523 - val_loss: 0.2849 - val_mae: 0.2509\n",
            "Epoch 43/200\n",
            "25/25 [==============================] - 0s 4ms/step - loss: 0.4793 - mae: 0.3438 - val_loss: 0.3243 - val_mae: 0.2333\n",
            "Epoch 44/200\n",
            "25/25 [==============================] - 0s 4ms/step - loss: 0.4758 - mae: 0.3341 - val_loss: 0.3304 - val_mae: 0.3772\n",
            "Epoch 45/200\n",
            "25/25 [==============================] - 0s 5ms/step - loss: 0.4630 - mae: 0.3313 - val_loss: 0.2687 - val_mae: 0.2758\n",
            "Epoch 46/200\n",
            "25/25 [==============================] - 0s 4ms/step - loss: 0.5051 - mae: 0.3463 - val_loss: 0.5897 - val_mae: 0.5536\n",
            "Epoch 47/200\n",
            "25/25 [==============================] - 0s 4ms/step - loss: 0.5010 - mae: 0.3586 - val_loss: 0.2641 - val_mae: 0.2180\n",
            "Epoch 48/200\n",
            "25/25 [==============================] - 0s 4ms/step - loss: 0.4648 - mae: 0.3236 - val_loss: 0.3798 - val_mae: 0.4107\n",
            "Epoch 49/200\n",
            "25/25 [==============================] - 0s 4ms/step - loss: 0.4470 - mae: 0.3264 - val_loss: 0.3370 - val_mae: 0.3850\n",
            "Epoch 50/200\n",
            "25/25 [==============================] - 0s 3ms/step - loss: 0.4558 - mae: 0.3225 - val_loss: 0.2701 - val_mae: 0.2891\n",
            "Epoch 51/200\n",
            "25/25 [==============================] - 0s 5ms/step - loss: 0.5680 - mae: 0.3836 - val_loss: 0.3068 - val_mae: 0.3391\n",
            "Epoch 52/200\n",
            "25/25 [==============================] - 0s 4ms/step - loss: 0.5026 - mae: 0.3560 - val_loss: 0.4972 - val_mae: 0.4819\n",
            "Epoch 53/200\n",
            "25/25 [==============================] - 0s 3ms/step - loss: 0.4721 - mae: 0.3342 - val_loss: 0.2681 - val_mae: 0.2374\n",
            "Epoch 54/200\n",
            "25/25 [==============================] - 0s 3ms/step - loss: 0.4843 - mae: 0.3373 - val_loss: 0.3113 - val_mae: 0.3546\n",
            "Epoch 55/200\n",
            "25/25 [==============================] - 0s 3ms/step - loss: 0.4849 - mae: 0.3355 - val_loss: 0.6410 - val_mae: 0.5768\n",
            "Epoch 56/200\n",
            "25/25 [==============================] - 0s 3ms/step - loss: 0.4592 - mae: 0.3160 - val_loss: 0.5060 - val_mae: 0.5039\n",
            "Epoch 57/200\n",
            "25/25 [==============================] - 0s 3ms/step - loss: 0.5028 - mae: 0.3540 - val_loss: 0.3122 - val_mae: 0.3439\n",
            "Epoch 58/200\n",
            "25/25 [==============================] - 0s 3ms/step - loss: 0.4763 - mae: 0.3300 - val_loss: 0.2724 - val_mae: 0.2002\n",
            "Epoch 59/200\n",
            "25/25 [==============================] - 0s 4ms/step - loss: 0.4987 - mae: 0.3469 - val_loss: 0.2667 - val_mae: 0.2282\n",
            "Epoch 60/200\n",
            "25/25 [==============================] - 0s 5ms/step - loss: 0.4766 - mae: 0.3204 - val_loss: 0.2751 - val_mae: 0.2616\n",
            "Epoch 61/200\n",
            "25/25 [==============================] - 0s 5ms/step - loss: 0.4491 - mae: 0.3268 - val_loss: 0.3196 - val_mae: 0.3453\n",
            "Epoch 62/200\n",
            "25/25 [==============================] - 0s 4ms/step - loss: 0.5087 - mae: 0.3621 - val_loss: 0.2843 - val_mae: 0.2487\n",
            "Epoch 63/200\n",
            "25/25 [==============================] - 0s 4ms/step - loss: 0.4671 - mae: 0.3167 - val_loss: 0.3357 - val_mae: 0.2424\n",
            "Epoch 64/200\n",
            "25/25 [==============================] - 0s 4ms/step - loss: 0.4688 - mae: 0.3187 - val_loss: 0.3951 - val_mae: 0.4245\n",
            "Epoch 65/200\n",
            "25/25 [==============================] - 0s 5ms/step - loss: 0.4463 - mae: 0.3185 - val_loss: 0.3107 - val_mae: 0.3514\n",
            "Epoch 66/200\n",
            "25/25 [==============================] - 0s 4ms/step - loss: 0.4568 - mae: 0.3523 - val_loss: 0.3205 - val_mae: 0.3210\n",
            "Epoch 67/200\n",
            "25/25 [==============================] - 0s 9ms/step - loss: 0.5398 - mae: 0.3554 - val_loss: 0.3370 - val_mae: 0.2403\n",
            "Epoch 68/200\n",
            "25/25 [==============================] - 0s 8ms/step - loss: 0.4776 - mae: 0.3269 - val_loss: 0.3086 - val_mae: 0.2267\n",
            "Epoch 69/200\n",
            "25/25 [==============================] - 0s 7ms/step - loss: 0.4324 - mae: 0.3078 - val_loss: 0.3227 - val_mae: 0.3616\n",
            "Epoch 70/200\n",
            "25/25 [==============================] - 0s 6ms/step - loss: 0.4427 - mae: 0.3198 - val_loss: 0.3562 - val_mae: 0.3514\n",
            "Epoch 71/200\n",
            "25/25 [==============================] - 0s 6ms/step - loss: 0.5269 - mae: 0.3378 - val_loss: 0.4241 - val_mae: 0.3857\n",
            "Epoch 72/200\n",
            "25/25 [==============================] - 0s 6ms/step - loss: 0.4561 - mae: 0.3366 - val_loss: 0.3288 - val_mae: 0.2299\n",
            "Epoch 73/200\n",
            "25/25 [==============================] - 0s 5ms/step - loss: 0.5356 - mae: 0.3490 - val_loss: 0.2620 - val_mae: 0.2272\n",
            "Epoch 74/200\n",
            "25/25 [==============================] - 0s 5ms/step - loss: 0.4431 - mae: 0.3222 - val_loss: 0.2673 - val_mae: 0.2260\n",
            "Epoch 75/200\n",
            "25/25 [==============================] - 0s 5ms/step - loss: 0.4664 - mae: 0.3274 - val_loss: 0.2762 - val_mae: 0.2121\n",
            "Epoch 76/200\n",
            "25/25 [==============================] - 0s 5ms/step - loss: 0.4460 - mae: 0.3063 - val_loss: 0.3460 - val_mae: 0.3773\n",
            "Epoch 77/200\n",
            "25/25 [==============================] - 0s 5ms/step - loss: 0.4421 - mae: 0.3085 - val_loss: 0.3570 - val_mae: 0.3966\n",
            "Epoch 78/200\n",
            "25/25 [==============================] - 0s 5ms/step - loss: 0.4251 - mae: 0.3115 - val_loss: 0.3539 - val_mae: 0.3921\n",
            "Epoch 79/200\n",
            "25/25 [==============================] - 0s 4ms/step - loss: 0.4410 - mae: 0.3145 - val_loss: 0.4017 - val_mae: 0.4301\n",
            "Epoch 80/200\n",
            "25/25 [==============================] - 0s 4ms/step - loss: 0.4658 - mae: 0.3248 - val_loss: 0.2689 - val_mae: 0.2484\n",
            "Epoch 81/200\n",
            "25/25 [==============================] - 0s 4ms/step - loss: 0.4296 - mae: 0.3062 - val_loss: 0.3310 - val_mae: 0.2434\n",
            "Epoch 82/200\n",
            "25/25 [==============================] - 0s 4ms/step - loss: 0.5919 - mae: 0.3743 - val_loss: 0.7693 - val_mae: 0.6174\n",
            "Epoch 83/200\n",
            "25/25 [==============================] - 0s 5ms/step - loss: 0.6487 - mae: 0.4237 - val_loss: 0.6047 - val_mae: 0.5519\n",
            "Epoch 84/200\n",
            "25/25 [==============================] - 0s 3ms/step - loss: 0.5191 - mae: 0.3378 - val_loss: 0.3446 - val_mae: 0.2361\n",
            "Epoch 85/200\n",
            "25/25 [==============================] - 0s 4ms/step - loss: 0.4534 - mae: 0.3155 - val_loss: 0.2702 - val_mae: 0.2826\n",
            "Epoch 86/200\n",
            "25/25 [==============================] - 0s 4ms/step - loss: 0.4514 - mae: 0.3204 - val_loss: 0.4195 - val_mae: 0.4434\n",
            "Epoch 87/200\n",
            "25/25 [==============================] - 0s 4ms/step - loss: 0.4356 - mae: 0.3175 - val_loss: 0.2686 - val_mae: 0.1806\n",
            "Epoch 88/200\n",
            "25/25 [==============================] - 0s 7ms/step - loss: 0.4316 - mae: 0.2998 - val_loss: 0.3207 - val_mae: 0.3203\n",
            "Epoch 89/200\n",
            "25/25 [==============================] - 0s 5ms/step - loss: 0.4238 - mae: 0.3014 - val_loss: 0.2694 - val_mae: 0.2927\n",
            "Epoch 90/200\n",
            "25/25 [==============================] - 0s 5ms/step - loss: 0.4329 - mae: 0.3097 - val_loss: 0.4350 - val_mae: 0.3152\n",
            "Epoch 91/200\n",
            "25/25 [==============================] - 0s 6ms/step - loss: 0.4286 - mae: 0.3023 - val_loss: 0.3064 - val_mae: 0.3485\n",
            "Epoch 92/200\n",
            "25/25 [==============================] - 0s 6ms/step - loss: 0.4046 - mae: 0.3006 - val_loss: 0.2688 - val_mae: 0.2825\n",
            "Epoch 93/200\n",
            "25/25 [==============================] - 0s 6ms/step - loss: 0.4267 - mae: 0.2851 - val_loss: 0.2946 - val_mae: 0.3074\n",
            "Epoch 94/200\n",
            "25/25 [==============================] - 0s 6ms/step - loss: 0.5317 - mae: 0.3660 - val_loss: 0.3555 - val_mae: 0.2663\n",
            "Epoch 95/200\n",
            "25/25 [==============================] - 0s 4ms/step - loss: 0.5366 - mae: 0.3432 - val_loss: 0.3943 - val_mae: 0.3705\n",
            "Epoch 96/200\n",
            "25/25 [==============================] - 0s 6ms/step - loss: 0.4246 - mae: 0.2984 - val_loss: 0.2623 - val_mae: 0.2824\n",
            "Epoch 97/200\n",
            "25/25 [==============================] - 0s 5ms/step - loss: 0.4258 - mae: 0.3222 - val_loss: 0.4512 - val_mae: 0.3110\n",
            "Epoch 98/200\n",
            "25/25 [==============================] - 0s 6ms/step - loss: 0.4711 - mae: 0.3082 - val_loss: 0.5077 - val_mae: 0.5004\n",
            "Epoch 99/200\n",
            "25/25 [==============================] - 0s 4ms/step - loss: 0.5689 - mae: 0.3880 - val_loss: 0.6534 - val_mae: 0.5691\n",
            "Epoch 100/200\n",
            "25/25 [==============================] - 0s 4ms/step - loss: 0.4720 - mae: 0.3148 - val_loss: 0.2752 - val_mae: 0.2098\n",
            "Epoch 101/200\n",
            "25/25 [==============================] - 0s 5ms/step - loss: 0.4296 - mae: 0.2980 - val_loss: 0.3031 - val_mae: 0.3437\n",
            "Epoch 102/200\n",
            "25/25 [==============================] - 0s 4ms/step - loss: 0.4322 - mae: 0.3027 - val_loss: 0.8692 - val_mae: 0.6535\n",
            "Epoch 103/200\n",
            "25/25 [==============================] - 0s 5ms/step - loss: 0.5682 - mae: 0.3617 - val_loss: 0.2596 - val_mae: 0.2023\n",
            "Epoch 104/200\n",
            "25/25 [==============================] - 0s 4ms/step - loss: 0.5615 - mae: 0.3604 - val_loss: 0.2742 - val_mae: 0.2280\n",
            "Epoch 105/200\n",
            "25/25 [==============================] - 0s 4ms/step - loss: 0.4596 - mae: 0.2954 - val_loss: 0.3204 - val_mae: 0.3631\n",
            "Epoch 106/200\n",
            "25/25 [==============================] - 0s 5ms/step - loss: 0.4524 - mae: 0.3294 - val_loss: 0.3432 - val_mae: 0.3817\n",
            "Epoch 107/200\n",
            "25/25 [==============================] - 0s 4ms/step - loss: 0.4545 - mae: 0.3114 - val_loss: 0.4102 - val_mae: 0.3243\n",
            "Epoch 108/200\n",
            "25/25 [==============================] - 0s 5ms/step - loss: 0.4367 - mae: 0.3194 - val_loss: 0.4611 - val_mae: 0.4772\n",
            "Epoch 109/200\n",
            "25/25 [==============================] - 0s 6ms/step - loss: 0.3875 - mae: 0.2732 - val_loss: 0.6186 - val_mae: 0.5465\n",
            "Epoch 110/200\n",
            "25/25 [==============================] - 0s 5ms/step - loss: 0.4242 - mae: 0.3087 - val_loss: 0.2891 - val_mae: 0.1942\n",
            "Epoch 111/200\n",
            "25/25 [==============================] - 0s 5ms/step - loss: 0.3941 - mae: 0.2760 - val_loss: 1.3602 - val_mae: 0.8137\n",
            "Epoch 112/200\n",
            "25/25 [==============================] - 0s 5ms/step - loss: 0.4818 - mae: 0.3284 - val_loss: 1.2218 - val_mae: 0.7682\n",
            "Epoch 113/200\n",
            "25/25 [==============================] - 0s 5ms/step - loss: 0.4976 - mae: 0.3501 - val_loss: 0.4638 - val_mae: 0.4703\n",
            "Epoch 114/200\n",
            "25/25 [==============================] - 0s 6ms/step - loss: 0.4491 - mae: 0.3153 - val_loss: 0.2398 - val_mae: 0.1937\n",
            "Epoch 115/200\n",
            "25/25 [==============================] - 0s 5ms/step - loss: 0.4180 - mae: 0.2854 - val_loss: 0.7115 - val_mae: 0.5868\n",
            "Epoch 116/200\n",
            "25/25 [==============================] - 0s 5ms/step - loss: 0.4653 - mae: 0.3241 - val_loss: 0.5136 - val_mae: 0.5038\n",
            "Epoch 117/200\n",
            "25/25 [==============================] - 0s 4ms/step - loss: 0.4377 - mae: 0.3210 - val_loss: 0.4714 - val_mae: 0.3422\n",
            "Epoch 118/200\n",
            "25/25 [==============================] - 0s 5ms/step - loss: 0.4557 - mae: 0.3094 - val_loss: 0.2455 - val_mae: 0.2102\n",
            "Epoch 119/200\n",
            "25/25 [==============================] - 0s 4ms/step - loss: 0.4199 - mae: 0.2963 - val_loss: 0.3878 - val_mae: 0.4196\n",
            "Epoch 120/200\n",
            "25/25 [==============================] - 0s 4ms/step - loss: 0.3970 - mae: 0.2873 - val_loss: 0.2456 - val_mae: 0.2108\n",
            "Epoch 121/200\n",
            "25/25 [==============================] - 0s 5ms/step - loss: 0.4096 - mae: 0.2933 - val_loss: 0.5287 - val_mae: 0.5113\n",
            "Epoch 122/200\n",
            "25/25 [==============================] - 0s 4ms/step - loss: 0.8668 - mae: 0.4656 - val_loss: 1.3102 - val_mae: 0.7981\n",
            "Epoch 123/200\n",
            "25/25 [==============================] - 0s 4ms/step - loss: 0.6721 - mae: 0.4307 - val_loss: 0.3150 - val_mae: 0.2059\n",
            "Epoch 124/200\n",
            "25/25 [==============================] - 0s 4ms/step - loss: 0.4926 - mae: 0.3231 - val_loss: 0.3091 - val_mae: 0.3234\n",
            "Epoch 125/200\n",
            "25/25 [==============================] - 0s 4ms/step - loss: 0.3808 - mae: 0.2739 - val_loss: 0.2404 - val_mae: 0.2140\n",
            "Epoch 126/200\n",
            "25/25 [==============================] - 0s 4ms/step - loss: 0.4023 - mae: 0.2861 - val_loss: 0.6164 - val_mae: 0.5503\n",
            "Epoch 127/200\n",
            "25/25 [==============================] - 0s 4ms/step - loss: 0.4655 - mae: 0.3260 - val_loss: 0.3328 - val_mae: 0.2372\n",
            "Epoch 128/200\n",
            "25/25 [==============================] - 0s 3ms/step - loss: 0.3956 - mae: 0.2809 - val_loss: 0.3063 - val_mae: 0.3245\n",
            "Epoch 129/200\n",
            "25/25 [==============================] - 0s 4ms/step - loss: 0.3588 - mae: 0.2672 - val_loss: 0.3074 - val_mae: 0.3282\n",
            "Epoch 130/200\n",
            "25/25 [==============================] - 0s 4ms/step - loss: 0.3619 - mae: 0.2803 - val_loss: 0.5401 - val_mae: 0.5210\n",
            "Epoch 131/200\n",
            "25/25 [==============================] - 0s 5ms/step - loss: 0.3756 - mae: 0.2833 - val_loss: 0.2406 - val_mae: 0.2449\n",
            "Epoch 132/200\n",
            "25/25 [==============================] - 0s 6ms/step - loss: 0.5270 - mae: 0.3430 - val_loss: 0.6541 - val_mae: 0.5721\n",
            "Epoch 133/200\n",
            "25/25 [==============================] - 0s 4ms/step - loss: 0.4949 - mae: 0.3347 - val_loss: 0.2603 - val_mae: 0.2468\n",
            "Epoch 134/200\n",
            "25/25 [==============================] - 0s 4ms/step - loss: 0.3850 - mae: 0.2838 - val_loss: 0.2389 - val_mae: 0.2159\n",
            "Epoch 135/200\n",
            "25/25 [==============================] - 0s 4ms/step - loss: 0.3760 - mae: 0.2796 - val_loss: 0.2956 - val_mae: 0.2147\n",
            "Epoch 136/200\n",
            "25/25 [==============================] - 0s 3ms/step - loss: 0.3738 - mae: 0.2834 - val_loss: 0.2563 - val_mae: 0.2301\n",
            "Epoch 137/200\n",
            "25/25 [==============================] - 0s 4ms/step - loss: 0.3406 - mae: 0.2668 - val_loss: 0.2697 - val_mae: 0.2760\n",
            "Epoch 138/200\n",
            "25/25 [==============================] - 0s 4ms/step - loss: 0.3498 - mae: 0.2749 - val_loss: 0.2477 - val_mae: 0.1759\n",
            "Epoch 139/200\n",
            "25/25 [==============================] - 0s 4ms/step - loss: 0.3325 - mae: 0.2741 - val_loss: 0.2828 - val_mae: 0.2364\n",
            "Epoch 140/200\n",
            "25/25 [==============================] - 0s 3ms/step - loss: 0.3895 - mae: 0.2993 - val_loss: 0.2574 - val_mae: 0.3011\n",
            "Epoch 141/200\n",
            "25/25 [==============================] - 0s 4ms/step - loss: 0.4472 - mae: 0.3215 - val_loss: 0.2304 - val_mae: 0.2395\n",
            "Epoch 142/200\n",
            "25/25 [==============================] - 0s 3ms/step - loss: 0.3326 - mae: 0.2734 - val_loss: 0.2783 - val_mae: 0.2777\n",
            "Epoch 143/200\n",
            "25/25 [==============================] - 0s 4ms/step - loss: 0.3662 - mae: 0.2805 - val_loss: 0.3057 - val_mae: 0.1968\n",
            "Epoch 144/200\n",
            "25/25 [==============================] - 0s 3ms/step - loss: 0.4315 - mae: 0.3140 - val_loss: 0.3260 - val_mae: 0.2296\n",
            "Epoch 145/200\n",
            "25/25 [==============================] - 0s 3ms/step - loss: 0.4518 - mae: 0.3330 - val_loss: 0.2967 - val_mae: 0.2590\n",
            "Epoch 146/200\n",
            "25/25 [==============================] - 0s 4ms/step - loss: 0.4083 - mae: 0.2971 - val_loss: 0.3044 - val_mae: 0.3595\n",
            "Epoch 147/200\n",
            "25/25 [==============================] - 0s 5ms/step - loss: 0.3271 - mae: 0.2680 - val_loss: 0.2979 - val_mae: 0.1999\n",
            "Epoch 148/200\n",
            "25/25 [==============================] - 0s 4ms/step - loss: 0.3489 - mae: 0.2618 - val_loss: 0.7585 - val_mae: 0.6135\n",
            "Epoch 149/200\n",
            "25/25 [==============================] - 0s 3ms/step - loss: 0.4557 - mae: 0.3346 - val_loss: 0.2322 - val_mae: 0.2201\n",
            "Epoch 150/200\n",
            "25/25 [==============================] - 0s 3ms/step - loss: 0.3281 - mae: 0.2515 - val_loss: 0.4705 - val_mae: 0.4824\n",
            "Epoch 151/200\n",
            "25/25 [==============================] - 0s 3ms/step - loss: 0.3726 - mae: 0.2924 - val_loss: 0.2381 - val_mae: 0.1584\n",
            "Epoch 152/200\n",
            "25/25 [==============================] - 0s 3ms/step - loss: 0.3547 - mae: 0.2891 - val_loss: 0.2868 - val_mae: 0.3220\n",
            "Epoch 153/200\n",
            "25/25 [==============================] - 0s 4ms/step - loss: 0.3303 - mae: 0.2579 - val_loss: 0.3027 - val_mae: 0.2702\n",
            "Epoch 154/200\n",
            "25/25 [==============================] - 0s 4ms/step - loss: 0.3193 - mae: 0.2690 - val_loss: 0.2221 - val_mae: 0.1976\n",
            "Epoch 155/200\n",
            "25/25 [==============================] - 0s 4ms/step - loss: 0.3207 - mae: 0.2654 - val_loss: 0.2375 - val_mae: 0.2540\n",
            "Epoch 156/200\n",
            "25/25 [==============================] - 0s 4ms/step - loss: 0.3586 - mae: 0.2964 - val_loss: 0.8847 - val_mae: 0.6598\n",
            "Epoch 157/200\n",
            "25/25 [==============================] - 0s 3ms/step - loss: 0.4294 - mae: 0.3266 - val_loss: 0.4353 - val_mae: 0.4623\n",
            "Epoch 158/200\n",
            "25/25 [==============================] - 0s 3ms/step - loss: 0.4106 - mae: 0.3124 - val_loss: 0.4171 - val_mae: 0.4284\n",
            "Epoch 159/200\n",
            "25/25 [==============================] - 0s 3ms/step - loss: 0.3549 - mae: 0.2862 - val_loss: 0.5081 - val_mae: 0.3848\n",
            "Epoch 160/200\n",
            "25/25 [==============================] - 0s 4ms/step - loss: 0.4718 - mae: 0.3420 - val_loss: 0.2350 - val_mae: 0.1862\n",
            "Epoch 161/200\n",
            "25/25 [==============================] - 0s 5ms/step - loss: 0.5968 - mae: 0.3922 - val_loss: 1.2659 - val_mae: 0.7778\n",
            "Epoch 162/200\n",
            "25/25 [==============================] - 0s 3ms/step - loss: 0.3652 - mae: 0.2758 - val_loss: 0.2518 - val_mae: 0.2248\n",
            "Epoch 163/200\n",
            "25/25 [==============================] - 0s 3ms/step - loss: 0.2801 - mae: 0.2504 - val_loss: 0.2756 - val_mae: 0.2541\n",
            "Epoch 164/200\n",
            "25/25 [==============================] - 0s 3ms/step - loss: 0.3319 - mae: 0.2769 - val_loss: 0.2349 - val_mae: 0.1781\n",
            "Epoch 165/200\n",
            "25/25 [==============================] - 0s 3ms/step - loss: 0.3173 - mae: 0.2582 - val_loss: 0.2989 - val_mae: 0.3085\n",
            "Epoch 166/200\n",
            "25/25 [==============================] - 0s 3ms/step - loss: 0.3714 - mae: 0.2959 - val_loss: 0.2945 - val_mae: 0.2806\n",
            "Epoch 167/200\n",
            "25/25 [==============================] - 0s 3ms/step - loss: 0.4101 - mae: 0.3057 - val_loss: 0.2699 - val_mae: 0.2819\n",
            "Epoch 168/200\n",
            "25/25 [==============================] - 0s 3ms/step - loss: 0.2962 - mae: 0.2535 - val_loss: 0.3180 - val_mae: 0.2344\n",
            "Epoch 169/200\n",
            "25/25 [==============================] - 0s 4ms/step - loss: 0.3167 - mae: 0.2668 - val_loss: 0.3400 - val_mae: 0.3642\n",
            "Epoch 170/200\n",
            "25/25 [==============================] - 0s 5ms/step - loss: 0.2690 - mae: 0.2350 - val_loss: 0.2664 - val_mae: 0.3148\n",
            "Epoch 171/200\n",
            "25/25 [==============================] - 0s 3ms/step - loss: 0.3214 - mae: 0.2611 - val_loss: 0.2515 - val_mae: 0.2997\n",
            "Epoch 172/200\n",
            "25/25 [==============================] - 0s 4ms/step - loss: 0.3224 - mae: 0.2620 - val_loss: 0.6060 - val_mae: 0.5460\n",
            "Epoch 173/200\n",
            "25/25 [==============================] - 0s 5ms/step - loss: 0.3267 - mae: 0.2757 - val_loss: 0.4061 - val_mae: 0.3193\n",
            "Epoch 174/200\n",
            "25/25 [==============================] - 0s 5ms/step - loss: 0.3631 - mae: 0.3059 - val_loss: 0.4128 - val_mae: 0.2947\n",
            "Epoch 175/200\n",
            "25/25 [==============================] - 0s 9ms/step - loss: 0.3918 - mae: 0.3035 - val_loss: 0.3703 - val_mae: 0.2655\n",
            "Epoch 176/200\n",
            "25/25 [==============================] - 0s 5ms/step - loss: 0.2929 - mae: 0.2460 - val_loss: 0.4389 - val_mae: 0.4166\n",
            "Epoch 177/200\n",
            "25/25 [==============================] - 0s 6ms/step - loss: 0.3464 - mae: 0.2841 - val_loss: 0.2699 - val_mae: 0.2113\n",
            "Epoch 178/200\n",
            "25/25 [==============================] - 0s 6ms/step - loss: 0.2889 - mae: 0.2446 - val_loss: 0.2315 - val_mae: 0.1776\n",
            "Epoch 179/200\n",
            "25/25 [==============================] - 0s 4ms/step - loss: 0.2675 - mae: 0.2337 - val_loss: 0.2507 - val_mae: 0.2041\n",
            "Epoch 180/200\n",
            "25/25 [==============================] - 0s 5ms/step - loss: 0.3060 - mae: 0.2487 - val_loss: 0.3000 - val_mae: 0.3545\n",
            "Epoch 181/200\n",
            "25/25 [==============================] - 0s 4ms/step - loss: 0.4992 - mae: 0.3596 - val_loss: 0.2414 - val_mae: 0.2555\n",
            "Epoch 182/200\n",
            "25/25 [==============================] - 0s 3ms/step - loss: 0.5006 - mae: 0.3663 - val_loss: 0.9116 - val_mae: 0.5925\n",
            "Epoch 183/200\n",
            "25/25 [==============================] - 0s 4ms/step - loss: 0.5214 - mae: 0.3634 - val_loss: 0.2746 - val_mae: 0.3165\n",
            "Epoch 184/200\n",
            "25/25 [==============================] - 0s 4ms/step - loss: 0.2915 - mae: 0.2409 - val_loss: 0.2462 - val_mae: 0.2542\n",
            "Epoch 185/200\n",
            "25/25 [==============================] - 0s 4ms/step - loss: 0.2986 - mae: 0.2463 - val_loss: 0.3056 - val_mae: 0.3440\n",
            "Epoch 186/200\n",
            "25/25 [==============================] - 0s 4ms/step - loss: 0.2817 - mae: 0.2368 - val_loss: 0.2307 - val_mae: 0.2441\n",
            "Epoch 187/200\n",
            "25/25 [==============================] - 0s 5ms/step - loss: 0.2965 - mae: 0.2588 - val_loss: 0.5993 - val_mae: 0.5491\n",
            "Epoch 188/200\n",
            "25/25 [==============================] - 0s 4ms/step - loss: 0.5738 - mae: 0.3752 - val_loss: 0.9781 - val_mae: 0.6867\n",
            "Epoch 189/200\n",
            "25/25 [==============================] - 0s 4ms/step - loss: 0.6259 - mae: 0.4064 - val_loss: 0.4051 - val_mae: 0.4357\n",
            "Epoch 190/200\n",
            "25/25 [==============================] - 0s 3ms/step - loss: 0.3920 - mae: 0.3176 - val_loss: 0.4984 - val_mae: 0.4756\n",
            "Epoch 191/200\n",
            "25/25 [==============================] - 0s 4ms/step - loss: 0.2742 - mae: 0.2337 - val_loss: 0.4441 - val_mae: 0.4197\n",
            "Epoch 192/200\n",
            "25/25 [==============================] - 0s 4ms/step - loss: 0.2759 - mae: 0.2372 - val_loss: 0.2920 - val_mae: 0.3005\n",
            "Epoch 193/200\n",
            "25/25 [==============================] - 0s 3ms/step - loss: 0.2766 - mae: 0.2304 - val_loss: 0.6115 - val_mae: 0.5586\n",
            "Epoch 194/200\n",
            "25/25 [==============================] - 0s 3ms/step - loss: 0.3697 - mae: 0.2832 - val_loss: 0.2502 - val_mae: 0.2806\n",
            "Epoch 195/200\n",
            "25/25 [==============================] - 0s 3ms/step - loss: 0.3923 - mae: 0.3061 - val_loss: 0.2778 - val_mae: 0.3049\n",
            "Epoch 196/200\n",
            "25/25 [==============================] - 0s 5ms/step - loss: 0.3128 - mae: 0.2640 - val_loss: 0.2963 - val_mae: 0.2865\n",
            "Epoch 197/200\n",
            "25/25 [==============================] - 0s 4ms/step - loss: 0.2742 - mae: 0.2424 - val_loss: 0.2586 - val_mae: 0.2088\n",
            "Epoch 198/200\n",
            "25/25 [==============================] - 0s 4ms/step - loss: 0.2743 - mae: 0.2406 - val_loss: 0.3016 - val_mae: 0.3608\n",
            "Epoch 199/200\n",
            "25/25 [==============================] - 0s 3ms/step - loss: 0.2576 - mae: 0.2300 - val_loss: 0.2288 - val_mae: 0.2497\n",
            "Epoch 200/200\n",
            "25/25 [==============================] - 0s 4ms/step - loss: 0.3236 - mae: 0.2669 - val_loss: 0.3669 - val_mae: 0.4028\n"
          ]
        }
      ],
      "source": [
        "hist = model.fit(\n",
        "    X_train, Y_train,\n",
        "    batch_size=32,\n",
        "    epochs = 200,\n",
        "    validation_data=(X_val, Y_val)\n",
        ")"
      ]
    },
    {
      "cell_type": "code",
      "execution_count": 17,
      "metadata": {
        "colab": {
          "base_uri": "https://localhost:8080/"
        },
        "id": "ckbXAviyCLa_",
        "outputId": "82dc096e-2aeb-4471-8ba1-f7e95f3254e2"
      },
      "outputs": [
        {
          "name": "stdout",
          "output_type": "stream",
          "text": [
            "4/4 [==============================] - 0s 2ms/step - loss: 0.3538 - mae: 0.3315\n"
          ]
        },
        {
          "data": {
            "text/plain": [
              "[0.35378676652908325, 0.33146587014198303]"
            ]
          },
          "execution_count": 17,
          "metadata": {},
          "output_type": "execute_result"
        }
      ],
      "source": [
        "model.evaluate(X_test, Y_test)"
      ]
    },
    {
      "cell_type": "code",
      "execution_count": 18,
      "metadata": {
        "colab": {
          "base_uri": "https://localhost:8080/"
        },
        "id": "OzalqdGSCLa_",
        "outputId": "41fc5435-21b4-43ac-951f-91928d5d20a2"
      },
      "outputs": [
        {
          "name": "stdout",
          "output_type": "stream",
          "text": [
            "4/4 [==============================] - 0s 2ms/step - loss: 0.3538 - mae: 0.3315\n",
            "Test loss: 0.354, Test MAE: 0.331\n"
          ]
        }
      ],
      "source": [
        "# Evaluate the model on the test set\n",
        "test_loss, test_mae = model.evaluate(X_test, Y_test)\n",
        "print(f\"Test loss: {test_loss:.3f}, Test MAE: {test_mae:.3f}\")"
      ]
    },
    {
      "cell_type": "code",
      "execution_count": 19,
      "metadata": {
        "colab": {
          "base_uri": "https://localhost:8080/",
          "height": 265
        },
        "id": "0Vwz9W0OCLa_",
        "outputId": "b0d65d85-c9ba-4835-9b11-4f6abdb4dafc"
      },
      "outputs": [
        {
          "data": {
            "image/png": "[encoded data removed]",
            "text/plain": [
              "<Figure size 640x480 with 1 Axes>"
            ]
          },
          "metadata": {},
          "output_type": "display_data"
        }
      ],
      "source": [
        "plt.plot(hist.history['loss'], label='Training Loss')\n",
        "plt.plot(hist.history['val_loss'], label='Validation Loss')\n",
        "plt.legend()\n",
        "plt.show()"
      ]
    }
  ],
  "metadata": {
    "colab": {
      "provenance": []
    },
    "kernelspec": {
      "display_name": "Python 3",
      "language": "python",
      "name": "python3"
    },
    "language_info": {
      "codemirror_mode": {
        "name": "ipython",
        "version": 3
      },
      "file_extension": ".py",
      "mimetype": "text/x-python",
      "name": "python",
      "nbconvert_exporter": "python",
      "pygments_lexer": "ipython3",
      "version": "3.10.11"
    },
    "orig_nbformat": 4
  },
  "nbformat": 4,
  "nbformat_minor": 0
}
