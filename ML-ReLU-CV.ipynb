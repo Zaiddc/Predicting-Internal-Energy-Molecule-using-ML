{
 "cells": [
  {
   "cell_type": "code",
   "execution_count": 373,
   "metadata": {},
   "outputs": [],
   "source": [
    "import pandas as pd\n",
    "import numpy as np\n",
    "import seaborn as sns\n",
    "import matplotlib.pyplot as plt\n"
   ]
  },
  {
   "cell_type": "code",
   "execution_count": 374,
   "metadata": {},
   "outputs": [
    {
     "data": {
      "text/plain": [
       "<bound method NDFrame.head of                     name     energy   diag      pca1      pca2      pca3\n",
       "0     acetaldehyde_0_015  38.145186  0.378  0.842622 -0.531091  0.067095\n",
       "1     acetaldehyde_0_015   0.573634  0.005  0.463136  0.636858 -0.534280\n",
       "2     acetaldehyde_0_015   0.580474  0.005  0.264667  0.540074  0.553770\n",
       "3     acetaldehyde_0_015  37.980501  0.378  0.029347  0.105040  0.245169\n",
       "4     acetaldehyde_0_015  75.370940  0.754  0.044385  0.049707  0.439767\n",
       "...                  ...        ...    ...       ...       ...       ...\n",
       "1878             toluene   0.581503  0.005 -0.032922  0.033523  0.093225\n",
       "1879             toluene  38.148987  0.378 -0.031214  0.041654  0.110894\n",
       "1880             toluene   0.580038  0.005 -0.025586 -0.013104  0.019307\n",
       "1881             toluene   0.583238  0.005 -0.025052 -0.011829  0.024907\n",
       "1882             toluene   0.583238  0.005 -0.022429 -0.016721  0.013654\n",
       "\n",
       "[1883 rows x 6 columns]>"
      ]
     },
     "execution_count": 374,
     "metadata": {},
     "output_type": "execute_result"
    }
   ],
   "source": [
    "Data = pd.read_csv('test_new.csv')\n",
    "\n",
    "Data.head"
   ]
  },
  {
   "cell_type": "code",
   "execution_count": 375,
   "metadata": {},
   "outputs": [
    {
     "name": "stdout",
     "output_type": "stream",
     "text": [
      "<class 'pandas.core.frame.DataFrame'>\n",
      "RangeIndex: 1883 entries, 0 to 1882\n",
      "Data columns (total 6 columns):\n",
      " #   Column  Non-Null Count  Dtype  \n",
      "---  ------  --------------  -----  \n",
      " 0   name    1883 non-null   object \n",
      " 1   energy  1883 non-null   float64\n",
      " 2   diag    1883 non-null   float64\n",
      " 3   pca1    1883 non-null   float64\n",
      " 4   pca2    1883 non-null   float64\n",
      " 5   pca3    1883 non-null   float64\n",
      "dtypes: float64(5), object(1)\n",
      "memory usage: 88.4+ KB\n"
     ]
    },
    {
     "data": {
      "text/html": [
       "<div>\n",
       "<style scoped>\n",
       "    .dataframe tbody tr th:only-of-type {\n",
       "        vertical-align: middle;\n",
       "    }\n",
       "\n",
       "    .dataframe tbody tr th {\n",
       "        vertical-align: top;\n",
       "    }\n",
       "\n",
       "    .dataframe thead th {\n",
       "        text-align: right;\n",
       "    }\n",
       "</style>\n",
       "<table border=\"1\" class=\"dataframe\">\n",
       "  <thead>\n",
       "    <tr style=\"text-align: right;\">\n",
       "      <th></th>\n",
       "      <th>count</th>\n",
       "      <th>mean</th>\n",
       "      <th>std</th>\n",
       "      <th>min</th>\n",
       "      <th>25%</th>\n",
       "      <th>50%</th>\n",
       "      <th>75%</th>\n",
       "      <th>max</th>\n",
       "    </tr>\n",
       "  </thead>\n",
       "  <tbody>\n",
       "    <tr>\n",
       "      <th>energy</th>\n",
       "      <td>1883.0</td>\n",
       "      <td>24.416358</td>\n",
       "      <td>27.288977</td>\n",
       "      <td>0.354965</td>\n",
       "      <td>0.409214</td>\n",
       "      <td>0.582452</td>\n",
       "      <td>38.118049</td>\n",
       "      <td>75.461656</td>\n",
       "    </tr>\n",
       "    <tr>\n",
       "      <th>diag</th>\n",
       "      <td>1883.0</td>\n",
       "      <td>0.248627</td>\n",
       "      <td>0.277354</td>\n",
       "      <td>0.005000</td>\n",
       "      <td>0.005000</td>\n",
       "      <td>0.005000</td>\n",
       "      <td>0.378000</td>\n",
       "      <td>0.754000</td>\n",
       "    </tr>\n",
       "    <tr>\n",
       "      <th>pca1</th>\n",
       "      <td>1883.0</td>\n",
       "      <td>0.184568</td>\n",
       "      <td>0.229187</td>\n",
       "      <td>-0.687571</td>\n",
       "      <td>0.034178</td>\n",
       "      <td>0.068929</td>\n",
       "      <td>0.268753</td>\n",
       "      <td>0.870534</td>\n",
       "    </tr>\n",
       "    <tr>\n",
       "      <th>pca2</th>\n",
       "      <td>1883.0</td>\n",
       "      <td>0.109284</td>\n",
       "      <td>0.273241</td>\n",
       "      <td>-0.651034</td>\n",
       "      <td>0.025515</td>\n",
       "      <td>0.071592</td>\n",
       "      <td>0.194131</td>\n",
       "      <td>0.814977</td>\n",
       "    </tr>\n",
       "    <tr>\n",
       "      <th>pca3</th>\n",
       "      <td>1883.0</td>\n",
       "      <td>0.088417</td>\n",
       "      <td>0.280693</td>\n",
       "      <td>-0.828189</td>\n",
       "      <td>0.025299</td>\n",
       "      <td>0.097596</td>\n",
       "      <td>0.239532</td>\n",
       "      <td>0.849920</td>\n",
       "    </tr>\n",
       "  </tbody>\n",
       "</table>\n",
       "</div>"
      ],
      "text/plain": [
       "         count       mean        std       min       25%       50%        75%  \\\n",
       "energy  1883.0  24.416358  27.288977  0.354965  0.409214  0.582452  38.118049   \n",
       "diag    1883.0   0.248627   0.277354  0.005000  0.005000  0.005000   0.378000   \n",
       "pca1    1883.0   0.184568   0.229187 -0.687571  0.034178  0.068929   0.268753   \n",
       "pca2    1883.0   0.109284   0.273241 -0.651034  0.025515  0.071592   0.194131   \n",
       "pca3    1883.0   0.088417   0.280693 -0.828189  0.025299  0.097596   0.239532   \n",
       "\n",
       "              max  \n",
       "energy  75.461656  \n",
       "diag     0.754000  \n",
       "pca1     0.870534  \n",
       "pca2     0.814977  \n",
       "pca3     0.849920  "
      ]
     },
     "execution_count": 375,
     "metadata": {},
     "output_type": "execute_result"
    }
   ],
   "source": [
    "Data.info()\n",
    "Data.describe().transpose()\n"
   ]
  },
  {
   "cell_type": "code",
   "execution_count": 376,
   "metadata": {},
   "outputs": [
    {
     "data": {
      "text/plain": [
       "name      0\n",
       "energy    0\n",
       "diag      0\n",
       "pca1      0\n",
       "pca2      0\n",
       "pca3      0\n",
       "dtype: int64"
      ]
     },
     "execution_count": 376,
     "metadata": {},
     "output_type": "execute_result"
    }
   ],
   "source": [
    "null_counts = Data.isna().sum()\n",
    "null_counts"
   ]
  },
  {
   "cell_type": "code",
   "execution_count": 377,
   "metadata": {},
   "outputs": [
    {
     "data": {
      "text/plain": [
       "<AxesSubplot: >"
      ]
     },
     "execution_count": 377,
     "metadata": {},
     "output_type": "execute_result"
    },
    {
     "data": {
      "image/png": "[encoded data removed]",
      "text/plain": [
       "<Figure size 640x480 with 1 Axes>"
      ]
     },
     "metadata": {},
     "output_type": "display_data"
    }
   ],
   "source": [
    "features = ['energy','diag','pca1', 'pca2', 'pca3']\n",
    "Data.boxplot(features)"
   ]
  },
  {
   "cell_type": "code",
   "execution_count": 378,
   "metadata": {},
   "outputs": [],
   "source": [
    "\n",
    "selected_features = ['diag','pca1','pca2','pca3']\n",
    "X = Data[selected_features]"
   ]
  },
  {
   "cell_type": "code",
   "execution_count": 379,
   "metadata": {},
   "outputs": [],
   "source": [
    "target =  ['energy']\n",
    "y = Data[target]"
   ]
  },
  {
   "cell_type": "code",
   "execution_count": 380,
   "metadata": {},
   "outputs": [
    {
     "data": {
      "text/plain": [
       "array([[ 0.50132626,  0.96793692, -0.65166379,  0.07894272],\n",
       "       [ 0.0066313 ,  0.53201368,  0.78144291, -0.62862387],\n",
       "       [ 0.0066313 ,  0.30402833,  0.66268619,  0.65155544],\n",
       "       ...,\n",
       "       [ 0.0066313 , -0.02939116, -0.01607898,  0.02271626],\n",
       "       [ 0.0066313 , -0.02877774, -0.01451452,  0.02930511],\n",
       "       [ 0.0066313 , -0.02576465, -0.02051714,  0.01606504]])"
      ]
     },
     "execution_count": 380,
     "metadata": {},
     "output_type": "execute_result"
    }
   ],
   "source": [
    "from sklearn.preprocessing import MaxAbsScaler\n",
    "\n",
    "max_abs_scaler = MaxAbsScaler()\n",
    "X_scale = max_abs_scaler.fit_transform(X)\n",
    "X_scale"
   ]
  },
  {
   "cell_type": "code",
   "execution_count": 381,
   "metadata": {},
   "outputs": [],
   "source": [
    "# from sklearn import preprocessing\n",
    "# min_max_scaler = preprocessing.MinMaxScaler()\n",
    "# X_scale = min_max_scaler.fit_transform(X)\n",
    "# X_scale"
   ]
  },
  {
   "cell_type": "code",
   "execution_count": 382,
   "metadata": {},
   "outputs": [],
   "source": [
    "from keras.models import Sequential\n",
    "from keras.layers import Dense, Dropout\n",
    "from keras.layers.reshaping.flatten import Flatten\n",
    "from sklearn.model_selection import KFold"
   ]
  },
  {
   "cell_type": "code",
   "execution_count": 383,
   "metadata": {},
   "outputs": [],
   "source": [
    "# define number of folds for cross-validation\n",
    "n_splits = 5"
   ]
  },
  {
   "cell_type": "code",
   "execution_count": 384,
   "metadata": {},
   "outputs": [],
   "source": [
    "# create KFold object\n",
    "kf = KFold(n_splits=n_splits, shuffle=True, random_state=42)"
   ]
  },
  {
   "cell_type": "code",
   "execution_count": 385,
   "metadata": {},
   "outputs": [],
   "source": [
    "# initialize list to store training and validation scores\n",
    "train_scores = []\n",
    "val_scores = []\n",
    "test_score = []"
   ]
  },
  {
   "cell_type": "code",
   "execution_count": 386,
   "metadata": {},
   "outputs": [],
   "source": [
    "# for train_index, val_index in kf.split(X_scale):\n",
    "    \n",
    "#     # split data into training and validation sets for this fold\n",
    "#     X_train, X_val = X_scale[train_index], X_scale[val_index]\n",
    "#     Y_train, Y_val = y.iloc[train_index], y.iloc[val_index]\n",
    "    \n",
    "#     # build model architecture\n",
    "#     model = Sequential()\n",
    "#     model.add(Dense(units = 48, input_dim = 4))\n",
    "#     model.add(Dense(units = 48, activation='tanh'))\n",
    "#     model.add(Dense(units = 32, activation='tanh'))\n",
    "#     model.add(Dense(units = 32, activation='tanh'))\n",
    "#     model.add(Dense(units = 16, activation='tanh'))\n",
    "#     model.add(Flatten())\n",
    "#     model.add(Dense(units = 1))\n",
    "    \n",
    "#     # compile model\n",
    "#     model.compile(optimizer='adam', loss='mse', metrics=['mae'])\n",
    "    \n",
    "#     # fit model on training set for this fold\n",
    "#     hist = model.fit(\n",
    "#         X_train, Y_train,\n",
    "#         batch_size=32,\n",
    "#         epochs = 400,\n",
    "#         validation_data=(X_val, Y_val),\n",
    "#         verbose=0\n",
    "#     )\n",
    "    \n",
    "#     # evaluate model on training and validation sets for this fold\n",
    "#     train_loss, train_mae = model.evaluate(X_train, Y_train, verbose=0)\n",
    "#     val_loss, val_mae = model.evaluate(X_val, Y_val, verbose=0)\n",
    "    \n",
    "#     # store training and validation scores for this fold\n",
    "#     train_scores.append(train_mae)\n",
    "#     val_scores.append(val_mae)"
   ]
  },
  {
   "cell_type": "code",
   "execution_count": 387,
   "metadata": {},
   "outputs": [],
   "source": [
    "#Using 10% for testing set\n",
    "from sklearn.model_selection import train_test_split\n",
    "for fold, (train_index, val_index) in enumerate(kf.split(X_scale)):\n",
    "    \n",
    "    # Split data into training and validation sets for this fold\n",
    "    X_train, X_val = X_scale[train_index], X_scale[val_index]\n",
    "    Y_train, Y_val = y.iloc[train_index], y.iloc[val_index]\n",
    "    \n",
    "    # Split validation set into validation and testing sets\n",
    "    X_val, X_test, Y_val, Y_test = train_test_split(X_val, Y_val, test_size=0.1, random_state=42)\n",
    "    \n",
    "    # Build model architecture\n",
    "    model = Sequential()\n",
    "    model.add(Dense(units = 48, input_dim = 4))\n",
    "    model.add(Dense(units = 48, activation='tanh'))\n",
    "    model.add(Dense(units = 32, activation='tanh'))\n",
    "    model.add(Dense(units = 32, activation='tanh'))\n",
    "    model.add(Dense(units = 16, activation='tanh'))\n",
    "    model.add(Flatten())\n",
    "    model.add(Dense(units = 1))\n",
    "    \n",
    "    # Compile model\n",
    "    model.compile(optimizer='adam', loss='mse', metrics=['mae'])\n",
    "    \n",
    "    # Fit model on training set for this fold\n",
    "    hist = model.fit(\n",
    "        X_train, Y_train,\n",
    "        batch_size=32,\n",
    "        epochs=400,\n",
    "        validation_data=(X_val, Y_val),\n",
    "        verbose=0\n",
    "    )\n",
    "    \n",
    "    # Evaluate model on training, validation, and testing sets for this fold\n",
    "    train_loss, train_mae = model.evaluate(X_train, Y_train, verbose=0)\n",
    "    val_loss, val_mae = model.evaluate(X_val, Y_val, verbose=0)\n",
    "    test_loss, test_mae = model.evaluate(X_test, Y_test, verbose=0)\n",
    "    \n",
    "    # Store training, validation, and testing scores for this fold\n",
    "    train_scores.append(train_mae)\n",
    "    val_scores.append(val_mae)\n",
    "    test_score.append(test_mae)"
   ]
  },
  {
   "cell_type": "code",
   "execution_count": 388,
   "metadata": {},
   "outputs": [
    {
     "name": "stdout",
     "output_type": "stream",
     "text": [
      "Mean training MAE: 0.254\n",
      "Mean validation MAE: 0.278\n",
      "Mean Testing MAE: 0.330\n"
     ]
    }
   ],
   "source": [
    "# print mean training and validation scores over all folds\n",
    "print(f\"Mean training MAE: {np.mean(train_scores):.3f}\")\n",
    "print(f\"Mean validation MAE: {np.mean(val_scores):.3f}\")\n",
    "print(f\"Mean Testing MAE: {np.mean(test_score):.3f}\")\n"
   ]
  },
  {
   "cell_type": "code",
   "execution_count": 389,
   "metadata": {},
   "outputs": [
    {
     "name": "stdout",
     "output_type": "stream",
     "text": [
      "Training accuracy: 0.8802691623568535\n"
     ]
    }
   ],
   "source": [
    "train_accuracy = 1 - hist.history['mae'][-1]\n",
    "print(f\"Training accuracy: {train_accuracy}\")"
   ]
  },
  {
   "cell_type": "code",
   "execution_count": 390,
   "metadata": {},
   "outputs": [
    {
     "data": {
      "image/png": "[encoded data removed]",
      "text/plain": [
       "<Figure size 640x480 with 1 Axes>"
      ]
     },
     "metadata": {},
     "output_type": "display_data"
    }
   ],
   "source": [
    "plt.plot(hist.history['loss'], label='Training Loss')\n",
    "plt.plot(hist.history['val_loss'], label='Validation Loss')\n",
    "plt.legend()\n",
    "plt.show()"
   ]
  },
  {
   "cell_type": "code",
   "execution_count": 397,
   "metadata": {},
   "outputs": [
    {
     "name": "stdout",
     "output_type": "stream",
     "text": [
      "Generate a prediction\n",
      "2/2 [==============================] - 0s 13ms/step\n",
      "Prediction:  [[ 0.53686047]\n",
      " [ 0.648159  ]\n",
      " [75.31182   ]\n",
      " [35.6692    ]\n",
      " [ 0.43710995]\n",
      " [35.785233  ]\n",
      " [35.505424  ]\n",
      " [ 0.41057777]\n",
      " [35.239548  ]\n",
      " [37.817345  ]]\n"
     ]
    }
   ],
   "source": [
    "print(\"Generate a prediction\")\n",
    "prediction = model.predict(X_test)\n",
    "print(\"Prediction: \", prediction[:10])"
   ]
  },
  {
   "cell_type": "code",
   "execution_count": 398,
   "metadata": {},
   "outputs": [
    {
     "data": {
      "text/plain": [
       "array([[ 0.5768481],\n",
       "       [ 0.5701934],\n",
       "       [75.3956461],\n",
       "       [35.5799758],\n",
       "       [ 0.4133684],\n",
       "       [35.5340584],\n",
       "       [35.512149 ],\n",
       "       [ 0.4081239],\n",
       "       [35.5312335],\n",
       "       [37.8749779]])"
      ]
     },
     "execution_count": 398,
     "metadata": {},
     "output_type": "execute_result"
    }
   ],
   "source": [
    "np.array(Y_test[:10])"
   ]
  }
 ],
 "metadata": {
  "kernelspec": {
   "display_name": "Python 3",
   "language": "python",
   "name": "python3"
  },
  "language_info": {
   "codemirror_mode": {
    "name": "ipython",
    "version": 3
   },
   "file_extension": ".py",
   "mimetype": "text/x-python",
   "name": "python",
   "nbconvert_exporter": "python",
   "pygments_lexer": "ipython3",
   "version": "3.10.11"
  },
  "orig_nbformat": 4,
  "vscode": {
   "interpreter": {
    "hash": "e3366052fba0b408e38a60964d7840cd801166c0994366f8aa1eea234ba6f411"
   }
  }
 },
 "nbformat": 4,
 "nbformat_minor": 2
}
