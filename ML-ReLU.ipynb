{
  "cells": [
    {
      "cell_type": "code",
      "execution_count": 115,
      "metadata": {
        "id": "Kk9tj1UUCLa7"
      },
      "outputs": [],
      "source": [
        "#Youtube: https://www.youtube.com/watch?v=vSzou5zRwNQ&ab_channel=ComputerScience"
      ]
    },
    {
      "cell_type": "code",
      "execution_count": 116,
      "metadata": {
        "id": "O_oE-LUjCLa8"
      },
      "outputs": [],
      "source": [
        "import pandas as pd\n",
        "import numpy as np\n",
        "import seaborn as sns\n",
        "import matplotlib.pyplot as plt\n"
      ]
    },
    {
      "cell_type": "code",
      "execution_count": 117,
      "metadata": {
        "id": "L-4kesSxCLa9"
      },
      "outputs": [],
      "source": [
        "Data = pd.read_csv('fulldata.csv')"
      ]
    },
    {
      "cell_type": "code",
      "execution_count": 118,
      "metadata": {
        "colab": {
          "base_uri": "https://localhost:8080/"
        },
        "id": "bT4JqsPMCLa9",
        "outputId": "a1f313a2-e214-437f-864f-8ed3a1459632"
      },
      "outputs": [
        {
          "data": {
            "text/plain": [
              "<bound method NDFrame.head of                           name     energy   diag      pca1      pca2      pca3\n",
              "0           acetaldehyde_0_015  38.145186  0.378  0.842622 -0.531091  0.067095\n",
              "1           acetaldehyde_0_015   0.573634  0.005  0.463136  0.636858 -0.534280\n",
              "2           acetaldehyde_0_015   0.580474  0.005  0.264667  0.540074  0.553770\n",
              "3           acetaldehyde_0_015  37.980501  0.378  0.029347  0.105040  0.245169\n",
              "4           acetaldehyde_0_015  75.370940  0.754  0.044385  0.049707  0.439767\n",
              "...                        ...        ...    ...       ...       ...       ...\n",
              "189483  vinylacetate_occscan_9  38.019840  0.378  0.036313  0.040589 -0.055911\n",
              "189484  vinylacetate_occscan_9  38.121546  0.378  0.033934  0.041472 -0.123830\n",
              "189485  vinylacetate_occscan_9   0.574945  0.005  0.028167 -0.001278 -0.029696\n",
              "189486  vinylacetate_occscan_9   0.577973  0.005  0.024077  0.006063 -0.010935\n",
              "189487  vinylacetate_occscan_9   0.577448  0.005  0.021231 -0.002702 -0.014683\n",
              "\n",
              "[189488 rows x 6 columns]>"
            ]
          },
          "execution_count": 118,
          "metadata": {},
          "output_type": "execute_result"
        }
      ],
      "source": [
        "Data.head"
      ]
    },
    {
      "cell_type": "code",
      "execution_count": 119,
      "metadata": {
        "colab": {
          "base_uri": "https://localhost:8080/",
          "height": 441
        },
        "id": "6XGxzn7ACLa9",
        "outputId": "ae5af16a-ed1b-46d5-abe3-7200cbf115b7"
      },
      "outputs": [
        {
          "name": "stdout",
          "output_type": "stream",
          "text": [
            "<class 'pandas.core.frame.DataFrame'>\n",
            "RangeIndex: 189488 entries, 0 to 189487\n",
            "Data columns (total 6 columns):\n",
            " #   Column  Non-Null Count   Dtype  \n",
            "---  ------  --------------   -----  \n",
            " 0   name    189488 non-null  object \n",
            " 1   energy  189488 non-null  float64\n",
            " 2   diag    189488 non-null  float64\n",
            " 3   pca1    189488 non-null  float64\n",
            " 4   pca2    189488 non-null  float64\n",
            " 5   pca3    189488 non-null  float64\n",
            "dtypes: float64(5), object(1)\n",
            "memory usage: 8.7+ MB\n"
          ]
        },
        {
          "data": {
            "text/html": [
              "<div>\n",
              "<style scoped>\n",
              "    .dataframe tbody tr th:only-of-type {\n",
              "        vertical-align: middle;\n",
              "    }\n",
              "\n",
              "    .dataframe tbody tr th {\n",
              "        vertical-align: top;\n",
              "    }\n",
              "\n",
              "    .dataframe thead th {\n",
              "        text-align: right;\n",
              "    }\n",
              "</style>\n",
              "<table border=\"1\" class=\"dataframe\">\n",
              "  <thead>\n",
              "    <tr style=\"text-align: right;\">\n",
              "      <th></th>\n",
              "      <th>count</th>\n",
              "      <th>mean</th>\n",
              "      <th>std</th>\n",
              "      <th>min</th>\n",
              "      <th>25%</th>\n",
              "      <th>50%</th>\n",
              "      <th>75%</th>\n",
              "      <th>max</th>\n",
              "    </tr>\n",
              "  </thead>\n",
              "  <tbody>\n",
              "    <tr>\n",
              "      <th>energy</th>\n",
              "      <td>189488.0</td>\n",
              "      <td>23.224939</td>\n",
              "      <td>24.828596</td>\n",
              "      <td>0.280758</td>\n",
              "      <td>0.578519</td>\n",
              "      <td>35.489707</td>\n",
              "      <td>38.119598</td>\n",
              "      <td>99.991317</td>\n",
              "    </tr>\n",
              "    <tr>\n",
              "      <th>diag</th>\n",
              "      <td>189488.0</td>\n",
              "      <td>0.233942</td>\n",
              "      <td>0.251381</td>\n",
              "      <td>0.005000</td>\n",
              "      <td>0.005000</td>\n",
              "      <td>0.378000</td>\n",
              "      <td>0.378000</td>\n",
              "      <td>1.000000</td>\n",
              "    </tr>\n",
              "    <tr>\n",
              "      <th>pca1</th>\n",
              "      <td>189488.0</td>\n",
              "      <td>0.126102</td>\n",
              "      <td>0.193949</td>\n",
              "      <td>-0.878344</td>\n",
              "      <td>0.023608</td>\n",
              "      <td>0.057811</td>\n",
              "      <td>0.193317</td>\n",
              "      <td>0.996973</td>\n",
              "    </tr>\n",
              "    <tr>\n",
              "      <th>pca2</th>\n",
              "      <td>189488.0</td>\n",
              "      <td>0.053110</td>\n",
              "      <td>0.225161</td>\n",
              "      <td>-0.983825</td>\n",
              "      <td>-0.010437</td>\n",
              "      <td>0.022784</td>\n",
              "      <td>0.175336</td>\n",
              "      <td>0.979041</td>\n",
              "    </tr>\n",
              "    <tr>\n",
              "      <th>pca3</th>\n",
              "      <td>189488.0</td>\n",
              "      <td>-0.000552</td>\n",
              "      <td>0.231339</td>\n",
              "      <td>-0.960883</td>\n",
              "      <td>-0.062514</td>\n",
              "      <td>0.008743</td>\n",
              "      <td>0.097253</td>\n",
              "      <td>0.981669</td>\n",
              "    </tr>\n",
              "  </tbody>\n",
              "</table>\n",
              "</div>"
            ],
            "text/plain": [
              "           count       mean        std       min       25%        50%  \\\n",
              "energy  189488.0  23.224939  24.828596  0.280758  0.578519  35.489707   \n",
              "diag    189488.0   0.233942   0.251381  0.005000  0.005000   0.378000   \n",
              "pca1    189488.0   0.126102   0.193949 -0.878344  0.023608   0.057811   \n",
              "pca2    189488.0   0.053110   0.225161 -0.983825 -0.010437   0.022784   \n",
              "pca3    189488.0  -0.000552   0.231339 -0.960883 -0.062514   0.008743   \n",
              "\n",
              "              75%        max  \n",
              "energy  38.119598  99.991317  \n",
              "diag     0.378000   1.000000  \n",
              "pca1     0.193317   0.996973  \n",
              "pca2     0.175336   0.979041  \n",
              "pca3     0.097253   0.981669  "
            ]
          },
          "execution_count": 119,
          "metadata": {},
          "output_type": "execute_result"
        }
      ],
      "source": [
        "Data.info()\n",
        "Data.describe().transpose()"
      ]
    },
    {
      "cell_type": "code",
      "execution_count": 120,
      "metadata": {
        "colab": {
          "base_uri": "https://localhost:8080/"
        },
        "id": "JyOcbwMoCLa9",
        "outputId": "807216a1-facf-49fd-9cce-a0e8fb0a9b7a"
      },
      "outputs": [
        {
          "data": {
            "text/plain": [
              "name      0\n",
              "energy    0\n",
              "diag      0\n",
              "pca1      0\n",
              "pca2      0\n",
              "pca3      0\n",
              "dtype: int64"
            ]
          },
          "execution_count": 120,
          "metadata": {},
          "output_type": "execute_result"
        }
      ],
      "source": [
        "null_counts = Data.isna().sum()\n",
        "null_counts"
      ]
    },
    {
      "cell_type": "code",
      "execution_count": 121,
      "metadata": {
        "colab": {
          "base_uri": "https://localhost:8080/",
          "height": 284
        },
        "id": "URX1FRPsCLa-",
        "outputId": "6730a52b-5d8e-4d03-9cf5-f05199906924"
      },
      "outputs": [
        {
          "data": {
            "text/plain": [
              "<AxesSubplot: >"
            ]
          },
          "execution_count": 121,
          "metadata": {},
          "output_type": "execute_result"
        },
        {
          "data": {
            "image/png": "[encoded data removed]",
            "text/plain": [
              "<Figure size 432x288 with 1 Axes>"
            ]
          },
          "metadata": {
            "needs_background": "light"
          },
          "output_type": "display_data"
        }
      ],
      "source": [
        "features = ['energy','diag','pca1', 'pca2', 'pca3']\n",
        "Data.boxplot(features)\n"
      ]
    },
    {
      "cell_type": "code",
      "execution_count": 122,
      "metadata": {},
      "outputs": [
        {
          "data": {
            "text/plain": [
              "<AxesSubplot: >"
            ]
          },
          "execution_count": 122,
          "metadata": {},
          "output_type": "execute_result"
        },
        {
          "data": {
            "image/png": "[encoded data removed]",
            "text/plain": [
              "<Figure size 432x288 with 1 Axes>"
            ]
          },
          "metadata": {
            "needs_background": "light"
          },
          "output_type": "display_data"
        }
      ],
      "source": [
        "features = ['diag','pca1', 'pca2', 'pca3']\n",
        "Data.boxplot(features)\n"
      ]
    },
    {
      "cell_type": "code",
      "execution_count": 123,
      "metadata": {},
      "outputs": [
        {
          "data": {
            "text/plain": [
              "<AxesSubplot: >"
            ]
          },
          "execution_count": 123,
          "metadata": {},
          "output_type": "execute_result"
        },
        {
          "data": {
            "image/png": "[encoded data removed]",
            "text/plain": [
              "<Figure size 432x288 with 1 Axes>"
            ]
          },
          "metadata": {
            "needs_background": "light"
          },
          "output_type": "display_data"
        }
      ],
      "source": [
        "features = ['pca1', 'pca2', 'pca3']\n",
        "Data.boxplot(features)\n"
      ]
    },
    {
      "cell_type": "code",
      "execution_count": 124,
      "metadata": {
        "id": "7LWenBCgCLa-"
      },
      "outputs": [],
      "source": [
        "selected_features = ['diag','pca1','pca2','pca3']\n",
        "X = Data[selected_features]"
      ]
    },
    {
      "cell_type": "code",
      "execution_count": 125,
      "metadata": {},
      "outputs": [],
      "source": [
        "selected_features = ['diag', 'pca1', 'pca2', 'pca3']\n",
        "Data['count'] = Data.groupby('name')['name'].transform('count')\n",
        "bins = [0, 13, 20, float(\"inf\")]\n",
        "labels = ['0-13', '14-20', '20+']\n",
        "Data['Bin'] = pd.cut(Data['count'], bins=bins, labels=labels)\n",
        "\n",
        "X = Data[selected_features + ['Bin']]  # Include 'Bin' column\n",
        "X = pd.get_dummies(X, columns=['Bin'])"
      ]
    },
    {
      "cell_type": "code",
      "execution_count": 126,
      "metadata": {
        "id": "j0_yhEPcCLa-"
      },
      "outputs": [],
      "source": [
        "target =  ['energy']\n",
        "y = Data[target]"
      ]
    },
    {
      "cell_type": "code",
      "execution_count": 127,
      "metadata": {
        "colab": {
          "base_uri": "https://localhost:8080/"
        },
        "id": "_N_f-MxyCLa-",
        "outputId": "656a2773-e7e0-471c-c436-cd1176a02994"
      },
      "outputs": [
        {
          "data": {
            "text/plain": [
              "array([[0.37487437, 0.91769338, 0.23064947, ..., 1.        , 0.        ,\n",
              "        0.        ],\n",
              "       [0.        , 0.71533506, 0.82567175, ..., 1.        , 0.        ,\n",
              "        0.        ],\n",
              "       [0.        , 0.60950282, 0.77636426, ..., 1.        , 0.        ,\n",
              "        0.        ],\n",
              "       ...,\n",
              "       [0.        , 0.48339081, 0.50056754, ..., 1.        , 0.        ,\n",
              "        0.        ],\n",
              "       [0.        , 0.48120984, 0.50430748, ..., 1.        , 0.        ,\n",
              "        0.        ],\n",
              "       [0.        , 0.47969223, 0.49984207, ..., 1.        , 0.        ,\n",
              "        0.        ]])"
            ]
          },
          "execution_count": 127,
          "metadata": {},
          "output_type": "execute_result"
        }
      ],
      "source": [
        "from sklearn import preprocessing\n",
        "min_max_scaler = preprocessing.MinMaxScaler()\n",
        "X_scale = min_max_scaler.fit_transform(X)\n",
        "X_scale"
      ]
    },
    {
      "cell_type": "code",
      "execution_count": 128,
      "metadata": {
        "id": "kkmh5Z-4CLa-"
      },
      "outputs": [],
      "source": [
        "from keras.models import Sequential\n",
        "from keras.layers import Dense, Dropout\n",
        "from keras.layers.reshaping.flatten import Flatten\n",
        "from sklearn.model_selection import train_test_split"
      ]
    },
    {
      "cell_type": "code",
      "execution_count": 129,
      "metadata": {},
      "outputs": [
        {
          "name": "stdout",
          "output_type": "stream",
          "text": [
            "(132641, 7) (38087, 7) (18760, 7) (132641, 1) (38087, 1) (18760, 1)\n"
          ]
        }
      ],
      "source": [
        "# import necessary libraries\n",
        "from sklearn.model_selection import train_test_split\n",
        "\n",
        "\n",
        "X_train, X_temp, Y_train, Y_temp = train_test_split(X_scale, y, test_size=0.3, random_state=42)\n",
        "X_val, X_test, Y_val, Y_test = train_test_split(X_temp, Y_temp, test_size=0.33, random_state=42)\n",
        "\n",
        "print(X_train.shape, X_val.shape, X_test.shape, Y_train.shape, Y_val.shape, Y_test.shape)\n"
      ]
    },
    {
      "cell_type": "code",
      "execution_count": 130,
      "metadata": {},
      "outputs": [
        {
          "name": "stdout",
          "output_type": "stream",
          "text": [
            "(132641, 7) (38087, 7) (18760, 7) (132641, 1) (38087, 1) (18760, 1)\n"
          ]
        }
      ],
      "source": [
        "#ChatGPT\n",
        "from sklearn.model_selection import train_test_split\n",
        "\n",
        "# Split data into training and combined validation/testing sets\n",
        "X_train, X_val_and_test, Y_train, Y_val_and_test = train_test_split(X_scale, y, test_size=0.3, random_state=42)\n",
        "\n",
        "# Split combined validation/testing set into separate validation and testing sets\n",
        "X_val, X_test, Y_val, Y_test = train_test_split(X_val_and_test, Y_val_and_test, test_size=0.33, random_state=42)\n",
        "\n",
        "# Print shapes of all sets\n",
        "print(X_train.shape, X_val.shape, X_test.shape, Y_train.shape, Y_val.shape, Y_test.shape)\n"
      ]
    },
    {
      "cell_type": "code",
      "execution_count": 131,
      "metadata": {
        "colab": {
          "base_uri": "https://localhost:8080/"
        },
        "id": "VSODuv4fCLa-",
        "outputId": "5235acd5-c55c-4048-bb44-9a8ca2414c22"
      },
      "outputs": [],
      "source": [
        "# X_train, X_val_and_test, Y_train, Y_val_and_test = train_test_split(X_scale, y, test_size=0.2)\n",
        "# X_val, X_test, Y_val, Y_test = train_test_split(X_val_and_test, Y_val_and_test, test_size=0.5)\n",
        "# print(X_train.shape, X_val.shape, X_test.shape, Y_train.shape, Y_val.shape, Y_test.shape)"
      ]
    },
    {
      "cell_type": "code",
      "execution_count": 132,
      "metadata": {
        "id": "yWCPJ_0oCLa_"
      },
      "outputs": [],
      "source": [
        "# model = Sequential()\n",
        "# model.add(Dense(units = 48, input_dim = 4, activation = 'relu'))\n",
        "# model.add(Dense(units = 48, activation='relu'))\n",
        "# model.add(Dense(units = 32, activation='relu'))\n",
        "# model.add(Dense(units = 32, activation='relu'))\n",
        "# model.add(Flatten())\n",
        "# model.add(Dense(units = 1))"
      ]
    },
    {
      "cell_type": "code",
      "execution_count": 133,
      "metadata": {},
      "outputs": [],
      "source": [
        "model = Sequential()\n",
        "model.add(Dense(units = 172, input_dim = 7))\n",
        "model.add(Dense(units = 183, activation='relu'))\n",
        "model.add(Dense(units = 92, activation='relu'))\n",
        "model.add(Dense(units = 89, activation='relu'))\n",
        "model.add(Dense(units = 16, activation='relu'))\n",
        "model.add(Flatten())\n",
        "model.add(Dense(units = 1))"
      ]
    },
    {
      "cell_type": "code",
      "execution_count": 134,
      "metadata": {
        "id": "_us0dno3CLa_"
      },
      "outputs": [],
      "source": [
        "model.compile(optimizer='adam', loss='mse', metrics=['mae'])\n"
      ]
    },
    {
      "cell_type": "code",
      "execution_count": 135,
      "metadata": {
        "colab": {
          "base_uri": "https://localhost:8080/"
        },
        "id": "7cFYs4YfCLa_",
        "outputId": "5fe6fb34-8498-4afa-8b2d-3243aabcf707"
      },
      "outputs": [
        {
          "name": "stdout",
          "output_type": "stream",
          "text": [
            "Epoch 1/200\n",
            "4146/4146 [==============================] - 30s 6ms/step - loss: 10.5829 - mae: 0.8515 - val_loss: 6.5437 - val_mae: 1.7669\n",
            "Epoch 2/200\n",
            "4146/4146 [==============================] - 24s 6ms/step - loss: 0.7231 - mae: 0.5021 - val_loss: 6.1157 - val_mae: 1.6510\n",
            "Epoch 3/200\n",
            "4146/4146 [==============================] - 23s 6ms/step - loss: 0.6301 - mae: 0.4690 - val_loss: 0.9212 - val_mae: 0.5389\n",
            "Epoch 4/200\n",
            "4146/4146 [==============================] - 28s 7ms/step - loss: 0.6139 - mae: 0.4639 - val_loss: 1.1521 - val_mae: 0.6400\n",
            "Epoch 5/200\n",
            "4146/4146 [==============================] - 25s 6ms/step - loss: 0.5798 - mae: 0.4484 - val_loss: 0.4579 - val_mae: 0.3872\n",
            "Epoch 6/200\n",
            "4146/4146 [==============================] - 26s 6ms/step - loss: 0.5618 - mae: 0.4408 - val_loss: 0.4084 - val_mae: 0.3423\n",
            "Epoch 7/200\n",
            "4146/4146 [==============================] - 24s 6ms/step - loss: 0.5413 - mae: 0.4312 - val_loss: 0.5669 - val_mae: 0.4970\n",
            "Epoch 8/200\n",
            "4146/4146 [==============================] - 20s 5ms/step - loss: 0.5296 - mae: 0.4277 - val_loss: 1.0665 - val_mae: 0.6280\n",
            "Epoch 9/200\n",
            "4146/4146 [==============================] - 19s 5ms/step - loss: 0.5129 - mae: 0.4177 - val_loss: 0.5818 - val_mae: 0.4329\n",
            "Epoch 10/200\n",
            "4146/4146 [==============================] - 23s 5ms/step - loss: 0.4928 - mae: 0.4085 - val_loss: 0.5219 - val_mae: 0.3731\n",
            "Epoch 11/200\n",
            "4146/4146 [==============================] - 21s 5ms/step - loss: 0.4854 - mae: 0.4032 - val_loss: 0.6831 - val_mae: 0.5720\n",
            "Epoch 12/200\n",
            "4146/4146 [==============================] - 25s 6ms/step - loss: 0.4847 - mae: 0.4024 - val_loss: 1.7351 - val_mae: 0.8528\n",
            "Epoch 13/200\n",
            "4146/4146 [==============================] - 17s 4ms/step - loss: 0.4735 - mae: 0.3966 - val_loss: 0.3679 - val_mae: 0.3360\n",
            "Epoch 14/200\n",
            "4146/4146 [==============================] - 10s 2ms/step - loss: 0.4586 - mae: 0.3888 - val_loss: 0.4284 - val_mae: 0.4115\n",
            "Epoch 15/200\n",
            "4146/4146 [==============================] - 13s 3ms/step - loss: 0.4594 - mae: 0.3890 - val_loss: 0.3691 - val_mae: 0.3426\n",
            "Epoch 16/200\n",
            "4146/4146 [==============================] - 15s 4ms/step - loss: 0.4493 - mae: 0.3823 - val_loss: 0.6248 - val_mae: 0.4274\n",
            "Epoch 17/200\n",
            "4146/4146 [==============================] - 12s 3ms/step - loss: 0.4425 - mae: 0.3771 - val_loss: 0.4208 - val_mae: 0.3881\n",
            "Epoch 18/200\n",
            "4146/4146 [==============================] - 12s 3ms/step - loss: 0.4393 - mae: 0.3772 - val_loss: 0.4178 - val_mae: 0.3307\n",
            "Epoch 19/200\n",
            "4146/4146 [==============================] - 14s 3ms/step - loss: 0.4415 - mae: 0.3764 - val_loss: 0.5653 - val_mae: 0.4787\n",
            "Epoch 20/200\n",
            "4146/4146 [==============================] - 19s 5ms/step - loss: 0.4380 - mae: 0.3755 - val_loss: 0.3918 - val_mae: 0.3674\n",
            "Epoch 21/200\n",
            "4146/4146 [==============================] - 17s 4ms/step - loss: 0.4380 - mae: 0.3751 - val_loss: 0.4032 - val_mae: 0.3639\n",
            "Epoch 22/200\n",
            "4146/4146 [==============================] - 16s 4ms/step - loss: 0.4331 - mae: 0.3720 - val_loss: 0.3515 - val_mae: 0.2997\n",
            "Epoch 23/200\n",
            "4146/4146 [==============================] - 14s 3ms/step - loss: 0.4267 - mae: 0.3690 - val_loss: 0.8155 - val_mae: 0.5133\n",
            "Epoch 24/200\n",
            "4146/4146 [==============================] - 15s 4ms/step - loss: 0.4249 - mae: 0.3677 - val_loss: 0.7126 - val_mae: 0.5792\n",
            "Epoch 25/200\n",
            "4146/4146 [==============================] - 14s 3ms/step - loss: 0.4213 - mae: 0.3665 - val_loss: 0.5831 - val_mae: 0.5179\n",
            "Epoch 26/200\n",
            "4146/4146 [==============================] - 13s 3ms/step - loss: 0.4217 - mae: 0.3666 - val_loss: 0.9752 - val_mae: 0.5943\n",
            "Epoch 27/200\n",
            "4146/4146 [==============================] - 12s 3ms/step - loss: 0.4176 - mae: 0.3628 - val_loss: 0.6111 - val_mae: 0.5370\n",
            "Epoch 28/200\n",
            "4146/4146 [==============================] - 13s 3ms/step - loss: 0.4196 - mae: 0.3655 - val_loss: 0.6583 - val_mae: 0.4533\n",
            "Epoch 29/200\n",
            "4146/4146 [==============================] - 13s 3ms/step - loss: 0.4099 - mae: 0.3599 - val_loss: 0.4457 - val_mae: 0.3805\n",
            "Epoch 30/200\n",
            "4146/4146 [==============================] - 13s 3ms/step - loss: 0.4074 - mae: 0.3571 - val_loss: 0.4478 - val_mae: 0.3428\n",
            "Epoch 31/200\n",
            "4146/4146 [==============================] - 12s 3ms/step - loss: 0.4094 - mae: 0.3590 - val_loss: 0.5230 - val_mae: 0.4152\n",
            "Epoch 32/200\n",
            "4146/4146 [==============================] - 14s 3ms/step - loss: 0.4009 - mae: 0.3532 - val_loss: 0.3417 - val_mae: 0.3138\n",
            "Epoch 33/200\n",
            "4146/4146 [==============================] - 13s 3ms/step - loss: 0.4043 - mae: 0.3565 - val_loss: 0.5969 - val_mae: 0.4372\n",
            "Epoch 34/200\n",
            "4146/4146 [==============================] - 13s 3ms/step - loss: 0.4075 - mae: 0.3573 - val_loss: 0.3604 - val_mae: 0.3225\n",
            "Epoch 35/200\n",
            "4146/4146 [==============================] - 13s 3ms/step - loss: 0.3992 - mae: 0.3530 - val_loss: 0.4960 - val_mae: 0.3817\n",
            "Epoch 36/200\n",
            "4146/4146 [==============================] - 12s 3ms/step - loss: 0.4001 - mae: 0.3541 - val_loss: 0.7802 - val_mae: 0.5984\n",
            "Epoch 37/200\n",
            "4146/4146 [==============================] - 12s 3ms/step - loss: 0.3964 - mae: 0.3510 - val_loss: 0.3465 - val_mae: 0.3219\n",
            "Epoch 38/200\n",
            "4146/4146 [==============================] - 14s 3ms/step - loss: 0.3920 - mae: 0.3479 - val_loss: 0.5107 - val_mae: 0.3913\n",
            "Epoch 39/200\n",
            "4146/4146 [==============================] - 13s 3ms/step - loss: 0.3937 - mae: 0.3491 - val_loss: 0.4382 - val_mae: 0.4270\n",
            "Epoch 40/200\n",
            "4146/4146 [==============================] - 11s 3ms/step - loss: 0.3955 - mae: 0.3492 - val_loss: 0.3540 - val_mae: 0.3283\n",
            "Epoch 41/200\n",
            "4146/4146 [==============================] - 10s 2ms/step - loss: 0.3944 - mae: 0.3504 - val_loss: 0.3521 - val_mae: 0.3485\n",
            "Epoch 42/200\n",
            "4146/4146 [==============================] - 14s 3ms/step - loss: 0.3886 - mae: 0.3452 - val_loss: 0.4605 - val_mae: 0.3451\n",
            "Epoch 43/200\n",
            "4146/4146 [==============================] - 13s 3ms/step - loss: 0.3921 - mae: 0.3473 - val_loss: 0.3648 - val_mae: 0.3233\n",
            "Epoch 44/200\n",
            "4146/4146 [==============================] - 13s 3ms/step - loss: 0.3890 - mae: 0.3461 - val_loss: 0.4298 - val_mae: 0.4134\n",
            "Epoch 45/200\n",
            "4146/4146 [==============================] - 13s 3ms/step - loss: 0.3831 - mae: 0.3417 - val_loss: 0.3586 - val_mae: 0.3135\n",
            "Epoch 46/200\n",
            "4146/4146 [==============================] - 14s 3ms/step - loss: 0.3904 - mae: 0.3468 - val_loss: 0.4994 - val_mae: 0.4258\n",
            "Epoch 47/200\n",
            "4146/4146 [==============================] - 14s 3ms/step - loss: 0.3847 - mae: 0.3435 - val_loss: 0.4701 - val_mae: 0.3978\n",
            "Epoch 48/200\n",
            "4146/4146 [==============================] - 14s 3ms/step - loss: 0.3803 - mae: 0.3403 - val_loss: 0.4648 - val_mae: 0.4520\n",
            "Epoch 49/200\n",
            "4146/4146 [==============================] - 10s 2ms/step - loss: 0.3855 - mae: 0.3441 - val_loss: 0.5401 - val_mae: 0.4112\n",
            "Epoch 50/200\n",
            "4146/4146 [==============================] - 12s 3ms/step - loss: 0.3819 - mae: 0.3410 - val_loss: 0.3529 - val_mae: 0.3313\n",
            "Epoch 51/200\n",
            "4146/4146 [==============================] - 11s 3ms/step - loss: 0.3783 - mae: 0.3390 - val_loss: 0.6464 - val_mae: 0.5442\n",
            "Epoch 52/200\n",
            "4146/4146 [==============================] - 9s 2ms/step - loss: 0.3857 - mae: 0.3440 - val_loss: 0.3734 - val_mae: 0.3802\n",
            "Epoch 53/200\n",
            "4146/4146 [==============================] - 9s 2ms/step - loss: 0.3741 - mae: 0.3368 - val_loss: 0.3734 - val_mae: 0.2937\n",
            "Epoch 54/200\n",
            "4146/4146 [==============================] - 9s 2ms/step - loss: 0.3814 - mae: 0.3404 - val_loss: 0.3530 - val_mae: 0.3113\n",
            "Epoch 55/200\n",
            "4146/4146 [==============================] - 9s 2ms/step - loss: 0.3756 - mae: 0.3373 - val_loss: 0.3494 - val_mae: 0.3301\n",
            "Epoch 56/200\n",
            "4146/4146 [==============================] - 9s 2ms/step - loss: 0.3719 - mae: 0.3343 - val_loss: 0.7724 - val_mae: 0.5896\n",
            "Epoch 57/200\n",
            "4146/4146 [==============================] - 9s 2ms/step - loss: 0.3774 - mae: 0.3374 - val_loss: 0.4544 - val_mae: 0.4376\n",
            "Epoch 58/200\n",
            "4146/4146 [==============================] - 11s 3ms/step - loss: 0.3740 - mae: 0.3360 - val_loss: 0.3823 - val_mae: 0.3790\n",
            "Epoch 59/200\n",
            "4146/4146 [==============================] - 9s 2ms/step - loss: 0.3720 - mae: 0.3365 - val_loss: 1.1560 - val_mae: 0.7387\n",
            "Epoch 60/200\n",
            "4146/4146 [==============================] - 9s 2ms/step - loss: 0.3770 - mae: 0.3380 - val_loss: 0.3688 - val_mae: 0.3717\n",
            "Epoch 61/200\n",
            "4146/4146 [==============================] - 9s 2ms/step - loss: 0.3753 - mae: 0.3361 - val_loss: 0.3497 - val_mae: 0.3366\n",
            "Epoch 62/200\n",
            "4146/4146 [==============================] - 9s 2ms/step - loss: 0.3666 - mae: 0.3318 - val_loss: 0.3590 - val_mae: 0.3288\n",
            "Epoch 63/200\n",
            "4146/4146 [==============================] - 9s 2ms/step - loss: 0.3733 - mae: 0.3354 - val_loss: 0.3511 - val_mae: 0.3049\n",
            "Epoch 64/200\n",
            "4146/4146 [==============================] - 9s 2ms/step - loss: 0.3682 - mae: 0.3326 - val_loss: 0.3712 - val_mae: 0.3721\n",
            "Epoch 65/200\n",
            "4146/4146 [==============================] - 10s 2ms/step - loss: 0.3681 - mae: 0.3322 - val_loss: 0.3301 - val_mae: 0.2770\n",
            "Epoch 66/200\n",
            "4146/4146 [==============================] - 9s 2ms/step - loss: 0.3623 - mae: 0.3277 - val_loss: 0.4215 - val_mae: 0.3592\n",
            "Epoch 67/200\n",
            "4146/4146 [==============================] - 10s 3ms/step - loss: 0.3657 - mae: 0.3306 - val_loss: 0.3249 - val_mae: 0.2886\n",
            "Epoch 68/200\n",
            "4146/4146 [==============================] - 11s 3ms/step - loss: 0.3667 - mae: 0.3313 - val_loss: 0.5512 - val_mae: 0.4148\n",
            "Epoch 69/200\n",
            "4146/4146 [==============================] - 12s 3ms/step - loss: 0.3638 - mae: 0.3298 - val_loss: 0.3209 - val_mae: 0.2806\n",
            "Epoch 70/200\n",
            "4146/4146 [==============================] - 12s 3ms/step - loss: 0.3667 - mae: 0.3311 - val_loss: 1.6104 - val_mae: 0.8447\n",
            "Epoch 71/200\n",
            "4146/4146 [==============================] - 13s 3ms/step - loss: 0.3645 - mae: 0.3295 - val_loss: 0.3247 - val_mae: 0.2745\n",
            "Epoch 72/200\n",
            "4146/4146 [==============================] - 10s 2ms/step - loss: 0.3608 - mae: 0.3292 - val_loss: 0.3540 - val_mae: 0.2934\n",
            "Epoch 73/200\n",
            "4146/4146 [==============================] - 10s 2ms/step - loss: 0.3620 - mae: 0.3278 - val_loss: 0.3241 - val_mae: 0.2819\n",
            "Epoch 74/200\n",
            "4146/4146 [==============================] - 10s 2ms/step - loss: 0.3582 - mae: 0.3267 - val_loss: 0.4548 - val_mae: 0.3833\n",
            "Epoch 75/200\n",
            "4146/4146 [==============================] - 10s 2ms/step - loss: 0.3592 - mae: 0.3271 - val_loss: 0.3405 - val_mae: 0.3315\n",
            "Epoch 76/200\n",
            "4146/4146 [==============================] - 10s 2ms/step - loss: 0.3622 - mae: 0.3287 - val_loss: 0.3231 - val_mae: 0.3035\n",
            "Epoch 77/200\n",
            "4146/4146 [==============================] - 9s 2ms/step - loss: 0.3596 - mae: 0.3269 - val_loss: 0.3269 - val_mae: 0.3166\n",
            "Epoch 78/200\n",
            "4146/4146 [==============================] - 10s 2ms/step - loss: 0.3514 - mae: 0.3216 - val_loss: 0.3227 - val_mae: 0.2896\n",
            "Epoch 79/200\n",
            "4146/4146 [==============================] - 10s 2ms/step - loss: 0.3557 - mae: 0.3233 - val_loss: 0.3287 - val_mae: 0.3160\n",
            "Epoch 80/200\n",
            "4146/4146 [==============================] - 10s 2ms/step - loss: 0.3559 - mae: 0.3239 - val_loss: 0.3606 - val_mae: 0.3401\n",
            "Epoch 81/200\n",
            "4146/4146 [==============================] - 9s 2ms/step - loss: 0.3556 - mae: 0.3240 - val_loss: 0.5022 - val_mae: 0.4833\n",
            "Epoch 82/200\n",
            "4146/4146 [==============================] - 9s 2ms/step - loss: 0.3518 - mae: 0.3229 - val_loss: 0.3287 - val_mae: 0.3049\n",
            "Epoch 83/200\n",
            "4146/4146 [==============================] - 9s 2ms/step - loss: 0.3507 - mae: 0.3205 - val_loss: 0.3639 - val_mae: 0.3014\n",
            "Epoch 84/200\n",
            "4146/4146 [==============================] - 9s 2ms/step - loss: 0.3525 - mae: 0.3228 - val_loss: 0.3502 - val_mae: 0.3534\n",
            "Epoch 85/200\n",
            "4146/4146 [==============================] - 10s 2ms/step - loss: 0.3488 - mae: 0.3196 - val_loss: 0.3900 - val_mae: 0.3900\n",
            "Epoch 86/200\n",
            "4146/4146 [==============================] - 9s 2ms/step - loss: 0.3502 - mae: 0.3206 - val_loss: 0.3607 - val_mae: 0.3080\n",
            "Epoch 87/200\n",
            "4146/4146 [==============================] - 9s 2ms/step - loss: 0.3504 - mae: 0.3213 - val_loss: 0.4149 - val_mae: 0.3426\n",
            "Epoch 88/200\n",
            "4146/4146 [==============================] - 9s 2ms/step - loss: 0.3482 - mae: 0.3193 - val_loss: 0.3263 - val_mae: 0.3190\n",
            "Epoch 89/200\n",
            "4146/4146 [==============================] - 9s 2ms/step - loss: 0.3488 - mae: 0.3198 - val_loss: 0.3297 - val_mae: 0.3248\n",
            "Epoch 90/200\n",
            "4146/4146 [==============================] - 9s 2ms/step - loss: 0.3502 - mae: 0.3203 - val_loss: 0.3401 - val_mae: 0.3204\n",
            "Epoch 91/200\n",
            "4146/4146 [==============================] - 9s 2ms/step - loss: 0.3470 - mae: 0.3177 - val_loss: 0.3135 - val_mae: 0.2994\n",
            "Epoch 92/200\n",
            "4146/4146 [==============================] - 10s 2ms/step - loss: 0.3438 - mae: 0.3149 - val_loss: 0.3156 - val_mae: 0.2805\n",
            "Epoch 93/200\n",
            "4146/4146 [==============================] - 9s 2ms/step - loss: 0.3467 - mae: 0.3192 - val_loss: 0.3762 - val_mae: 0.3856\n",
            "Epoch 94/200\n",
            "4146/4146 [==============================] - 9s 2ms/step - loss: 0.3463 - mae: 0.3188 - val_loss: 0.5391 - val_mae: 0.4375\n",
            "Epoch 95/200\n",
            "4146/4146 [==============================] - 9s 2ms/step - loss: 0.3423 - mae: 0.3152 - val_loss: 0.3855 - val_mae: 0.3845\n",
            "Epoch 96/200\n",
            "4146/4146 [==============================] - 9s 2ms/step - loss: 0.3391 - mae: 0.3137 - val_loss: 0.3162 - val_mae: 0.2660\n",
            "Epoch 97/200\n",
            "4146/4146 [==============================] - 9s 2ms/step - loss: 0.3384 - mae: 0.3121 - val_loss: 0.3241 - val_mae: 0.2901\n",
            "Epoch 98/200\n",
            "4146/4146 [==============================] - 9s 2ms/step - loss: 0.3416 - mae: 0.3151 - val_loss: 0.3224 - val_mae: 0.3146\n",
            "Epoch 99/200\n",
            "4146/4146 [==============================] - 10s 2ms/step - loss: 0.3370 - mae: 0.3112 - val_loss: 1.2751 - val_mae: 0.7718\n",
            "Epoch 100/200\n",
            "4146/4146 [==============================] - 9s 2ms/step - loss: 0.3440 - mae: 0.3156 - val_loss: 0.6567 - val_mae: 0.4706\n",
            "Epoch 101/200\n",
            "4146/4146 [==============================] - 9s 2ms/step - loss: 0.3359 - mae: 0.3107 - val_loss: 0.3143 - val_mae: 0.2963\n",
            "Epoch 102/200\n",
            "4146/4146 [==============================] - 9s 2ms/step - loss: 0.3355 - mae: 0.3114 - val_loss: 0.3160 - val_mae: 0.3191\n",
            "Epoch 103/200\n",
            "4146/4146 [==============================] - 9s 2ms/step - loss: 0.3388 - mae: 0.3138 - val_loss: 0.3630 - val_mae: 0.3499\n",
            "Epoch 104/200\n",
            "4146/4146 [==============================] - 9s 2ms/step - loss: 0.3332 - mae: 0.3097 - val_loss: 0.3612 - val_mae: 0.3664\n",
            "Epoch 105/200\n",
            "4146/4146 [==============================] - 9s 2ms/step - loss: 0.3357 - mae: 0.3104 - val_loss: 0.3336 - val_mae: 0.3324\n",
            "Epoch 106/200\n",
            "4146/4146 [==============================] - 10s 2ms/step - loss: 0.3321 - mae: 0.3076 - val_loss: 0.9637 - val_mae: 0.6689\n",
            "Epoch 107/200\n",
            "4146/4146 [==============================] - 9s 2ms/step - loss: 0.3358 - mae: 0.3103 - val_loss: 0.3124 - val_mae: 0.3079\n",
            "Epoch 108/200\n",
            "4146/4146 [==============================] - 11s 3ms/step - loss: 0.3331 - mae: 0.3095 - val_loss: 0.3851 - val_mae: 0.3978\n",
            "Epoch 109/200\n",
            "4146/4146 [==============================] - 13s 3ms/step - loss: 0.3298 - mae: 0.3079 - val_loss: 0.2971 - val_mae: 0.2770\n",
            "Epoch 110/200\n",
            "4146/4146 [==============================] - 13s 3ms/step - loss: 0.3336 - mae: 0.3103 - val_loss: 0.3547 - val_mae: 0.3592\n",
            "Epoch 111/200\n",
            "4146/4146 [==============================] - 13s 3ms/step - loss: 0.3336 - mae: 0.3104 - val_loss: 0.3222 - val_mae: 0.3088\n",
            "Epoch 112/200\n",
            "4146/4146 [==============================] - 11s 3ms/step - loss: 0.3307 - mae: 0.3082 - val_loss: 0.3027 - val_mae: 0.2600\n",
            "Epoch 113/200\n",
            "4146/4146 [==============================] - 10s 2ms/step - loss: 0.3250 - mae: 0.3042 - val_loss: 0.4281 - val_mae: 0.4207\n",
            "Epoch 114/200\n",
            "4146/4146 [==============================] - 11s 3ms/step - loss: 0.3286 - mae: 0.3060 - val_loss: 0.2990 - val_mae: 0.2799\n",
            "Epoch 115/200\n",
            "4146/4146 [==============================] - 9s 2ms/step - loss: 0.3298 - mae: 0.3080 - val_loss: 0.2904 - val_mae: 0.2748\n",
            "Epoch 116/200\n",
            "4146/4146 [==============================] - 9s 2ms/step - loss: 0.3252 - mae: 0.3052 - val_loss: 0.3528 - val_mae: 0.3499\n",
            "Epoch 117/200\n",
            "4146/4146 [==============================] - 11s 3ms/step - loss: 0.3217 - mae: 0.3028 - val_loss: 0.2955 - val_mae: 0.2706\n",
            "Epoch 118/200\n",
            "4146/4146 [==============================] - 11s 3ms/step - loss: 0.3202 - mae: 0.3019 - val_loss: 0.3071 - val_mae: 0.2503\n",
            "Epoch 119/200\n",
            "4146/4146 [==============================] - 11s 3ms/step - loss: 0.3151 - mae: 0.2974 - val_loss: 0.3695 - val_mae: 0.3784\n",
            "Epoch 120/200\n",
            "4146/4146 [==============================] - 11s 3ms/step - loss: 0.3160 - mae: 0.2978 - val_loss: 0.3067 - val_mae: 0.2751\n",
            "Epoch 121/200\n",
            "4146/4146 [==============================] - 14s 3ms/step - loss: 0.3168 - mae: 0.2989 - val_loss: 0.3097 - val_mae: 0.2800\n",
            "Epoch 122/200\n",
            "4146/4146 [==============================] - 11s 3ms/step - loss: 0.3163 - mae: 0.2991 - val_loss: 0.2856 - val_mae: 0.2741\n",
            "Epoch 123/200\n",
            "4146/4146 [==============================] - 12s 3ms/step - loss: 0.3162 - mae: 0.2995 - val_loss: 0.2853 - val_mae: 0.2666\n",
            "Epoch 124/200\n",
            "4146/4146 [==============================] - 11s 3ms/step - loss: 0.3136 - mae: 0.2974 - val_loss: 0.3456 - val_mae: 0.2980\n",
            "Epoch 125/200\n",
            "4146/4146 [==============================] - 11s 3ms/step - loss: 0.3150 - mae: 0.2993 - val_loss: 0.2868 - val_mae: 0.2882\n",
            "Epoch 126/200\n",
            "4146/4146 [==============================] - 11s 3ms/step - loss: 0.3126 - mae: 0.2984 - val_loss: 0.2957 - val_mae: 0.2642\n",
            "Epoch 127/200\n",
            "4146/4146 [==============================] - 11s 3ms/step - loss: 0.3141 - mae: 0.2981 - val_loss: 0.3688 - val_mae: 0.3209\n",
            "Epoch 128/200\n",
            "4146/4146 [==============================] - 10s 2ms/step - loss: 0.3143 - mae: 0.2989 - val_loss: 0.2870 - val_mae: 0.2783\n",
            "Epoch 129/200\n",
            "4146/4146 [==============================] - 11s 3ms/step - loss: 0.3096 - mae: 0.2961 - val_loss: 0.3283 - val_mae: 0.3004\n",
            "Epoch 130/200\n",
            "4146/4146 [==============================] - 11s 3ms/step - loss: 0.3124 - mae: 0.2970 - val_loss: 0.3786 - val_mae: 0.3835\n",
            "Epoch 131/200\n",
            "4146/4146 [==============================] - 10s 2ms/step - loss: 0.3102 - mae: 0.2961 - val_loss: 0.2696 - val_mae: 0.2510\n",
            "Epoch 132/200\n",
            "4146/4146 [==============================] - 10s 2ms/step - loss: 0.3089 - mae: 0.2963 - val_loss: 0.3834 - val_mae: 0.3574\n",
            "Epoch 133/200\n",
            "4146/4146 [==============================] - 10s 2ms/step - loss: 0.3089 - mae: 0.2947 - val_loss: 0.4490 - val_mae: 0.3681\n",
            "Epoch 134/200\n",
            "4146/4146 [==============================] - 10s 3ms/step - loss: 0.3100 - mae: 0.2955 - val_loss: 0.3090 - val_mae: 0.2696\n",
            "Epoch 135/200\n",
            "4146/4146 [==============================] - 10s 3ms/step - loss: 0.3101 - mae: 0.2961 - val_loss: 0.2835 - val_mae: 0.2555\n",
            "Epoch 136/200\n",
            "4146/4146 [==============================] - 11s 3ms/step - loss: 0.3059 - mae: 0.2925 - val_loss: 0.2796 - val_mae: 0.2782\n",
            "Epoch 137/200\n",
            "4146/4146 [==============================] - 13s 3ms/step - loss: 0.3054 - mae: 0.2918 - val_loss: 0.2938 - val_mae: 0.2782\n",
            "Epoch 138/200\n",
            "4146/4146 [==============================] - 15s 4ms/step - loss: 0.3034 - mae: 0.2907 - val_loss: 0.3738 - val_mae: 0.3259\n",
            "Epoch 139/200\n",
            "4146/4146 [==============================] - 11s 3ms/step - loss: 0.3071 - mae: 0.2935 - val_loss: 0.3268 - val_mae: 0.3466\n",
            "Epoch 140/200\n",
            "4146/4146 [==============================] - 12s 3ms/step - loss: 0.3057 - mae: 0.2934 - val_loss: 0.2648 - val_mae: 0.2535\n",
            "Epoch 141/200\n",
            "4146/4146 [==============================] - 12s 3ms/step - loss: 0.3048 - mae: 0.2932 - val_loss: 0.2728 - val_mae: 0.2646\n",
            "Epoch 142/200\n",
            "4146/4146 [==============================] - 11s 3ms/step - loss: 0.3023 - mae: 0.2902 - val_loss: 0.2739 - val_mae: 0.2560\n",
            "Epoch 143/200\n",
            "4146/4146 [==============================] - 9s 2ms/step - loss: 0.3002 - mae: 0.2881 - val_loss: 0.2808 - val_mae: 0.2638\n",
            "Epoch 144/200\n",
            "4146/4146 [==============================] - 9s 2ms/step - loss: 0.3071 - mae: 0.2947 - val_loss: 0.3612 - val_mae: 0.3278\n",
            "Epoch 145/200\n",
            "4146/4146 [==============================] - 9s 2ms/step - loss: 0.3026 - mae: 0.2923 - val_loss: 0.2734 - val_mae: 0.2589\n",
            "Epoch 146/200\n",
            "4146/4146 [==============================] - 10s 2ms/step - loss: 0.3050 - mae: 0.2927 - val_loss: 0.2842 - val_mae: 0.2550\n",
            "Epoch 147/200\n",
            "4146/4146 [==============================] - 10s 2ms/step - loss: 0.3001 - mae: 0.2892 - val_loss: 0.3898 - val_mae: 0.3488\n",
            "Epoch 148/200\n",
            "4146/4146 [==============================] - 10s 2ms/step - loss: 0.3014 - mae: 0.2906 - val_loss: 0.3273 - val_mae: 0.3448\n",
            "Epoch 149/200\n",
            "4146/4146 [==============================] - 11s 3ms/step - loss: 0.3033 - mae: 0.2926 - val_loss: 0.2847 - val_mae: 0.2890\n",
            "Epoch 150/200\n",
            "4146/4146 [==============================] - 10s 2ms/step - loss: 0.3007 - mae: 0.2899 - val_loss: 0.2760 - val_mae: 0.2619\n",
            "Epoch 151/200\n",
            "4146/4146 [==============================] - 10s 2ms/step - loss: 0.2987 - mae: 0.2873 - val_loss: 0.2841 - val_mae: 0.2768\n",
            "Epoch 152/200\n",
            "4146/4146 [==============================] - 10s 3ms/step - loss: 0.3006 - mae: 0.2896 - val_loss: 0.2890 - val_mae: 0.2715\n",
            "Epoch 153/200\n",
            "4146/4146 [==============================] - 10s 2ms/step - loss: 0.2963 - mae: 0.2867 - val_loss: 0.4003 - val_mae: 0.3361\n",
            "Epoch 154/200\n",
            "4146/4146 [==============================] - 10s 2ms/step - loss: 0.2979 - mae: 0.2871 - val_loss: 0.5517 - val_mae: 0.4521\n",
            "Epoch 155/200\n",
            "4146/4146 [==============================] - 10s 2ms/step - loss: 0.3011 - mae: 0.2894 - val_loss: 0.6145 - val_mae: 0.5244\n",
            "Epoch 156/200\n",
            "4146/4146 [==============================] - 10s 3ms/step - loss: 0.2991 - mae: 0.2867 - val_loss: 0.2829 - val_mae: 0.2535\n",
            "Epoch 157/200\n",
            "4146/4146 [==============================] - 9s 2ms/step - loss: 0.2960 - mae: 0.2858 - val_loss: 0.2922 - val_mae: 0.2530\n",
            "Epoch 158/200\n",
            "4146/4146 [==============================] - 11s 3ms/step - loss: 0.2971 - mae: 0.2857 - val_loss: 0.2905 - val_mae: 0.2754\n",
            "Epoch 159/200\n",
            "4146/4146 [==============================] - 10s 2ms/step - loss: 0.2932 - mae: 0.2832 - val_loss: 0.4587 - val_mae: 0.3772\n",
            "Epoch 160/200\n",
            "4146/4146 [==============================] - 10s 2ms/step - loss: 0.2959 - mae: 0.2859 - val_loss: 0.3018 - val_mae: 0.2794\n",
            "Epoch 161/200\n",
            "4146/4146 [==============================] - 10s 2ms/step - loss: 0.2974 - mae: 0.2868 - val_loss: 0.2911 - val_mae: 0.2496\n",
            "Epoch 162/200\n",
            "4146/4146 [==============================] - 11s 3ms/step - loss: 0.2940 - mae: 0.2834 - val_loss: 0.3410 - val_mae: 0.3389\n",
            "Epoch 163/200\n",
            "4146/4146 [==============================] - 10s 2ms/step - loss: 0.2933 - mae: 0.2849 - val_loss: 0.2807 - val_mae: 0.2601\n",
            "Epoch 164/200\n",
            "4146/4146 [==============================] - 10s 2ms/step - loss: 0.2961 - mae: 0.2858 - val_loss: 0.2666 - val_mae: 0.2564\n",
            "Epoch 165/200\n",
            "4146/4146 [==============================] - 10s 2ms/step - loss: 0.2985 - mae: 0.2882 - val_loss: 0.2764 - val_mae: 0.2830\n",
            "Epoch 166/200\n",
            "4146/4146 [==============================] - 11s 3ms/step - loss: 0.2964 - mae: 0.2859 - val_loss: 0.3840 - val_mae: 0.3158\n",
            "Epoch 167/200\n",
            "4146/4146 [==============================] - 14s 3ms/step - loss: 0.2915 - mae: 0.2825 - val_loss: 0.2854 - val_mae: 0.2831\n",
            "Epoch 168/200\n",
            "4146/4146 [==============================] - 12s 3ms/step - loss: 0.2922 - mae: 0.2824 - val_loss: 0.2820 - val_mae: 0.2774\n",
            "Epoch 169/200\n",
            "4146/4146 [==============================] - 11s 3ms/step - loss: 0.2932 - mae: 0.2842 - val_loss: 0.2864 - val_mae: 0.2808\n",
            "Epoch 170/200\n",
            "4146/4146 [==============================] - 11s 3ms/step - loss: 0.2947 - mae: 0.2840 - val_loss: 0.2697 - val_mae: 0.2737\n",
            "Epoch 171/200\n",
            "4146/4146 [==============================] - 11s 3ms/step - loss: 0.2896 - mae: 0.2815 - val_loss: 0.3718 - val_mae: 0.3251\n",
            "Epoch 172/200\n",
            "4146/4146 [==============================] - 10s 3ms/step - loss: 0.2978 - mae: 0.2866 - val_loss: 0.2946 - val_mae: 0.2727\n",
            "Epoch 173/200\n",
            "4146/4146 [==============================] - 10s 2ms/step - loss: 0.2909 - mae: 0.2809 - val_loss: 0.2764 - val_mae: 0.2699\n",
            "Epoch 174/200\n",
            "4146/4146 [==============================] - 10s 2ms/step - loss: 0.2911 - mae: 0.2823 - val_loss: 0.2798 - val_mae: 0.2742\n",
            "Epoch 175/200\n",
            "4146/4146 [==============================] - 12s 3ms/step - loss: 0.2882 - mae: 0.2795 - val_loss: 0.2781 - val_mae: 0.2790\n",
            "Epoch 176/200\n",
            "4146/4146 [==============================] - 11s 3ms/step - loss: 0.2891 - mae: 0.2798 - val_loss: 0.2944 - val_mae: 0.2755\n",
            "Epoch 177/200\n",
            "4146/4146 [==============================] - 11s 3ms/step - loss: 0.2909 - mae: 0.2816 - val_loss: 0.3074 - val_mae: 0.3071\n",
            "Epoch 178/200\n",
            "4146/4146 [==============================] - 11s 3ms/step - loss: 0.2960 - mae: 0.2853 - val_loss: 0.3213 - val_mae: 0.2834\n",
            "Epoch 179/200\n",
            "4146/4146 [==============================] - 11s 3ms/step - loss: 0.2897 - mae: 0.2809 - val_loss: 0.5408 - val_mae: 0.4883\n",
            "Epoch 180/200\n",
            "4146/4146 [==============================] - 13s 3ms/step - loss: 0.2879 - mae: 0.2788 - val_loss: 0.2852 - val_mae: 0.2516\n",
            "Epoch 181/200\n",
            "4146/4146 [==============================] - 12s 3ms/step - loss: 0.2934 - mae: 0.2849 - val_loss: 0.2892 - val_mae: 0.2954\n",
            "Epoch 182/200\n",
            "4146/4146 [==============================] - 13s 3ms/step - loss: 0.2886 - mae: 0.2805 - val_loss: 0.3604 - val_mae: 0.3725\n",
            "Epoch 183/200\n",
            "4146/4146 [==============================] - 11s 3ms/step - loss: 0.2910 - mae: 0.2816 - val_loss: 0.4252 - val_mae: 0.3677\n",
            "Epoch 184/200\n",
            "4146/4146 [==============================] - 12s 3ms/step - loss: 0.2876 - mae: 0.2795 - val_loss: 0.2948 - val_mae: 0.2768\n",
            "Epoch 185/200\n",
            "4146/4146 [==============================] - 12s 3ms/step - loss: 0.2870 - mae: 0.2793 - val_loss: 0.2924 - val_mae: 0.2686\n",
            "Epoch 186/200\n",
            "4146/4146 [==============================] - 13s 3ms/step - loss: 0.2880 - mae: 0.2789 - val_loss: 0.2955 - val_mae: 0.2608\n",
            "Epoch 187/200\n",
            "4146/4146 [==============================] - 12s 3ms/step - loss: 0.2870 - mae: 0.2779 - val_loss: 0.4448 - val_mae: 0.4399\n",
            "Epoch 188/200\n",
            "4146/4146 [==============================] - 10s 2ms/step - loss: 0.2910 - mae: 0.2822 - val_loss: 0.2794 - val_mae: 0.2713\n",
            "Epoch 189/200\n",
            "4146/4146 [==============================] - 13s 3ms/step - loss: 0.2894 - mae: 0.2811 - val_loss: 0.2836 - val_mae: 0.2683\n",
            "Epoch 190/200\n",
            "4146/4146 [==============================] - 13s 3ms/step - loss: 0.2876 - mae: 0.2795 - val_loss: 0.2738 - val_mae: 0.2584\n",
            "Epoch 191/200\n",
            "4146/4146 [==============================] - 14s 3ms/step - loss: 0.2896 - mae: 0.2814 - val_loss: 0.3377 - val_mae: 0.3078\n",
            "Epoch 192/200\n",
            "4146/4146 [==============================] - 11s 3ms/step - loss: 0.2866 - mae: 0.2788 - val_loss: 0.2696 - val_mae: 0.2505\n",
            "Epoch 193/200\n",
            "4146/4146 [==============================] - 12s 3ms/step - loss: 0.2869 - mae: 0.2799 - val_loss: 0.3432 - val_mae: 0.3067\n",
            "Epoch 194/200\n",
            "4146/4146 [==============================] - 13s 3ms/step - loss: 0.2869 - mae: 0.2823 - val_loss: 0.2672 - val_mae: 0.2758\n",
            "Epoch 195/200\n",
            "4146/4146 [==============================] - 12s 3ms/step - loss: 0.2839 - mae: 0.2776 - val_loss: 0.2693 - val_mae: 0.2624\n",
            "Epoch 196/200\n",
            "4146/4146 [==============================] - 13s 3ms/step - loss: 0.2870 - mae: 0.2794 - val_loss: 0.3685 - val_mae: 0.3410\n",
            "Epoch 197/200\n",
            "4146/4146 [==============================] - 13s 3ms/step - loss: 0.2847 - mae: 0.2772 - val_loss: 0.2819 - val_mae: 0.2789\n",
            "Epoch 198/200\n",
            "4146/4146 [==============================] - 12s 3ms/step - loss: 0.2844 - mae: 0.2764 - val_loss: 0.2998 - val_mae: 0.2813\n",
            "Epoch 199/200\n",
            "4146/4146 [==============================] - 12s 3ms/step - loss: 0.2847 - mae: 0.2784 - val_loss: 0.3426 - val_mae: 0.3456\n",
            "Epoch 200/200\n",
            "4146/4146 [==============================] - 13s 3ms/step - loss: 0.2842 - mae: 0.2770 - val_loss: 0.2768 - val_mae: 0.2754\n"
          ]
        }
      ],
      "source": [
        "hist = model.fit(\n",
        "    X_train, Y_train,\n",
        "    batch_size=32,\n",
        "    epochs = 200,\n",
        "    validation_data=(X_val, Y_val)\n",
        ")"
      ]
    },
    {
      "cell_type": "code",
      "execution_count": 136,
      "metadata": {
        "colab": {
          "base_uri": "https://localhost:8080/"
        },
        "id": "ckbXAviyCLa_",
        "outputId": "82dc096e-2aeb-4471-8ba1-f7e95f3254e2"
      },
      "outputs": [
        {
          "name": "stdout",
          "output_type": "stream",
          "text": [
            "587/587 [==============================] - 1s 1ms/step - loss: 0.2725 - mae: 0.2759\n"
          ]
        },
        {
          "data": {
            "text/plain": [
              "[0.27246928215026855, 0.27586913108825684]"
            ]
          },
          "execution_count": 136,
          "metadata": {},
          "output_type": "execute_result"
        }
      ],
      "source": [
        "model.evaluate(X_test, Y_test)"
      ]
    },
    {
      "cell_type": "code",
      "execution_count": 137,
      "metadata": {
        "colab": {
          "base_uri": "https://localhost:8080/"
        },
        "id": "OzalqdGSCLa_",
        "outputId": "41fc5435-21b4-43ac-951f-91928d5d20a2"
      },
      "outputs": [
        {
          "name": "stdout",
          "output_type": "stream",
          "text": [
            "587/587 [==============================] - 1s 2ms/step - loss: 0.2725 - mae: 0.2759\n",
            "Test loss: 0.272, Test MAE: 0.276\n"
          ]
        }
      ],
      "source": [
        "# Evaluate the model on the test set\n",
        "test_loss, test_mae = model.evaluate(X_test, Y_test)\n",
        "print(f\"Test loss: {test_loss:.3f}, Test MAE: {test_mae:.3f}\")"
      ]
    },
    {
      "cell_type": "code",
      "execution_count": 138,
      "metadata": {
        "colab": {
          "base_uri": "https://localhost:8080/",
          "height": 265
        },
        "id": "0Vwz9W0OCLa_",
        "outputId": "b0d65d85-c9ba-4835-9b11-4f6abdb4dafc"
      },
      "outputs": [
        {
          "data": {
            "image/png": "[encoded data removed]",
            "text/plain": [
              "<Figure size 432x288 with 1 Axes>"
            ]
          },
          "metadata": {
            "needs_background": "light"
          },
          "output_type": "display_data"
        },
        {
          "name": "stdout",
          "output_type": "stream",
          "text": [
            "4146/4146 [==============================] - 7s 2ms/step - loss: 0.2693 - mae: 0.2722\n",
            "Train loss: 0.269, Train MAE: 0.272\n",
            "587/587 [==============================] - 1s 2ms/step - loss: 0.2725 - mae: 0.2759\n",
            "Test loss: 0.272, Test MAE: 0.276\n",
            "\n",
            "4146/4146 [==============================] - 6s 1ms/step\n",
            "   Predicted Energy  Actual Energy\n",
            "0         36.235950      35.533061\n",
            "1         36.303978      38.118238\n",
            "2          0.509418       0.581109\n",
            "3          0.526321       0.410339\n",
            "4          0.574185       0.586390\n",
            "5         37.562405      38.052270\n",
            "6          0.554771       0.577919\n",
            "7          0.567007       0.582940\n",
            "8          0.549052       0.583850\n",
            "9         38.063534      38.072458\n"
          ]
        }
      ],
      "source": [
        "plt.plot(hist.history['loss'], label='Training Loss')\n",
        "plt.plot(hist.history['val_loss'], label='Validation Loss')\n",
        "plt.legend()\n",
        "plt.show()\n",
        "# Calculate MAE for training and test set\n",
        "\n",
        "# Evaluate the model on the test set\n",
        "train_loss, train_mae = model.evaluate(X_train, Y_train)\n",
        "print(f\"Train loss: {train_loss:.3f}, Train MAE: {train_mae:.3f}\")\n",
        "\n",
        "test_loss, test_mae = model.evaluate(X_test, Y_test)\n",
        "print(f\"Test loss: {test_loss:.3f}, Test MAE: {test_mae:.3f}\\n\")\n",
        "\n",
        "predicted_output_train = model.predict(X_train)\n",
        "actual_output_train = Y_train.values.flatten()\n",
        "predicted_output_train_flat = predicted_output_train.flatten()\n",
        "actual_output_train_flat = actual_output_train.flatten()\n",
        "df_train = pd.DataFrame({'Predicted Energy': predicted_output_train_flat, 'Actual Energy': actual_output_train_flat})\n",
        "print(df_train.head(10))\n"
      ]
    },
    {
      "cell_type": "code",
      "execution_count": 142,
      "metadata": {},
      "outputs": [
        {
          "name": "stdout",
          "output_type": "stream",
          "text": [
            "4146/4146 [==============================] - 7s 2ms/step - loss: 0.2693 - mae: 0.2722\n",
            "Train loss: 0.269, Train MAE: 0.272\n",
            "587/587 [==============================] - 1s 2ms/step - loss: 0.2725 - mae: 0.2759\n",
            "Test loss: 0.272, Test MAE: 0.276\n",
            "\n"
          ]
        }
      ],
      "source": [
        "train_loss, train_mae = model.evaluate(X_train, Y_train)\n",
        "print(f\"Train loss: {train_loss:.3f}, Train MAE: {train_mae:.3f}\")\n",
        "\n",
        "test_loss, test_mae = model.evaluate(X_test, Y_test)\n",
        "print(f\"Test loss: {test_loss:.3f}, Test MAE: {test_mae:.3f}\\n\")"
      ]
    },
    {
      "cell_type": "code",
      "execution_count": 139,
      "metadata": {},
      "outputs": [
        {
          "name": "stdout",
          "output_type": "stream",
          "text": [
            "587/587 [==============================] - 1s 2ms/step - loss: 0.2725 - mae: 0.2759\n",
            "Test loss: 0.272, Test MAE: 0.276\n"
          ]
        }
      ],
      "source": [
        "# Evaluate the model on the test set\n",
        "test_loss, test_mae = model.evaluate(X_test, Y_test)\n",
        "print(f\"Test loss: {test_loss:.3f}, Test MAE: {test_mae:.3f}\")"
      ]
    },
    {
      "cell_type": "code",
      "execution_count": 140,
      "metadata": {},
      "outputs": [
        {
          "name": "stdout",
          "output_type": "stream",
          "text": [
            "4146/4146 [==============================] - 7s 2ms/step - loss: 0.2693 - mae: 0.2722\n",
            "Train loss: 0.269, Train MAE: 0.272\n"
          ]
        }
      ],
      "source": [
        "# Evaluate the model on the test set\n",
        "train_loss, train_mae = model.evaluate(X_train, Y_train)\n",
        "print(f\"Train loss: {train_loss:.3f}, Train MAE: {train_mae:.3f}\")"
      ]
    },
    {
      "cell_type": "code",
      "execution_count": 145,
      "metadata": {},
      "outputs": [
        {
          "name": "stdout",
          "output_type": "stream",
          "text": [
            "4146/4146 [==============================] - 5s 1ms/step\n",
            "   Predicted Energy  Actual Energy\n",
            "0         36.235950      35.533061\n",
            "1         36.303978      38.118238\n",
            "2          0.509418       0.581109\n",
            "3          0.526321       0.410339\n",
            "4          0.574185       0.586390\n",
            "5         37.562405      38.052270\n",
            "6          0.554771       0.577919\n",
            "7          0.567007       0.582940\n",
            "8          0.549052       0.583850\n",
            "9         38.063534      38.072458\n"
          ]
        }
      ],
      "source": [
        "predicted_output_train = model.predict(X_train)\n",
        "actual_output_train = Y_train.values.flatten()\n",
        "predicted_output_train_flat = predicted_output_train.flatten()\n",
        "actual_output_train_flat = actual_output_train.flatten()\n",
        "df_train = pd.DataFrame({'Predicted Energy': predicted_output_train_flat, 'Actual Energy': actual_output_train_flat})\n",
        "print(df_train.head(10))\n"
      ]
    }
  ],
  "metadata": {
    "colab": {
      "provenance": []
    },
    "kernelspec": {
      "display_name": "Python 3",
      "language": "python",
      "name": "python3"
    },
    "language_info": {
      "codemirror_mode": {
        "name": "ipython",
        "version": 3
      },
      "file_extension": ".py",
      "mimetype": "text/x-python",
      "name": "python",
      "nbconvert_exporter": "python",
      "pygments_lexer": "ipython3",
      "version": "3.10.11"
    },
    "orig_nbformat": 4,
    "vscode": {
      "interpreter": {
        "hash": "e3366052fba0b408e38a60964d7840cd801166c0994366f8aa1eea234ba6f411"
      }
    }
  },
  "nbformat": 4,
  "nbformat_minor": 0
}
