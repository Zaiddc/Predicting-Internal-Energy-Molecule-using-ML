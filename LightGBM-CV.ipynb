{
 "cells": [
  {
   "cell_type": "code",
   "execution_count": 1,
   "metadata": {},
   "outputs": [],
   "source": [
    "import pandas as pd\n",
    "import numpy as np\n",
    "import seaborn as sns\n",
    "import matplotlib.pyplot as plt\n",
    "from sklearn.model_selection import KFold\n",
    "from lightgbm import LGBMRegressor\n",
    "from sklearn.metrics import mean_absolute_error"
   ]
  },
  {
   "cell_type": "code",
   "execution_count": 2,
   "metadata": {},
   "outputs": [],
   "source": [
    "Data = pd.read_csv('fulldata.csv')"
   ]
  },
  {
   "cell_type": "code",
   "execution_count": 3,
   "metadata": {},
   "outputs": [
    {
     "name": "stdout",
     "output_type": "stream",
     "text": [
      "<class 'pandas.core.frame.DataFrame'>\n",
      "RangeIndex: 189488 entries, 0 to 189487\n",
      "Data columns (total 6 columns):\n",
      " #   Column  Non-Null Count   Dtype  \n",
      "---  ------  --------------   -----  \n",
      " 0   name    189488 non-null  object \n",
      " 1   energy  189488 non-null  float64\n",
      " 2   diag    189488 non-null  float64\n",
      " 3   pca1    189488 non-null  float64\n",
      " 4   pca2    189488 non-null  float64\n",
      " 5   pca3    189488 non-null  float64\n",
      "dtypes: float64(5), object(1)\n",
      "memory usage: 8.7+ MB\n"
     ]
    },
    {
     "data": {
      "text/html": [
       "<div>\n",
       "<style scoped>\n",
       "    .dataframe tbody tr th:only-of-type {\n",
       "        vertical-align: middle;\n",
       "    }\n",
       "\n",
       "    .dataframe tbody tr th {\n",
       "        vertical-align: top;\n",
       "    }\n",
       "\n",
       "    .dataframe thead th {\n",
       "        text-align: right;\n",
       "    }\n",
       "</style>\n",
       "<table border=\"1\" class=\"dataframe\">\n",
       "  <thead>\n",
       "    <tr style=\"text-align: right;\">\n",
       "      <th></th>\n",
       "      <th>count</th>\n",
       "      <th>mean</th>\n",
       "      <th>std</th>\n",
       "      <th>min</th>\n",
       "      <th>25%</th>\n",
       "      <th>50%</th>\n",
       "      <th>75%</th>\n",
       "      <th>max</th>\n",
       "    </tr>\n",
       "  </thead>\n",
       "  <tbody>\n",
       "    <tr>\n",
       "      <th>energy</th>\n",
       "      <td>189488.0</td>\n",
       "      <td>23.224939</td>\n",
       "      <td>24.828596</td>\n",
       "      <td>0.280758</td>\n",
       "      <td>0.578519</td>\n",
       "      <td>35.489707</td>\n",
       "      <td>38.119598</td>\n",
       "      <td>99.991317</td>\n",
       "    </tr>\n",
       "    <tr>\n",
       "      <th>diag</th>\n",
       "      <td>189488.0</td>\n",
       "      <td>0.233942</td>\n",
       "      <td>0.251381</td>\n",
       "      <td>0.005000</td>\n",
       "      <td>0.005000</td>\n",
       "      <td>0.378000</td>\n",
       "      <td>0.378000</td>\n",
       "      <td>1.000000</td>\n",
       "    </tr>\n",
       "    <tr>\n",
       "      <th>pca1</th>\n",
       "      <td>189488.0</td>\n",
       "      <td>0.126102</td>\n",
       "      <td>0.193949</td>\n",
       "      <td>-0.878344</td>\n",
       "      <td>0.023608</td>\n",
       "      <td>0.057811</td>\n",
       "      <td>0.193317</td>\n",
       "      <td>0.996973</td>\n",
       "    </tr>\n",
       "    <tr>\n",
       "      <th>pca2</th>\n",
       "      <td>189488.0</td>\n",
       "      <td>0.053110</td>\n",
       "      <td>0.225161</td>\n",
       "      <td>-0.983825</td>\n",
       "      <td>-0.010437</td>\n",
       "      <td>0.022784</td>\n",
       "      <td>0.175336</td>\n",
       "      <td>0.979041</td>\n",
       "    </tr>\n",
       "    <tr>\n",
       "      <th>pca3</th>\n",
       "      <td>189488.0</td>\n",
       "      <td>-0.000552</td>\n",
       "      <td>0.231339</td>\n",
       "      <td>-0.960883</td>\n",
       "      <td>-0.062514</td>\n",
       "      <td>0.008743</td>\n",
       "      <td>0.097253</td>\n",
       "      <td>0.981669</td>\n",
       "    </tr>\n",
       "  </tbody>\n",
       "</table>\n",
       "</div>"
      ],
      "text/plain": [
       "           count       mean        std       min       25%        50%  \\\n",
       "energy  189488.0  23.224939  24.828596  0.280758  0.578519  35.489707   \n",
       "diag    189488.0   0.233942   0.251381  0.005000  0.005000   0.378000   \n",
       "pca1    189488.0   0.126102   0.193949 -0.878344  0.023608   0.057811   \n",
       "pca2    189488.0   0.053110   0.225161 -0.983825 -0.010437   0.022784   \n",
       "pca3    189488.0  -0.000552   0.231339 -0.960883 -0.062514   0.008743   \n",
       "\n",
       "              75%        max  \n",
       "energy  38.119598  99.991317  \n",
       "diag     0.378000   1.000000  \n",
       "pca1     0.193317   0.996973  \n",
       "pca2     0.175336   0.979041  \n",
       "pca3     0.097253   0.981669  "
      ]
     },
     "execution_count": 3,
     "metadata": {},
     "output_type": "execute_result"
    }
   ],
   "source": [
    "\n",
    "Data.info()\n",
    "Data.describe().transpose()"
   ]
  },
  {
   "cell_type": "code",
   "execution_count": 4,
   "metadata": {},
   "outputs": [
    {
     "data": {
      "text/plain": [
       "name      0\n",
       "energy    0\n",
       "diag      0\n",
       "pca1      0\n",
       "pca2      0\n",
       "pca3      0\n",
       "dtype: int64"
      ]
     },
     "execution_count": 4,
     "metadata": {},
     "output_type": "execute_result"
    }
   ],
   "source": [
    "null_counts = Data.isna().sum()\n",
    "null_counts\n"
   ]
  },
  {
   "cell_type": "code",
   "execution_count": 5,
   "metadata": {},
   "outputs": [
    {
     "data": {
      "text/plain": [
       "<AxesSubplot: >"
      ]
     },
     "execution_count": 5,
     "metadata": {},
     "output_type": "execute_result"
    },
    {
     "data": {
      "image/png": "[encoded data removed]",
      "text/plain": [
       "<Figure size 432x288 with 1 Axes>"
      ]
     },
     "metadata": {
      "needs_background": "light"
     },
     "output_type": "display_data"
    }
   ],
   "source": [
    "features = ['energy','diag','pca1', 'pca2', 'pca3']\n",
    "Data.boxplot(features)"
   ]
  },
  {
   "cell_type": "code",
   "execution_count": 6,
   "metadata": {},
   "outputs": [
    {
     "data": {
      "text/plain": [
       "<AxesSubplot: >"
      ]
     },
     "execution_count": 6,
     "metadata": {},
     "output_type": "execute_result"
    },
    {
     "data": {
      "image/png": "[encoded data removed]",
      "text/plain": [
       "<Figure size 640x480 with 1 Axes>"
      ]
     },
     "metadata": {},
     "output_type": "display_data"
    }
   ],
   "source": [
    "features = ['pca1', 'pca2', 'pca3']\n",
    "Data.boxplot(features)"
   ]
  },
  {
   "cell_type": "code",
   "execution_count": 7,
   "metadata": {},
   "outputs": [],
   "source": [
    "selected_features = ['diag','pca1','pca2','pca3']\n",
    "X = Data[selected_features]"
   ]
  },
  {
   "cell_type": "code",
   "execution_count": 8,
   "metadata": {},
   "outputs": [],
   "source": [
    "selected_features = ['diag','pca1','pca2','pca3']\n",
    "X = Data[selected_features]"
   ]
  },
  {
   "cell_type": "code",
   "execution_count": 9,
   "metadata": {},
   "outputs": [
    {
     "data": {
      "text/plain": [
       "20    18860\n",
       "26    18512\n",
       "16    17024\n",
       "18    14022\n",
       "17    13039\n",
       "15    12870\n",
       "24    10128\n",
       "21     9471\n",
       "34     9010\n",
       "28     8792\n",
       "22     8690\n",
       "14     8330\n",
       "13     8281\n",
       "23     6624\n",
       "12     5928\n",
       "25     5175\n",
       "40     4600\n",
       "19     3914\n",
       "11     2508\n",
       "10     2180\n",
       "9       783\n",
       "8       624\n",
       "7       119\n",
       "4         4\n",
       "Name: count, dtype: int64"
      ]
     },
     "execution_count": 9,
     "metadata": {},
     "output_type": "execute_result"
    }
   ],
   "source": [
    "selected_features = ['diag','pca1','pca2','pca3','count','Bin']\n",
    "Data['count'] = Data.groupby('name')['name'].transform('count')\n",
    "bins = [0, 13, 20, float(\"inf\")]\n",
    "labels = ['0-13', '14-20', '20+']\n",
    "Data['Bin'] = pd.cut(Data['count'], bins=bins, labels=labels)\n",
    "X = Data[selected_features]\n",
    "X['count'].value_counts()"
   ]
  },
  {
   "cell_type": "code",
   "execution_count": 10,
   "metadata": {},
   "outputs": [],
   "source": [
    "target =  ['energy']\n",
    "y = Data[target]"
   ]
  },
  {
   "cell_type": "code",
   "execution_count": 11,
   "metadata": {},
   "outputs": [],
   "source": [
    "cv = KFold(n_splits=5, shuffle=True, random_state=42)\n",
    "lgbm_model = LGBMRegressor(n_estimators=10000, learning_rate=0.035, num_leaves=91, min_child_samples=10)\n"
   ]
  },
  {
   "cell_type": "code",
   "execution_count": 12,
   "metadata": {},
   "outputs": [],
   "source": [
    "mae_train_list = []\n",
    "mae_test_list = []"
   ]
  },
  {
   "cell_type": "code",
   "execution_count": 13,
   "metadata": {},
   "outputs": [
    {
     "name": "stderr",
     "output_type": "stream",
     "text": [
      "C:\\Users\\gts\\AppData\\Local\\Packages\\PythonSoftwareFoundation.Python.3.10_qbz5n2kfra8p0\\LocalCache\\local-packages\\Python310\\site-packages\\lightgbm\\sklearn.py:736: UserWarning: 'verbose' argument is deprecated and will be removed in a future release of LightGBM. Pass 'log_evaluation()' callback via 'callbacks' argument instead.\n",
      "  _log_warning(\"'verbose' argument is deprecated and will be removed in a future release of LightGBM. \"\n",
      "C:\\Users\\gts\\AppData\\Local\\Packages\\PythonSoftwareFoundation.Python.3.10_qbz5n2kfra8p0\\LocalCache\\local-packages\\Python310\\site-packages\\lightgbm\\sklearn.py:736: UserWarning: 'verbose' argument is deprecated and will be removed in a future release of LightGBM. Pass 'log_evaluation()' callback via 'callbacks' argument instead.\n",
      "  _log_warning(\"'verbose' argument is deprecated and will be removed in a future release of LightGBM. \"\n",
      "C:\\Users\\gts\\AppData\\Local\\Packages\\PythonSoftwareFoundation.Python.3.10_qbz5n2kfra8p0\\LocalCache\\local-packages\\Python310\\site-packages\\lightgbm\\sklearn.py:736: UserWarning: 'verbose' argument is deprecated and will be removed in a future release of LightGBM. Pass 'log_evaluation()' callback via 'callbacks' argument instead.\n",
      "  _log_warning(\"'verbose' argument is deprecated and will be removed in a future release of LightGBM. \"\n",
      "C:\\Users\\gts\\AppData\\Local\\Packages\\PythonSoftwareFoundation.Python.3.10_qbz5n2kfra8p0\\LocalCache\\local-packages\\Python310\\site-packages\\lightgbm\\sklearn.py:736: UserWarning: 'verbose' argument is deprecated and will be removed in a future release of LightGBM. Pass 'log_evaluation()' callback via 'callbacks' argument instead.\n",
      "  _log_warning(\"'verbose' argument is deprecated and will be removed in a future release of LightGBM. \"\n",
      "C:\\Users\\gts\\AppData\\Local\\Packages\\PythonSoftwareFoundation.Python.3.10_qbz5n2kfra8p0\\LocalCache\\local-packages\\Python310\\site-packages\\lightgbm\\sklearn.py:736: UserWarning: 'verbose' argument is deprecated and will be removed in a future release of LightGBM. Pass 'log_evaluation()' callback via 'callbacks' argument instead.\n",
      "  _log_warning(\"'verbose' argument is deprecated and will be removed in a future release of LightGBM. \"\n"
     ]
    },
    {
     "name": "stdout",
     "output_type": "stream",
     "text": [
      "Mean absolute error on training set: 0.009 +/- 0.000\n",
      "Mean absolute error on testing set: 0.019 +/- 0.000\n"
     ]
    }
   ],
   "source": [
    "for train_idx, test_idx in cv.split(X):\n",
    "    X_train, X_test = X.iloc[train_idx], X.iloc[test_idx]\n",
    "    y_train, y_test = y.iloc[train_idx], y.iloc[test_idx]\n",
    "\n",
    "    eval_set = [(X_train, y_train), (X_test, y_test)]\n",
    "    eval_metric = ['mae']\n",
    "\n",
    "    lgbm_model.fit(X_train, y_train, eval_metric=eval_metric, eval_set=eval_set, verbose=False)\n",
    "\n",
    "    y_pred_train = lgbm_model.predict(X_train)\n",
    "    mae_train = mean_absolute_error(y_train, y_pred_train)\n",
    "    mae_train_list.append(mae_train)\n",
    "\n",
    "    y_pred_test = lgbm_model.predict(X_test)\n",
    "    mae_test = mean_absolute_error(y_test, y_pred_test)\n",
    "    mae_test_list.append(mae_test)\n",
    "\n",
    "print(f\"Mean absolute error on training set: {np.mean(mae_train_list):.3f} +/- {np.std(mae_train_list):.3f}\")\n",
    "print(f\"Mean absolute error on testing set: {np.mean(mae_test_list):.3f} +/- {np.std(mae_test_list):.3f}\")\n"
   ]
  },
  {
   "cell_type": "code",
   "execution_count": 14,
   "metadata": {},
   "outputs": [],
   "source": [
    "predicted_output_train = lgbm_model.predict(X_train)\n",
    "actual_output_train = y_train.values.flatten()"
   ]
  },
  {
   "cell_type": "code",
   "execution_count": 15,
   "metadata": {},
   "outputs": [
    {
     "name": "stdout",
     "output_type": "stream",
     "text": [
      "   Predicted Energy  Actual Energy\n",
      "0         38.148114      38.145186\n",
      "1          0.571384       0.573634\n",
      "2          0.590334       0.580474\n",
      "3         37.975774      37.980501\n",
      "4         75.368052      75.370940\n",
      "5          0.584507       0.580111\n",
      "6         38.152375      38.156990\n",
      "7          0.571384       0.576936\n",
      "8          0.575859       0.577169\n",
      "9         75.362115      75.371735\n"
     ]
    }
   ],
   "source": [
    "df_train = pd.DataFrame({'Predicted Energy': predicted_output_train, 'Actual Energy': actual_output_train})\n",
    "print(df_train.head(10))"
   ]
  }
 ],
 "metadata": {
  "kernelspec": {
   "display_name": "Python 3",
   "language": "python",
   "name": "python3"
  },
  "language_info": {
   "codemirror_mode": {
    "name": "ipython",
    "version": 3
   },
   "file_extension": ".py",
   "mimetype": "text/x-python",
   "name": "python",
   "nbconvert_exporter": "python",
   "pygments_lexer": "ipython3",
   "version": "3.10.11"
  },
  "orig_nbformat": 4
 },
 "nbformat": 4,
 "nbformat_minor": 2
}
