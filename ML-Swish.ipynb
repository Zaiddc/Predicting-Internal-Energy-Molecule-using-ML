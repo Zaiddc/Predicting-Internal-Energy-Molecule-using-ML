{
  "cells": [
    {
      "cell_type": "code",
      "execution_count": 2,
      "metadata": {
        "id": "Kk9tj1UUCLa7"
      },
      "outputs": [],
      "source": [
        "#Youtube: https://www.youtube.com/watch?v=vSzou5zRwNQ&ab_channel=ComputerScience"
      ]
    },
    {
      "cell_type": "code",
      "execution_count": 3,
      "metadata": {
        "id": "O_oE-LUjCLa8"
      },
      "outputs": [],
      "source": [
        "import pandas as pd\n",
        "import numpy as np\n",
        "import seaborn as sns\n",
        "import matplotlib.pyplot as plt\n"
      ]
    },
    {
      "cell_type": "code",
      "execution_count": 4,
      "metadata": {
        "id": "L-4kesSxCLa9"
      },
      "outputs": [],
      "source": [
        "Data = pd.read_csv('test.csv')"
      ]
    },
    {
      "cell_type": "code",
      "execution_count": 5,
      "metadata": {
        "colab": {
          "base_uri": "https://localhost:8080/"
        },
        "id": "bT4JqsPMCLa9",
        "outputId": "a1f313a2-e214-437f-864f-8ed3a1459632"
      },
      "outputs": [
        {
          "data": {
            "text/plain": [
              "<bound method NDFrame.head of         name_to_be_deleted     energy  atomic_charge      pca1      pca2  \\\n",
              "0       acetaldehyde_0_015  38.145186         36.858  0.842478 -0.531219   \n",
              "1       acetaldehyde_0_015   0.573634          0.500  0.463587  0.636512   \n",
              "2       acetaldehyde_0_015   0.580474          0.500  0.264339  0.540745   \n",
              "3       acetaldehyde_0_015  37.980501         36.858  0.029224  0.103269   \n",
              "4       acetaldehyde_0_015  75.370940         73.517  0.044843  0.049145   \n",
              "..                     ...        ...            ...       ...       ...   \n",
              "984  propionaldehyde_m062x   0.584652          0.500  0.049468  0.111188   \n",
              "985  propionaldehyde_m062x   0.582242          0.500  0.042805  0.055675   \n",
              "986  propionaldehyde_m062x  37.980621         36.858  0.033723  0.036809   \n",
              "987  propionaldehyde_m062x  75.371725         73.517  0.034102  0.037400   \n",
              "988  propionaldehyde_m062x   0.579226          0.500  0.027376  0.042574   \n",
              "\n",
              "         pca3  \n",
              "0    0.067413  \n",
              "1   -0.533631  \n",
              "2    0.552040  \n",
              "3    0.247301  \n",
              "4    0.439481  \n",
              "..        ...  \n",
              "984  0.273381  \n",
              "985  0.113010  \n",
              "986  0.082409  \n",
              "987  0.082873  \n",
              "988  0.082547  \n",
              "\n",
              "[989 rows x 6 columns]>"
            ]
          },
          "execution_count": 5,
          "metadata": {},
          "output_type": "execute_result"
        }
      ],
      "source": [
        "Data.head"
      ]
    },
    {
      "cell_type": "code",
      "execution_count": 6,
      "metadata": {
        "colab": {
          "base_uri": "https://localhost:8080/",
          "height": 441
        },
        "id": "6XGxzn7ACLa9",
        "outputId": "ae5af16a-ed1b-46d5-abe3-7200cbf115b7"
      },
      "outputs": [
        {
          "name": "stdout",
          "output_type": "stream",
          "text": [
            "<class 'pandas.core.frame.DataFrame'>\n",
            "RangeIndex: 989 entries, 0 to 988\n",
            "Data columns (total 6 columns):\n",
            " #   Column              Non-Null Count  Dtype  \n",
            "---  ------              --------------  -----  \n",
            " 0   name_to_be_deleted  989 non-null    object \n",
            " 1   energy              989 non-null    float64\n",
            " 2   atomic_charge       989 non-null    float64\n",
            " 3   pca1                989 non-null    float64\n",
            " 4   pca2                989 non-null    float64\n",
            " 5   pca3                989 non-null    float64\n",
            "dtypes: float64(5), object(1)\n",
            "memory usage: 46.5+ KB\n"
          ]
        },
        {
          "data": {
            "text/html": [
              "<div>\n",
              "<style scoped>\n",
              "    .dataframe tbody tr th:only-of-type {\n",
              "        vertical-align: middle;\n",
              "    }\n",
              "\n",
              "    .dataframe tbody tr th {\n",
              "        vertical-align: top;\n",
              "    }\n",
              "\n",
              "    .dataframe thead th {\n",
              "        text-align: right;\n",
              "    }\n",
              "</style>\n",
              "<table border=\"1\" class=\"dataframe\">\n",
              "  <thead>\n",
              "    <tr style=\"text-align: right;\">\n",
              "      <th></th>\n",
              "      <th>count</th>\n",
              "      <th>mean</th>\n",
              "      <th>std</th>\n",
              "      <th>min</th>\n",
              "      <th>25%</th>\n",
              "      <th>50%</th>\n",
              "      <th>75%</th>\n",
              "      <th>max</th>\n",
              "    </tr>\n",
              "  </thead>\n",
              "  <tbody>\n",
              "    <tr>\n",
              "      <th>energy</th>\n",
              "      <td>989.0</td>\n",
              "      <td>17.711468</td>\n",
              "      <td>24.379631</td>\n",
              "      <td>0.354965</td>\n",
              "      <td>0.406026</td>\n",
              "      <td>0.410041</td>\n",
              "      <td>35.532147</td>\n",
              "      <td>75.374145</td>\n",
              "    </tr>\n",
              "    <tr>\n",
              "      <th>atomic_charge</th>\n",
              "      <td>989.0</td>\n",
              "      <td>18.215577</td>\n",
              "      <td>24.963846</td>\n",
              "      <td>0.500000</td>\n",
              "      <td>0.500000</td>\n",
              "      <td>0.500000</td>\n",
              "      <td>36.858000</td>\n",
              "      <td>73.517000</td>\n",
              "    </tr>\n",
              "    <tr>\n",
              "      <th>pca1</th>\n",
              "      <td>989.0</td>\n",
              "      <td>0.206001</td>\n",
              "      <td>0.258520</td>\n",
              "      <td>0.025522</td>\n",
              "      <td>0.039223</td>\n",
              "      <td>0.052836</td>\n",
              "      <td>0.279435</td>\n",
              "      <td>0.870424</td>\n",
              "    </tr>\n",
              "    <tr>\n",
              "      <th>pca2</th>\n",
              "      <td>989.0</td>\n",
              "      <td>0.122910</td>\n",
              "      <td>0.306903</td>\n",
              "      <td>-0.566914</td>\n",
              "      <td>0.040274</td>\n",
              "      <td>0.064695</td>\n",
              "      <td>0.286355</td>\n",
              "      <td>0.660723</td>\n",
              "    </tr>\n",
              "    <tr>\n",
              "      <th>pca3</th>\n",
              "      <td>989.0</td>\n",
              "      <td>0.110676</td>\n",
              "      <td>0.311529</td>\n",
              "      <td>-0.724663</td>\n",
              "      <td>0.081144</td>\n",
              "      <td>0.107298</td>\n",
              "      <td>0.274634</td>\n",
              "      <td>0.633616</td>\n",
              "    </tr>\n",
              "  </tbody>\n",
              "</table>\n",
              "</div>"
            ],
            "text/plain": [
              "               count       mean        std       min       25%       50%  \\\n",
              "energy         989.0  17.711468  24.379631  0.354965  0.406026  0.410041   \n",
              "atomic_charge  989.0  18.215577  24.963846  0.500000  0.500000  0.500000   \n",
              "pca1           989.0   0.206001   0.258520  0.025522  0.039223  0.052836   \n",
              "pca2           989.0   0.122910   0.306903 -0.566914  0.040274  0.064695   \n",
              "pca3           989.0   0.110676   0.311529 -0.724663  0.081144  0.107298   \n",
              "\n",
              "                     75%        max  \n",
              "energy         35.532147  75.374145  \n",
              "atomic_charge  36.858000  73.517000  \n",
              "pca1            0.279435   0.870424  \n",
              "pca2            0.286355   0.660723  \n",
              "pca3            0.274634   0.633616  "
            ]
          },
          "execution_count": 6,
          "metadata": {},
          "output_type": "execute_result"
        }
      ],
      "source": [
        "Data.info()\n",
        "Data.describe().transpose()"
      ]
    },
    {
      "cell_type": "code",
      "execution_count": 7,
      "metadata": {
        "colab": {
          "base_uri": "https://localhost:8080/"
        },
        "id": "JyOcbwMoCLa9",
        "outputId": "807216a1-facf-49fd-9cce-a0e8fb0a9b7a"
      },
      "outputs": [
        {
          "data": {
            "text/plain": [
              "name_to_be_deleted    0\n",
              "energy                0\n",
              "atomic_charge         0\n",
              "pca1                  0\n",
              "pca2                  0\n",
              "pca3                  0\n",
              "dtype: int64"
            ]
          },
          "execution_count": 7,
          "metadata": {},
          "output_type": "execute_result"
        }
      ],
      "source": [
        "null_counts = Data.isna().sum()\n",
        "null_counts"
      ]
    },
    {
      "cell_type": "code",
      "execution_count": 8,
      "metadata": {
        "colab": {
          "base_uri": "https://localhost:8080/",
          "height": 284
        },
        "id": "URX1FRPsCLa-",
        "outputId": "6730a52b-5d8e-4d03-9cf5-f05199906924"
      },
      "outputs": [
        {
          "data": {
            "text/plain": [
              "<AxesSubplot: >"
            ]
          },
          "execution_count": 8,
          "metadata": {},
          "output_type": "execute_result"
        },
        {
          "data": {
            "image/png": "[encoded data removed]",
            "text/plain": [
              "<Figure size 432x288 with 1 Axes>"
            ]
          },
          "metadata": {
            "needs_background": "light"
          },
          "output_type": "display_data"
        }
      ],
      "source": [
        "features = ['energy','atomic_charge','pca1', 'pca2', 'pca3']\n",
        "Data.boxplot(features)\n"
      ]
    },
    {
      "cell_type": "code",
      "execution_count": 9,
      "metadata": {
        "id": "7LWenBCgCLa-"
      },
      "outputs": [],
      "source": [
        "selected_features = ['atomic_charge','pca1','pca2','pca3']\n",
        "X = Data[selected_features]"
      ]
    },
    {
      "cell_type": "code",
      "execution_count": 10,
      "metadata": {
        "id": "j0_yhEPcCLa-"
      },
      "outputs": [],
      "source": [
        "target =  ['energy']\n",
        "y = Data[target]"
      ]
    },
    {
      "cell_type": "code",
      "execution_count": 11,
      "metadata": {
        "id": "zxAwJHxDCLa-"
      },
      "outputs": [],
      "source": [
        "from sklearn import preprocessing\n"
      ]
    },
    {
      "cell_type": "code",
      "execution_count": 12,
      "metadata": {
        "colab": {
          "base_uri": "https://localhost:8080/"
        },
        "id": "_N_f-MxyCLa-",
        "outputId": "656a2773-e7e0-471c-c436-cd1176a02994"
      },
      "outputs": [
        {
          "data": {
            "text/plain": [
              "array([[0.49793884, 0.96692397, 0.02907618, 0.58314676],\n",
              "       [0.        , 0.51848025, 0.98027837, 0.14064268],\n",
              "       [0.        , 0.28265645, 0.90226916, 0.93994165],\n",
              "       ...,\n",
              "       [0.49793884, 0.00970645, 0.49177648, 0.5941872 ],\n",
              "       [1.        , 0.01015502, 0.49225789, 0.59452881],\n",
              "       [0.        , 0.00219434, 0.49647249, 0.5942888 ]])"
            ]
          },
          "execution_count": 12,
          "metadata": {},
          "output_type": "execute_result"
        }
      ],
      "source": [
        "min_max_scaler = preprocessing.MinMaxScaler()\n",
        "X_scale = min_max_scaler.fit_transform(X)\n",
        "X_scale"
      ]
    },
    {
      "cell_type": "code",
      "execution_count": 13,
      "metadata": {
        "id": "kkmh5Z-4CLa-"
      },
      "outputs": [],
      "source": [
        "from keras.models import Sequential\n",
        "from keras.layers import Dense, Dropout\n",
        "from keras.layers.reshaping.flatten import Flatten\n",
        "from sklearn.model_selection import train_test_split"
      ]
    },
    {
      "cell_type": "code",
      "execution_count": 14,
      "metadata": {
        "colab": {
          "base_uri": "https://localhost:8080/"
        },
        "id": "VSODuv4fCLa-",
        "outputId": "5235acd5-c55c-4048-bb44-9a8ca2414c22"
      },
      "outputs": [
        {
          "name": "stdout",
          "output_type": "stream",
          "text": [
            "(791, 4) (99, 4) (99, 4) (791, 1) (99, 1) (99, 1)\n"
          ]
        }
      ],
      "source": [
        "X_train, X_val_and_test, Y_train, Y_val_and_test = train_test_split(X_scale, y, test_size=0.2)\n",
        "X_val, X_test, Y_val, Y_test = train_test_split(X_val_and_test, Y_val_and_test, test_size=0.5)\n",
        "print(X_train.shape, X_val.shape, X_test.shape, Y_train.shape, Y_val.shape, Y_test.shape)"
      ]
    },
    {
      "cell_type": "code",
      "execution_count": 15,
      "metadata": {
        "id": "yWCPJ_0oCLa_"
      },
      "outputs": [],
      "source": [
        "model = Sequential()\n",
        "model.add(Dense(units = 48, input_dim = 4))\n",
        "model.add(Dense(units = 48, activation='swish'))\n",
        "model.add(Dense(units = 32, activation='swish'))\n",
        "model.add(Dense(units = 32, activation='swish'))\n",
        "model.add(Dense(units = 16, activation='swish'))\n",
        "model.add(Flatten())\n",
        "model.add(Dense(units = 1))"
      ]
    },
    {
      "cell_type": "code",
      "execution_count": 16,
      "metadata": {
        "id": "_us0dno3CLa_"
      },
      "outputs": [],
      "source": [
        "model.compile(optimizer='adam', loss='mse', metrics=['mae'])\n"
      ]
    },
    {
      "cell_type": "code",
      "execution_count": 17,
      "metadata": {
        "colab": {
          "base_uri": "https://localhost:8080/"
        },
        "id": "7cFYs4YfCLa_",
        "outputId": "5fe6fb34-8498-4afa-8b2d-3243aabcf707"
      },
      "outputs": [
        {
          "name": "stdout",
          "output_type": "stream",
          "text": [
            "Epoch 1/200\n",
            "25/25 [==============================] - 2s 14ms/step - loss: 902.3541 - mae: 17.4972 - val_loss: 735.3570 - val_mae: 16.0846\n",
            "Epoch 2/200\n",
            "25/25 [==============================] - 0s 4ms/step - loss: 661.3218 - mae: 17.1949 - val_loss: 360.9705 - val_mae: 16.9674\n",
            "Epoch 3/200\n",
            "25/25 [==============================] - 0s 3ms/step - loss: 325.6328 - mae: 15.8328 - val_loss: 161.1357 - val_mae: 11.1064\n",
            "Epoch 4/200\n",
            "25/25 [==============================] - 0s 3ms/step - loss: 79.2402 - mae: 7.1617 - val_loss: 7.3229 - val_mae: 2.2658\n",
            "Epoch 5/200\n",
            "25/25 [==============================] - 0s 3ms/step - loss: 3.6966 - mae: 1.4689 - val_loss: 4.4500 - val_mae: 1.1612\n",
            "Epoch 6/200\n",
            "25/25 [==============================] - 0s 3ms/step - loss: 2.7871 - mae: 1.1132 - val_loss: 3.4504 - val_mae: 1.1958\n",
            "Epoch 7/200\n",
            "25/25 [==============================] - 0s 3ms/step - loss: 2.0902 - mae: 1.1253 - val_loss: 3.1585 - val_mae: 1.1893\n",
            "Epoch 8/200\n",
            "25/25 [==============================] - 0s 3ms/step - loss: 1.8372 - mae: 1.0839 - val_loss: 2.8606 - val_mae: 1.1130\n",
            "Epoch 9/200\n",
            "25/25 [==============================] - 0s 3ms/step - loss: 1.6045 - mae: 0.9833 - val_loss: 2.6266 - val_mae: 0.9998\n",
            "Epoch 10/200\n",
            "25/25 [==============================] - 0s 3ms/step - loss: 1.3958 - mae: 0.9385 - val_loss: 2.3799 - val_mae: 0.9351\n",
            "Epoch 11/200\n",
            "25/25 [==============================] - 0s 4ms/step - loss: 1.2094 - mae: 0.8658 - val_loss: 2.2035 - val_mae: 0.8721\n",
            "Epoch 12/200\n",
            "25/25 [==============================] - 0s 3ms/step - loss: 1.0614 - mae: 0.8318 - val_loss: 1.9360 - val_mae: 0.8576\n",
            "Epoch 13/200\n",
            "25/25 [==============================] - 0s 3ms/step - loss: 0.9562 - mae: 0.7836 - val_loss: 1.7656 - val_mae: 0.8058\n",
            "Epoch 14/200\n",
            "25/25 [==============================] - 0s 4ms/step - loss: 0.8531 - mae: 0.7617 - val_loss: 1.6535 - val_mae: 0.7518\n",
            "Epoch 15/200\n",
            "25/25 [==============================] - 0s 3ms/step - loss: 0.8243 - mae: 0.7122 - val_loss: 1.5351 - val_mae: 0.8442\n",
            "Epoch 16/200\n",
            "25/25 [==============================] - 0s 3ms/step - loss: 0.6675 - mae: 0.6505 - val_loss: 1.3349 - val_mae: 0.7571\n",
            "Epoch 17/200\n",
            "25/25 [==============================] - 0s 3ms/step - loss: 0.6550 - mae: 0.6464 - val_loss: 1.2177 - val_mae: 0.6809\n",
            "Epoch 18/200\n",
            "25/25 [==============================] - 0s 3ms/step - loss: 0.5944 - mae: 0.6160 - val_loss: 1.1557 - val_mae: 0.6171\n",
            "Epoch 19/200\n",
            "25/25 [==============================] - 0s 3ms/step - loss: 0.5533 - mae: 0.5745 - val_loss: 1.0478 - val_mae: 0.6478\n",
            "Epoch 20/200\n",
            "25/25 [==============================] - 0s 3ms/step - loss: 0.5479 - mae: 0.5575 - val_loss: 1.1032 - val_mae: 0.5510\n",
            "Epoch 21/200\n",
            "25/25 [==============================] - 0s 3ms/step - loss: 0.5110 - mae: 0.5303 - val_loss: 0.9245 - val_mae: 0.6212\n",
            "Epoch 22/200\n",
            "25/25 [==============================] - 0s 3ms/step - loss: 0.4864 - mae: 0.5008 - val_loss: 0.9591 - val_mae: 0.4952\n",
            "Epoch 23/200\n",
            "25/25 [==============================] - 0s 3ms/step - loss: 0.4598 - mae: 0.4806 - val_loss: 0.8277 - val_mae: 0.5468\n",
            "Epoch 24/200\n",
            "25/25 [==============================] - 0s 3ms/step - loss: 0.4392 - mae: 0.4635 - val_loss: 0.7893 - val_mae: 0.5076\n",
            "Epoch 25/200\n",
            "25/25 [==============================] - 0s 3ms/step - loss: 0.4386 - mae: 0.4509 - val_loss: 0.8019 - val_mae: 0.4578\n",
            "Epoch 26/200\n",
            "25/25 [==============================] - 0s 4ms/step - loss: 0.4654 - mae: 0.4639 - val_loss: 0.8660 - val_mae: 0.4433\n",
            "Epoch 27/200\n",
            "25/25 [==============================] - 0s 3ms/step - loss: 0.4348 - mae: 0.4226 - val_loss: 0.7083 - val_mae: 0.4978\n",
            "Epoch 28/200\n",
            "25/25 [==============================] - 0s 3ms/step - loss: 0.4079 - mae: 0.4135 - val_loss: 0.7063 - val_mae: 0.4691\n",
            "Epoch 29/200\n",
            "25/25 [==============================] - 0s 3ms/step - loss: 0.4055 - mae: 0.4127 - val_loss: 0.7017 - val_mae: 0.4480\n",
            "Epoch 30/200\n",
            "25/25 [==============================] - 0s 3ms/step - loss: 0.4051 - mae: 0.4002 - val_loss: 0.6892 - val_mae: 0.4380\n",
            "Epoch 31/200\n",
            "25/25 [==============================] - 0s 3ms/step - loss: 0.3967 - mae: 0.4001 - val_loss: 0.6995 - val_mae: 0.4702\n",
            "Epoch 32/200\n",
            "25/25 [==============================] - 0s 3ms/step - loss: 0.3966 - mae: 0.3914 - val_loss: 0.6777 - val_mae: 0.4516\n",
            "Epoch 33/200\n",
            "25/25 [==============================] - 0s 3ms/step - loss: 0.3845 - mae: 0.3883 - val_loss: 0.6836 - val_mae: 0.4864\n",
            "Epoch 34/200\n",
            "25/25 [==============================] - 0s 3ms/step - loss: 0.4279 - mae: 0.4080 - val_loss: 0.6812 - val_mae: 0.4182\n",
            "Epoch 35/200\n",
            "25/25 [==============================] - 0s 3ms/step - loss: 0.3857 - mae: 0.3845 - val_loss: 0.7351 - val_mae: 0.4054\n",
            "Epoch 36/200\n",
            "25/25 [==============================] - 0s 3ms/step - loss: 0.3748 - mae: 0.3772 - val_loss: 0.6786 - val_mae: 0.4441\n",
            "Epoch 37/200\n",
            "25/25 [==============================] - 0s 3ms/step - loss: 0.4047 - mae: 0.3965 - val_loss: 0.6625 - val_mae: 0.4304\n",
            "Epoch 38/200\n",
            "25/25 [==============================] - 0s 3ms/step - loss: 0.4057 - mae: 0.4016 - val_loss: 0.6756 - val_mae: 0.4761\n",
            "Epoch 39/200\n",
            "25/25 [==============================] - 0s 4ms/step - loss: 0.3658 - mae: 0.3812 - val_loss: 0.8089 - val_mae: 0.4003\n",
            "Epoch 40/200\n",
            "25/25 [==============================] - 0s 4ms/step - loss: 0.4183 - mae: 0.4009 - val_loss: 0.6834 - val_mae: 0.3993\n",
            "Epoch 41/200\n",
            "25/25 [==============================] - 0s 4ms/step - loss: 0.3857 - mae: 0.3823 - val_loss: 0.6759 - val_mae: 0.4823\n",
            "Epoch 42/200\n",
            "25/25 [==============================] - 0s 4ms/step - loss: 0.4153 - mae: 0.3972 - val_loss: 0.6700 - val_mae: 0.4083\n",
            "Epoch 43/200\n",
            "25/25 [==============================] - 0s 4ms/step - loss: 0.3942 - mae: 0.3681 - val_loss: 0.7540 - val_mae: 0.3743\n",
            "Epoch 44/200\n",
            "25/25 [==============================] - 0s 4ms/step - loss: 0.4074 - mae: 0.3910 - val_loss: 0.7168 - val_mae: 0.3629\n",
            "Epoch 45/200\n",
            "25/25 [==============================] - 0s 4ms/step - loss: 0.3575 - mae: 0.3611 - val_loss: 0.7861 - val_mae: 0.3802\n",
            "Epoch 46/200\n",
            "25/25 [==============================] - 0s 3ms/step - loss: 0.4026 - mae: 0.3802 - val_loss: 0.9620 - val_mae: 0.4433\n",
            "Epoch 47/200\n",
            "25/25 [==============================] - 0s 3ms/step - loss: 0.3532 - mae: 0.3516 - val_loss: 0.6698 - val_mae: 0.4051\n",
            "Epoch 48/200\n",
            "25/25 [==============================] - 0s 4ms/step - loss: 0.3326 - mae: 0.3272 - val_loss: 0.7469 - val_mae: 0.5316\n",
            "Epoch 49/200\n",
            "25/25 [==============================] - 0s 4ms/step - loss: 0.3364 - mae: 0.3429 - val_loss: 0.8087 - val_mae: 0.3335\n",
            "Epoch 50/200\n",
            "25/25 [==============================] - 0s 3ms/step - loss: 0.3253 - mae: 0.3123 - val_loss: 0.7498 - val_mae: 0.4968\n",
            "Epoch 51/200\n",
            "25/25 [==============================] - 0s 3ms/step - loss: 0.3417 - mae: 0.3278 - val_loss: 0.6811 - val_mae: 0.4052\n",
            "Epoch 52/200\n",
            "25/25 [==============================] - 0s 6ms/step - loss: 0.3271 - mae: 0.3086 - val_loss: 0.7127 - val_mae: 0.3748\n",
            "Epoch 53/200\n",
            "25/25 [==============================] - 0s 4ms/step - loss: 0.3019 - mae: 0.2822 - val_loss: 0.7003 - val_mae: 0.3968\n",
            "Epoch 54/200\n",
            "25/25 [==============================] - 0s 4ms/step - loss: 0.3048 - mae: 0.2889 - val_loss: 0.7088 - val_mae: 0.3244\n",
            "Epoch 55/200\n",
            "25/25 [==============================] - 0s 3ms/step - loss: 0.3220 - mae: 0.3044 - val_loss: 0.7583 - val_mae: 0.2839\n",
            "Epoch 56/200\n",
            "25/25 [==============================] - 0s 3ms/step - loss: 0.3352 - mae: 0.2869 - val_loss: 0.7039 - val_mae: 0.3471\n",
            "Epoch 57/200\n",
            "25/25 [==============================] - 0s 4ms/step - loss: 0.2931 - mae: 0.2611 - val_loss: 0.7216 - val_mae: 0.4167\n",
            "Epoch 58/200\n",
            "25/25 [==============================] - 0s 4ms/step - loss: 0.3470 - mae: 0.3134 - val_loss: 0.7314 - val_mae: 0.3963\n",
            "Epoch 59/200\n",
            "25/25 [==============================] - 0s 4ms/step - loss: 0.3126 - mae: 0.2805 - val_loss: 0.7745 - val_mae: 0.2861\n",
            "Epoch 60/200\n",
            "25/25 [==============================] - 0s 3ms/step - loss: 0.2995 - mae: 0.2691 - val_loss: 0.7696 - val_mae: 0.3823\n",
            "Epoch 61/200\n",
            "25/25 [==============================] - 0s 3ms/step - loss: 0.3045 - mae: 0.2806 - val_loss: 0.7622 - val_mae: 0.4047\n",
            "Epoch 62/200\n",
            "25/25 [==============================] - 0s 3ms/step - loss: 0.2909 - mae: 0.2727 - val_loss: 0.7782 - val_mae: 0.3033\n",
            "Epoch 63/200\n",
            "25/25 [==============================] - 0s 3ms/step - loss: 0.2710 - mae: 0.2540 - val_loss: 0.7460 - val_mae: 0.3381\n",
            "Epoch 64/200\n",
            "25/25 [==============================] - 0s 3ms/step - loss: 0.2649 - mae: 0.2448 - val_loss: 0.7493 - val_mae: 0.3730\n",
            "Epoch 65/200\n",
            "25/25 [==============================] - 0s 4ms/step - loss: 0.3063 - mae: 0.2926 - val_loss: 0.7711 - val_mae: 0.3998\n",
            "Epoch 66/200\n",
            "25/25 [==============================] - 0s 4ms/step - loss: 0.3417 - mae: 0.3013 - val_loss: 0.8654 - val_mae: 0.2779\n",
            "Epoch 67/200\n",
            "25/25 [==============================] - 0s 3ms/step - loss: 0.2902 - mae: 0.2576 - val_loss: 0.7788 - val_mae: 0.3814\n",
            "Epoch 68/200\n",
            "25/25 [==============================] - 0s 3ms/step - loss: 0.2886 - mae: 0.2749 - val_loss: 0.9049 - val_mae: 0.5283\n",
            "Epoch 69/200\n",
            "25/25 [==============================] - 0s 3ms/step - loss: 0.2924 - mae: 0.2752 - val_loss: 0.8430 - val_mae: 0.3045\n",
            "Epoch 70/200\n",
            "25/25 [==============================] - 0s 3ms/step - loss: 0.2764 - mae: 0.2518 - val_loss: 0.7855 - val_mae: 0.3458\n",
            "Epoch 71/200\n",
            "25/25 [==============================] - 0s 3ms/step - loss: 0.3312 - mae: 0.2879 - val_loss: 0.9103 - val_mae: 0.2865\n",
            "Epoch 72/200\n",
            "25/25 [==============================] - 0s 3ms/step - loss: 0.2990 - mae: 0.2695 - val_loss: 0.7859 - val_mae: 0.3305\n",
            "Epoch 73/200\n",
            "25/25 [==============================] - 0s 3ms/step - loss: 0.2664 - mae: 0.2596 - val_loss: 0.7959 - val_mae: 0.3635\n",
            "Epoch 74/200\n",
            "25/25 [==============================] - 0s 4ms/step - loss: 0.2645 - mae: 0.2522 - val_loss: 0.8501 - val_mae: 0.3285\n",
            "Epoch 75/200\n",
            "25/25 [==============================] - 0s 3ms/step - loss: 0.3326 - mae: 0.3001 - val_loss: 0.8563 - val_mae: 0.4133\n",
            "Epoch 76/200\n",
            "25/25 [==============================] - 0s 3ms/step - loss: 0.2874 - mae: 0.2727 - val_loss: 0.9621 - val_mae: 0.2986\n",
            "Epoch 77/200\n",
            "25/25 [==============================] - 0s 5ms/step - loss: 0.2628 - mae: 0.2488 - val_loss: 0.8176 - val_mae: 0.3624\n",
            "Epoch 78/200\n",
            "25/25 [==============================] - 0s 3ms/step - loss: 0.2761 - mae: 0.2703 - val_loss: 1.0091 - val_mae: 0.3133\n",
            "Epoch 79/200\n",
            "25/25 [==============================] - 0s 3ms/step - loss: 0.2797 - mae: 0.2579 - val_loss: 0.8331 - val_mae: 0.2995\n",
            "Epoch 80/200\n",
            "25/25 [==============================] - 0s 3ms/step - loss: 0.2753 - mae: 0.2593 - val_loss: 0.8438 - val_mae: 0.2984\n",
            "Epoch 81/200\n",
            "25/25 [==============================] - 0s 4ms/step - loss: 0.2789 - mae: 0.2587 - val_loss: 0.8387 - val_mae: 0.3562\n",
            "Epoch 82/200\n",
            "25/25 [==============================] - 0s 4ms/step - loss: 0.2551 - mae: 0.2373 - val_loss: 0.8652 - val_mae: 0.4295\n",
            "Epoch 83/200\n",
            "25/25 [==============================] - 0s 3ms/step - loss: 0.2780 - mae: 0.2643 - val_loss: 1.1711 - val_mae: 0.3963\n",
            "Epoch 84/200\n",
            "25/25 [==============================] - 0s 3ms/step - loss: 0.2816 - mae: 0.2632 - val_loss: 0.8897 - val_mae: 0.3056\n",
            "Epoch 85/200\n",
            "25/25 [==============================] - 0s 3ms/step - loss: 0.2703 - mae: 0.2551 - val_loss: 0.9140 - val_mae: 0.3438\n",
            "Epoch 86/200\n",
            "25/25 [==============================] - 0s 3ms/step - loss: 0.2783 - mae: 0.2689 - val_loss: 0.9067 - val_mae: 0.3032\n",
            "Epoch 87/200\n",
            "25/25 [==============================] - 0s 3ms/step - loss: 0.2664 - mae: 0.2547 - val_loss: 0.9208 - val_mae: 0.4640\n",
            "Epoch 88/200\n",
            "25/25 [==============================] - 0s 3ms/step - loss: 0.2641 - mae: 0.2754 - val_loss: 0.8909 - val_mae: 0.2892\n",
            "Epoch 89/200\n",
            "25/25 [==============================] - 0s 3ms/step - loss: 0.2515 - mae: 0.2366 - val_loss: 0.8747 - val_mae: 0.2662\n",
            "Epoch 90/200\n",
            "25/25 [==============================] - 0s 3ms/step - loss: 0.2682 - mae: 0.2578 - val_loss: 0.9103 - val_mae: 0.2887\n",
            "Epoch 91/200\n",
            "25/25 [==============================] - 0s 4ms/step - loss: 0.2542 - mae: 0.2485 - val_loss: 0.8557 - val_mae: 0.3384\n",
            "Epoch 92/200\n",
            "25/25 [==============================] - 0s 3ms/step - loss: 0.2652 - mae: 0.2379 - val_loss: 0.8575 - val_mae: 0.3441\n",
            "Epoch 93/200\n",
            "25/25 [==============================] - 0s 3ms/step - loss: 0.3159 - mae: 0.2954 - val_loss: 1.1357 - val_mae: 0.3509\n",
            "Epoch 94/200\n",
            "25/25 [==============================] - 0s 3ms/step - loss: 0.2445 - mae: 0.2429 - val_loss: 0.9419 - val_mae: 0.4467\n",
            "Epoch 95/200\n",
            "25/25 [==============================] - 0s 3ms/step - loss: 0.2691 - mae: 0.2589 - val_loss: 0.8824 - val_mae: 0.3698\n",
            "Epoch 96/200\n",
            "25/25 [==============================] - 0s 3ms/step - loss: 0.3019 - mae: 0.2878 - val_loss: 1.0521 - val_mae: 0.3140\n",
            "Epoch 97/200\n",
            "25/25 [==============================] - 0s 3ms/step - loss: 0.2466 - mae: 0.2335 - val_loss: 0.9093 - val_mae: 0.3244\n",
            "Epoch 98/200\n",
            "25/25 [==============================] - 0s 4ms/step - loss: 0.2262 - mae: 0.2310 - val_loss: 0.9504 - val_mae: 0.2698\n",
            "Epoch 99/200\n",
            "25/25 [==============================] - 0s 4ms/step - loss: 0.2700 - mae: 0.2420 - val_loss: 0.9231 - val_mae: 0.2614\n",
            "Epoch 100/200\n",
            "25/25 [==============================] - 0s 4ms/step - loss: 0.2349 - mae: 0.2316 - val_loss: 0.8740 - val_mae: 0.3549\n",
            "Epoch 101/200\n",
            "25/25 [==============================] - 0s 4ms/step - loss: 0.2225 - mae: 0.2225 - val_loss: 0.9500 - val_mae: 0.3565\n",
            "Epoch 102/200\n",
            "25/25 [==============================] - 0s 4ms/step - loss: 0.2510 - mae: 0.2256 - val_loss: 0.9041 - val_mae: 0.3710\n",
            "Epoch 103/200\n",
            "25/25 [==============================] - 0s 4ms/step - loss: 0.2673 - mae: 0.2684 - val_loss: 1.1704 - val_mae: 0.3396\n",
            "Epoch 104/200\n",
            "25/25 [==============================] - 0s 3ms/step - loss: 0.2335 - mae: 0.2289 - val_loss: 0.9082 - val_mae: 0.4110\n",
            "Epoch 105/200\n",
            "25/25 [==============================] - 0s 4ms/step - loss: 0.2564 - mae: 0.2404 - val_loss: 0.9795 - val_mae: 0.4685\n",
            "Epoch 106/200\n",
            "25/25 [==============================] - 0s 4ms/step - loss: 0.2770 - mae: 0.2606 - val_loss: 0.9581 - val_mae: 0.2923\n",
            "Epoch 107/200\n",
            "25/25 [==============================] - 0s 4ms/step - loss: 0.2623 - mae: 0.2443 - val_loss: 0.8948 - val_mae: 0.3750\n",
            "Epoch 108/200\n",
            "25/25 [==============================] - 0s 3ms/step - loss: 0.2726 - mae: 0.2484 - val_loss: 0.8741 - val_mae: 0.3171\n",
            "Epoch 109/200\n",
            "25/25 [==============================] - 0s 4ms/step - loss: 0.2284 - mae: 0.2215 - val_loss: 0.8856 - val_mae: 0.3190\n",
            "Epoch 110/200\n",
            "25/25 [==============================] - 0s 4ms/step - loss: 0.2270 - mae: 0.2165 - val_loss: 0.8863 - val_mae: 0.3492\n",
            "Epoch 111/200\n",
            "25/25 [==============================] - 0s 4ms/step - loss: 0.2224 - mae: 0.2216 - val_loss: 0.9220 - val_mae: 0.2706\n",
            "Epoch 112/200\n",
            "25/25 [==============================] - 0s 3ms/step - loss: 0.2427 - mae: 0.2346 - val_loss: 0.8997 - val_mae: 0.3457\n",
            "Epoch 113/200\n",
            "25/25 [==============================] - 0s 3ms/step - loss: 0.2595 - mae: 0.2457 - val_loss: 0.8821 - val_mae: 0.2873\n",
            "Epoch 114/200\n",
            "25/25 [==============================] - 0s 3ms/step - loss: 0.2321 - mae: 0.2339 - val_loss: 0.9143 - val_mae: 0.4108\n",
            "Epoch 115/200\n",
            "25/25 [==============================] - 0s 5ms/step - loss: 0.3296 - mae: 0.3008 - val_loss: 1.1275 - val_mae: 0.5423\n",
            "Epoch 116/200\n",
            "25/25 [==============================] - 0s 5ms/step - loss: 0.3068 - mae: 0.2888 - val_loss: 0.9528 - val_mae: 0.4310\n",
            "Epoch 117/200\n",
            "25/25 [==============================] - 0s 4ms/step - loss: 0.2362 - mae: 0.2221 - val_loss: 0.9726 - val_mae: 0.2934\n",
            "Epoch 118/200\n",
            "25/25 [==============================] - 0s 5ms/step - loss: 0.2789 - mae: 0.2426 - val_loss: 0.9616 - val_mae: 0.2886\n",
            "Epoch 119/200\n",
            "25/25 [==============================] - 0s 5ms/step - loss: 0.2560 - mae: 0.2357 - val_loss: 0.8666 - val_mae: 0.3144\n",
            "Epoch 120/200\n",
            "25/25 [==============================] - 0s 5ms/step - loss: 0.2231 - mae: 0.2321 - val_loss: 0.8686 - val_mae: 0.3165\n",
            "Epoch 121/200\n",
            "25/25 [==============================] - 0s 3ms/step - loss: 0.2197 - mae: 0.2197 - val_loss: 0.8826 - val_mae: 0.2950\n",
            "Epoch 122/200\n",
            "25/25 [==============================] - 0s 3ms/step - loss: 0.2525 - mae: 0.2423 - val_loss: 0.8935 - val_mae: 0.2972\n",
            "Epoch 123/200\n",
            "25/25 [==============================] - 0s 4ms/step - loss: 0.2693 - mae: 0.2474 - val_loss: 0.8351 - val_mae: 0.3472\n",
            "Epoch 124/200\n",
            "25/25 [==============================] - 0s 3ms/step - loss: 0.2813 - mae: 0.2610 - val_loss: 0.8721 - val_mae: 0.2926\n",
            "Epoch 125/200\n",
            "25/25 [==============================] - 0s 4ms/step - loss: 0.2571 - mae: 0.2441 - val_loss: 0.8980 - val_mae: 0.2659\n",
            "Epoch 126/200\n",
            "25/25 [==============================] - 0s 5ms/step - loss: 0.2267 - mae: 0.2160 - val_loss: 0.8754 - val_mae: 0.2610\n",
            "Epoch 127/200\n",
            "25/25 [==============================] - 0s 3ms/step - loss: 0.2629 - mae: 0.2466 - val_loss: 1.0655 - val_mae: 0.3321\n",
            "Epoch 128/200\n",
            "25/25 [==============================] - 0s 3ms/step - loss: 0.2668 - mae: 0.2604 - val_loss: 1.0809 - val_mae: 0.3794\n",
            "Epoch 129/200\n",
            "25/25 [==============================] - 0s 3ms/step - loss: 0.4041 - mae: 0.3390 - val_loss: 1.0392 - val_mae: 0.3117\n",
            "Epoch 130/200\n",
            "25/25 [==============================] - 0s 3ms/step - loss: 0.2226 - mae: 0.2124 - val_loss: 0.8976 - val_mae: 0.2617\n",
            "Epoch 131/200\n",
            "25/25 [==============================] - 0s 3ms/step - loss: 0.2026 - mae: 0.2184 - val_loss: 0.8438 - val_mae: 0.2949\n",
            "Epoch 132/200\n",
            "25/25 [==============================] - 0s 3ms/step - loss: 0.2316 - mae: 0.2341 - val_loss: 0.8284 - val_mae: 0.3635\n",
            "Epoch 133/200\n",
            "25/25 [==============================] - 0s 4ms/step - loss: 0.2210 - mae: 0.2211 - val_loss: 0.8516 - val_mae: 0.2645\n",
            "Epoch 134/200\n",
            "25/25 [==============================] - 0s 4ms/step - loss: 0.2318 - mae: 0.2298 - val_loss: 0.8052 - val_mae: 0.3336\n",
            "Epoch 135/200\n",
            "25/25 [==============================] - 0s 3ms/step - loss: 0.2225 - mae: 0.2222 - val_loss: 0.8274 - val_mae: 0.3901\n",
            "Epoch 136/200\n",
            "25/25 [==============================] - 0s 3ms/step - loss: 0.2510 - mae: 0.2421 - val_loss: 0.8030 - val_mae: 0.3090\n",
            "Epoch 137/200\n",
            "25/25 [==============================] - 0s 3ms/step - loss: 0.3143 - mae: 0.2852 - val_loss: 0.7975 - val_mae: 0.3385\n",
            "Epoch 138/200\n",
            "25/25 [==============================] - 0s 3ms/step - loss: 0.2522 - mae: 0.2536 - val_loss: 0.8841 - val_mae: 0.2625\n",
            "Epoch 139/200\n",
            "25/25 [==============================] - 0s 3ms/step - loss: 0.2552 - mae: 0.2324 - val_loss: 0.8873 - val_mae: 0.2772\n",
            "Epoch 140/200\n",
            "25/25 [==============================] - 0s 3ms/step - loss: 0.2022 - mae: 0.2044 - val_loss: 0.7857 - val_mae: 0.2774\n",
            "Epoch 141/200\n",
            "25/25 [==============================] - 0s 4ms/step - loss: 0.2002 - mae: 0.2016 - val_loss: 0.9545 - val_mae: 0.2953\n",
            "Epoch 142/200\n",
            "25/25 [==============================] - 0s 4ms/step - loss: 0.3834 - mae: 0.3272 - val_loss: 1.2627 - val_mae: 0.4662\n",
            "Epoch 143/200\n",
            "25/25 [==============================] - 0s 3ms/step - loss: 0.3575 - mae: 0.3168 - val_loss: 0.8675 - val_mae: 0.2829\n",
            "Epoch 144/200\n",
            "25/25 [==============================] - 0s 3ms/step - loss: 0.1947 - mae: 0.2182 - val_loss: 0.8170 - val_mae: 0.2819\n",
            "Epoch 145/200\n",
            "25/25 [==============================] - 0s 3ms/step - loss: 0.2136 - mae: 0.2096 - val_loss: 0.8785 - val_mae: 0.4591\n",
            "Epoch 146/200\n",
            "25/25 [==============================] - 0s 3ms/step - loss: 0.2602 - mae: 0.2469 - val_loss: 0.7612 - val_mae: 0.3337\n",
            "Epoch 147/200\n",
            "25/25 [==============================] - 0s 3ms/step - loss: 0.1960 - mae: 0.1957 - val_loss: 0.7717 - val_mae: 0.2552\n",
            "Epoch 148/200\n",
            "25/25 [==============================] - 0s 3ms/step - loss: 0.2517 - mae: 0.2410 - val_loss: 0.8200 - val_mae: 0.3877\n",
            "Epoch 149/200\n",
            "25/25 [==============================] - 0s 3ms/step - loss: 0.2146 - mae: 0.2195 - val_loss: 0.7605 - val_mae: 0.2666\n",
            "Epoch 150/200\n",
            "25/25 [==============================] - 0s 4ms/step - loss: 0.2547 - mae: 0.2274 - val_loss: 0.9216 - val_mae: 0.4980\n",
            "Epoch 151/200\n",
            "25/25 [==============================] - 0s 4ms/step - loss: 0.2819 - mae: 0.2638 - val_loss: 0.7404 - val_mae: 0.3043\n",
            "Epoch 152/200\n",
            "25/25 [==============================] - 0s 3ms/step - loss: 0.2129 - mae: 0.2141 - val_loss: 0.7361 - val_mae: 0.3390\n",
            "Epoch 153/200\n",
            "25/25 [==============================] - 0s 3ms/step - loss: 0.2518 - mae: 0.2480 - val_loss: 1.0928 - val_mae: 0.3775\n",
            "Epoch 154/200\n",
            "25/25 [==============================] - 0s 3ms/step - loss: 0.2859 - mae: 0.2633 - val_loss: 0.7761 - val_mae: 0.2594\n",
            "Epoch 155/200\n",
            "25/25 [==============================] - 0s 3ms/step - loss: 0.2282 - mae: 0.2285 - val_loss: 0.7752 - val_mae: 0.2712\n",
            "Epoch 156/200\n",
            "25/25 [==============================] - 0s 3ms/step - loss: 0.2219 - mae: 0.2189 - val_loss: 0.7740 - val_mae: 0.2718\n",
            "Epoch 157/200\n",
            "25/25 [==============================] - 0s 3ms/step - loss: 0.2282 - mae: 0.2311 - val_loss: 0.9770 - val_mae: 0.3305\n",
            "Epoch 158/200\n",
            "25/25 [==============================] - 0s 3ms/step - loss: 0.2959 - mae: 0.2748 - val_loss: 1.1406 - val_mae: 0.6069\n",
            "Epoch 159/200\n",
            "25/25 [==============================] - 0s 3ms/step - loss: 0.2832 - mae: 0.2604 - val_loss: 0.7632 - val_mae: 0.2674\n",
            "Epoch 160/200\n",
            "25/25 [==============================] - 0s 4ms/step - loss: 0.6941 - mae: 0.4335 - val_loss: 2.5920 - val_mae: 0.8630\n",
            "Epoch 161/200\n",
            "25/25 [==============================] - 0s 4ms/step - loss: 0.6279 - mae: 0.4197 - val_loss: 0.7837 - val_mae: 0.2683\n",
            "Epoch 162/200\n",
            "25/25 [==============================] - 0s 5ms/step - loss: 0.2281 - mae: 0.2285 - val_loss: 0.7608 - val_mae: 0.3522\n",
            "Epoch 163/200\n",
            "25/25 [==============================] - 0s 3ms/step - loss: 0.2317 - mae: 0.2285 - val_loss: 0.7821 - val_mae: 0.2694\n",
            "Epoch 164/200\n",
            "25/25 [==============================] - 0s 3ms/step - loss: 0.2142 - mae: 0.2077 - val_loss: 0.7517 - val_mae: 0.3583\n",
            "Epoch 165/200\n",
            "25/25 [==============================] - 0s 3ms/step - loss: 0.2856 - mae: 0.2556 - val_loss: 0.7795 - val_mae: 0.3244\n",
            "Epoch 166/200\n",
            "25/25 [==============================] - 0s 3ms/step - loss: 0.2056 - mae: 0.2091 - val_loss: 0.7712 - val_mae: 0.2770\n",
            "Epoch 167/200\n",
            "25/25 [==============================] - 0s 3ms/step - loss: 0.2099 - mae: 0.2106 - val_loss: 0.7516 - val_mae: 0.3079\n",
            "Epoch 168/200\n",
            "25/25 [==============================] - 0s 3ms/step - loss: 0.2351 - mae: 0.2393 - val_loss: 0.9329 - val_mae: 0.3178\n",
            "Epoch 169/200\n",
            "25/25 [==============================] - 0s 3ms/step - loss: 0.2783 - mae: 0.2588 - val_loss: 0.7377 - val_mae: 0.2673\n",
            "Epoch 170/200\n",
            "25/25 [==============================] - 0s 4ms/step - loss: 0.2287 - mae: 0.2208 - val_loss: 0.8059 - val_mae: 0.4495\n",
            "Epoch 171/200\n",
            "25/25 [==============================] - 0s 4ms/step - loss: 0.2503 - mae: 0.2465 - val_loss: 0.7292 - val_mae: 0.3202\n",
            "Epoch 172/200\n",
            "25/25 [==============================] - 0s 3ms/step - loss: 0.2299 - mae: 0.2255 - val_loss: 0.8096 - val_mae: 0.2676\n",
            "Epoch 173/200\n",
            "25/25 [==============================] - 0s 3ms/step - loss: 0.2634 - mae: 0.2487 - val_loss: 0.7814 - val_mae: 0.3534\n",
            "Epoch 174/200\n",
            "25/25 [==============================] - 0s 3ms/step - loss: 0.2372 - mae: 0.2363 - val_loss: 0.7388 - val_mae: 0.2965\n",
            "Epoch 175/200\n",
            "25/25 [==============================] - 0s 3ms/step - loss: 0.2725 - mae: 0.2608 - val_loss: 0.8466 - val_mae: 0.4804\n",
            "Epoch 176/200\n",
            "25/25 [==============================] - 0s 3ms/step - loss: 0.2358 - mae: 0.2465 - val_loss: 0.7380 - val_mae: 0.3440\n",
            "Epoch 177/200\n",
            "25/25 [==============================] - 0s 3ms/step - loss: 0.2738 - mae: 0.2655 - val_loss: 0.7143 - val_mae: 0.3401\n",
            "Epoch 178/200\n",
            "25/25 [==============================] - 0s 3ms/step - loss: 0.2407 - mae: 0.2332 - val_loss: 0.8022 - val_mae: 0.2546\n",
            "Epoch 179/200\n",
            "25/25 [==============================] - 0s 3ms/step - loss: 0.1940 - mae: 0.1912 - val_loss: 0.7106 - val_mae: 0.2564\n",
            "Epoch 180/200\n",
            "25/25 [==============================] - 0s 3ms/step - loss: 0.2116 - mae: 0.2185 - val_loss: 0.7065 - val_mae: 0.3742\n",
            "Epoch 181/200\n",
            "25/25 [==============================] - 0s 5ms/step - loss: 0.2252 - mae: 0.2272 - val_loss: 0.6933 - val_mae: 0.3071\n",
            "Epoch 182/200\n",
            "25/25 [==============================] - 0s 4ms/step - loss: 0.2573 - mae: 0.2380 - val_loss: 0.7439 - val_mae: 0.4036\n",
            "Epoch 183/200\n",
            "25/25 [==============================] - 0s 3ms/step - loss: 0.2477 - mae: 0.2466 - val_loss: 0.7384 - val_mae: 0.3899\n",
            "Epoch 184/200\n",
            "25/25 [==============================] - 0s 3ms/step - loss: 0.2877 - mae: 0.2715 - val_loss: 0.8721 - val_mae: 0.4972\n",
            "Epoch 185/200\n",
            "25/25 [==============================] - 0s 3ms/step - loss: 0.3165 - mae: 0.2918 - val_loss: 0.7088 - val_mae: 0.2669\n",
            "Epoch 186/200\n",
            "25/25 [==============================] - 0s 3ms/step - loss: 0.1932 - mae: 0.1929 - val_loss: 0.7458 - val_mae: 0.2535\n",
            "Epoch 187/200\n",
            "25/25 [==============================] - 0s 3ms/step - loss: 0.2151 - mae: 0.2145 - val_loss: 0.7251 - val_mae: 0.3079\n",
            "Epoch 188/200\n",
            "25/25 [==============================] - 0s 3ms/step - loss: 0.2018 - mae: 0.2028 - val_loss: 0.7013 - val_mae: 0.3519\n",
            "Epoch 189/200\n",
            "25/25 [==============================] - 0s 3ms/step - loss: 0.2460 - mae: 0.2480 - val_loss: 0.6985 - val_mae: 0.2981\n",
            "Epoch 190/200\n",
            "25/25 [==============================] - 0s 3ms/step - loss: 0.2305 - mae: 0.2339 - val_loss: 0.9054 - val_mae: 0.3271\n",
            "Epoch 191/200\n",
            "25/25 [==============================] - 0s 3ms/step - loss: 0.2187 - mae: 0.2149 - val_loss: 0.6772 - val_mae: 0.3014\n",
            "Epoch 192/200\n",
            "25/25 [==============================] - 0s 3ms/step - loss: 0.3160 - mae: 0.2959 - val_loss: 0.8439 - val_mae: 0.5011\n",
            "Epoch 193/200\n",
            "25/25 [==============================] - 0s 4ms/step - loss: 0.3994 - mae: 0.3511 - val_loss: 1.0759 - val_mae: 0.6008\n",
            "Epoch 194/200\n",
            "25/25 [==============================] - 0s 4ms/step - loss: 0.3353 - mae: 0.2869 - val_loss: 0.7544 - val_mae: 0.2539\n",
            "Epoch 195/200\n",
            "25/25 [==============================] - 0s 3ms/step - loss: 0.2236 - mae: 0.2146 - val_loss: 0.7357 - val_mae: 0.2810\n",
            "Epoch 196/200\n",
            "25/25 [==============================] - 0s 3ms/step - loss: 0.2256 - mae: 0.2143 - val_loss: 0.7039 - val_mae: 0.3531\n",
            "Epoch 197/200\n",
            "25/25 [==============================] - 0s 3ms/step - loss: 0.2030 - mae: 0.2171 - val_loss: 0.6999 - val_mae: 0.2802\n",
            "Epoch 198/200\n",
            "25/25 [==============================] - 0s 3ms/step - loss: 0.1951 - mae: 0.1969 - val_loss: 0.7444 - val_mae: 0.4013\n",
            "Epoch 199/200\n",
            "25/25 [==============================] - 0s 3ms/step - loss: 0.2979 - mae: 0.2750 - val_loss: 0.7601 - val_mae: 0.2804\n",
            "Epoch 200/200\n",
            "25/25 [==============================] - 0s 5ms/step - loss: 0.2566 - mae: 0.2559 - val_loss: 0.6897 - val_mae: 0.2879\n"
          ]
        }
      ],
      "source": [
        "hist = model.fit(\n",
        "    X_train, Y_train,\n",
        "    batch_size=32,\n",
        "    epochs = 200,\n",
        "    validation_data=(X_val, Y_val)\n",
        ")"
      ]
    },
    {
      "cell_type": "code",
      "execution_count": 18,
      "metadata": {
        "colab": {
          "base_uri": "https://localhost:8080/"
        },
        "id": "ckbXAviyCLa_",
        "outputId": "82dc096e-2aeb-4471-8ba1-f7e95f3254e2"
      },
      "outputs": [
        {
          "name": "stdout",
          "output_type": "stream",
          "text": [
            "4/4 [==============================] - 0s 2ms/step - loss: 0.4025 - mae: 0.2522\n"
          ]
        },
        {
          "data": {
            "text/plain": [
              "[0.40251728892326355, 0.2522346079349518]"
            ]
          },
          "execution_count": 18,
          "metadata": {},
          "output_type": "execute_result"
        }
      ],
      "source": [
        "model.evaluate(X_test, Y_test)"
      ]
    },
    {
      "cell_type": "code",
      "execution_count": 19,
      "metadata": {
        "colab": {
          "base_uri": "https://localhost:8080/"
        },
        "id": "OzalqdGSCLa_",
        "outputId": "41fc5435-21b4-43ac-951f-91928d5d20a2"
      },
      "outputs": [
        {
          "name": "stdout",
          "output_type": "stream",
          "text": [
            "4/4 [==============================] - 0s 3ms/step - loss: 0.4025 - mae: 0.2522\n",
            "Test loss: 0.403, Test MAE: 0.252\n"
          ]
        }
      ],
      "source": [
        "# Evaluate the model on the test set\n",
        "test_loss, test_mae = model.evaluate(X_test, Y_test)\n",
        "print(f\"Test loss: {test_loss:.3f}, Test MAE: {test_mae:.3f}\")"
      ]
    },
    {
      "cell_type": "code",
      "execution_count": 20,
      "metadata": {
        "colab": {
          "base_uri": "https://localhost:8080/",
          "height": 265
        },
        "id": "0Vwz9W0OCLa_",
        "outputId": "b0d65d85-c9ba-4835-9b11-4f6abdb4dafc"
      },
      "outputs": [
        {
          "data": {
            "image/png": "[encoded data removed]",
            "text/plain": [
              "<Figure size 640x480 with 1 Axes>"
            ]
          },
          "metadata": {},
          "output_type": "display_data"
        }
      ],
      "source": [
        "plt.plot(hist.history['loss'], label='Training Loss')\n",
        "plt.plot(hist.history['val_loss'], label='Validation Loss')\n",
        "plt.legend()\n",
        "plt.show()"
      ]
    },
    {
      "cell_type": "code",
      "execution_count": 21,
      "metadata": {},
      "outputs": [
        {
          "name": "stdout",
          "output_type": "stream",
          "text": [
            "Training accuracy: 0.7441351413726807\n"
          ]
        }
      ],
      "source": [
        "train_accuracy = 1 - hist.history['mae'][-1]\n",
        "print(f\"Training accuracy: {train_accuracy}\")"
      ]
    }
  ],
  "metadata": {
    "colab": {
      "provenance": []
    },
    "kernelspec": {
      "display_name": "Python 3",
      "language": "python",
      "name": "python3"
    },
    "language_info": {
      "codemirror_mode": {
        "name": "ipython",
        "version": 3
      },
      "file_extension": ".py",
      "mimetype": "text/x-python",
      "name": "python",
      "nbconvert_exporter": "python",
      "pygments_lexer": "ipython3",
      "version": "3.10.11"
    },
    "orig_nbformat": 4,
    "vscode": {
      "interpreter": {
        "hash": "e3366052fba0b408e38a60964d7840cd801166c0994366f8aa1eea234ba6f411"
      }
    }
  },
  "nbformat": 4,
  "nbformat_minor": 0
}
