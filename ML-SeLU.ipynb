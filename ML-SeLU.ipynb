{
  "cells": [
    {
      "cell_type": "code",
      "execution_count": 20,
      "metadata": {
        "id": "Kk9tj1UUCLa7"
      },
      "outputs": [],
      "source": [
        "#Youtube: https://www.youtube.com/watch?v=vSzou5zRwNQ&ab_channel=ComputerScience"
      ]
    },
    {
      "cell_type": "code",
      "execution_count": 21,
      "metadata": {
        "id": "O_oE-LUjCLa8"
      },
      "outputs": [],
      "source": [
        "import pandas as pd\n",
        "import numpy as np\n",
        "import seaborn as sns\n",
        "import matplotlib.pyplot as plt\n"
      ]
    },
    {
      "cell_type": "code",
      "execution_count": 22,
      "metadata": {
        "id": "L-4kesSxCLa9"
      },
      "outputs": [],
      "source": [
        "Data = pd.read_csv('test.csv')"
      ]
    },
    {
      "cell_type": "code",
      "execution_count": 23,
      "metadata": {
        "colab": {
          "base_uri": "https://localhost:8080/"
        },
        "id": "bT4JqsPMCLa9",
        "outputId": "a1f313a2-e214-437f-864f-8ed3a1459632"
      },
      "outputs": [
        {
          "data": {
            "text/plain": [
              "<bound method NDFrame.head of         name_to_be_deleted     energy  atomic_charge      pca1      pca2  \\\n",
              "0       acetaldehyde_0_015  38.145186         36.858  0.842478 -0.531219   \n",
              "1       acetaldehyde_0_015   0.573634          0.500  0.463587  0.636512   \n",
              "2       acetaldehyde_0_015   0.580474          0.500  0.264339  0.540745   \n",
              "3       acetaldehyde_0_015  37.980501         36.858  0.029224  0.103269   \n",
              "4       acetaldehyde_0_015  75.370940         73.517  0.044843  0.049145   \n",
              "..                     ...        ...            ...       ...       ...   \n",
              "984  propionaldehyde_m062x   0.584652          0.500  0.049468  0.111188   \n",
              "985  propionaldehyde_m062x   0.582242          0.500  0.042805  0.055675   \n",
              "986  propionaldehyde_m062x  37.980621         36.858  0.033723  0.036809   \n",
              "987  propionaldehyde_m062x  75.371725         73.517  0.034102  0.037400   \n",
              "988  propionaldehyde_m062x   0.579226          0.500  0.027376  0.042574   \n",
              "\n",
              "         pca3  \n",
              "0    0.067413  \n",
              "1   -0.533631  \n",
              "2    0.552040  \n",
              "3    0.247301  \n",
              "4    0.439481  \n",
              "..        ...  \n",
              "984  0.273381  \n",
              "985  0.113010  \n",
              "986  0.082409  \n",
              "987  0.082873  \n",
              "988  0.082547  \n",
              "\n",
              "[989 rows x 6 columns]>"
            ]
          },
          "execution_count": 23,
          "metadata": {},
          "output_type": "execute_result"
        }
      ],
      "source": [
        "Data.head"
      ]
    },
    {
      "cell_type": "code",
      "execution_count": 24,
      "metadata": {
        "colab": {
          "base_uri": "https://localhost:8080/",
          "height": 441
        },
        "id": "6XGxzn7ACLa9",
        "outputId": "ae5af16a-ed1b-46d5-abe3-7200cbf115b7"
      },
      "outputs": [
        {
          "name": "stdout",
          "output_type": "stream",
          "text": [
            "<class 'pandas.core.frame.DataFrame'>\n",
            "RangeIndex: 989 entries, 0 to 988\n",
            "Data columns (total 6 columns):\n",
            " #   Column              Non-Null Count  Dtype  \n",
            "---  ------              --------------  -----  \n",
            " 0   name_to_be_deleted  989 non-null    object \n",
            " 1   energy              989 non-null    float64\n",
            " 2   atomic_charge       989 non-null    float64\n",
            " 3   pca1                989 non-null    float64\n",
            " 4   pca2                989 non-null    float64\n",
            " 5   pca3                989 non-null    float64\n",
            "dtypes: float64(5), object(1)\n",
            "memory usage: 46.5+ KB\n"
          ]
        },
        {
          "data": {
            "text/html": [
              "<div>\n",
              "<style scoped>\n",
              "    .dataframe tbody tr th:only-of-type {\n",
              "        vertical-align: middle;\n",
              "    }\n",
              "\n",
              "    .dataframe tbody tr th {\n",
              "        vertical-align: top;\n",
              "    }\n",
              "\n",
              "    .dataframe thead th {\n",
              "        text-align: right;\n",
              "    }\n",
              "</style>\n",
              "<table border=\"1\" class=\"dataframe\">\n",
              "  <thead>\n",
              "    <tr style=\"text-align: right;\">\n",
              "      <th></th>\n",
              "      <th>count</th>\n",
              "      <th>mean</th>\n",
              "      <th>std</th>\n",
              "      <th>min</th>\n",
              "      <th>25%</th>\n",
              "      <th>50%</th>\n",
              "      <th>75%</th>\n",
              "      <th>max</th>\n",
              "    </tr>\n",
              "  </thead>\n",
              "  <tbody>\n",
              "    <tr>\n",
              "      <th>energy</th>\n",
              "      <td>989.0</td>\n",
              "      <td>17.711468</td>\n",
              "      <td>24.379631</td>\n",
              "      <td>0.354965</td>\n",
              "      <td>0.406026</td>\n",
              "      <td>0.410041</td>\n",
              "      <td>35.532147</td>\n",
              "      <td>75.374145</td>\n",
              "    </tr>\n",
              "    <tr>\n",
              "      <th>atomic_charge</th>\n",
              "      <td>989.0</td>\n",
              "      <td>18.215577</td>\n",
              "      <td>24.963846</td>\n",
              "      <td>0.500000</td>\n",
              "      <td>0.500000</td>\n",
              "      <td>0.500000</td>\n",
              "      <td>36.858000</td>\n",
              "      <td>73.517000</td>\n",
              "    </tr>\n",
              "    <tr>\n",
              "      <th>pca1</th>\n",
              "      <td>989.0</td>\n",
              "      <td>0.206001</td>\n",
              "      <td>0.258520</td>\n",
              "      <td>0.025522</td>\n",
              "      <td>0.039223</td>\n",
              "      <td>0.052836</td>\n",
              "      <td>0.279435</td>\n",
              "      <td>0.870424</td>\n",
              "    </tr>\n",
              "    <tr>\n",
              "      <th>pca2</th>\n",
              "      <td>989.0</td>\n",
              "      <td>0.122910</td>\n",
              "      <td>0.306903</td>\n",
              "      <td>-0.566914</td>\n",
              "      <td>0.040274</td>\n",
              "      <td>0.064695</td>\n",
              "      <td>0.286355</td>\n",
              "      <td>0.660723</td>\n",
              "    </tr>\n",
              "    <tr>\n",
              "      <th>pca3</th>\n",
              "      <td>989.0</td>\n",
              "      <td>0.110676</td>\n",
              "      <td>0.311529</td>\n",
              "      <td>-0.724663</td>\n",
              "      <td>0.081144</td>\n",
              "      <td>0.107298</td>\n",
              "      <td>0.274634</td>\n",
              "      <td>0.633616</td>\n",
              "    </tr>\n",
              "  </tbody>\n",
              "</table>\n",
              "</div>"
            ],
            "text/plain": [
              "               count       mean        std       min       25%       50%  \\\n",
              "energy         989.0  17.711468  24.379631  0.354965  0.406026  0.410041   \n",
              "atomic_charge  989.0  18.215577  24.963846  0.500000  0.500000  0.500000   \n",
              "pca1           989.0   0.206001   0.258520  0.025522  0.039223  0.052836   \n",
              "pca2           989.0   0.122910   0.306903 -0.566914  0.040274  0.064695   \n",
              "pca3           989.0   0.110676   0.311529 -0.724663  0.081144  0.107298   \n",
              "\n",
              "                     75%        max  \n",
              "energy         35.532147  75.374145  \n",
              "atomic_charge  36.858000  73.517000  \n",
              "pca1            0.279435   0.870424  \n",
              "pca2            0.286355   0.660723  \n",
              "pca3            0.274634   0.633616  "
            ]
          },
          "execution_count": 24,
          "metadata": {},
          "output_type": "execute_result"
        }
      ],
      "source": [
        "Data.info()\n",
        "Data.describe().transpose()"
      ]
    },
    {
      "cell_type": "code",
      "execution_count": 25,
      "metadata": {
        "colab": {
          "base_uri": "https://localhost:8080/"
        },
        "id": "JyOcbwMoCLa9",
        "outputId": "807216a1-facf-49fd-9cce-a0e8fb0a9b7a"
      },
      "outputs": [
        {
          "data": {
            "text/plain": [
              "name_to_be_deleted    0\n",
              "energy                0\n",
              "atomic_charge         0\n",
              "pca1                  0\n",
              "pca2                  0\n",
              "pca3                  0\n",
              "dtype: int64"
            ]
          },
          "execution_count": 25,
          "metadata": {},
          "output_type": "execute_result"
        }
      ],
      "source": [
        "null_counts = Data.isna().sum()\n",
        "null_counts"
      ]
    },
    {
      "cell_type": "code",
      "execution_count": 26,
      "metadata": {
        "colab": {
          "base_uri": "https://localhost:8080/",
          "height": 284
        },
        "id": "URX1FRPsCLa-",
        "outputId": "6730a52b-5d8e-4d03-9cf5-f05199906924"
      },
      "outputs": [
        {
          "data": {
            "text/plain": [
              "<AxesSubplot: >"
            ]
          },
          "execution_count": 26,
          "metadata": {},
          "output_type": "execute_result"
        },
        {
          "data": {
            "image/png": "[encoded data removed]",
            "text/plain": [
              "<Figure size 640x480 with 1 Axes>"
            ]
          },
          "metadata": {},
          "output_type": "display_data"
        }
      ],
      "source": [
        "features = ['energy','atomic_charge','pca1', 'pca2', 'pca3']\n",
        "Data.boxplot(features)\n"
      ]
    },
    {
      "cell_type": "code",
      "execution_count": 27,
      "metadata": {
        "id": "7LWenBCgCLa-"
      },
      "outputs": [],
      "source": [
        "selected_features = ['atomic_charge','pca1','pca2','pca3']\n",
        "X = Data[selected_features]"
      ]
    },
    {
      "cell_type": "code",
      "execution_count": 28,
      "metadata": {
        "id": "j0_yhEPcCLa-"
      },
      "outputs": [],
      "source": [
        "target =  ['energy']\n",
        "y = Data[target]"
      ]
    },
    {
      "cell_type": "code",
      "execution_count": 29,
      "metadata": {
        "id": "zxAwJHxDCLa-"
      },
      "outputs": [],
      "source": [
        "from sklearn import preprocessing\n"
      ]
    },
    {
      "cell_type": "code",
      "execution_count": 30,
      "metadata": {
        "colab": {
          "base_uri": "https://localhost:8080/"
        },
        "id": "_N_f-MxyCLa-",
        "outputId": "656a2773-e7e0-471c-c436-cd1176a02994"
      },
      "outputs": [
        {
          "data": {
            "text/plain": [
              "array([[0.49793884, 0.96692397, 0.02907618, 0.58314676],\n",
              "       [0.        , 0.51848025, 0.98027837, 0.14064268],\n",
              "       [0.        , 0.28265645, 0.90226916, 0.93994165],\n",
              "       ...,\n",
              "       [0.49793884, 0.00970645, 0.49177648, 0.5941872 ],\n",
              "       [1.        , 0.01015502, 0.49225789, 0.59452881],\n",
              "       [0.        , 0.00219434, 0.49647249, 0.5942888 ]])"
            ]
          },
          "execution_count": 30,
          "metadata": {},
          "output_type": "execute_result"
        }
      ],
      "source": [
        "min_max_scaler = preprocessing.MinMaxScaler()\n",
        "X_scale = min_max_scaler.fit_transform(X)\n",
        "X_scale"
      ]
    },
    {
      "cell_type": "code",
      "execution_count": 31,
      "metadata": {
        "id": "kkmh5Z-4CLa-"
      },
      "outputs": [],
      "source": [
        "from keras.models import Sequential\n",
        "from keras.layers import Dense, Dropout\n",
        "from keras.layers.reshaping.flatten import Flatten\n",
        "from sklearn.model_selection import train_test_split\n",
        "\n"
      ]
    },
    {
      "cell_type": "code",
      "execution_count": 32,
      "metadata": {
        "colab": {
          "base_uri": "https://localhost:8080/"
        },
        "id": "VSODuv4fCLa-",
        "outputId": "5235acd5-c55c-4048-bb44-9a8ca2414c22"
      },
      "outputs": [
        {
          "name": "stdout",
          "output_type": "stream",
          "text": [
            "(791, 4) (99, 4) (99, 4) (791, 1) (99, 1) (99, 1)\n"
          ]
        }
      ],
      "source": [
        "X_train, X_val_and_test, Y_train, Y_val_and_test = train_test_split(X_scale, y, test_size=0.2)\n",
        "X_val, X_test, Y_val, Y_test = train_test_split(X_val_and_test, Y_val_and_test, test_size=0.5)\n",
        "print(X_train.shape, X_val.shape, X_test.shape, Y_train.shape, Y_val.shape, Y_test.shape)"
      ]
    },
    {
      "cell_type": "code",
      "execution_count": 33,
      "metadata": {
        "id": "yWCPJ_0oCLa_"
      },
      "outputs": [],
      "source": [
        "model = Sequential()\n",
        "model.add(Dense(units = 48, input_dim = 4))\n",
        "model.add(Dense(units = 48, activation='selu'))\n",
        "model.add(Dense(units = 32, activation='selu'))\n",
        "model.add(Dense(units = 32, activation='selu'))\n",
        "model.add(Dense(units = 16, activation='selu'))\n",
        "model.add(Flatten())\n",
        "model.add(Dense(units = 1))"
      ]
    },
    {
      "cell_type": "code",
      "execution_count": 34,
      "metadata": {
        "id": "_us0dno3CLa_"
      },
      "outputs": [],
      "source": [
        "model.compile(optimizer='adam', loss='mse', metrics=['mae'])\n"
      ]
    },
    {
      "cell_type": "code",
      "execution_count": 35,
      "metadata": {
        "colab": {
          "base_uri": "https://localhost:8080/"
        },
        "id": "7cFYs4YfCLa_",
        "outputId": "5fe6fb34-8498-4afa-8b2d-3243aabcf707"
      },
      "outputs": [
        {
          "name": "stdout",
          "output_type": "stream",
          "text": [
            "Epoch 1/200\n",
            "25/25 [==============================] - 3s 13ms/step - loss: 765.1269 - mae: 18.2037 - val_loss: 474.0911 - val_mae: 16.4342\n",
            "Epoch 2/200\n",
            "25/25 [==============================] - 0s 3ms/step - loss: 527.3062 - mae: 18.3816 - val_loss: 270.8876 - val_mae: 13.5449\n",
            "Epoch 3/200\n",
            "25/25 [==============================] - 0s 3ms/step - loss: 185.0244 - mae: 8.4042 - val_loss: 44.4956 - val_mae: 4.7031\n",
            "Epoch 4/200\n",
            "25/25 [==============================] - 0s 4ms/step - loss: 40.9614 - mae: 4.5402 - val_loss: 16.9953 - val_mae: 2.4732\n",
            "Epoch 5/200\n",
            "25/25 [==============================] - 0s 4ms/step - loss: 17.7783 - mae: 2.6325 - val_loss: 8.5087 - val_mae: 1.7601\n",
            "Epoch 6/200\n",
            "25/25 [==============================] - 0s 3ms/step - loss: 7.5728 - mae: 1.7744 - val_loss: 3.8283 - val_mae: 1.2002\n",
            "Epoch 7/200\n",
            "25/25 [==============================] - 0s 4ms/step - loss: 3.4751 - mae: 1.1152 - val_loss: 1.8847 - val_mae: 0.7487\n",
            "Epoch 8/200\n",
            "25/25 [==============================] - 0s 3ms/step - loss: 2.1497 - mae: 0.7677 - val_loss: 1.3192 - val_mae: 0.5806\n",
            "Epoch 9/200\n",
            "25/25 [==============================] - 0s 3ms/step - loss: 1.6232 - mae: 0.6378 - val_loss: 1.0989 - val_mae: 0.5843\n",
            "Epoch 10/200\n",
            "25/25 [==============================] - 0s 4ms/step - loss: 1.3181 - mae: 0.6150 - val_loss: 0.8245 - val_mae: 0.5306\n",
            "Epoch 11/200\n",
            "25/25 [==============================] - 0s 4ms/step - loss: 1.1303 - mae: 0.5887 - val_loss: 0.8527 - val_mae: 0.5724\n",
            "Epoch 12/200\n",
            "25/25 [==============================] - 0s 4ms/step - loss: 1.0169 - mae: 0.6116 - val_loss: 0.6380 - val_mae: 0.5525\n",
            "Epoch 13/200\n",
            "25/25 [==============================] - 0s 3ms/step - loss: 0.9383 - mae: 0.5785 - val_loss: 0.6442 - val_mae: 0.5986\n",
            "Epoch 14/200\n",
            "25/25 [==============================] - 0s 4ms/step - loss: 0.8665 - mae: 0.5710 - val_loss: 0.4972 - val_mae: 0.4438\n",
            "Epoch 15/200\n",
            "25/25 [==============================] - 0s 4ms/step - loss: 0.9252 - mae: 0.6299 - val_loss: 0.9779 - val_mae: 0.8423\n",
            "Epoch 16/200\n",
            "25/25 [==============================] - 0s 4ms/step - loss: 0.8942 - mae: 0.5985 - val_loss: 0.6293 - val_mae: 0.5135\n",
            "Epoch 17/200\n",
            "25/25 [==============================] - 0s 5ms/step - loss: 0.7914 - mae: 0.5607 - val_loss: 0.5545 - val_mae: 0.5278\n",
            "Epoch 18/200\n",
            "25/25 [==============================] - 0s 4ms/step - loss: 0.8060 - mae: 0.5675 - val_loss: 0.5802 - val_mae: 0.5330\n",
            "Epoch 19/200\n",
            "25/25 [==============================] - 0s 4ms/step - loss: 0.7748 - mae: 0.5798 - val_loss: 0.4455 - val_mae: 0.4694\n",
            "Epoch 20/200\n",
            "25/25 [==============================] - 0s 4ms/step - loss: 0.7335 - mae: 0.5355 - val_loss: 0.4808 - val_mae: 0.4875\n",
            "Epoch 21/200\n",
            "25/25 [==============================] - 0s 3ms/step - loss: 0.7030 - mae: 0.5262 - val_loss: 0.4279 - val_mae: 0.4220\n",
            "Epoch 22/200\n",
            "25/25 [==============================] - 0s 3ms/step - loss: 0.7424 - mae: 0.5540 - val_loss: 0.5441 - val_mae: 0.4979\n",
            "Epoch 23/200\n",
            "25/25 [==============================] - 0s 5ms/step - loss: 0.6972 - mae: 0.5539 - val_loss: 0.4638 - val_mae: 0.4698\n",
            "Epoch 24/200\n",
            "25/25 [==============================] - 0s 5ms/step - loss: 0.6824 - mae: 0.5169 - val_loss: 0.3669 - val_mae: 0.3870\n",
            "Epoch 25/200\n",
            "25/25 [==============================] - 0s 4ms/step - loss: 0.6490 - mae: 0.5005 - val_loss: 0.3887 - val_mae: 0.4129\n",
            "Epoch 26/200\n",
            "25/25 [==============================] - 0s 3ms/step - loss: 0.6545 - mae: 0.4942 - val_loss: 0.3519 - val_mae: 0.3566\n",
            "Epoch 27/200\n",
            "25/25 [==============================] - 0s 3ms/step - loss: 0.6297 - mae: 0.4929 - val_loss: 0.4043 - val_mae: 0.4244\n",
            "Epoch 28/200\n",
            "25/25 [==============================] - 0s 3ms/step - loss: 0.6363 - mae: 0.5011 - val_loss: 0.3904 - val_mae: 0.4572\n",
            "Epoch 29/200\n",
            "25/25 [==============================] - 0s 3ms/step - loss: 0.6778 - mae: 0.5325 - val_loss: 0.4055 - val_mae: 0.4130\n",
            "Epoch 30/200\n",
            "25/25 [==============================] - 0s 4ms/step - loss: 0.6151 - mae: 0.4875 - val_loss: 0.3712 - val_mae: 0.4314\n",
            "Epoch 31/200\n",
            "25/25 [==============================] - 0s 4ms/step - loss: 0.6085 - mae: 0.4912 - val_loss: 0.3459 - val_mae: 0.3578\n",
            "Epoch 32/200\n",
            "25/25 [==============================] - 0s 3ms/step - loss: 0.5740 - mae: 0.4631 - val_loss: 0.3311 - val_mae: 0.3733\n",
            "Epoch 33/200\n",
            "25/25 [==============================] - 0s 4ms/step - loss: 0.6295 - mae: 0.5147 - val_loss: 0.3380 - val_mae: 0.3911\n",
            "Epoch 34/200\n",
            "25/25 [==============================] - 0s 4ms/step - loss: 0.6813 - mae: 0.5379 - val_loss: 0.3076 - val_mae: 0.3020\n",
            "Epoch 35/200\n",
            "25/25 [==============================] - 0s 3ms/step - loss: 0.5840 - mae: 0.4739 - val_loss: 0.3857 - val_mae: 0.3998\n",
            "Epoch 36/200\n",
            "25/25 [==============================] - 0s 3ms/step - loss: 0.5876 - mae: 0.4634 - val_loss: 0.3727 - val_mae: 0.4514\n",
            "Epoch 37/200\n",
            "25/25 [==============================] - 0s 4ms/step - loss: 0.6844 - mae: 0.5327 - val_loss: 0.3709 - val_mae: 0.3791\n",
            "Epoch 38/200\n",
            "25/25 [==============================] - 0s 3ms/step - loss: 0.6039 - mae: 0.4749 - val_loss: 1.0137 - val_mae: 0.9112\n",
            "Epoch 39/200\n",
            "25/25 [==============================] - 0s 4ms/step - loss: 0.7443 - mae: 0.5797 - val_loss: 0.4286 - val_mae: 0.4276\n",
            "Epoch 40/200\n",
            "25/25 [==============================] - 0s 5ms/step - loss: 0.5435 - mae: 0.4427 - val_loss: 0.4845 - val_mae: 0.4542\n",
            "Epoch 41/200\n",
            "25/25 [==============================] - 0s 4ms/step - loss: 0.5406 - mae: 0.4428 - val_loss: 0.3470 - val_mae: 0.4121\n",
            "Epoch 42/200\n",
            "25/25 [==============================] - 0s 5ms/step - loss: 0.5622 - mae: 0.4653 - val_loss: 0.6922 - val_mae: 0.7332\n",
            "Epoch 43/200\n",
            "25/25 [==============================] - 0s 4ms/step - loss: 0.6234 - mae: 0.5343 - val_loss: 0.3065 - val_mae: 0.3236\n",
            "Epoch 44/200\n",
            "25/25 [==============================] - 0s 4ms/step - loss: 0.5515 - mae: 0.4340 - val_loss: 0.3519 - val_mae: 0.3909\n",
            "Epoch 45/200\n",
            "25/25 [==============================] - 0s 5ms/step - loss: 0.6121 - mae: 0.5124 - val_loss: 0.3104 - val_mae: 0.3505\n",
            "Epoch 46/200\n",
            "25/25 [==============================] - 0s 4ms/step - loss: 0.5893 - mae: 0.4599 - val_loss: 0.2886 - val_mae: 0.3332\n",
            "Epoch 47/200\n",
            "25/25 [==============================] - 0s 3ms/step - loss: 0.5160 - mae: 0.4409 - val_loss: 0.2822 - val_mae: 0.3231\n",
            "Epoch 48/200\n",
            "25/25 [==============================] - 0s 3ms/step - loss: 0.4824 - mae: 0.4160 - val_loss: 0.3915 - val_mae: 0.4399\n",
            "Epoch 49/200\n",
            "25/25 [==============================] - 0s 4ms/step - loss: 0.5454 - mae: 0.4678 - val_loss: 0.3011 - val_mae: 0.3351\n",
            "Epoch 50/200\n",
            "25/25 [==============================] - 0s 4ms/step - loss: 0.5050 - mae: 0.4261 - val_loss: 0.2531 - val_mae: 0.2359\n",
            "Epoch 51/200\n",
            "25/25 [==============================] - 0s 4ms/step - loss: 0.5011 - mae: 0.4194 - val_loss: 0.4160 - val_mae: 0.4275\n",
            "Epoch 52/200\n",
            "25/25 [==============================] - 0s 4ms/step - loss: 0.5098 - mae: 0.4280 - val_loss: 0.4268 - val_mae: 0.5128\n",
            "Epoch 53/200\n",
            "25/25 [==============================] - 0s 5ms/step - loss: 0.4916 - mae: 0.4470 - val_loss: 0.3678 - val_mae: 0.4834\n",
            "Epoch 54/200\n",
            "25/25 [==============================] - 0s 4ms/step - loss: 0.5951 - mae: 0.4838 - val_loss: 0.2678 - val_mae: 0.3024\n",
            "Epoch 55/200\n",
            "25/25 [==============================] - 0s 4ms/step - loss: 0.6000 - mae: 0.5278 - val_loss: 0.2897 - val_mae: 0.3340\n",
            "Epoch 56/200\n",
            "25/25 [==============================] - 0s 3ms/step - loss: 0.5599 - mae: 0.4911 - val_loss: 0.3636 - val_mae: 0.4229\n",
            "Epoch 57/200\n",
            "25/25 [==============================] - 0s 3ms/step - loss: 0.5232 - mae: 0.4305 - val_loss: 0.2797 - val_mae: 0.2801\n",
            "Epoch 58/200\n",
            "25/25 [==============================] - 0s 4ms/step - loss: 0.5009 - mae: 0.4471 - val_loss: 0.2670 - val_mae: 0.2907\n",
            "Epoch 59/200\n",
            "25/25 [==============================] - 0s 4ms/step - loss: 0.5038 - mae: 0.4349 - val_loss: 0.2530 - val_mae: 0.2802\n",
            "Epoch 60/200\n",
            "25/25 [==============================] - 0s 3ms/step - loss: 0.4678 - mae: 0.4147 - val_loss: 0.2868 - val_mae: 0.3355\n",
            "Epoch 61/200\n",
            "25/25 [==============================] - 0s 4ms/step - loss: 0.4703 - mae: 0.4051 - val_loss: 0.2962 - val_mae: 0.3915\n",
            "Epoch 62/200\n",
            "25/25 [==============================] - 0s 4ms/step - loss: 0.4769 - mae: 0.4374 - val_loss: 0.2609 - val_mae: 0.2765\n",
            "Epoch 63/200\n",
            "25/25 [==============================] - 0s 4ms/step - loss: 0.4648 - mae: 0.3975 - val_loss: 0.2800 - val_mae: 0.2707\n",
            "Epoch 64/200\n",
            "25/25 [==============================] - 0s 4ms/step - loss: 0.4542 - mae: 0.4087 - val_loss: 0.2981 - val_mae: 0.3105\n",
            "Epoch 65/200\n",
            "25/25 [==============================] - 0s 3ms/step - loss: 0.5054 - mae: 0.4429 - val_loss: 0.2315 - val_mae: 0.2818\n",
            "Epoch 66/200\n",
            "25/25 [==============================] - 0s 3ms/step - loss: 0.5185 - mae: 0.4703 - val_loss: 0.3542 - val_mae: 0.4427\n",
            "Epoch 67/200\n",
            "25/25 [==============================] - 0s 4ms/step - loss: 0.6407 - mae: 0.5649 - val_loss: 0.4648 - val_mae: 0.4925\n",
            "Epoch 68/200\n",
            "25/25 [==============================] - 0s 4ms/step - loss: 0.5476 - mae: 0.4950 - val_loss: 0.6002 - val_mae: 0.6305\n",
            "Epoch 69/200\n",
            "25/25 [==============================] - 0s 5ms/step - loss: 0.4648 - mae: 0.4513 - val_loss: 0.2104 - val_mae: 0.2189\n",
            "Epoch 70/200\n",
            "25/25 [==============================] - 0s 4ms/step - loss: 0.4822 - mae: 0.4595 - val_loss: 0.3826 - val_mae: 0.4707\n",
            "Epoch 71/200\n",
            "25/25 [==============================] - 0s 3ms/step - loss: 0.5472 - mae: 0.5048 - val_loss: 0.5763 - val_mae: 0.6276\n",
            "Epoch 72/200\n",
            "25/25 [==============================] - 0s 3ms/step - loss: 0.5497 - mae: 0.5041 - val_loss: 0.3854 - val_mae: 0.4411\n",
            "Epoch 73/200\n",
            "25/25 [==============================] - 0s 3ms/step - loss: 0.5052 - mae: 0.4943 - val_loss: 0.2162 - val_mae: 0.2287\n",
            "Epoch 74/200\n",
            "25/25 [==============================] - 0s 3ms/step - loss: 0.3765 - mae: 0.3523 - val_loss: 0.2614 - val_mae: 0.3756\n",
            "Epoch 75/200\n",
            "25/25 [==============================] - 0s 3ms/step - loss: 0.3871 - mae: 0.3799 - val_loss: 0.2431 - val_mae: 0.3205\n",
            "Epoch 76/200\n",
            "25/25 [==============================] - 0s 3ms/step - loss: 0.3938 - mae: 0.3567 - val_loss: 0.3189 - val_mae: 0.4732\n",
            "Epoch 77/200\n",
            "25/25 [==============================] - 0s 3ms/step - loss: 0.4572 - mae: 0.4610 - val_loss: 0.2880 - val_mae: 0.3520\n",
            "Epoch 78/200\n",
            "25/25 [==============================] - 0s 3ms/step - loss: 0.3959 - mae: 0.3867 - val_loss: 0.2519 - val_mae: 0.2755\n",
            "Epoch 79/200\n",
            "25/25 [==============================] - 0s 3ms/step - loss: 0.4291 - mae: 0.4000 - val_loss: 0.2064 - val_mae: 0.2325\n",
            "Epoch 80/200\n",
            "25/25 [==============================] - 0s 3ms/step - loss: 0.3638 - mae: 0.3375 - val_loss: 0.1846 - val_mae: 0.1990\n",
            "Epoch 81/200\n",
            "25/25 [==============================] - 0s 4ms/step - loss: 0.3541 - mae: 0.3404 - val_loss: 0.1798 - val_mae: 0.2096\n",
            "Epoch 82/200\n",
            "25/25 [==============================] - 0s 3ms/step - loss: 0.4079 - mae: 0.3902 - val_loss: 0.1946 - val_mae: 0.2705\n",
            "Epoch 83/200\n",
            "25/25 [==============================] - 0s 3ms/step - loss: 0.3630 - mae: 0.3632 - val_loss: 0.2056 - val_mae: 0.2398\n",
            "Epoch 84/200\n",
            "25/25 [==============================] - 0s 3ms/step - loss: 0.3425 - mae: 0.3289 - val_loss: 0.2014 - val_mae: 0.2803\n",
            "Epoch 85/200\n",
            "25/25 [==============================] - 0s 3ms/step - loss: 0.3824 - mae: 0.3948 - val_loss: 0.1874 - val_mae: 0.1565\n",
            "Epoch 86/200\n",
            "25/25 [==============================] - 0s 3ms/step - loss: 0.5199 - mae: 0.5004 - val_loss: 0.8546 - val_mae: 0.7980\n",
            "Epoch 87/200\n",
            "25/25 [==============================] - 0s 4ms/step - loss: 0.5116 - mae: 0.4806 - val_loss: 0.2239 - val_mae: 0.3198\n",
            "Epoch 88/200\n",
            "25/25 [==============================] - 0s 3ms/step - loss: 0.3275 - mae: 0.3502 - val_loss: 0.2440 - val_mae: 0.3832\n",
            "Epoch 89/200\n",
            "25/25 [==============================] - 0s 3ms/step - loss: 0.3470 - mae: 0.3507 - val_loss: 0.1829 - val_mae: 0.2585\n",
            "Epoch 90/200\n",
            "25/25 [==============================] - 0s 3ms/step - loss: 0.3171 - mae: 0.3358 - val_loss: 0.2666 - val_mae: 0.4308\n",
            "Epoch 91/200\n",
            "25/25 [==============================] - 0s 3ms/step - loss: 0.3122 - mae: 0.3259 - val_loss: 0.1940 - val_mae: 0.3004\n",
            "Epoch 92/200\n",
            "25/25 [==============================] - 0s 4ms/step - loss: 0.3322 - mae: 0.3548 - val_loss: 0.1859 - val_mae: 0.2655\n",
            "Epoch 93/200\n",
            "25/25 [==============================] - 0s 3ms/step - loss: 0.3836 - mae: 0.3776 - val_loss: 0.4334 - val_mae: 0.6049\n",
            "Epoch 94/200\n",
            "25/25 [==============================] - 0s 3ms/step - loss: 0.3843 - mae: 0.4176 - val_loss: 0.1762 - val_mae: 0.1617\n",
            "Epoch 95/200\n",
            "25/25 [==============================] - 0s 4ms/step - loss: 0.3403 - mae: 0.3612 - val_loss: 0.2291 - val_mae: 0.3396\n",
            "Epoch 96/200\n",
            "25/25 [==============================] - 0s 5ms/step - loss: 0.3056 - mae: 0.3216 - val_loss: 0.2062 - val_mae: 0.2813\n",
            "Epoch 97/200\n",
            "25/25 [==============================] - 0s 3ms/step - loss: 0.3052 - mae: 0.3395 - val_loss: 0.2168 - val_mae: 0.3689\n",
            "Epoch 98/200\n",
            "25/25 [==============================] - 0s 3ms/step - loss: 0.3561 - mae: 0.4029 - val_loss: 0.1757 - val_mae: 0.2103\n",
            "Epoch 99/200\n",
            "25/25 [==============================] - 0s 3ms/step - loss: 0.3106 - mae: 0.3300 - val_loss: 0.2135 - val_mae: 0.2727\n",
            "Epoch 100/200\n",
            "25/25 [==============================] - 0s 3ms/step - loss: 0.3031 - mae: 0.3200 - val_loss: 0.1840 - val_mae: 0.2494\n",
            "Epoch 101/200\n",
            "25/25 [==============================] - 0s 3ms/step - loss: 0.3112 - mae: 0.3128 - val_loss: 0.4343 - val_mae: 0.5992\n",
            "Epoch 102/200\n",
            "25/25 [==============================] - 0s 3ms/step - loss: 0.4215 - mae: 0.4715 - val_loss: 0.1551 - val_mae: 0.1658\n",
            "Epoch 103/200\n",
            "25/25 [==============================] - 0s 3ms/step - loss: 0.3322 - mae: 0.3761 - val_loss: 0.1941 - val_mae: 0.2525\n",
            "Epoch 104/200\n",
            "25/25 [==============================] - 0s 3ms/step - loss: 0.3136 - mae: 0.3637 - val_loss: 0.1348 - val_mae: 0.2000\n",
            "Epoch 105/200\n",
            "25/25 [==============================] - 0s 4ms/step - loss: 0.3550 - mae: 0.3962 - val_loss: 0.4427 - val_mae: 0.6069\n",
            "Epoch 106/200\n",
            "25/25 [==============================] - 0s 4ms/step - loss: 0.3283 - mae: 0.3684 - val_loss: 0.1904 - val_mae: 0.1893\n",
            "Epoch 107/200\n",
            "25/25 [==============================] - 0s 4ms/step - loss: 0.3071 - mae: 0.3180 - val_loss: 0.1801 - val_mae: 0.2355\n",
            "Epoch 108/200\n",
            "25/25 [==============================] - 0s 3ms/step - loss: 0.2949 - mae: 0.3421 - val_loss: 0.6591 - val_mae: 0.7444\n",
            "Epoch 109/200\n",
            "25/25 [==============================] - 0s 3ms/step - loss: 0.3880 - mae: 0.4465 - val_loss: 0.2444 - val_mae: 0.4148\n",
            "Epoch 110/200\n",
            "25/25 [==============================] - 0s 3ms/step - loss: 0.4585 - mae: 0.4747 - val_loss: 0.1512 - val_mae: 0.2315\n",
            "Epoch 111/200\n",
            "25/25 [==============================] - 0s 3ms/step - loss: 0.2625 - mae: 0.2987 - val_loss: 0.1508 - val_mae: 0.2622\n",
            "Epoch 112/200\n",
            "25/25 [==============================] - 0s 3ms/step - loss: 0.2854 - mae: 0.2866 - val_loss: 0.2491 - val_mae: 0.4237\n",
            "Epoch 113/200\n",
            "25/25 [==============================] - 0s 5ms/step - loss: 0.3557 - mae: 0.3749 - val_loss: 0.2063 - val_mae: 0.2633\n",
            "Epoch 114/200\n",
            "25/25 [==============================] - 0s 4ms/step - loss: 0.3571 - mae: 0.3989 - val_loss: 0.2599 - val_mae: 0.3672\n",
            "Epoch 115/200\n",
            "25/25 [==============================] - 0s 4ms/step - loss: 0.3415 - mae: 0.4006 - val_loss: 0.2115 - val_mae: 0.3588\n",
            "Epoch 116/200\n",
            "25/25 [==============================] - 0s 4ms/step - loss: 0.2664 - mae: 0.3096 - val_loss: 0.1846 - val_mae: 0.2761\n",
            "Epoch 117/200\n",
            "25/25 [==============================] - 0s 4ms/step - loss: 0.2610 - mae: 0.2828 - val_loss: 0.1631 - val_mae: 0.2356\n",
            "Epoch 118/200\n",
            "25/25 [==============================] - 0s 4ms/step - loss: 0.2676 - mae: 0.3015 - val_loss: 0.1265 - val_mae: 0.1374\n",
            "Epoch 119/200\n",
            "25/25 [==============================] - 0s 3ms/step - loss: 0.2815 - mae: 0.3370 - val_loss: 0.1250 - val_mae: 0.1404\n",
            "Epoch 120/200\n",
            "25/25 [==============================] - 0s 3ms/step - loss: 0.2302 - mae: 0.2433 - val_loss: 0.2027 - val_mae: 0.3223\n",
            "Epoch 121/200\n",
            "25/25 [==============================] - 0s 3ms/step - loss: 0.3236 - mae: 0.3656 - val_loss: 0.2691 - val_mae: 0.4612\n",
            "Epoch 122/200\n",
            "25/25 [==============================] - 0s 4ms/step - loss: 0.3658 - mae: 0.4364 - val_loss: 0.1184 - val_mae: 0.1682\n",
            "Epoch 123/200\n",
            "25/25 [==============================] - 0s 4ms/step - loss: 0.2826 - mae: 0.3094 - val_loss: 0.5091 - val_mae: 0.5385\n",
            "Epoch 124/200\n",
            "25/25 [==============================] - 0s 4ms/step - loss: 0.2863 - mae: 0.3285 - val_loss: 0.4638 - val_mae: 0.6102\n",
            "Epoch 125/200\n",
            "25/25 [==============================] - 0s 5ms/step - loss: 0.4219 - mae: 0.4831 - val_loss: 0.2778 - val_mae: 0.4335\n",
            "Epoch 126/200\n",
            "25/25 [==============================] - 0s 4ms/step - loss: 0.3226 - mae: 0.3627 - val_loss: 0.1359 - val_mae: 0.2358\n",
            "Epoch 127/200\n",
            "25/25 [==============================] - 0s 4ms/step - loss: 0.2959 - mae: 0.3204 - val_loss: 0.1416 - val_mae: 0.2031\n",
            "Epoch 128/200\n",
            "25/25 [==============================] - 0s 4ms/step - loss: 0.2570 - mae: 0.2852 - val_loss: 0.1966 - val_mae: 0.2419\n",
            "Epoch 129/200\n",
            "25/25 [==============================] - 0s 3ms/step - loss: 0.2469 - mae: 0.2641 - val_loss: 0.2095 - val_mae: 0.3014\n",
            "Epoch 130/200\n",
            "25/25 [==============================] - 0s 3ms/step - loss: 0.2887 - mae: 0.3192 - val_loss: 0.1624 - val_mae: 0.2642\n",
            "Epoch 131/200\n",
            "25/25 [==============================] - 0s 3ms/step - loss: 0.3059 - mae: 0.3473 - val_loss: 0.1166 - val_mae: 0.1437\n",
            "Epoch 132/200\n",
            "25/25 [==============================] - 0s 3ms/step - loss: 0.2632 - mae: 0.3028 - val_loss: 0.4844 - val_mae: 0.5460\n",
            "Epoch 133/200\n",
            "25/25 [==============================] - 0s 3ms/step - loss: 0.3241 - mae: 0.3263 - val_loss: 0.1986 - val_mae: 0.3269\n",
            "Epoch 134/200\n",
            "25/25 [==============================] - 0s 3ms/step - loss: 0.2828 - mae: 0.2872 - val_loss: 0.1555 - val_mae: 0.2902\n",
            "Epoch 135/200\n",
            "25/25 [==============================] - 0s 4ms/step - loss: 0.3335 - mae: 0.3823 - val_loss: 0.1486 - val_mae: 0.2423\n",
            "Epoch 136/200\n",
            "25/25 [==============================] - 0s 4ms/step - loss: 0.2381 - mae: 0.2650 - val_loss: 0.1586 - val_mae: 0.2354\n",
            "Epoch 137/200\n",
            "25/25 [==============================] - 0s 3ms/step - loss: 0.2633 - mae: 0.2726 - val_loss: 0.1264 - val_mae: 0.1948\n",
            "Epoch 138/200\n",
            "25/25 [==============================] - 0s 3ms/step - loss: 0.3648 - mae: 0.4134 - val_loss: 0.3020 - val_mae: 0.4158\n",
            "Epoch 139/200\n",
            "25/25 [==============================] - 0s 3ms/step - loss: 0.3069 - mae: 0.3321 - val_loss: 0.1299 - val_mae: 0.1995\n",
            "Epoch 140/200\n",
            "25/25 [==============================] - 0s 3ms/step - loss: 0.2319 - mae: 0.2603 - val_loss: 0.1754 - val_mae: 0.2920\n",
            "Epoch 141/200\n",
            "25/25 [==============================] - 0s 3ms/step - loss: 0.2677 - mae: 0.3009 - val_loss: 0.2262 - val_mae: 0.3286\n",
            "Epoch 142/200\n",
            "25/25 [==============================] - 0s 3ms/step - loss: 0.3494 - mae: 0.3990 - val_loss: 0.1202 - val_mae: 0.1534\n",
            "Epoch 143/200\n",
            "25/25 [==============================] - 0s 3ms/step - loss: 0.2326 - mae: 0.2347 - val_loss: 0.2625 - val_mae: 0.4361\n",
            "Epoch 144/200\n",
            "25/25 [==============================] - 0s 3ms/step - loss: 0.2474 - mae: 0.2764 - val_loss: 0.1951 - val_mae: 0.3342\n",
            "Epoch 145/200\n",
            "25/25 [==============================] - 0s 3ms/step - loss: 0.2590 - mae: 0.2702 - val_loss: 0.3653 - val_mae: 0.5204\n",
            "Epoch 146/200\n",
            "25/25 [==============================] - 0s 3ms/step - loss: 0.3513 - mae: 0.3885 - val_loss: 0.1354 - val_mae: 0.2052\n",
            "Epoch 147/200\n",
            "25/25 [==============================] - 0s 3ms/step - loss: 0.4157 - mae: 0.4637 - val_loss: 0.3382 - val_mae: 0.4680\n",
            "Epoch 148/200\n",
            "25/25 [==============================] - 0s 3ms/step - loss: 0.3000 - mae: 0.3623 - val_loss: 0.2478 - val_mae: 0.3322\n",
            "Epoch 149/200\n",
            "25/25 [==============================] - 0s 4ms/step - loss: 0.2612 - mae: 0.2842 - val_loss: 0.1558 - val_mae: 0.2279\n",
            "Epoch 150/200\n",
            "25/25 [==============================] - 0s 3ms/step - loss: 0.2465 - mae: 0.2704 - val_loss: 0.5472 - val_mae: 0.6014\n",
            "Epoch 151/200\n",
            "25/25 [==============================] - 0s 3ms/step - loss: 0.3509 - mae: 0.3904 - val_loss: 0.2315 - val_mae: 0.3825\n",
            "Epoch 152/200\n",
            "25/25 [==============================] - 0s 3ms/step - loss: 0.2358 - mae: 0.2641 - val_loss: 0.1441 - val_mae: 0.2394\n",
            "Epoch 153/200\n",
            "25/25 [==============================] - 0s 3ms/step - loss: 0.3007 - mae: 0.3249 - val_loss: 0.1931 - val_mae: 0.3412\n",
            "Epoch 154/200\n",
            "25/25 [==============================] - 0s 3ms/step - loss: 0.2592 - mae: 0.2845 - val_loss: 0.1423 - val_mae: 0.2583\n",
            "Epoch 155/200\n",
            "25/25 [==============================] - 0s 4ms/step - loss: 0.2859 - mae: 0.3085 - val_loss: 0.2016 - val_mae: 0.3379\n",
            "Epoch 156/200\n",
            "25/25 [==============================] - 0s 4ms/step - loss: 0.2799 - mae: 0.3315 - val_loss: 0.1426 - val_mae: 0.1950\n",
            "Epoch 157/200\n",
            "25/25 [==============================] - 0s 3ms/step - loss: 0.2558 - mae: 0.2777 - val_loss: 0.1675 - val_mae: 0.3077\n",
            "Epoch 158/200\n",
            "25/25 [==============================] - 0s 5ms/step - loss: 0.2558 - mae: 0.2968 - val_loss: 0.1367 - val_mae: 0.1968\n",
            "Epoch 159/200\n",
            "25/25 [==============================] - 0s 4ms/step - loss: 0.2308 - mae: 0.2551 - val_loss: 0.2193 - val_mae: 0.2877\n",
            "Epoch 160/200\n",
            "25/25 [==============================] - 0s 4ms/step - loss: 0.2659 - mae: 0.3180 - val_loss: 0.1249 - val_mae: 0.1480\n",
            "Epoch 161/200\n",
            "25/25 [==============================] - 0s 4ms/step - loss: 0.2746 - mae: 0.3065 - val_loss: 0.1162 - val_mae: 0.1737\n",
            "Epoch 162/200\n",
            "25/25 [==============================] - 0s 4ms/step - loss: 0.4231 - mae: 0.4397 - val_loss: 0.3760 - val_mae: 0.5263\n",
            "Epoch 163/200\n",
            "25/25 [==============================] - 0s 4ms/step - loss: 0.3023 - mae: 0.3701 - val_loss: 0.3702 - val_mae: 0.5634\n",
            "Epoch 164/200\n",
            "25/25 [==============================] - 0s 5ms/step - loss: 0.2893 - mae: 0.3230 - val_loss: 0.2359 - val_mae: 0.3919\n",
            "Epoch 165/200\n",
            "25/25 [==============================] - 0s 6ms/step - loss: 0.2590 - mae: 0.3032 - val_loss: 0.1964 - val_mae: 0.2802\n",
            "Epoch 166/200\n",
            "25/25 [==============================] - 0s 4ms/step - loss: 0.3489 - mae: 0.3972 - val_loss: 0.1428 - val_mae: 0.2139\n",
            "Epoch 167/200\n",
            "25/25 [==============================] - 0s 4ms/step - loss: 0.2477 - mae: 0.2748 - val_loss: 0.1441 - val_mae: 0.2251\n",
            "Epoch 168/200\n",
            "25/25 [==============================] - 0s 4ms/step - loss: 0.2962 - mae: 0.3438 - val_loss: 0.1532 - val_mae: 0.2083\n",
            "Epoch 169/200\n",
            "25/25 [==============================] - 0s 4ms/step - loss: 0.3239 - mae: 0.3463 - val_loss: 0.2853 - val_mae: 0.4413\n",
            "Epoch 170/200\n",
            "25/25 [==============================] - 0s 3ms/step - loss: 0.3407 - mae: 0.3741 - val_loss: 0.2265 - val_mae: 0.3690\n",
            "Epoch 171/200\n",
            "25/25 [==============================] - 0s 3ms/step - loss: 0.2465 - mae: 0.2619 - val_loss: 0.1509 - val_mae: 0.2594\n",
            "Epoch 172/200\n",
            "25/25 [==============================] - 0s 3ms/step - loss: 0.2244 - mae: 0.2493 - val_loss: 0.1358 - val_mae: 0.1974\n",
            "Epoch 173/200\n",
            "25/25 [==============================] - 0s 3ms/step - loss: 0.2429 - mae: 0.2655 - val_loss: 0.1529 - val_mae: 0.1811\n",
            "Epoch 174/200\n",
            "25/25 [==============================] - 0s 4ms/step - loss: 0.2406 - mae: 0.2501 - val_loss: 0.1478 - val_mae: 0.2145\n",
            "Epoch 175/200\n",
            "25/25 [==============================] - 0s 4ms/step - loss: 0.2662 - mae: 0.2982 - val_loss: 0.1817 - val_mae: 0.3339\n",
            "Epoch 176/200\n",
            "25/25 [==============================] - 0s 3ms/step - loss: 0.2775 - mae: 0.3213 - val_loss: 0.2126 - val_mae: 0.3945\n",
            "Epoch 177/200\n",
            "25/25 [==============================] - 0s 3ms/step - loss: 0.2554 - mae: 0.2955 - val_loss: 0.1984 - val_mae: 0.3267\n",
            "Epoch 178/200\n",
            "25/25 [==============================] - 0s 3ms/step - loss: 0.2832 - mae: 0.3317 - val_loss: 0.2162 - val_mae: 0.3753\n",
            "Epoch 179/200\n",
            "25/25 [==============================] - 0s 4ms/step - loss: 0.3039 - mae: 0.3408 - val_loss: 0.1366 - val_mae: 0.2315\n",
            "Epoch 180/200\n",
            "25/25 [==============================] - 0s 4ms/step - loss: 0.2931 - mae: 0.3026 - val_loss: 0.1981 - val_mae: 0.2833\n",
            "Epoch 181/200\n",
            "25/25 [==============================] - 0s 4ms/step - loss: 0.3049 - mae: 0.3292 - val_loss: 0.1373 - val_mae: 0.1777\n",
            "Epoch 182/200\n",
            "25/25 [==============================] - 0s 5ms/step - loss: 0.3086 - mae: 0.3581 - val_loss: 0.2118 - val_mae: 0.2423\n",
            "Epoch 183/200\n",
            "25/25 [==============================] - 0s 4ms/step - loss: 0.2627 - mae: 0.2989 - val_loss: 0.1166 - val_mae: 0.1374\n",
            "Epoch 184/200\n",
            "25/25 [==============================] - 0s 4ms/step - loss: 0.3105 - mae: 0.3367 - val_loss: 0.1551 - val_mae: 0.2534\n",
            "Epoch 185/200\n",
            "25/25 [==============================] - 0s 7ms/step - loss: 0.3070 - mae: 0.3399 - val_loss: 0.1227 - val_mae: 0.2089\n",
            "Epoch 186/200\n",
            "25/25 [==============================] - 0s 4ms/step - loss: 0.3026 - mae: 0.3421 - val_loss: 0.2547 - val_mae: 0.3382\n",
            "Epoch 187/200\n",
            "25/25 [==============================] - 0s 4ms/step - loss: 0.2725 - mae: 0.2885 - val_loss: 0.1560 - val_mae: 0.1567\n",
            "Epoch 188/200\n",
            "25/25 [==============================] - 0s 5ms/step - loss: 0.2408 - mae: 0.2506 - val_loss: 0.1304 - val_mae: 0.2122\n",
            "Epoch 189/200\n",
            "25/25 [==============================] - 0s 4ms/step - loss: 0.2506 - mae: 0.2690 - val_loss: 0.1443 - val_mae: 0.1855\n",
            "Epoch 190/200\n",
            "25/25 [==============================] - 0s 4ms/step - loss: 0.3164 - mae: 0.3321 - val_loss: 0.1152 - val_mae: 0.1853\n",
            "Epoch 191/200\n",
            "25/25 [==============================] - 0s 4ms/step - loss: 0.3410 - mae: 0.3862 - val_loss: 0.1727 - val_mae: 0.2372\n",
            "Epoch 192/200\n",
            "25/25 [==============================] - 0s 3ms/step - loss: 0.3101 - mae: 0.3666 - val_loss: 0.2200 - val_mae: 0.3518\n",
            "Epoch 193/200\n",
            "25/25 [==============================] - 0s 3ms/step - loss: 0.2500 - mae: 0.2793 - val_loss: 0.1911 - val_mae: 0.2487\n",
            "Epoch 194/200\n",
            "25/25 [==============================] - 0s 4ms/step - loss: 0.2878 - mae: 0.3378 - val_loss: 0.1696 - val_mae: 0.3008\n",
            "Epoch 195/200\n",
            "25/25 [==============================] - 0s 3ms/step - loss: 0.2373 - mae: 0.2713 - val_loss: 0.1998 - val_mae: 0.3128\n",
            "Epoch 196/200\n",
            "25/25 [==============================] - 0s 3ms/step - loss: 0.2786 - mae: 0.3001 - val_loss: 0.2366 - val_mae: 0.3441\n",
            "Epoch 197/200\n",
            "25/25 [==============================] - 0s 3ms/step - loss: 0.3028 - mae: 0.3603 - val_loss: 0.1738 - val_mae: 0.3226\n",
            "Epoch 198/200\n",
            "25/25 [==============================] - 0s 4ms/step - loss: 0.2604 - mae: 0.3003 - val_loss: 0.1322 - val_mae: 0.2193\n",
            "Epoch 199/200\n",
            "25/25 [==============================] - 0s 3ms/step - loss: 0.2822 - mae: 0.3345 - val_loss: 0.3161 - val_mae: 0.3870\n",
            "Epoch 200/200\n",
            "25/25 [==============================] - 0s 3ms/step - loss: 0.2625 - mae: 0.3007 - val_loss: 0.1581 - val_mae: 0.2903\n"
          ]
        }
      ],
      "source": [
        "hist = model.fit(\n",
        "    X_train, Y_train,\n",
        "    batch_size=32,\n",
        "    epochs = 200,\n",
        "    validation_data=(X_val, Y_val)\n",
        ")"
      ]
    },
    {
      "cell_type": "code",
      "execution_count": 36,
      "metadata": {
        "colab": {
          "base_uri": "https://localhost:8080/"
        },
        "id": "ckbXAviyCLa_",
        "outputId": "82dc096e-2aeb-4471-8ba1-f7e95f3254e2"
      },
      "outputs": [
        {
          "name": "stdout",
          "output_type": "stream",
          "text": [
            "4/4 [==============================] - 0s 3ms/step - loss: 0.2412 - mae: 0.3264\n"
          ]
        },
        {
          "data": {
            "text/plain": [
              "[0.2411891520023346, 0.32639774680137634]"
            ]
          },
          "execution_count": 36,
          "metadata": {},
          "output_type": "execute_result"
        }
      ],
      "source": [
        "model.evaluate(X_test, Y_test)"
      ]
    },
    {
      "cell_type": "code",
      "execution_count": 37,
      "metadata": {
        "colab": {
          "base_uri": "https://localhost:8080/"
        },
        "id": "OzalqdGSCLa_",
        "outputId": "41fc5435-21b4-43ac-951f-91928d5d20a2"
      },
      "outputs": [
        {
          "name": "stdout",
          "output_type": "stream",
          "text": [
            "4/4 [==============================] - 0s 3ms/step - loss: 0.2412 - mae: 0.3264\n",
            "Test loss: 0.241, Test MAE: 0.326\n"
          ]
        }
      ],
      "source": [
        "# Evaluate the model on the test set\n",
        "test_loss, test_mae = model.evaluate(X_test, Y_test)\n",
        "print(f\"Test loss: {test_loss:.3f}, Test MAE: {test_mae:.3f}\")"
      ]
    },
    {
      "cell_type": "code",
      "execution_count": 38,
      "metadata": {
        "colab": {
          "base_uri": "https://localhost:8080/",
          "height": 265
        },
        "id": "0Vwz9W0OCLa_",
        "outputId": "b0d65d85-c9ba-4835-9b11-4f6abdb4dafc"
      },
      "outputs": [
        {
          "data": {
            "image/png": "[encoded data removed]",
            "text/plain": [
              "<Figure size 640x480 with 1 Axes>"
            ]
          },
          "metadata": {},
          "output_type": "display_data"
        }
      ],
      "source": [
        "plt.plot(hist.history['loss'], label='Training Loss')\n",
        "plt.plot(hist.history['val_loss'], label='Validation Loss')\n",
        "plt.legend()\n",
        "plt.show()"
      ]
    }
  ],
  "metadata": {
    "colab": {
      "provenance": []
    },
    "kernelspec": {
      "display_name": "Python 3",
      "language": "python",
      "name": "python3"
    },
    "language_info": {
      "codemirror_mode": {
        "name": "ipython",
        "version": 3
      },
      "file_extension": ".py",
      "mimetype": "text/x-python",
      "name": "python",
      "nbconvert_exporter": "python",
      "pygments_lexer": "ipython3",
      "version": "3.10.10"
    },
    "orig_nbformat": 4,
    "vscode": {
      "interpreter": {
        "hash": "e3366052fba0b408e38a60964d7840cd801166c0994366f8aa1eea234ba6f411"
      }
    }
  },
  "nbformat": 4,
  "nbformat_minor": 0
}
